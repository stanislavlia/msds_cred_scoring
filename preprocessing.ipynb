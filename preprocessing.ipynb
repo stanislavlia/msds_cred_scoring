{
 "cells": [
  {
   "cell_type": "code",
   "execution_count": 1,
   "id": "03fdc9ce-de7d-44ff-b9aa-58d95b3359d9",
   "metadata": {},
   "outputs": [],
   "source": [
    "import pandas as pd\n",
    "import numpy as np\n",
    "import optuna\n",
    "import polars as pl\n",
    "\n",
    "from sklearn.compose import ColumnTransformer, make_column_selector\n",
    "from sklearn.pipeline import Pipeline\n",
    "from sklearn.impute import SimpleImputer\n",
    "from sklearn.base import BaseEstimator, TransformerMixin\n",
    "\n",
    "\n"
   ]
  },
  {
   "cell_type": "code",
   "execution_count": 12,
   "id": "4eade1db-45e7-4d9c-b2b4-30dd384a2f00",
   "metadata": {},
   "outputs": [],
   "source": [
    "train_df = pl.read_csv(\"processsing/train_table_merged.csv\")\n",
    "test_df = pl.read_csv(\"processsing/test_table_merged.csv\")"
   ]
  },
  {
   "cell_type": "code",
   "execution_count": 7,
   "id": "03833231",
   "metadata": {},
   "outputs": [
    {
     "data": {
      "text/html": [
       "<div><style>\n",
       ".dataframe > thead > tr,\n",
       ".dataframe > tbody > tr {\n",
       "  text-align: right;\n",
       "  white-space: pre-wrap;\n",
       "}\n",
       "</style>\n",
       "<small>shape: (5, 211)</small><table border=\"1\" class=\"dataframe\"><thead><tr><th>SK_ID_CURR</th><th>TARGET</th><th>NAME_CONTRACT_TYPE</th><th>CODE_GENDER</th><th>FLAG_OWN_CAR</th><th>FLAG_OWN_REALTY</th><th>CNT_CHILDREN</th><th>AMT_INCOME_TOTAL</th><th>AMT_CREDIT</th><th>AMT_ANNUITY</th><th>AMT_GOODS_PRICE</th><th>NAME_TYPE_SUITE</th><th>NAME_INCOME_TYPE</th><th>NAME_EDUCATION_TYPE</th><th>NAME_FAMILY_STATUS</th><th>NAME_HOUSING_TYPE</th><th>REGION_POPULATION_RELATIVE</th><th>DAYS_BIRTH</th><th>DAYS_EMPLOYED</th><th>DAYS_REGISTRATION</th><th>DAYS_ID_PUBLISH</th><th>OWN_CAR_AGE</th><th>FLAG_MOBIL</th><th>FLAG_EMP_PHONE</th><th>FLAG_WORK_PHONE</th><th>FLAG_CONT_MOBILE</th><th>FLAG_PHONE</th><th>FLAG_EMAIL</th><th>OCCUPATION_TYPE</th><th>CNT_FAM_MEMBERS</th><th>REGION_RATING_CLIENT</th><th>REGION_RATING_CLIENT_W_CITY</th><th>WEEKDAY_APPR_PROCESS_START</th><th>HOUR_APPR_PROCESS_START</th><th>REG_REGION_NOT_LIVE_REGION</th><th>REG_REGION_NOT_WORK_REGION</th><th>LIVE_REGION_NOT_WORK_REGION</th><th>&hellip;</th><th>DAYS_LAST_DUE_mean</th><th>DAYS_TERMINATION_mean</th><th>NFLAG_INSURED_ON_APPROVAL_mean</th><th>CNT_INSTALMENT_mean</th><th>CNT_INSTALMENT_FUTURE_mean</th><th>POS_MONTHS_BALANCE_std</th><th>CNT_INSTALMENT_std</th><th>CNT_INSTALMENT_FUTURE_std</th><th>NUM_INSTALMENT_NUMBER_mean</th><th>DAYS_INSTALMENT_mean</th><th>DAYS_ENTRY_PAYMENT_mean</th><th>AMT_INSTALMENT_mean</th><th>AMT_PAYMENT_mean</th><th>NUM_INSTALMENT_NUMBER_std</th><th>DAYS_INSTALMENT_std</th><th>DAYS_ENTRY_PAYMENT_std</th><th>AMT_INSTALMENT_std</th><th>MONTHS_BALANCE_mean</th><th>AMT_BALANCE_mean</th><th>AMT_CREDIT_LIMIT_ACTUAL_mean</th><th>AMT_DRAWINGS_ATM_CURRENT_mean</th><th>AMT_DRAWINGS_CURRENT_mean</th><th>AMT_DRAWINGS_OTHER_CURRENT_mean</th><th>AMT_DRAWINGS_POS_CURRENT_mean</th><th>AMT_INST_MIN_REGULARITY_mean</th><th>AMT_PAYMENT_CURRENT_mean</th><th>AMT_PAYMENT_TOTAL_CURRENT_mean</th><th>AMT_RECEIVABLE_PRINCIPAL_mean</th><th>AMT_RECIVABLE_mean</th><th>AMT_TOTAL_RECEIVABLE_mean</th><th>CNT_DRAWINGS_ATM_CURRENT_mean</th><th>CNT_DRAWINGS_CURRENT_mean</th><th>CNT_DRAWINGS_OTHER_CURRENT_mean</th><th>CNT_DRAWINGS_POS_CURRENT_mean</th><th>CNT_INSTALMENT_MATURE_CUM_mean</th><th>SK_DPD_mean</th><th>SK_DPD_DEF_mean</th></tr><tr><td>i64</td><td>i64</td><td>str</td><td>str</td><td>str</td><td>str</td><td>i64</td><td>f64</td><td>f64</td><td>f64</td><td>f64</td><td>str</td><td>str</td><td>str</td><td>str</td><td>str</td><td>f64</td><td>i64</td><td>i64</td><td>f64</td><td>i64</td><td>f64</td><td>i64</td><td>i64</td><td>i64</td><td>i64</td><td>i64</td><td>i64</td><td>str</td><td>f64</td><td>i64</td><td>i64</td><td>str</td><td>i64</td><td>i64</td><td>i64</td><td>i64</td><td>&hellip;</td><td>f64</td><td>f64</td><td>f64</td><td>f64</td><td>f64</td><td>f64</td><td>f64</td><td>f64</td><td>f64</td><td>f64</td><td>f64</td><td>f64</td><td>f64</td><td>f64</td><td>f64</td><td>f64</td><td>f64</td><td>f64</td><td>f64</td><td>f64</td><td>f64</td><td>f64</td><td>f64</td><td>f64</td><td>f64</td><td>f64</td><td>f64</td><td>f64</td><td>f64</td><td>f64</td><td>f64</td><td>f64</td><td>f64</td><td>f64</td><td>f64</td><td>f64</td><td>f64</td></tr></thead><tbody><tr><td>100002</td><td>1</td><td>&quot;Cash loans&quot;</td><td>&quot;M&quot;</td><td>&quot;N&quot;</td><td>&quot;Y&quot;</td><td>0</td><td>202500.0</td><td>406597.5</td><td>24700.5</td><td>351000.0</td><td>&quot;Unaccompanied&quot;</td><td>&quot;Working&quot;</td><td>&quot;Secondary / se…</td><td>&quot;Single / not m…</td><td>&quot;House / apartm…</td><td>0.018801</td><td>-9461</td><td>-637</td><td>-3648.0</td><td>-2120</td><td>null</td><td>1</td><td>1</td><td>0</td><td>1</td><td>1</td><td>0</td><td>&quot;Laborers&quot;</td><td>1.0</td><td>2</td><td>2</td><td>&quot;WEDNESDAY&quot;</td><td>10</td><td>0</td><td>0</td><td>0</td><td>&hellip;</td><td>-25.0</td><td>-17.0</td><td>0.0</td><td>24.0</td><td>15.0</td><td>5.627314</td><td>0.0</td><td>5.627314</td><td>10.0</td><td>-295.0</td><td>-315.421053</td><td>11559.247105</td><td>11559.247105</td><td>5.627314</td><td>168.81943</td><td>172.058877</td><td>10058.037722</td><td>null</td><td>null</td><td>null</td><td>null</td><td>null</td><td>null</td><td>null</td><td>null</td><td>null</td><td>null</td><td>null</td><td>null</td><td>null</td><td>null</td><td>null</td><td>null</td><td>null</td><td>null</td><td>null</td><td>null</td></tr><tr><td>100003</td><td>0</td><td>&quot;Cash loans&quot;</td><td>&quot;F&quot;</td><td>&quot;N&quot;</td><td>&quot;N&quot;</td><td>0</td><td>270000.0</td><td>1293502.5</td><td>35698.5</td><td>1.1295e6</td><td>&quot;Family&quot;</td><td>&quot;State servant&quot;</td><td>&quot;Higher educati…</td><td>&quot;Married&quot;</td><td>&quot;House / apartm…</td><td>0.003541</td><td>-16765</td><td>-1188</td><td>-1186.0</td><td>-291</td><td>null</td><td>1</td><td>1</td><td>0</td><td>1</td><td>1</td><td>0</td><td>&quot;Core staff&quot;</td><td>2.0</td><td>1</td><td>1</td><td>&quot;MONDAY&quot;</td><td>11</td><td>0</td><td>0</td><td>0</td><td>&hellip;</td><td>-1054.333333</td><td>-1047.333333</td><td>0.666667</td><td>9.791667</td><td>5.666667</td><td>2.834844</td><td>0.589256</td><td>3.209241</td><td>4.666667</td><td>-1164.333333</td><td>-1171.781746</td><td>78558.479286</td><td>78558.479286</td><td>2.545542</td><td>76.366269</td><td>76.380137</td><td>58313.693509</td><td>null</td><td>null</td><td>null</td><td>null</td><td>null</td><td>null</td><td>null</td><td>null</td><td>null</td><td>null</td><td>null</td><td>null</td><td>null</td><td>null</td><td>null</td><td>null</td><td>null</td><td>null</td><td>null</td><td>null</td></tr><tr><td>100004</td><td>0</td><td>&quot;Revolving loan…</td><td>&quot;M&quot;</td><td>&quot;Y&quot;</td><td>&quot;Y&quot;</td><td>0</td><td>67500.0</td><td>135000.0</td><td>6750.0</td><td>135000.0</td><td>&quot;Unaccompanied&quot;</td><td>&quot;Working&quot;</td><td>&quot;Secondary / se…</td><td>&quot;Single / not m…</td><td>&quot;House / apartm…</td><td>0.010032</td><td>-19046</td><td>-225</td><td>-4260.0</td><td>-2531</td><td>26.0</td><td>1</td><td>1</td><td>1</td><td>1</td><td>1</td><td>0</td><td>&quot;Laborers&quot;</td><td>1.0</td><td>2</td><td>2</td><td>&quot;MONDAY&quot;</td><td>9</td><td>0</td><td>0</td><td>0</td><td>&hellip;</td><td>-724.0</td><td>-714.0</td><td>0.0</td><td>3.75</td><td>2.25</td><td>1.290994</td><td>0.5</td><td>1.707825</td><td>2.0</td><td>-754.0</td><td>-761.666667</td><td>7096.155</td><td>7096.155</td><td>1.0</td><td>30.0</td><td>34.019602</td><td>3011.87181</td><td>null</td><td>null</td><td>null</td><td>null</td><td>null</td><td>null</td><td>null</td><td>null</td><td>null</td><td>null</td><td>null</td><td>null</td><td>null</td><td>null</td><td>null</td><td>null</td><td>null</td><td>null</td><td>null</td><td>null</td></tr><tr><td>100006</td><td>0</td><td>&quot;Cash loans&quot;</td><td>&quot;F&quot;</td><td>&quot;N&quot;</td><td>&quot;Y&quot;</td><td>0</td><td>135000.0</td><td>312682.5</td><td>29686.5</td><td>297000.0</td><td>&quot;Unaccompanied&quot;</td><td>&quot;Working&quot;</td><td>&quot;Secondary / se…</td><td>&quot;Civil marriage…</td><td>&quot;House / apartm…</td><td>0.008019</td><td>-19005</td><td>-3039</td><td>-9833.0</td><td>-2437</td><td>null</td><td>1</td><td>1</td><td>0</td><td>1</td><td>0</td><td>0</td><td>&quot;Laborers&quot;</td><td>2.0</td><td>2</td><td>2</td><td>&quot;WEDNESDAY&quot;</td><td>17</td><td>0</td><td>0</td><td>0</td><td>&hellip;</td><td>182477.5</td><td>182481.75</td><td>0.0</td><td>12.888889</td><td>10.214286</td><td>2.159047</td><td>10.183704</td><td>11.929286</td><td>3.166667</td><td>-260.666667</td><td>-285.966667</td><td>241944.225</td><td>241944.225</td><td>2.304395</td><td>69.131838</td><td>74.169251</td><td>2834.601883</td><td>-3.5</td><td>0.0</td><td>270000.0</td><td>null</td><td>0.0</td><td>null</td><td>null</td><td>0.0</td><td>null</td><td>0.0</td><td>0.0</td><td>0.0</td><td>0.0</td><td>null</td><td>0.0</td><td>null</td><td>null</td><td>0.0</td><td>0.0</td><td>0.0</td></tr><tr><td>100007</td><td>0</td><td>&quot;Cash loans&quot;</td><td>&quot;M&quot;</td><td>&quot;N&quot;</td><td>&quot;Y&quot;</td><td>0</td><td>121500.0</td><td>513000.0</td><td>21865.5</td><td>513000.0</td><td>&quot;Unaccompanied&quot;</td><td>&quot;Working&quot;</td><td>&quot;Secondary / se…</td><td>&quot;Single / not m…</td><td>&quot;House / apartm…</td><td>0.028663</td><td>-19932</td><td>-3038</td><td>-4311.0</td><td>-3458</td><td>null</td><td>1</td><td>1</td><td>0</td><td>1</td><td>0</td><td>0</td><td>&quot;Core staff&quot;</td><td>1.0</td><td>2</td><td>2</td><td>&quot;THURSDAY&quot;</td><td>11</td><td>0</td><td>0</td><td>0</td><td>&hellip;</td><td>72136.2</td><td>72143.8</td><td>0.6</td><td>15.066667</td><td>8.966667</td><td>3.952124</td><td>0.097014</td><td>4.032817</td><td>6.843956</td><td>-1087.881319</td><td>-1090.768539</td><td>12122.995738</td><td>11671.54021</td><td>3.835022</td><td>115.050659</td><td>115.159539</td><td>35.763154</td><td>null</td><td>null</td><td>null</td><td>null</td><td>null</td><td>null</td><td>null</td><td>null</td><td>null</td><td>null</td><td>null</td><td>null</td><td>null</td><td>null</td><td>null</td><td>null</td><td>null</td><td>null</td><td>null</td><td>null</td></tr></tbody></table></div>"
      ],
      "text/plain": [
       "shape: (5, 211)\n",
       "┌────────────┬────────┬────────────┬───────────┬───┬───────────┬───────────┬───────────┬───────────┐\n",
       "│ SK_ID_CURR ┆ TARGET ┆ NAME_CONTR ┆ CODE_GEND ┆ … ┆ CNT_DRAWI ┆ CNT_INSTA ┆ SK_DPD_me ┆ SK_DPD_DE │\n",
       "│ ---        ┆ ---    ┆ ACT_TYPE   ┆ ER        ┆   ┆ NGS_POS_C ┆ LMENT_MAT ┆ an        ┆ F_mean    │\n",
       "│ i64        ┆ i64    ┆ ---        ┆ ---       ┆   ┆ URRENT_me ┆ URE_CUM_m ┆ ---       ┆ ---       │\n",
       "│            ┆        ┆ str        ┆ str       ┆   ┆ an        ┆ ean       ┆ f64       ┆ f64       │\n",
       "│            ┆        ┆            ┆           ┆   ┆ ---       ┆ ---       ┆           ┆           │\n",
       "│            ┆        ┆            ┆           ┆   ┆ f64       ┆ f64       ┆           ┆           │\n",
       "╞════════════╪════════╪════════════╪═══════════╪═══╪═══════════╪═══════════╪═══════════╪═══════════╡\n",
       "│ 100002     ┆ 1      ┆ Cash loans ┆ M         ┆ … ┆ null      ┆ null      ┆ null      ┆ null      │\n",
       "│ 100003     ┆ 0      ┆ Cash loans ┆ F         ┆ … ┆ null      ┆ null      ┆ null      ┆ null      │\n",
       "│ 100004     ┆ 0      ┆ Revolving  ┆ M         ┆ … ┆ null      ┆ null      ┆ null      ┆ null      │\n",
       "│            ┆        ┆ loans      ┆           ┆   ┆           ┆           ┆           ┆           │\n",
       "│ 100006     ┆ 0      ┆ Cash loans ┆ F         ┆ … ┆ null      ┆ 0.0       ┆ 0.0       ┆ 0.0       │\n",
       "│ 100007     ┆ 0      ┆ Cash loans ┆ M         ┆ … ┆ null      ┆ null      ┆ null      ┆ null      │\n",
       "└────────────┴────────┴────────────┴───────────┴───┴───────────┴───────────┴───────────┴───────────┘"
      ]
     },
     "execution_count": 7,
     "metadata": {},
     "output_type": "execute_result"
    }
   ],
   "source": [
    "train_df.head(5)"
   ]
  },
  {
   "cell_type": "code",
   "execution_count": 13,
   "id": "986b1936",
   "metadata": {},
   "outputs": [
    {
     "data": {
      "text/html": [
       "<div><style>\n",
       ".dataframe > thead > tr,\n",
       ".dataframe > tbody > tr {\n",
       "  text-align: right;\n",
       "  white-space: pre-wrap;\n",
       "}\n",
       "</style>\n",
       "<small>shape: (5, 210)</small><table border=\"1\" class=\"dataframe\"><thead><tr><th>SK_ID_CURR</th><th>NAME_CONTRACT_TYPE</th><th>CODE_GENDER</th><th>FLAG_OWN_CAR</th><th>FLAG_OWN_REALTY</th><th>CNT_CHILDREN</th><th>AMT_INCOME_TOTAL</th><th>AMT_CREDIT</th><th>AMT_ANNUITY</th><th>AMT_GOODS_PRICE</th><th>NAME_TYPE_SUITE</th><th>NAME_INCOME_TYPE</th><th>NAME_EDUCATION_TYPE</th><th>NAME_FAMILY_STATUS</th><th>NAME_HOUSING_TYPE</th><th>REGION_POPULATION_RELATIVE</th><th>DAYS_BIRTH</th><th>DAYS_EMPLOYED</th><th>DAYS_REGISTRATION</th><th>DAYS_ID_PUBLISH</th><th>OWN_CAR_AGE</th><th>FLAG_MOBIL</th><th>FLAG_EMP_PHONE</th><th>FLAG_WORK_PHONE</th><th>FLAG_CONT_MOBILE</th><th>FLAG_PHONE</th><th>FLAG_EMAIL</th><th>OCCUPATION_TYPE</th><th>CNT_FAM_MEMBERS</th><th>REGION_RATING_CLIENT</th><th>REGION_RATING_CLIENT_W_CITY</th><th>WEEKDAY_APPR_PROCESS_START</th><th>HOUR_APPR_PROCESS_START</th><th>REG_REGION_NOT_LIVE_REGION</th><th>REG_REGION_NOT_WORK_REGION</th><th>LIVE_REGION_NOT_WORK_REGION</th><th>REG_CITY_NOT_LIVE_CITY</th><th>&hellip;</th><th>DAYS_LAST_DUE_mean</th><th>DAYS_TERMINATION_mean</th><th>NFLAG_INSURED_ON_APPROVAL_mean</th><th>CNT_INSTALMENT_mean</th><th>CNT_INSTALMENT_FUTURE_mean</th><th>POS_MONTHS_BALANCE_std</th><th>CNT_INSTALMENT_std</th><th>CNT_INSTALMENT_FUTURE_std</th><th>NUM_INSTALMENT_NUMBER_mean</th><th>DAYS_INSTALMENT_mean</th><th>DAYS_ENTRY_PAYMENT_mean</th><th>AMT_INSTALMENT_mean</th><th>AMT_PAYMENT_mean</th><th>NUM_INSTALMENT_NUMBER_std</th><th>DAYS_INSTALMENT_std</th><th>DAYS_ENTRY_PAYMENT_std</th><th>AMT_INSTALMENT_std</th><th>MONTHS_BALANCE_mean</th><th>AMT_BALANCE_mean</th><th>AMT_CREDIT_LIMIT_ACTUAL_mean</th><th>AMT_DRAWINGS_ATM_CURRENT_mean</th><th>AMT_DRAWINGS_CURRENT_mean</th><th>AMT_DRAWINGS_OTHER_CURRENT_mean</th><th>AMT_DRAWINGS_POS_CURRENT_mean</th><th>AMT_INST_MIN_REGULARITY_mean</th><th>AMT_PAYMENT_CURRENT_mean</th><th>AMT_PAYMENT_TOTAL_CURRENT_mean</th><th>AMT_RECEIVABLE_PRINCIPAL_mean</th><th>AMT_RECIVABLE_mean</th><th>AMT_TOTAL_RECEIVABLE_mean</th><th>CNT_DRAWINGS_ATM_CURRENT_mean</th><th>CNT_DRAWINGS_CURRENT_mean</th><th>CNT_DRAWINGS_OTHER_CURRENT_mean</th><th>CNT_DRAWINGS_POS_CURRENT_mean</th><th>CNT_INSTALMENT_MATURE_CUM_mean</th><th>SK_DPD_mean</th><th>SK_DPD_DEF_mean</th></tr><tr><td>i64</td><td>str</td><td>str</td><td>str</td><td>str</td><td>i64</td><td>f64</td><td>f64</td><td>f64</td><td>f64</td><td>str</td><td>str</td><td>str</td><td>str</td><td>str</td><td>f64</td><td>i64</td><td>i64</td><td>f64</td><td>i64</td><td>f64</td><td>i64</td><td>i64</td><td>i64</td><td>i64</td><td>i64</td><td>i64</td><td>str</td><td>f64</td><td>i64</td><td>i64</td><td>str</td><td>i64</td><td>i64</td><td>i64</td><td>i64</td><td>i64</td><td>&hellip;</td><td>f64</td><td>f64</td><td>f64</td><td>f64</td><td>f64</td><td>f64</td><td>f64</td><td>f64</td><td>f64</td><td>f64</td><td>f64</td><td>f64</td><td>f64</td><td>f64</td><td>f64</td><td>f64</td><td>f64</td><td>f64</td><td>f64</td><td>f64</td><td>f64</td><td>f64</td><td>f64</td><td>f64</td><td>f64</td><td>f64</td><td>f64</td><td>f64</td><td>f64</td><td>f64</td><td>f64</td><td>f64</td><td>f64</td><td>f64</td><td>f64</td><td>f64</td><td>f64</td></tr></thead><tbody><tr><td>100001</td><td>&quot;Cash loans&quot;</td><td>&quot;F&quot;</td><td>&quot;N&quot;</td><td>&quot;Y&quot;</td><td>0</td><td>135000.0</td><td>568800.0</td><td>20560.5</td><td>450000.0</td><td>&quot;Unaccompanied&quot;</td><td>&quot;Working&quot;</td><td>&quot;Higher educati…</td><td>&quot;Married&quot;</td><td>&quot;House / apartm…</td><td>0.01885</td><td>-19241</td><td>-2329</td><td>-5170.0</td><td>-812</td><td>null</td><td>1</td><td>1</td><td>0</td><td>1</td><td>0</td><td>1</td><td>null</td><td>2.0</td><td>2</td><td>2</td><td>&quot;TUESDAY&quot;</td><td>18</td><td>0</td><td>0</td><td>0</td><td>0</td><td>&hellip;</td><td>-1619.0</td><td>-1612.0</td><td>0.0</td><td>4.0</td><td>2.0</td><td>1.581139</td><td>0.0</td><td>1.581139</td><td>2.5</td><td>-1664.0</td><td>-1679.5</td><td>7312.725</td><td>7312.725</td><td>1.290994</td><td>38.729833</td><td>43.02325</td><td>6723.45</td><td>null</td><td>null</td><td>null</td><td>null</td><td>null</td><td>null</td><td>null</td><td>null</td><td>null</td><td>null</td><td>null</td><td>null</td><td>null</td><td>null</td><td>null</td><td>null</td><td>null</td><td>null</td><td>null</td><td>null</td></tr><tr><td>100005</td><td>&quot;Cash loans&quot;</td><td>&quot;M&quot;</td><td>&quot;N&quot;</td><td>&quot;Y&quot;</td><td>0</td><td>99000.0</td><td>222768.0</td><td>17370.0</td><td>180000.0</td><td>&quot;Unaccompanied&quot;</td><td>&quot;Working&quot;</td><td>&quot;Secondary / se…</td><td>&quot;Married&quot;</td><td>&quot;House / apartm…</td><td>0.035792</td><td>-18064</td><td>-4469</td><td>-9118.0</td><td>-1623</td><td>null</td><td>1</td><td>1</td><td>0</td><td>1</td><td>0</td><td>0</td><td>&quot;Low-skill Labo…</td><td>2.0</td><td>2</td><td>2</td><td>&quot;FRIDAY&quot;</td><td>9</td><td>0</td><td>0</td><td>0</td><td>0</td><td>&hellip;</td><td>-466.0</td><td>-460.0</td><td>0.0</td><td>11.7</td><td>7.2</td><td>3.316625</td><td>0.948683</td><td>3.614784</td><td>5.0</td><td>-586.0</td><td>-609.555556</td><td>6240.205</td><td>6240.205</td><td>2.738613</td><td>82.158384</td><td>90.554005</td><td>4281.015</td><td>null</td><td>null</td><td>null</td><td>null</td><td>null</td><td>null</td><td>null</td><td>null</td><td>null</td><td>null</td><td>null</td><td>null</td><td>null</td><td>null</td><td>null</td><td>null</td><td>null</td><td>null</td><td>null</td><td>null</td></tr><tr><td>100013</td><td>&quot;Cash loans&quot;</td><td>&quot;M&quot;</td><td>&quot;Y&quot;</td><td>&quot;Y&quot;</td><td>0</td><td>202500.0</td><td>663264.0</td><td>69777.0</td><td>630000.0</td><td>null</td><td>&quot;Working&quot;</td><td>&quot;Higher educati…</td><td>&quot;Married&quot;</td><td>&quot;House / apartm…</td><td>0.019101</td><td>-20038</td><td>-4458</td><td>-2175.0</td><td>-3503</td><td>5.0</td><td>1</td><td>1</td><td>0</td><td>1</td><td>0</td><td>0</td><td>&quot;Drivers&quot;</td><td>2.0</td><td>2</td><td>2</td><td>&quot;MONDAY&quot;</td><td>14</td><td>0</td><td>0</td><td>0</td><td>0</td><td>&hellip;</td><td>-715.666667</td><td>-710.333333</td><td>0.333333</td><td>16.648148</td><td>11.451178</td><td>3.605137</td><td>1.492781</td><td>4.518695</td><td>6.027778</td><td>-854.833333</td><td>-867.592593</td><td>16349.077917</td><td>13702.794792</td><td>3.127653</td><td>93.8296</td><td>97.056815</td><td>23427.198086</td><td>null</td><td>null</td><td>null</td><td>null</td><td>null</td><td>null</td><td>null</td><td>null</td><td>null</td><td>null</td><td>null</td><td>null</td><td>null</td><td>null</td><td>null</td><td>null</td><td>null</td><td>null</td><td>null</td><td>null</td></tr><tr><td>100028</td><td>&quot;Cash loans&quot;</td><td>&quot;F&quot;</td><td>&quot;N&quot;</td><td>&quot;Y&quot;</td><td>2</td><td>315000.0</td><td>1.575e6</td><td>49018.5</td><td>1.575e6</td><td>&quot;Unaccompanied&quot;</td><td>&quot;Working&quot;</td><td>&quot;Secondary / se…</td><td>&quot;Married&quot;</td><td>&quot;House / apartm…</td><td>0.026392</td><td>-13976</td><td>-1866</td><td>-2000.0</td><td>-4208</td><td>null</td><td>1</td><td>1</td><td>0</td><td>1</td><td>1</td><td>0</td><td>&quot;Sales staff&quot;</td><td>4.0</td><td>2</td><td>2</td><td>&quot;WEDNESDAY&quot;</td><td>11</td><td>0</td><td>0</td><td>0</td><td>0</td><td>&hellip;</td><td>121171.333333</td><td>121182.666667</td><td>0.0</td><td>15.928571</td><td>8.3125</td><td>4.615657</td><td>1.336306</td><td>5.87108</td><td>17.595238</td><td>-944.964286</td><td>-949.814286</td><td>7836.897982</td><td>7557.738339</td><td>9.916709</td><td>202.263805</td><td>203.25224</td><td>6201.859346</td><td>-25.0</td><td>8085.058163</td><td>225000.0</td><td>613.636364</td><td>6156.400408</td><td>0.0</td><td>6242.355</td><td>6133.363929</td><td>6598.243256</td><td>5606.152347</td><td>7680.352041</td><td>7968.609184</td><td>7968.609184</td><td>0.045455</td><td>2.387755</td><td>0.0</td><td>2.613636</td><td>19.547619</td><td>0.0</td><td>0.0</td></tr><tr><td>100038</td><td>&quot;Cash loans&quot;</td><td>&quot;M&quot;</td><td>&quot;Y&quot;</td><td>&quot;N&quot;</td><td>1</td><td>180000.0</td><td>625500.0</td><td>32067.0</td><td>625500.0</td><td>&quot;Unaccompanied&quot;</td><td>&quot;Working&quot;</td><td>&quot;Secondary / se…</td><td>&quot;Married&quot;</td><td>&quot;House / apartm…</td><td>0.010032</td><td>-13040</td><td>-2191</td><td>-4000.0</td><td>-4262</td><td>16.0</td><td>1</td><td>1</td><td>1</td><td>1</td><td>0</td><td>0</td><td>null</td><td>3.0</td><td>2</td><td>2</td><td>&quot;FRIDAY&quot;</td><td>5</td><td>0</td><td>0</td><td>0</td><td>0</td><td>&hellip;</td><td>-457.0</td><td>-449.0</td><td>0.0</td><td>12.0</td><td>5.846154</td><td>3.89444</td><td>0.0</td><td>4.058862</td><td>6.5</td><td>-622.0</td><td>-634.25</td><td>11100.3375</td><td>11100.3375</td><td>3.605551</td><td>108.166538</td><td>109.838001</td><td>0.909327</td><td>null</td><td>null</td><td>null</td><td>null</td><td>null</td><td>null</td><td>null</td><td>null</td><td>null</td><td>null</td><td>null</td><td>null</td><td>null</td><td>null</td><td>null</td><td>null</td><td>null</td><td>null</td><td>null</td><td>null</td></tr></tbody></table></div>"
      ],
      "text/plain": [
       "shape: (5, 210)\n",
       "┌───────────┬───────────┬───────────┬───────────┬───┬───────────┬───────────┬───────────┬──────────┐\n",
       "│ SK_ID_CUR ┆ NAME_CONT ┆ CODE_GEND ┆ FLAG_OWN_ ┆ … ┆ CNT_DRAWI ┆ CNT_INSTA ┆ SK_DPD_me ┆ SK_DPD_D │\n",
       "│ R         ┆ RACT_TYPE ┆ ER        ┆ CAR       ┆   ┆ NGS_POS_C ┆ LMENT_MAT ┆ an        ┆ EF_mean  │\n",
       "│ ---       ┆ ---       ┆ ---       ┆ ---       ┆   ┆ URRENT_me ┆ URE_CUM_m ┆ ---       ┆ ---      │\n",
       "│ i64       ┆ str       ┆ str       ┆ str       ┆   ┆ an        ┆ ean       ┆ f64       ┆ f64      │\n",
       "│           ┆           ┆           ┆           ┆   ┆ ---       ┆ ---       ┆           ┆          │\n",
       "│           ┆           ┆           ┆           ┆   ┆ f64       ┆ f64       ┆           ┆          │\n",
       "╞═══════════╪═══════════╪═══════════╪═══════════╪═══╪═══════════╪═══════════╪═══════════╪══════════╡\n",
       "│ 100001    ┆ Cash      ┆ F         ┆ N         ┆ … ┆ null      ┆ null      ┆ null      ┆ null     │\n",
       "│           ┆ loans     ┆           ┆           ┆   ┆           ┆           ┆           ┆          │\n",
       "│ 100005    ┆ Cash      ┆ M         ┆ N         ┆ … ┆ null      ┆ null      ┆ null      ┆ null     │\n",
       "│           ┆ loans     ┆           ┆           ┆   ┆           ┆           ┆           ┆          │\n",
       "│ 100013    ┆ Cash      ┆ M         ┆ Y         ┆ … ┆ null      ┆ null      ┆ null      ┆ null     │\n",
       "│           ┆ loans     ┆           ┆           ┆   ┆           ┆           ┆           ┆          │\n",
       "│ 100028    ┆ Cash      ┆ F         ┆ N         ┆ … ┆ 2.613636  ┆ 19.547619 ┆ 0.0       ┆ 0.0      │\n",
       "│           ┆ loans     ┆           ┆           ┆   ┆           ┆           ┆           ┆          │\n",
       "│ 100038    ┆ Cash      ┆ M         ┆ Y         ┆ … ┆ null      ┆ null      ┆ null      ┆ null     │\n",
       "│           ┆ loans     ┆           ┆           ┆   ┆           ┆           ┆           ┆          │\n",
       "└───────────┴───────────┴───────────┴───────────┴───┴───────────┴───────────┴───────────┴──────────┘"
      ]
     },
     "execution_count": 13,
     "metadata": {},
     "output_type": "execute_result"
    }
   ],
   "source": [
    "test_df.head(5)"
   ]
  },
  {
   "cell_type": "markdown",
   "id": "37ff2d12-4db3-48b6-b9a7-53cfdbc2cfa1",
   "metadata": {},
   "source": [
    "##  Preprocessing steps"
   ]
  },
  {
   "cell_type": "markdown",
   "id": "94c16b0b",
   "metadata": {},
   "source": [
    "### Dropping features with too many NaNs"
   ]
  },
  {
   "cell_type": "code",
   "execution_count": 8,
   "id": "e071a5c5-cee9-4dae-82b3-4fd295a2ecb0",
   "metadata": {},
   "outputs": [],
   "source": [
    "COLS_TO_DROP_HIGH_NAN = ['OWN_CAR_AGE', 'YEARS_BUILD_AVG', 'COMMONAREA_AVG', 'FLOORSMIN_AVG',\n",
    "       'LIVINGAPARTMENTS_AVG', 'NONLIVINGAPARTMENTS_AVG', 'YEARS_BUILD_MODE',\n",
    "       'COMMONAREA_MODE', 'FLOORSMIN_MODE', 'LIVINGAPARTMENTS_MODE',\n",
    "       'NONLIVINGAPARTMENTS_MODE', 'YEARS_BUILD_MEDI', 'COMMONAREA_MEDI',\n",
    "       'FLOORSMIN_MEDI', 'LIVINGAPARTMENTS_MEDI', 'NONLIVINGAPARTMENTS_MEDI',\n",
    "       'FONDKAPREMONT_MODE', 'meanMONTHS_BALANCE_mean',\n",
    "       'STD_MONTHS_BALANCE_mean', 'lastSTATUS_mode', 'modeSTATUS_mode',\n",
    "       'RATE_INTEREST_PRIMARY_mean', 'RATE_INTEREST_PRIVILEGED_mean',\n",
    "       'MONTHS_BALANCE_mean', 'AMT_BALANCE_mean',\n",
    "       'AMT_CREDIT_LIMIT_ACTUAL_mean', 'AMT_DRAWINGS_ATM_CURRENT_mean',\n",
    "       'AMT_DRAWINGS_CURRENT_mean', 'AMT_DRAWINGS_OTHER_CURRENT_mean',\n",
    "       'AMT_DRAWINGS_POS_CURRENT_mean', 'AMT_INST_MIN_REGULARITY_mean',\n",
    "       'AMT_PAYMENT_CURRENT_mean', 'AMT_PAYMENT_TOTAL_CURRENT_mean',\n",
    "       'AMT_RECEIVABLE_PRINCIPAL_mean', 'AMT_RECIVABLE_mean',\n",
    "       'AMT_TOTAL_RECEIVABLE_mean', 'CNT_DRAWINGS_ATM_CURRENT_mean',\n",
    "       'CNT_DRAWINGS_CURRENT_mean', 'CNT_DRAWINGS_OTHER_CURRENT_mean',\n",
    "       'CNT_DRAWINGS_POS_CURRENT_mean', 'CNT_INSTALMENT_MATURE_CUM_mean',\n",
    "       'SK_DPD_mean', 'SK_DPD_DEF_mean']"
   ]
  },
  {
   "cell_type": "code",
   "execution_count": 14,
   "id": "f924c0d1",
   "metadata": {},
   "outputs": [],
   "source": [
    "train_df = train_df.drop(COLS_TO_DROP_HIGH_NAN)\n",
    "test_df = test_df.drop(COLS_TO_DROP_HIGH_NAN)"
   ]
  },
  {
   "cell_type": "markdown",
   "id": "a9f9c056",
   "metadata": {},
   "source": [
    "### Imputing NaN-vals\n"
   ]
  },
  {
   "cell_type": "code",
   "execution_count": 73,
   "id": "486d516c",
   "metadata": {},
   "outputs": [],
   "source": [
    "def imputer(df, cat_cols, num_cols):\n",
    "    \"\"\"\n",
    "    Impute missing values in a Polars DataFrame:\n",
    "    - Numeric columns: replace NaNs with the median.\n",
    "    - Categorical columns: replace NaNs with 'MISSING'.\n",
    "\n",
    "    Parameters:\n",
    "    df (pl.DataFrame): The Polars DataFrame to be imputed.\n",
    "\n",
    "    Returns:\n",
    "    pl.DataFrame: The imputed DataFrame.\n",
    "    \"\"\"\n",
    "    for col in num_cols:\n",
    "        median = df[col].median()\n",
    "        df = df.with_columns([df[col].fill_null(median)])\n",
    "\n",
    "    # Impute categorical columns with 'MISSING'\n",
    "    for col in cat_cols:\n",
    "        df = df.with_columns([df[col].fill_null(\"MISSING\")])\n",
    "\n",
    "    return df\n",
    "    \n",
    "    \n",
    "    \n"
   ]
  },
  {
   "cell_type": "code",
   "execution_count": 79,
   "id": "863338f9",
   "metadata": {},
   "outputs": [],
   "source": [
    "#train_df.columns\n",
    "numeric_cols = test_df.select(pl.col(pl.datatypes.NUMERIC_DTYPES)).columns\n",
    "categorical_cols = test_df.select(pl.col(pl.datatypes.Utf8)).columns\n"
   ]
  },
  {
   "cell_type": "code",
   "execution_count": 80,
   "id": "630f11ea",
   "metadata": {},
   "outputs": [],
   "source": [
    "#Imputing \n",
    "\n",
    "train_df_impt = imputer(train_df, categorical_cols, numeric_cols)\n",
    "test_df_impt = imputer(test_df, categorical_cols, numeric_cols)"
   ]
  },
  {
   "cell_type": "code",
   "execution_count": null,
   "id": "8275ea37",
   "metadata": {},
   "outputs": [],
   "source": []
  }
 ],
 "metadata": {
  "kernelspec": {
   "display_name": "Python 3 (ipykernel)",
   "language": "python",
   "name": "python3"
  },
  "language_info": {
   "codemirror_mode": {
    "name": "ipython",
    "version": 3
   },
   "file_extension": ".py",
   "mimetype": "text/x-python",
   "name": "python",
   "nbconvert_exporter": "python",
   "pygments_lexer": "ipython3",
   "version": "3.10.12"
  }
 },
 "nbformat": 4,
 "nbformat_minor": 5
}
