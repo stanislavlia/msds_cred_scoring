{
 "cells": [
  {
   "cell_type": "code",
   "execution_count": 19,
   "id": "dbeb1ba3",
   "metadata": {},
   "outputs": [],
   "source": [
    "import pandas as pd\n",
    "import numpy as np\n",
    "from sklearn.preprocessing import LabelEncoder, OrdinalEncoder\n",
    "from sklearn.impute import SimpleImputer"
   ]
  },
  {
   "cell_type": "code",
   "execution_count": 2,
   "id": "2035e5e7-81de-45a2-a70d-031bf4654f2a",
   "metadata": {},
   "outputs": [],
   "source": [
    "train_df = pd.read_csv(\"processsing/train_table_merged.csv\")\n",
    "test_df = pd.read_csv(\"processsing/test_table_merged.csv\")"
   ]
  },
  {
   "cell_type": "markdown",
   "id": "1d1e8ab6-ad43-40b8-9e7b-0b620ca55ad9",
   "metadata": {},
   "source": [
    "\n",
    "## Dropping cols with high NAN rate"
   ]
  },
  {
   "cell_type": "code",
   "execution_count": 3,
   "id": "ac8d9e44-a2e7-4bc3-874d-7d44c23462b5",
   "metadata": {},
   "outputs": [],
   "source": [
    "COLS_TO_DROP_HIGH_NAN = ['OWN_CAR_AGE', 'YEARS_BUILD_AVG', 'COMMONAREA_AVG', 'FLOORSMIN_AVG',\n",
    "       'LIVINGAPARTMENTS_AVG', 'NONLIVINGAPARTMENTS_AVG', 'YEARS_BUILD_MODE',\n",
    "       'COMMONAREA_MODE', 'FLOORSMIN_MODE', 'LIVINGAPARTMENTS_MODE',\n",
    "       'NONLIVINGAPARTMENTS_MODE', 'YEARS_BUILD_MEDI', 'COMMONAREA_MEDI',\n",
    "       'FLOORSMIN_MEDI', 'LIVINGAPARTMENTS_MEDI', 'NONLIVINGAPARTMENTS_MEDI',\n",
    "       'FONDKAPREMONT_MODE', 'meanMONTHS_BALANCE_mean',\n",
    "       'STD_MONTHS_BALANCE_mean', 'lastSTATUS_mode', 'modeSTATUS_mode',\n",
    "       'RATE_INTEREST_PRIMARY_mean', 'RATE_INTEREST_PRIVILEGED_mean',\n",
    "       'MONTHS_BALANCE_mean', 'AMT_BALANCE_mean',\n",
    "       'AMT_CREDIT_LIMIT_ACTUAL_mean', 'AMT_DRAWINGS_ATM_CURRENT_mean',\n",
    "       'AMT_DRAWINGS_CURRENT_mean', 'AMT_DRAWINGS_OTHER_CURRENT_mean',\n",
    "       'AMT_DRAWINGS_POS_CURRENT_mean', 'AMT_INST_MIN_REGULARITY_mean',\n",
    "       'AMT_PAYMENT_CURRENT_mean', 'AMT_PAYMENT_TOTAL_CURRENT_mean',\n",
    "       'AMT_RECEIVABLE_PRINCIPAL_mean', 'AMT_RECIVABLE_mean',\n",
    "       'AMT_TOTAL_RECEIVABLE_mean', 'CNT_DRAWINGS_ATM_CURRENT_mean',\n",
    "       'CNT_DRAWINGS_CURRENT_mean', 'CNT_DRAWINGS_OTHER_CURRENT_mean',\n",
    "       'CNT_DRAWINGS_POS_CURRENT_mean', 'CNT_INSTALMENT_MATURE_CUM_mean',\n",
    "       'SK_DPD_mean', 'SK_DPD_DEF_mean']\n",
    "\n",
    "\n",
    "train_df.drop(COLS_TO_DROP_HIGH_NAN, axis=1, inplace=True)\n",
    "test_df.drop(COLS_TO_DROP_HIGH_NAN, axis=1, inplace=True)"
   ]
  },
  {
   "cell_type": "markdown",
   "id": "05774496-7f61-466d-aca9-766f04a2e57a",
   "metadata": {},
   "source": [
    "## Handling missing values"
   ]
  },
  {
   "cell_type": "code",
   "execution_count": 4,
   "id": "55b4ea6f-5f50-458d-a95e-70b52bf94364",
   "metadata": {},
   "outputs": [],
   "source": [
    "\n",
    "\n",
    "class MissingImputer():\n",
    "    def __init__(self):\n",
    "        self.categorical_imputer = SimpleImputer(strategy=\"constant\", fill_value=\"MISSING\")\n",
    "        self.numerical_imputer = SimpleImputer(strategy=\"median\")\n",
    "    \n",
    "        self.categorical_features = []\n",
    "        self.numerical_features = []\n",
    "        self.categorical_dtypes = {}\n",
    "        \n",
    "        self.numerical_dtypes = {}\n",
    "\n",
    "    def fit(self, df):\n",
    "        self.categorical_features = df.select_dtypes([\"object\"]).columns\n",
    "        self.numerical_features = df.select_dtypes([\"int\", \"float\"]).columns\n",
    "\n",
    "        # Store original dtypes\n",
    "        self.categorical_dtypes = {col: df[col].dtype for col in self.categorical_features}\n",
    "        self.numerical_dtypes = {col: df[col].dtype for col in self.numerical_features}\n",
    "\n",
    "        self.categorical_imputer.fit(df[self.categorical_features])\n",
    "        self.numerical_imputer.fit(df[self.numerical_features])\n",
    "        self.columns = list(self.numerical_features) + list(self.categorical_features)\n",
    "\n",
    "    def transform(self, df):\n",
    "        cat_df_imputed = self.categorical_imputer.transform(df[self.categorical_features])\n",
    "        num_df_imputed = self.numerical_imputer.transform(df[self.numerical_features])\n",
    "\n",
    "        # Convert back to DataFrame with original dtypes\n",
    "        cat_df_imputed = pd.DataFrame(cat_df_imputed, columns=self.categorical_features)\n",
    "        cat_df_imputed = cat_df_imputed.astype(self.categorical_dtypes)\n",
    "\n",
    "        num_df_imputed = pd.DataFrame(num_df_imputed, columns=self.numerical_features)\n",
    "        num_df_imputed = num_df_imputed.astype(self.numerical_dtypes)\n",
    "\n",
    "        # Concatenate DataFrames while preserving dtypes\n",
    "        final_df = pd.concat([num_df_imputed, cat_df_imputed], axis=1)\n",
    "\n",
    "        return final_df"
   ]
  },
  {
   "cell_type": "code",
   "execution_count": 5,
   "id": "dca131fb-aa3a-414a-9a8c-f3898fa64747",
   "metadata": {},
   "outputs": [],
   "source": [
    "\n",
    "\n",
    "imputer = MissingImputer()\n",
    "imputer.fit(train_df.drop(\"TARGET\", axis=1))"
   ]
  },
  {
   "cell_type": "code",
   "execution_count": 6,
   "id": "feef8055-49ea-4d0b-b801-9ec275385d4b",
   "metadata": {},
   "outputs": [],
   "source": [
    "train_df_imputed = imputer.transform(train_df.drop(\"TARGET\", axis=1))\n",
    "train_df_imputed[\"TARGET\"] = train_df[\"TARGET\"]"
   ]
  },
  {
   "cell_type": "code",
   "execution_count": 7,
   "id": "a233a6e5-3dba-4ab9-a0cf-a9f76f7ce32a",
   "metadata": {},
   "outputs": [],
   "source": [
    "test_df_imputed = imputer.transform(test_df)"
   ]
  },
  {
   "cell_type": "markdown",
   "id": "c579841b-3e8b-4dbe-9174-44c902add81d",
   "metadata": {},
   "source": [
    "## Encoding categorical features"
   ]
  },
  {
   "cell_type": "code",
   "execution_count": 31,
   "id": "6ddc5616-dc87-4d72-9d45-0b10002a9d23",
   "metadata": {},
   "outputs": [],
   "source": [
    "\n",
    "class CategoricalEncoder():\n",
    "    def __init__(self):\n",
    "        self.encoder = None\n",
    "        self.cat_features = []\n",
    "\n",
    "    def fit(self, df):\n",
    "        self.cat_features = df.select_dtypes(include=[\"object\"]).columns\n",
    "        self.encoder = OrdinalEncoder(handle_unknown='use_encoded_value', unknown_value=-1)\n",
    "        self.encoder.fit(df[self.cat_features])\n",
    "\n",
    "    def transform(self, df):\n",
    "        transformed_df = df.copy()\n",
    "        transformed_df[self.cat_features] = self.encoder.transform(df[self.cat_features])\n",
    "        return transformed_df\n",
    "\n"
   ]
  },
  {
   "cell_type": "code",
   "execution_count": 27,
   "id": "10830cdd-d87f-4447-bd3a-5e6d8a955fa9",
   "metadata": {},
   "outputs": [],
   "source": [
    "cat_encoder = CategoricalEncoder()\n",
    "cat_encoder.fit(train_df_imputed)"
   ]
  },
  {
   "cell_type": "code",
   "execution_count": 28,
   "id": "c88f03ba-9bfd-43d6-a79b-f1002ceedf06",
   "metadata": {},
   "outputs": [],
   "source": [
    "train_df_enc = cat_encoder.transform(train_df_imputed)"
   ]
  },
  {
   "cell_type": "code",
   "execution_count": 29,
   "id": "4a2eba75-72a4-4acf-909c-33d23aec83b9",
   "metadata": {},
   "outputs": [],
   "source": [
    "test_df_enc = cat_encoder.transform(test_df_imputed)"
   ]
  },
  {
   "cell_type": "code",
   "execution_count": 34,
   "id": "e26e3233-2be6-46bb-83fc-c535a5e4cedb",
   "metadata": {},
   "outputs": [],
   "source": [
    "#Saving preprocessed data\n",
    "train_df_enc.to_csv(\"processsing/processed_train.csv\")\n",
    "test_df_enc.to_csv(\"processsing/processed_test.csv\")"
   ]
  },
  {
   "cell_type": "code",
   "execution_count": null,
   "id": "67647f62-fadb-428a-87e9-f912250333d3",
   "metadata": {},
   "outputs": [],
   "source": []
  }
 ],
 "metadata": {
  "kernelspec": {
   "display_name": "Python 3 (ipykernel)",
   "language": "python",
   "name": "python3"
  },
  "language_info": {
   "codemirror_mode": {
    "name": "ipython",
    "version": 3
   },
   "file_extension": ".py",
   "mimetype": "text/x-python",
   "name": "python",
   "nbconvert_exporter": "python",
   "pygments_lexer": "ipython3",
   "version": "3.10.12"
  }
 },
 "nbformat": 4,
 "nbformat_minor": 5
}
