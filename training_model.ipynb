{
  "nbformat": 4,
  "nbformat_minor": 0,
  "metadata": {
    "colab": {
      "provenance": [],
      "toc_visible": true,
      "gpuType": "T4",
      "mount_file_id": "1LAQVmRgb8YdcNPIatTKYiq_6JD6a6HYz",
      "authorship_tag": "ABX9TyM33u+W3WISY5gNtN3mohxy",
      "include_colab_link": true
    },
    "kernelspec": {
      "name": "python3",
      "display_name": "Python 3"
    },
    "language_info": {
      "name": "python"
    },
    "accelerator": "GPU"
  },
  "cells": [
    {
      "cell_type": "markdown",
      "metadata": {
        "id": "view-in-github",
        "colab_type": "text"
      },
      "source": [
        "<a href=\"https://colab.research.google.com/github/stanislavlia/msds_cred_scoring/blob/master/training_model.ipynb\" target=\"_parent\"><img src=\"https://colab.research.google.com/assets/colab-badge.svg\" alt=\"Open In Colab\"/></a>"
      ]
    },
    {
      "cell_type": "code",
      "source": [
        "!pip install plotly\n",
        "!pip install optuna\n",
        "!pip install xgboost\n",
        "!pip install catboost\n",
        "!pip install shap"
      ],
      "metadata": {
        "colab": {
          "base_uri": "https://localhost:8080/"
        },
        "id": "B14UetOV91FF",
        "outputId": "82ed9ae2-3cd3-44a6-f74a-c53ce127e13b"
      },
      "execution_count": null,
      "outputs": [
        {
          "output_type": "stream",
          "name": "stdout",
          "text": [
            "Requirement already satisfied: plotly in /usr/local/lib/python3.10/dist-packages (5.15.0)\n",
            "Requirement already satisfied: tenacity>=6.2.0 in /usr/local/lib/python3.10/dist-packages (from plotly) (8.2.3)\n",
            "Requirement already satisfied: packaging in /usr/local/lib/python3.10/dist-packages (from plotly) (23.2)\n",
            "Requirement already satisfied: optuna in /usr/local/lib/python3.10/dist-packages (3.5.0)\n",
            "Requirement already satisfied: alembic>=1.5.0 in /usr/local/lib/python3.10/dist-packages (from optuna) (1.13.1)\n",
            "Requirement already satisfied: colorlog in /usr/local/lib/python3.10/dist-packages (from optuna) (6.8.0)\n",
            "Requirement already satisfied: numpy in /usr/local/lib/python3.10/dist-packages (from optuna) (1.23.5)\n",
            "Requirement already satisfied: packaging>=20.0 in /usr/local/lib/python3.10/dist-packages (from optuna) (23.2)\n",
            "Requirement already satisfied: sqlalchemy>=1.3.0 in /usr/local/lib/python3.10/dist-packages (from optuna) (2.0.24)\n",
            "Requirement already satisfied: tqdm in /usr/local/lib/python3.10/dist-packages (from optuna) (4.66.1)\n",
            "Requirement already satisfied: PyYAML in /usr/local/lib/python3.10/dist-packages (from optuna) (6.0.1)\n",
            "Requirement already satisfied: Mako in /usr/local/lib/python3.10/dist-packages (from alembic>=1.5.0->optuna) (1.3.0)\n",
            "Requirement already satisfied: typing-extensions>=4 in /usr/local/lib/python3.10/dist-packages (from alembic>=1.5.0->optuna) (4.5.0)\n",
            "Requirement already satisfied: greenlet!=0.4.17 in /usr/local/lib/python3.10/dist-packages (from sqlalchemy>=1.3.0->optuna) (3.0.3)\n",
            "Requirement already satisfied: MarkupSafe>=0.9.2 in /usr/local/lib/python3.10/dist-packages (from Mako->alembic>=1.5.0->optuna) (2.1.3)\n",
            "Requirement already satisfied: xgboost in /usr/local/lib/python3.10/dist-packages (2.0.3)\n",
            "Requirement already satisfied: numpy in /usr/local/lib/python3.10/dist-packages (from xgboost) (1.23.5)\n",
            "Requirement already satisfied: scipy in /usr/local/lib/python3.10/dist-packages (from xgboost) (1.11.4)\n",
            "Requirement already satisfied: catboost in /usr/local/lib/python3.10/dist-packages (1.2.2)\n",
            "Requirement already satisfied: graphviz in /usr/local/lib/python3.10/dist-packages (from catboost) (0.20.1)\n",
            "Requirement already satisfied: matplotlib in /usr/local/lib/python3.10/dist-packages (from catboost) (3.7.1)\n",
            "Requirement already satisfied: numpy>=1.16.0 in /usr/local/lib/python3.10/dist-packages (from catboost) (1.23.5)\n",
            "Requirement already satisfied: pandas>=0.24 in /usr/local/lib/python3.10/dist-packages (from catboost) (1.5.3)\n",
            "Requirement already satisfied: scipy in /usr/local/lib/python3.10/dist-packages (from catboost) (1.11.4)\n",
            "Requirement already satisfied: plotly in /usr/local/lib/python3.10/dist-packages (from catboost) (5.15.0)\n",
            "Requirement already satisfied: six in /usr/local/lib/python3.10/dist-packages (from catboost) (1.16.0)\n",
            "Requirement already satisfied: python-dateutil>=2.8.1 in /usr/local/lib/python3.10/dist-packages (from pandas>=0.24->catboost) (2.8.2)\n",
            "Requirement already satisfied: pytz>=2020.1 in /usr/local/lib/python3.10/dist-packages (from pandas>=0.24->catboost) (2023.3.post1)\n",
            "Requirement already satisfied: contourpy>=1.0.1 in /usr/local/lib/python3.10/dist-packages (from matplotlib->catboost) (1.2.0)\n",
            "Requirement already satisfied: cycler>=0.10 in /usr/local/lib/python3.10/dist-packages (from matplotlib->catboost) (0.12.1)\n",
            "Requirement already satisfied: fonttools>=4.22.0 in /usr/local/lib/python3.10/dist-packages (from matplotlib->catboost) (4.47.0)\n",
            "Requirement already satisfied: kiwisolver>=1.0.1 in /usr/local/lib/python3.10/dist-packages (from matplotlib->catboost) (1.4.5)\n",
            "Requirement already satisfied: packaging>=20.0 in /usr/local/lib/python3.10/dist-packages (from matplotlib->catboost) (23.2)\n",
            "Requirement already satisfied: pillow>=6.2.0 in /usr/local/lib/python3.10/dist-packages (from matplotlib->catboost) (9.4.0)\n",
            "Requirement already satisfied: pyparsing>=2.3.1 in /usr/local/lib/python3.10/dist-packages (from matplotlib->catboost) (3.1.1)\n",
            "Requirement already satisfied: tenacity>=6.2.0 in /usr/local/lib/python3.10/dist-packages (from plotly->catboost) (8.2.3)\n",
            "Collecting shap\n",
            "  Downloading shap-0.44.0-cp310-cp310-manylinux_2_12_x86_64.manylinux2010_x86_64.manylinux_2_17_x86_64.manylinux2014_x86_64.whl (533 kB)\n",
            "\u001b[2K     \u001b[90m━━━━━━━━━━━━━━━━━━━━━━━━━━━━━━━━━━━━━━━━\u001b[0m \u001b[32m533.5/533.5 kB\u001b[0m \u001b[31m6.6 MB/s\u001b[0m eta \u001b[36m0:00:00\u001b[0m\n",
            "\u001b[?25hRequirement already satisfied: numpy in /usr/local/lib/python3.10/dist-packages (from shap) (1.23.5)\n",
            "Requirement already satisfied: scipy in /usr/local/lib/python3.10/dist-packages (from shap) (1.11.4)\n",
            "Requirement already satisfied: scikit-learn in /usr/local/lib/python3.10/dist-packages (from shap) (1.2.2)\n",
            "Requirement already satisfied: pandas in /usr/local/lib/python3.10/dist-packages (from shap) (1.5.3)\n",
            "Requirement already satisfied: tqdm>=4.27.0 in /usr/local/lib/python3.10/dist-packages (from shap) (4.66.1)\n",
            "Requirement already satisfied: packaging>20.9 in /usr/local/lib/python3.10/dist-packages (from shap) (23.2)\n",
            "Collecting slicer==0.0.7 (from shap)\n",
            "  Downloading slicer-0.0.7-py3-none-any.whl (14 kB)\n",
            "Requirement already satisfied: numba in /usr/local/lib/python3.10/dist-packages (from shap) (0.58.1)\n",
            "Requirement already satisfied: cloudpickle in /usr/local/lib/python3.10/dist-packages (from shap) (2.2.1)\n",
            "Requirement already satisfied: llvmlite<0.42,>=0.41.0dev0 in /usr/local/lib/python3.10/dist-packages (from numba->shap) (0.41.1)\n",
            "Requirement already satisfied: python-dateutil>=2.8.1 in /usr/local/lib/python3.10/dist-packages (from pandas->shap) (2.8.2)\n",
            "Requirement already satisfied: pytz>=2020.1 in /usr/local/lib/python3.10/dist-packages (from pandas->shap) (2023.3.post1)\n",
            "Requirement already satisfied: joblib>=1.1.1 in /usr/local/lib/python3.10/dist-packages (from scikit-learn->shap) (1.3.2)\n",
            "Requirement already satisfied: threadpoolctl>=2.0.0 in /usr/local/lib/python3.10/dist-packages (from scikit-learn->shap) (3.2.0)\n",
            "Requirement already satisfied: six>=1.5 in /usr/local/lib/python3.10/dist-packages (from python-dateutil>=2.8.1->pandas->shap) (1.16.0)\n",
            "Installing collected packages: slicer, shap\n",
            "Successfully installed shap-0.44.0 slicer-0.0.7\n"
          ]
        }
      ]
    },
    {
      "cell_type": "code",
      "execution_count": null,
      "metadata": {
        "id": "RIhUO3JD9bor"
      },
      "outputs": [],
      "source": [
        "import pandas as pd\n",
        "import numpy as np\n",
        "import matplotlib.pyplot as plt\n",
        "import optuna\n",
        "import plotly.express as px\n",
        "import logging\n",
        "import shap\n",
        "\n",
        "from sklearn.model_selection import cross_val_score\n",
        "from sklearn.metrics import roc_auc_score\n",
        "\n",
        "#Set up logging\n",
        "logger = logging.getLogger(optuna.__name__)\n",
        "logger.setLevel(logging.DEBUG)\n",
        "\n",
        "handler = logging.StreamHandler()\n",
        "logger.addHandler(handler)"
      ]
    },
    {
      "cell_type": "code",
      "source": [
        "train_df = pd.read_csv(\"drive/MyDrive/msds_homecredit/processed_train.csv\")\n",
        "test_df = pd.read_csv(\"drive/MyDrive/msds_homecredit/processed_test.csv\")"
      ],
      "metadata": {
        "id": "MLc7U9OZ-PR8"
      },
      "execution_count": null,
      "outputs": []
    },
    {
      "cell_type": "code",
      "source": [
        "train_df.drop('Unnamed: 0', axis=1, inplace=True)\n",
        "test_df.drop('Unnamed: 0', axis=1, inplace=True)"
      ],
      "metadata": {
        "id": "ENQg5rEU-cFX"
      },
      "execution_count": null,
      "outputs": []
    },
    {
      "cell_type": "code",
      "source": [
        "X_train = train_df.drop(\"TARGET\", axis=1)\n",
        "y_train = train_df[\"TARGET\"]\n",
        "\n",
        "X_test = test_df"
      ],
      "metadata": {
        "id": "_LzxJ9GGDh59"
      },
      "execution_count": null,
      "outputs": []
    },
    {
      "cell_type": "markdown",
      "source": [
        "## Choice of metric\n",
        "\n",
        "Our target variable is quite unbalanced (9% of defaulters vs 91% the rest).\n",
        "This fact tells us that we shouldn't chose accuracy since this metric is not relevant for unbalanced data. We are interested in both catching potential defaulters and avoiding false-positive default predictions because it is essentially lose of money for the bank. I consider two metric that might fit well to our goals: **F1-score** and **AUC** (Area under ROC curve) because these metrics will lead us to good combination of both **precision** and **recall**. I chose to go with **AUC** although *F1-score* would be a good metric as well.\n",
        "\n",
        "Chosen metric - **AUC**\n",
        "\n"
      ],
      "metadata": {
        "id": "7SysP5c1_fqA"
      }
    },
    {
      "cell_type": "markdown",
      "source": [
        "## Discovering Important Features in Data\n",
        "\n",
        "In order to get a better understanding of our features, I will train a small *Random Forest* model to compute feature importance from the trees as well as SHAP importance."
      ],
      "metadata": {
        "id": "WAHX3re4ChX9"
      }
    },
    {
      "cell_type": "code",
      "source": [
        "from sklearn.ensemble import RandomForestClassifier\n",
        "\n",
        "rf_discover = RandomForestClassifier(max_depth=10,\n",
        "                                       n_estimators=50,\n",
        "                                       bootstrap=True)\n",
        "rf_discover.fit(X_train, y_train)"
      ],
      "metadata": {
        "colab": {
          "base_uri": "https://localhost:8080/",
          "height": 75
        },
        "id": "mEibcGZ1-zy9",
        "outputId": "7540d5c0-4d1b-4648-d4d7-193525cd28f1"
      },
      "execution_count": null,
      "outputs": [
        {
          "output_type": "execute_result",
          "data": {
            "text/plain": [
              "RandomForestClassifier(max_depth=10, n_estimators=50)"
            ],
            "text/html": [
              "<style>#sk-container-id-2 {color: black;background-color: white;}#sk-container-id-2 pre{padding: 0;}#sk-container-id-2 div.sk-toggleable {background-color: white;}#sk-container-id-2 label.sk-toggleable__label {cursor: pointer;display: block;width: 100%;margin-bottom: 0;padding: 0.3em;box-sizing: border-box;text-align: center;}#sk-container-id-2 label.sk-toggleable__label-arrow:before {content: \"▸\";float: left;margin-right: 0.25em;color: #696969;}#sk-container-id-2 label.sk-toggleable__label-arrow:hover:before {color: black;}#sk-container-id-2 div.sk-estimator:hover label.sk-toggleable__label-arrow:before {color: black;}#sk-container-id-2 div.sk-toggleable__content {max-height: 0;max-width: 0;overflow: hidden;text-align: left;background-color: #f0f8ff;}#sk-container-id-2 div.sk-toggleable__content pre {margin: 0.2em;color: black;border-radius: 0.25em;background-color: #f0f8ff;}#sk-container-id-2 input.sk-toggleable__control:checked~div.sk-toggleable__content {max-height: 200px;max-width: 100%;overflow: auto;}#sk-container-id-2 input.sk-toggleable__control:checked~label.sk-toggleable__label-arrow:before {content: \"▾\";}#sk-container-id-2 div.sk-estimator input.sk-toggleable__control:checked~label.sk-toggleable__label {background-color: #d4ebff;}#sk-container-id-2 div.sk-label input.sk-toggleable__control:checked~label.sk-toggleable__label {background-color: #d4ebff;}#sk-container-id-2 input.sk-hidden--visually {border: 0;clip: rect(1px 1px 1px 1px);clip: rect(1px, 1px, 1px, 1px);height: 1px;margin: -1px;overflow: hidden;padding: 0;position: absolute;width: 1px;}#sk-container-id-2 div.sk-estimator {font-family: monospace;background-color: #f0f8ff;border: 1px dotted black;border-radius: 0.25em;box-sizing: border-box;margin-bottom: 0.5em;}#sk-container-id-2 div.sk-estimator:hover {background-color: #d4ebff;}#sk-container-id-2 div.sk-parallel-item::after {content: \"\";width: 100%;border-bottom: 1px solid gray;flex-grow: 1;}#sk-container-id-2 div.sk-label:hover label.sk-toggleable__label {background-color: #d4ebff;}#sk-container-id-2 div.sk-serial::before {content: \"\";position: absolute;border-left: 1px solid gray;box-sizing: border-box;top: 0;bottom: 0;left: 50%;z-index: 0;}#sk-container-id-2 div.sk-serial {display: flex;flex-direction: column;align-items: center;background-color: white;padding-right: 0.2em;padding-left: 0.2em;position: relative;}#sk-container-id-2 div.sk-item {position: relative;z-index: 1;}#sk-container-id-2 div.sk-parallel {display: flex;align-items: stretch;justify-content: center;background-color: white;position: relative;}#sk-container-id-2 div.sk-item::before, #sk-container-id-2 div.sk-parallel-item::before {content: \"\";position: absolute;border-left: 1px solid gray;box-sizing: border-box;top: 0;bottom: 0;left: 50%;z-index: -1;}#sk-container-id-2 div.sk-parallel-item {display: flex;flex-direction: column;z-index: 1;position: relative;background-color: white;}#sk-container-id-2 div.sk-parallel-item:first-child::after {align-self: flex-end;width: 50%;}#sk-container-id-2 div.sk-parallel-item:last-child::after {align-self: flex-start;width: 50%;}#sk-container-id-2 div.sk-parallel-item:only-child::after {width: 0;}#sk-container-id-2 div.sk-dashed-wrapped {border: 1px dashed gray;margin: 0 0.4em 0.5em 0.4em;box-sizing: border-box;padding-bottom: 0.4em;background-color: white;}#sk-container-id-2 div.sk-label label {font-family: monospace;font-weight: bold;display: inline-block;line-height: 1.2em;}#sk-container-id-2 div.sk-label-container {text-align: center;}#sk-container-id-2 div.sk-container {/* jupyter's `normalize.less` sets `[hidden] { display: none; }` but bootstrap.min.css set `[hidden] { display: none !important; }` so we also need the `!important` here to be able to override the default hidden behavior on the sphinx rendered scikit-learn.org. See: https://github.com/scikit-learn/scikit-learn/issues/21755 */display: inline-block !important;position: relative;}#sk-container-id-2 div.sk-text-repr-fallback {display: none;}</style><div id=\"sk-container-id-2\" class=\"sk-top-container\"><div class=\"sk-text-repr-fallback\"><pre>RandomForestClassifier(max_depth=10, n_estimators=50)</pre><b>In a Jupyter environment, please rerun this cell to show the HTML representation or trust the notebook. <br />On GitHub, the HTML representation is unable to render, please try loading this page with nbviewer.org.</b></div><div class=\"sk-container\" hidden><div class=\"sk-item\"><div class=\"sk-estimator sk-toggleable\"><input class=\"sk-toggleable__control sk-hidden--visually\" id=\"sk-estimator-id-2\" type=\"checkbox\" checked><label for=\"sk-estimator-id-2\" class=\"sk-toggleable__label sk-toggleable__label-arrow\">RandomForestClassifier</label><div class=\"sk-toggleable__content\"><pre>RandomForestClassifier(max_depth=10, n_estimators=50)</pre></div></div></div></div></div>"
            ]
          },
          "metadata": {},
          "execution_count": 18
        }
      ]
    },
    {
      "cell_type": "code",
      "source": [
        "feature_importances = pd.DataFrame({\"feature\" : X_train.columns,\n",
        "                                     \"importance\" : rf_discover.feature_importances_})\n",
        "feature_importances = feature_importances.sort_values(by=\"importance\", ascending=False)"
      ],
      "metadata": {
        "id": "mfxu0qb1EIUc"
      },
      "execution_count": null,
      "outputs": []
    },
    {
      "cell_type": "code",
      "source": [
        "feature_importances.head(15)"
      ],
      "metadata": {
        "colab": {
          "base_uri": "https://localhost:8080/",
          "height": 520
        },
        "id": "dpU1Cl84EUV9",
        "outputId": "a4a11610-9856-4f63-be63-eb7819b9e743"
      },
      "execution_count": null,
      "outputs": [
        {
          "output_type": "execute_result",
          "data": {
            "text/plain": [
              "                       feature  importance\n",
              "28                EXT_SOURCE_2    0.135829\n",
              "29                EXT_SOURCE_3    0.122082\n",
              "27                EXT_SOURCE_1    0.040218\n",
              "89            DAYS_CREDIT_mean    0.023999\n",
              "7                   DAYS_BIRTH    0.022154\n",
              "99     DAYS_CREDIT_UPDATE_mean    0.020172\n",
              "91    DAYS_CREDIT_ENDDATE_mean    0.016375\n",
              "128           AMT_PAYMENT_mean    0.015854\n",
              "155  NAME_CONTRACT_STATUS_mode    0.015701\n",
              "139        NAME_EDUCATION_TYPE    0.014433\n",
              "129  NUM_INSTALMENT_NUMBER_std    0.014327\n",
              "8                DAYS_EMPLOYED    0.014198\n",
              "110         DAYS_DECISION_mean    0.013766\n",
              "5              AMT_GOODS_PRICE    0.012498\n",
              "10             DAYS_ID_PUBLISH    0.012145"
            ],
            "text/html": [
              "\n",
              "  <div id=\"df-e0c0df4b-66f3-4e04-8fed-d8c12d024558\" class=\"colab-df-container\">\n",
              "    <div>\n",
              "<style scoped>\n",
              "    .dataframe tbody tr th:only-of-type {\n",
              "        vertical-align: middle;\n",
              "    }\n",
              "\n",
              "    .dataframe tbody tr th {\n",
              "        vertical-align: top;\n",
              "    }\n",
              "\n",
              "    .dataframe thead th {\n",
              "        text-align: right;\n",
              "    }\n",
              "</style>\n",
              "<table border=\"1\" class=\"dataframe\">\n",
              "  <thead>\n",
              "    <tr style=\"text-align: right;\">\n",
              "      <th></th>\n",
              "      <th>feature</th>\n",
              "      <th>importance</th>\n",
              "    </tr>\n",
              "  </thead>\n",
              "  <tbody>\n",
              "    <tr>\n",
              "      <th>28</th>\n",
              "      <td>EXT_SOURCE_2</td>\n",
              "      <td>0.135829</td>\n",
              "    </tr>\n",
              "    <tr>\n",
              "      <th>29</th>\n",
              "      <td>EXT_SOURCE_3</td>\n",
              "      <td>0.122082</td>\n",
              "    </tr>\n",
              "    <tr>\n",
              "      <th>27</th>\n",
              "      <td>EXT_SOURCE_1</td>\n",
              "      <td>0.040218</td>\n",
              "    </tr>\n",
              "    <tr>\n",
              "      <th>89</th>\n",
              "      <td>DAYS_CREDIT_mean</td>\n",
              "      <td>0.023999</td>\n",
              "    </tr>\n",
              "    <tr>\n",
              "      <th>7</th>\n",
              "      <td>DAYS_BIRTH</td>\n",
              "      <td>0.022154</td>\n",
              "    </tr>\n",
              "    <tr>\n",
              "      <th>99</th>\n",
              "      <td>DAYS_CREDIT_UPDATE_mean</td>\n",
              "      <td>0.020172</td>\n",
              "    </tr>\n",
              "    <tr>\n",
              "      <th>91</th>\n",
              "      <td>DAYS_CREDIT_ENDDATE_mean</td>\n",
              "      <td>0.016375</td>\n",
              "    </tr>\n",
              "    <tr>\n",
              "      <th>128</th>\n",
              "      <td>AMT_PAYMENT_mean</td>\n",
              "      <td>0.015854</td>\n",
              "    </tr>\n",
              "    <tr>\n",
              "      <th>155</th>\n",
              "      <td>NAME_CONTRACT_STATUS_mode</td>\n",
              "      <td>0.015701</td>\n",
              "    </tr>\n",
              "    <tr>\n",
              "      <th>139</th>\n",
              "      <td>NAME_EDUCATION_TYPE</td>\n",
              "      <td>0.014433</td>\n",
              "    </tr>\n",
              "    <tr>\n",
              "      <th>129</th>\n",
              "      <td>NUM_INSTALMENT_NUMBER_std</td>\n",
              "      <td>0.014327</td>\n",
              "    </tr>\n",
              "    <tr>\n",
              "      <th>8</th>\n",
              "      <td>DAYS_EMPLOYED</td>\n",
              "      <td>0.014198</td>\n",
              "    </tr>\n",
              "    <tr>\n",
              "      <th>110</th>\n",
              "      <td>DAYS_DECISION_mean</td>\n",
              "      <td>0.013766</td>\n",
              "    </tr>\n",
              "    <tr>\n",
              "      <th>5</th>\n",
              "      <td>AMT_GOODS_PRICE</td>\n",
              "      <td>0.012498</td>\n",
              "    </tr>\n",
              "    <tr>\n",
              "      <th>10</th>\n",
              "      <td>DAYS_ID_PUBLISH</td>\n",
              "      <td>0.012145</td>\n",
              "    </tr>\n",
              "  </tbody>\n",
              "</table>\n",
              "</div>\n",
              "    <div class=\"colab-df-buttons\">\n",
              "\n",
              "  <div class=\"colab-df-container\">\n",
              "    <button class=\"colab-df-convert\" onclick=\"convertToInteractive('df-e0c0df4b-66f3-4e04-8fed-d8c12d024558')\"\n",
              "            title=\"Convert this dataframe to an interactive table.\"\n",
              "            style=\"display:none;\">\n",
              "\n",
              "  <svg xmlns=\"http://www.w3.org/2000/svg\" height=\"24px\" viewBox=\"0 -960 960 960\">\n",
              "    <path d=\"M120-120v-720h720v720H120Zm60-500h600v-160H180v160Zm220 220h160v-160H400v160Zm0 220h160v-160H400v160ZM180-400h160v-160H180v160Zm440 0h160v-160H620v160ZM180-180h160v-160H180v160Zm440 0h160v-160H620v160Z\"/>\n",
              "  </svg>\n",
              "    </button>\n",
              "\n",
              "  <style>\n",
              "    .colab-df-container {\n",
              "      display:flex;\n",
              "      gap: 12px;\n",
              "    }\n",
              "\n",
              "    .colab-df-convert {\n",
              "      background-color: #E8F0FE;\n",
              "      border: none;\n",
              "      border-radius: 50%;\n",
              "      cursor: pointer;\n",
              "      display: none;\n",
              "      fill: #1967D2;\n",
              "      height: 32px;\n",
              "      padding: 0 0 0 0;\n",
              "      width: 32px;\n",
              "    }\n",
              "\n",
              "    .colab-df-convert:hover {\n",
              "      background-color: #E2EBFA;\n",
              "      box-shadow: 0px 1px 2px rgba(60, 64, 67, 0.3), 0px 1px 3px 1px rgba(60, 64, 67, 0.15);\n",
              "      fill: #174EA6;\n",
              "    }\n",
              "\n",
              "    .colab-df-buttons div {\n",
              "      margin-bottom: 4px;\n",
              "    }\n",
              "\n",
              "    [theme=dark] .colab-df-convert {\n",
              "      background-color: #3B4455;\n",
              "      fill: #D2E3FC;\n",
              "    }\n",
              "\n",
              "    [theme=dark] .colab-df-convert:hover {\n",
              "      background-color: #434B5C;\n",
              "      box-shadow: 0px 1px 3px 1px rgba(0, 0, 0, 0.15);\n",
              "      filter: drop-shadow(0px 1px 2px rgba(0, 0, 0, 0.3));\n",
              "      fill: #FFFFFF;\n",
              "    }\n",
              "  </style>\n",
              "\n",
              "    <script>\n",
              "      const buttonEl =\n",
              "        document.querySelector('#df-e0c0df4b-66f3-4e04-8fed-d8c12d024558 button.colab-df-convert');\n",
              "      buttonEl.style.display =\n",
              "        google.colab.kernel.accessAllowed ? 'block' : 'none';\n",
              "\n",
              "      async function convertToInteractive(key) {\n",
              "        const element = document.querySelector('#df-e0c0df4b-66f3-4e04-8fed-d8c12d024558');\n",
              "        const dataTable =\n",
              "          await google.colab.kernel.invokeFunction('convertToInteractive',\n",
              "                                                    [key], {});\n",
              "        if (!dataTable) return;\n",
              "\n",
              "        const docLinkHtml = 'Like what you see? Visit the ' +\n",
              "          '<a target=\"_blank\" href=https://colab.research.google.com/notebooks/data_table.ipynb>data table notebook</a>'\n",
              "          + ' to learn more about interactive tables.';\n",
              "        element.innerHTML = '';\n",
              "        dataTable['output_type'] = 'display_data';\n",
              "        await google.colab.output.renderOutput(dataTable, element);\n",
              "        const docLink = document.createElement('div');\n",
              "        docLink.innerHTML = docLinkHtml;\n",
              "        element.appendChild(docLink);\n",
              "      }\n",
              "    </script>\n",
              "  </div>\n",
              "\n",
              "\n",
              "<div id=\"df-9a020d7a-d780-4adb-95d0-f2b85f322590\">\n",
              "  <button class=\"colab-df-quickchart\" onclick=\"quickchart('df-9a020d7a-d780-4adb-95d0-f2b85f322590')\"\n",
              "            title=\"Suggest charts\"\n",
              "            style=\"display:none;\">\n",
              "\n",
              "<svg xmlns=\"http://www.w3.org/2000/svg\" height=\"24px\"viewBox=\"0 0 24 24\"\n",
              "     width=\"24px\">\n",
              "    <g>\n",
              "        <path d=\"M19 3H5c-1.1 0-2 .9-2 2v14c0 1.1.9 2 2 2h14c1.1 0 2-.9 2-2V5c0-1.1-.9-2-2-2zM9 17H7v-7h2v7zm4 0h-2V7h2v10zm4 0h-2v-4h2v4z\"/>\n",
              "    </g>\n",
              "</svg>\n",
              "  </button>\n",
              "\n",
              "<style>\n",
              "  .colab-df-quickchart {\n",
              "      --bg-color: #E8F0FE;\n",
              "      --fill-color: #1967D2;\n",
              "      --hover-bg-color: #E2EBFA;\n",
              "      --hover-fill-color: #174EA6;\n",
              "      --disabled-fill-color: #AAA;\n",
              "      --disabled-bg-color: #DDD;\n",
              "  }\n",
              "\n",
              "  [theme=dark] .colab-df-quickchart {\n",
              "      --bg-color: #3B4455;\n",
              "      --fill-color: #D2E3FC;\n",
              "      --hover-bg-color: #434B5C;\n",
              "      --hover-fill-color: #FFFFFF;\n",
              "      --disabled-bg-color: #3B4455;\n",
              "      --disabled-fill-color: #666;\n",
              "  }\n",
              "\n",
              "  .colab-df-quickchart {\n",
              "    background-color: var(--bg-color);\n",
              "    border: none;\n",
              "    border-radius: 50%;\n",
              "    cursor: pointer;\n",
              "    display: none;\n",
              "    fill: var(--fill-color);\n",
              "    height: 32px;\n",
              "    padding: 0;\n",
              "    width: 32px;\n",
              "  }\n",
              "\n",
              "  .colab-df-quickchart:hover {\n",
              "    background-color: var(--hover-bg-color);\n",
              "    box-shadow: 0 1px 2px rgba(60, 64, 67, 0.3), 0 1px 3px 1px rgba(60, 64, 67, 0.15);\n",
              "    fill: var(--button-hover-fill-color);\n",
              "  }\n",
              "\n",
              "  .colab-df-quickchart-complete:disabled,\n",
              "  .colab-df-quickchart-complete:disabled:hover {\n",
              "    background-color: var(--disabled-bg-color);\n",
              "    fill: var(--disabled-fill-color);\n",
              "    box-shadow: none;\n",
              "  }\n",
              "\n",
              "  .colab-df-spinner {\n",
              "    border: 2px solid var(--fill-color);\n",
              "    border-color: transparent;\n",
              "    border-bottom-color: var(--fill-color);\n",
              "    animation:\n",
              "      spin 1s steps(1) infinite;\n",
              "  }\n",
              "\n",
              "  @keyframes spin {\n",
              "    0% {\n",
              "      border-color: transparent;\n",
              "      border-bottom-color: var(--fill-color);\n",
              "      border-left-color: var(--fill-color);\n",
              "    }\n",
              "    20% {\n",
              "      border-color: transparent;\n",
              "      border-left-color: var(--fill-color);\n",
              "      border-top-color: var(--fill-color);\n",
              "    }\n",
              "    30% {\n",
              "      border-color: transparent;\n",
              "      border-left-color: var(--fill-color);\n",
              "      border-top-color: var(--fill-color);\n",
              "      border-right-color: var(--fill-color);\n",
              "    }\n",
              "    40% {\n",
              "      border-color: transparent;\n",
              "      border-right-color: var(--fill-color);\n",
              "      border-top-color: var(--fill-color);\n",
              "    }\n",
              "    60% {\n",
              "      border-color: transparent;\n",
              "      border-right-color: var(--fill-color);\n",
              "    }\n",
              "    80% {\n",
              "      border-color: transparent;\n",
              "      border-right-color: var(--fill-color);\n",
              "      border-bottom-color: var(--fill-color);\n",
              "    }\n",
              "    90% {\n",
              "      border-color: transparent;\n",
              "      border-bottom-color: var(--fill-color);\n",
              "    }\n",
              "  }\n",
              "</style>\n",
              "\n",
              "  <script>\n",
              "    async function quickchart(key) {\n",
              "      const quickchartButtonEl =\n",
              "        document.querySelector('#' + key + ' button');\n",
              "      quickchartButtonEl.disabled = true;  // To prevent multiple clicks.\n",
              "      quickchartButtonEl.classList.add('colab-df-spinner');\n",
              "      try {\n",
              "        const charts = await google.colab.kernel.invokeFunction(\n",
              "            'suggestCharts', [key], {});\n",
              "      } catch (error) {\n",
              "        console.error('Error during call to suggestCharts:', error);\n",
              "      }\n",
              "      quickchartButtonEl.classList.remove('colab-df-spinner');\n",
              "      quickchartButtonEl.classList.add('colab-df-quickchart-complete');\n",
              "    }\n",
              "    (() => {\n",
              "      let quickchartButtonEl =\n",
              "        document.querySelector('#df-9a020d7a-d780-4adb-95d0-f2b85f322590 button');\n",
              "      quickchartButtonEl.style.display =\n",
              "        google.colab.kernel.accessAllowed ? 'block' : 'none';\n",
              "    })();\n",
              "  </script>\n",
              "</div>\n",
              "    </div>\n",
              "  </div>\n"
            ]
          },
          "metadata": {},
          "execution_count": 20
        }
      ]
    },
    {
      "cell_type": "code",
      "source": [
        "fig = px.bar(feature_importances[:50], x='feature', y='importance', title='50 Most Important Features')\n",
        "fig.update_layout(\n",
        "    autosize=False,\n",
        "    width=1100,     # Width of the figure in pixels\n",
        "    height=700,     # Height of the figure in pixels\n",
        "    yaxis=dict(\n",
        "        tickmode='auto',\n",
        "        nticks=20   # Number of ticks on y-axis, for more precision\n",
        "    )\n",
        ")\n",
        "fig.show()"
      ],
      "metadata": {
        "colab": {
          "base_uri": "https://localhost:8080/",
          "height": 717
        },
        "id": "-EO-TdzGFD8P",
        "outputId": "586352c4-c695-41c0-e730-dba8d963046f"
      },
      "execution_count": null,
      "outputs": [
        {
          "output_type": "display_data",
          "data": {
            "text/html": [
              "<html>\n",
              "<head><meta charset=\"utf-8\" /></head>\n",
              "<body>\n",
              "    <div>            <script src=\"https://cdnjs.cloudflare.com/ajax/libs/mathjax/2.7.5/MathJax.js?config=TeX-AMS-MML_SVG\"></script><script type=\"text/javascript\">if (window.MathJax && window.MathJax.Hub && window.MathJax.Hub.Config) {window.MathJax.Hub.Config({SVG: {font: \"STIX-Web\"}});}</script>                <script type=\"text/javascript\">window.PlotlyConfig = {MathJaxConfig: 'local'};</script>\n",
              "        <script charset=\"utf-8\" src=\"https://cdn.plot.ly/plotly-2.24.1.min.js\"></script>                <div id=\"052c9d1c-9177-43ca-ac4a-dff1460d301f\" class=\"plotly-graph-div\" style=\"height:700px; width:1100px;\"></div>            <script type=\"text/javascript\">                                    window.PLOTLYENV=window.PLOTLYENV || {};                                    if (document.getElementById(\"052c9d1c-9177-43ca-ac4a-dff1460d301f\")) {                    Plotly.newPlot(                        \"052c9d1c-9177-43ca-ac4a-dff1460d301f\",                        [{\"alignmentgroup\":\"True\",\"hovertemplate\":\"feature=%{x}\\u003cbr\\u003eimportance=%{y}\\u003cextra\\u003e\\u003c\\u002fextra\\u003e\",\"legendgroup\":\"\",\"marker\":{\"color\":\"#636efa\",\"pattern\":{\"shape\":\"\"}},\"name\":\"\",\"offsetgroup\":\"\",\"orientation\":\"v\",\"showlegend\":false,\"textposition\":\"auto\",\"x\":[\"EXT_SOURCE_2\",\"EXT_SOURCE_3\",\"EXT_SOURCE_1\",\"DAYS_CREDIT_mean\",\"DAYS_BIRTH\",\"DAYS_CREDIT_UPDATE_mean\",\"DAYS_CREDIT_ENDDATE_mean\",\"AMT_PAYMENT_mean\",\"NAME_CONTRACT_STATUS_mode\",\"NAME_EDUCATION_TYPE\",\"NUM_INSTALMENT_NUMBER_std\",\"DAYS_EMPLOYED\",\"DAYS_DECISION_mean\",\"AMT_GOODS_PRICE\",\"DAYS_ID_PUBLISH\",\"DAYS_LAST_PHONE_CHANGE\",\"CNT_INSTALMENT_FUTURE_mean\",\"DAYS_FIRST_DRAWING_mean\",\"DAYS_INSTALMENT_mean\",\"AMT_CREDIT_SUM_DEBT_mean\",\"AMT_INSTALMENT_mean\",\"CODE_GENDER\",\"AMT_CREDIT_MAX_OVERDUE_mean\",\"DAYS_ENDDATE_FACT_mean\",\"DAYS_ENTRY_PAYMENT_mean\",\"AMT_CREDIT\",\"DAYS_LAST_DUE_1ST_VERSION_mean\",\"AMT_CREDIT_SUM_OVERDUE_mean\",\"AMT_CREDIT_SUM_mean\",\"CNT_PAYMENT_mean\",\"HOUR_APPR_PROCESS_START_mean\",\"AMT_ANNUITY\",\"DAYS_REGISTRATION\",\"DAYS_LAST_DUE_mean\",\"NUM_INSTALMENT_NUMBER_mean\",\"CNT_INSTALMENT_mean\",\"AMT_CREDIT_mean\",\"CNT_INSTALMENT_FUTURE_std\",\"AMT_ANNUITY_mean\",\"CNT_INSTALMENT_std\",\"ORGANIZATION_TYPE\",\"AMT_GOODS_PRICE_mean\",\"AMT_DOWN_PAYMENT_mean\",\"DAYS_TERMINATION_mean\",\"AMT_APPLICATION_mean\",\"NAME_INCOME_TYPE\",\"DAYS_FIRST_DUE_mean\",\"CREDIT_ACTIVE_mode\",\"DAYS_ENTRY_PAYMENT_std\",\"SELLERPLACE_AREA_mean\"],\"xaxis\":\"x\",\"y\":[0.13582874918742294,0.1220817407201607,0.04021780424345334,0.023999030207614118,0.02215432394418617,0.020171805459995307,0.01637451348467713,0.015854206072353758,0.015700759217086708,0.014433449605444086,0.014327102675565851,0.014197557208456562,0.013766484606240904,0.012497896630108848,0.012144841930212464,0.010978892982035731,0.010922576634848143,0.01075564357999448,0.010290829422963658,0.00970638976305443,0.009651452409214237,0.009542114255647232,0.009234573722054367,0.00900429344875451,0.008878153250423616,0.008793344075589845,0.008676415570973038,0.008531566442828013,0.008281711653979616,0.008192182563651711,0.008018261894706908,0.008011128426316324,0.007982323750108732,0.007717386578208935,0.007671861997752784,0.0075535589087470136,0.007504672114149922,0.00739055400739309,0.007268730922764738,0.00714940296529195,0.007116947591291135,0.006837581849109976,0.006682215611731513,0.006569894962435177,0.006452982659762487,0.006239352739749621,0.0062089487965707344,0.006151858187611093,0.006149790843963626,0.006102584317850759],\"yaxis\":\"y\",\"type\":\"bar\"}],                        {\"template\":{\"data\":{\"histogram2dcontour\":[{\"type\":\"histogram2dcontour\",\"colorbar\":{\"outlinewidth\":0,\"ticks\":\"\"},\"colorscale\":[[0.0,\"#0d0887\"],[0.1111111111111111,\"#46039f\"],[0.2222222222222222,\"#7201a8\"],[0.3333333333333333,\"#9c179e\"],[0.4444444444444444,\"#bd3786\"],[0.5555555555555556,\"#d8576b\"],[0.6666666666666666,\"#ed7953\"],[0.7777777777777778,\"#fb9f3a\"],[0.8888888888888888,\"#fdca26\"],[1.0,\"#f0f921\"]]}],\"choropleth\":[{\"type\":\"choropleth\",\"colorbar\":{\"outlinewidth\":0,\"ticks\":\"\"}}],\"histogram2d\":[{\"type\":\"histogram2d\",\"colorbar\":{\"outlinewidth\":0,\"ticks\":\"\"},\"colorscale\":[[0.0,\"#0d0887\"],[0.1111111111111111,\"#46039f\"],[0.2222222222222222,\"#7201a8\"],[0.3333333333333333,\"#9c179e\"],[0.4444444444444444,\"#bd3786\"],[0.5555555555555556,\"#d8576b\"],[0.6666666666666666,\"#ed7953\"],[0.7777777777777778,\"#fb9f3a\"],[0.8888888888888888,\"#fdca26\"],[1.0,\"#f0f921\"]]}],\"heatmap\":[{\"type\":\"heatmap\",\"colorbar\":{\"outlinewidth\":0,\"ticks\":\"\"},\"colorscale\":[[0.0,\"#0d0887\"],[0.1111111111111111,\"#46039f\"],[0.2222222222222222,\"#7201a8\"],[0.3333333333333333,\"#9c179e\"],[0.4444444444444444,\"#bd3786\"],[0.5555555555555556,\"#d8576b\"],[0.6666666666666666,\"#ed7953\"],[0.7777777777777778,\"#fb9f3a\"],[0.8888888888888888,\"#fdca26\"],[1.0,\"#f0f921\"]]}],\"heatmapgl\":[{\"type\":\"heatmapgl\",\"colorbar\":{\"outlinewidth\":0,\"ticks\":\"\"},\"colorscale\":[[0.0,\"#0d0887\"],[0.1111111111111111,\"#46039f\"],[0.2222222222222222,\"#7201a8\"],[0.3333333333333333,\"#9c179e\"],[0.4444444444444444,\"#bd3786\"],[0.5555555555555556,\"#d8576b\"],[0.6666666666666666,\"#ed7953\"],[0.7777777777777778,\"#fb9f3a\"],[0.8888888888888888,\"#fdca26\"],[1.0,\"#f0f921\"]]}],\"contourcarpet\":[{\"type\":\"contourcarpet\",\"colorbar\":{\"outlinewidth\":0,\"ticks\":\"\"}}],\"contour\":[{\"type\":\"contour\",\"colorbar\":{\"outlinewidth\":0,\"ticks\":\"\"},\"colorscale\":[[0.0,\"#0d0887\"],[0.1111111111111111,\"#46039f\"],[0.2222222222222222,\"#7201a8\"],[0.3333333333333333,\"#9c179e\"],[0.4444444444444444,\"#bd3786\"],[0.5555555555555556,\"#d8576b\"],[0.6666666666666666,\"#ed7953\"],[0.7777777777777778,\"#fb9f3a\"],[0.8888888888888888,\"#fdca26\"],[1.0,\"#f0f921\"]]}],\"surface\":[{\"type\":\"surface\",\"colorbar\":{\"outlinewidth\":0,\"ticks\":\"\"},\"colorscale\":[[0.0,\"#0d0887\"],[0.1111111111111111,\"#46039f\"],[0.2222222222222222,\"#7201a8\"],[0.3333333333333333,\"#9c179e\"],[0.4444444444444444,\"#bd3786\"],[0.5555555555555556,\"#d8576b\"],[0.6666666666666666,\"#ed7953\"],[0.7777777777777778,\"#fb9f3a\"],[0.8888888888888888,\"#fdca26\"],[1.0,\"#f0f921\"]]}],\"mesh3d\":[{\"type\":\"mesh3d\",\"colorbar\":{\"outlinewidth\":0,\"ticks\":\"\"}}],\"scatter\":[{\"fillpattern\":{\"fillmode\":\"overlay\",\"size\":10,\"solidity\":0.2},\"type\":\"scatter\"}],\"parcoords\":[{\"type\":\"parcoords\",\"line\":{\"colorbar\":{\"outlinewidth\":0,\"ticks\":\"\"}}}],\"scatterpolargl\":[{\"type\":\"scatterpolargl\",\"marker\":{\"colorbar\":{\"outlinewidth\":0,\"ticks\":\"\"}}}],\"bar\":[{\"error_x\":{\"color\":\"#2a3f5f\"},\"error_y\":{\"color\":\"#2a3f5f\"},\"marker\":{\"line\":{\"color\":\"#E5ECF6\",\"width\":0.5},\"pattern\":{\"fillmode\":\"overlay\",\"size\":10,\"solidity\":0.2}},\"type\":\"bar\"}],\"scattergeo\":[{\"type\":\"scattergeo\",\"marker\":{\"colorbar\":{\"outlinewidth\":0,\"ticks\":\"\"}}}],\"scatterpolar\":[{\"type\":\"scatterpolar\",\"marker\":{\"colorbar\":{\"outlinewidth\":0,\"ticks\":\"\"}}}],\"histogram\":[{\"marker\":{\"pattern\":{\"fillmode\":\"overlay\",\"size\":10,\"solidity\":0.2}},\"type\":\"histogram\"}],\"scattergl\":[{\"type\":\"scattergl\",\"marker\":{\"colorbar\":{\"outlinewidth\":0,\"ticks\":\"\"}}}],\"scatter3d\":[{\"type\":\"scatter3d\",\"line\":{\"colorbar\":{\"outlinewidth\":0,\"ticks\":\"\"}},\"marker\":{\"colorbar\":{\"outlinewidth\":0,\"ticks\":\"\"}}}],\"scattermapbox\":[{\"type\":\"scattermapbox\",\"marker\":{\"colorbar\":{\"outlinewidth\":0,\"ticks\":\"\"}}}],\"scatterternary\":[{\"type\":\"scatterternary\",\"marker\":{\"colorbar\":{\"outlinewidth\":0,\"ticks\":\"\"}}}],\"scattercarpet\":[{\"type\":\"scattercarpet\",\"marker\":{\"colorbar\":{\"outlinewidth\":0,\"ticks\":\"\"}}}],\"carpet\":[{\"aaxis\":{\"endlinecolor\":\"#2a3f5f\",\"gridcolor\":\"white\",\"linecolor\":\"white\",\"minorgridcolor\":\"white\",\"startlinecolor\":\"#2a3f5f\"},\"baxis\":{\"endlinecolor\":\"#2a3f5f\",\"gridcolor\":\"white\",\"linecolor\":\"white\",\"minorgridcolor\":\"white\",\"startlinecolor\":\"#2a3f5f\"},\"type\":\"carpet\"}],\"table\":[{\"cells\":{\"fill\":{\"color\":\"#EBF0F8\"},\"line\":{\"color\":\"white\"}},\"header\":{\"fill\":{\"color\":\"#C8D4E3\"},\"line\":{\"color\":\"white\"}},\"type\":\"table\"}],\"barpolar\":[{\"marker\":{\"line\":{\"color\":\"#E5ECF6\",\"width\":0.5},\"pattern\":{\"fillmode\":\"overlay\",\"size\":10,\"solidity\":0.2}},\"type\":\"barpolar\"}],\"pie\":[{\"automargin\":true,\"type\":\"pie\"}]},\"layout\":{\"autotypenumbers\":\"strict\",\"colorway\":[\"#636efa\",\"#EF553B\",\"#00cc96\",\"#ab63fa\",\"#FFA15A\",\"#19d3f3\",\"#FF6692\",\"#B6E880\",\"#FF97FF\",\"#FECB52\"],\"font\":{\"color\":\"#2a3f5f\"},\"hovermode\":\"closest\",\"hoverlabel\":{\"align\":\"left\"},\"paper_bgcolor\":\"white\",\"plot_bgcolor\":\"#E5ECF6\",\"polar\":{\"bgcolor\":\"#E5ECF6\",\"angularaxis\":{\"gridcolor\":\"white\",\"linecolor\":\"white\",\"ticks\":\"\"},\"radialaxis\":{\"gridcolor\":\"white\",\"linecolor\":\"white\",\"ticks\":\"\"}},\"ternary\":{\"bgcolor\":\"#E5ECF6\",\"aaxis\":{\"gridcolor\":\"white\",\"linecolor\":\"white\",\"ticks\":\"\"},\"baxis\":{\"gridcolor\":\"white\",\"linecolor\":\"white\",\"ticks\":\"\"},\"caxis\":{\"gridcolor\":\"white\",\"linecolor\":\"white\",\"ticks\":\"\"}},\"coloraxis\":{\"colorbar\":{\"outlinewidth\":0,\"ticks\":\"\"}},\"colorscale\":{\"sequential\":[[0.0,\"#0d0887\"],[0.1111111111111111,\"#46039f\"],[0.2222222222222222,\"#7201a8\"],[0.3333333333333333,\"#9c179e\"],[0.4444444444444444,\"#bd3786\"],[0.5555555555555556,\"#d8576b\"],[0.6666666666666666,\"#ed7953\"],[0.7777777777777778,\"#fb9f3a\"],[0.8888888888888888,\"#fdca26\"],[1.0,\"#f0f921\"]],\"sequentialminus\":[[0.0,\"#0d0887\"],[0.1111111111111111,\"#46039f\"],[0.2222222222222222,\"#7201a8\"],[0.3333333333333333,\"#9c179e\"],[0.4444444444444444,\"#bd3786\"],[0.5555555555555556,\"#d8576b\"],[0.6666666666666666,\"#ed7953\"],[0.7777777777777778,\"#fb9f3a\"],[0.8888888888888888,\"#fdca26\"],[1.0,\"#f0f921\"]],\"diverging\":[[0,\"#8e0152\"],[0.1,\"#c51b7d\"],[0.2,\"#de77ae\"],[0.3,\"#f1b6da\"],[0.4,\"#fde0ef\"],[0.5,\"#f7f7f7\"],[0.6,\"#e6f5d0\"],[0.7,\"#b8e186\"],[0.8,\"#7fbc41\"],[0.9,\"#4d9221\"],[1,\"#276419\"]]},\"xaxis\":{\"gridcolor\":\"white\",\"linecolor\":\"white\",\"ticks\":\"\",\"title\":{\"standoff\":15},\"zerolinecolor\":\"white\",\"automargin\":true,\"zerolinewidth\":2},\"yaxis\":{\"gridcolor\":\"white\",\"linecolor\":\"white\",\"ticks\":\"\",\"title\":{\"standoff\":15},\"zerolinecolor\":\"white\",\"automargin\":true,\"zerolinewidth\":2},\"scene\":{\"xaxis\":{\"backgroundcolor\":\"#E5ECF6\",\"gridcolor\":\"white\",\"linecolor\":\"white\",\"showbackground\":true,\"ticks\":\"\",\"zerolinecolor\":\"white\",\"gridwidth\":2},\"yaxis\":{\"backgroundcolor\":\"#E5ECF6\",\"gridcolor\":\"white\",\"linecolor\":\"white\",\"showbackground\":true,\"ticks\":\"\",\"zerolinecolor\":\"white\",\"gridwidth\":2},\"zaxis\":{\"backgroundcolor\":\"#E5ECF6\",\"gridcolor\":\"white\",\"linecolor\":\"white\",\"showbackground\":true,\"ticks\":\"\",\"zerolinecolor\":\"white\",\"gridwidth\":2}},\"shapedefaults\":{\"line\":{\"color\":\"#2a3f5f\"}},\"annotationdefaults\":{\"arrowcolor\":\"#2a3f5f\",\"arrowhead\":0,\"arrowwidth\":1},\"geo\":{\"bgcolor\":\"white\",\"landcolor\":\"#E5ECF6\",\"subunitcolor\":\"white\",\"showland\":true,\"showlakes\":true,\"lakecolor\":\"white\"},\"title\":{\"x\":0.05},\"mapbox\":{\"style\":\"light\"}}},\"xaxis\":{\"anchor\":\"y\",\"domain\":[0.0,1.0],\"title\":{\"text\":\"feature\"}},\"yaxis\":{\"anchor\":\"x\",\"domain\":[0.0,1.0],\"title\":{\"text\":\"importance\"},\"tickmode\":\"auto\",\"nticks\":20},\"legend\":{\"tracegroupgap\":0},\"title\":{\"text\":\"50 Most Important Features\"},\"barmode\":\"relative\",\"autosize\":false,\"width\":1100,\"height\":700},                        {\"responsive\": true}                    ).then(function(){\n",
              "                            \n",
              "var gd = document.getElementById('052c9d1c-9177-43ca-ac4a-dff1460d301f');\n",
              "var x = new MutationObserver(function (mutations, observer) {{\n",
              "        var display = window.getComputedStyle(gd).display;\n",
              "        if (!display || display === 'none') {{\n",
              "            console.log([gd, 'removed!']);\n",
              "            Plotly.purge(gd);\n",
              "            observer.disconnect();\n",
              "        }}\n",
              "}});\n",
              "\n",
              "// Listen for the removal of the full notebook cells\n",
              "var notebookContainer = gd.closest('#notebook-container');\n",
              "if (notebookContainer) {{\n",
              "    x.observe(notebookContainer, {childList: true});\n",
              "}}\n",
              "\n",
              "// Listen for the clearing of the current output cell\n",
              "var outputEl = gd.closest('.output');\n",
              "if (outputEl) {{\n",
              "    x.observe(outputEl, {childList: true});\n",
              "}}\n",
              "\n",
              "                        })                };                            </script>        </div>\n",
              "</body>\n",
              "</html>"
            ]
          },
          "metadata": {}
        }
      ]
    },
    {
      "cell_type": "markdown",
      "source": [
        "## Hand-crafted features"
      ],
      "metadata": {
        "id": "95JMEWL_ICJE"
      }
    },
    {
      "cell_type": "code",
      "source": [
        "# Adding a small constant to avoid division by zero\n",
        "epsilon = 1e-6\n",
        "\n",
        "train_df[\"EXT_SOUCE_AVG\"] = (train_df[\"EXT_SOURCE_1\"] + train_df[\"EXT_SOURCE_2\"] + train_df[\"EXT_SOURCE_3\"]) / 3\n",
        "train_df[\"LABOR_PERIOD_RATE\"] = train_df[\"DAYS_EMPLOYED\"] / (train_df[\"DAYS_BIRTH\"] + epsilon)\n",
        "train_df[\"CURR_VS_PREV_GOODS_PRICE\"] = train_df[\"AMT_GOODS_PRICE\"] / (train_df[\"AMT_GOODS_PRICE_mean\"] + epsilon)\n",
        "train_df[\"CURR_VS_PREV_ANNUITY\"] = train_df[\"AMT_ANNUITY\"] / (train_df[\"AMT_ANNUITY_mean\"] + epsilon)\n",
        "train_df[\"CONSUMPTION_RATE\"] = train_df[\"AMT_GOODS_PRICE\"] / (train_df[\"AMT_INCOME_TOTAL\"] + epsilon)\n",
        "train_df[\"CURR_REGISTRATION_PERIOD\"] = train_df[\"DAYS_REGISTRATION\"] / (train_df[\"DAYS_BIRTH\"] + epsilon)\n",
        "train_df[\"CREDIT_LOAD\"] = train_df[\"AMT_CREDIT\"] / (train_df[\"AMT_INCOME_TOTAL\"] + epsilon)\n",
        "train_df[\"CREDIT_LOAD_MEAN\"] = train_df[\"AMT_CREDIT_mean\"] / (train_df[\"AMT_INCOME_TOTAL\"] + epsilon)\n",
        "train_df[\"DECISION_ACTION_TIME\"] = (- train_df[\"DAYS_DECISION_mean\"]) - (- train_df[\"DAYS_ENTRY_PAYMENT_mean\"])\n",
        "train_df[\"PAYMENT_ANNUITY_RATIO\"] = train_df[\"AMT_PAYMENT_mean\"] / (train_df[\"AMT_ANNUITY_mean\"] + epsilon)\n",
        "\n",
        "# Applying the same changes to test_df\n",
        "test_df[\"EXT_SOUCE_AVG\"] = (test_df[\"EXT_SOURCE_1\"] + test_df[\"EXT_SOURCE_2\"] + test_df[\"EXT_SOURCE_3\"]) / 3\n",
        "test_df[\"LABOR_PERIOD_RATE\"] = test_df[\"DAYS_EMPLOYED\"] / (test_df[\"DAYS_BIRTH\"] + epsilon)\n",
        "test_df[\"CURR_VS_PREV_GOODS_PRICE\"] = test_df[\"AMT_GOODS_PRICE\"] / (test_df[\"AMT_GOODS_PRICE_mean\"] + epsilon)\n",
        "test_df[\"CURR_VS_PREV_ANNUITY\"] = test_df[\"AMT_ANNUITY\"] / (test_df[\"AMT_ANNUITY_mean\"] + epsilon)\n",
        "test_df[\"CONSUMPTION_RATE\"] = test_df[\"AMT_GOODS_PRICE\"] / (test_df[\"AMT_INCOME_TOTAL\"] + epsilon)\n",
        "test_df[\"CURR_REGISTRATION_PERIOD\"] = test_df[\"DAYS_REGISTRATION\"] / (test_df[\"DAYS_BIRTH\"] + epsilon)\n",
        "test_df[\"CREDIT_LOAD\"] = test_df[\"AMT_CREDIT\"] / (test_df[\"AMT_INCOME_TOTAL\"] + epsilon)\n",
        "test_df[\"CREDIT_LOAD_MEAN\"] = test_df[\"AMT_CREDIT_mean\"] / (test_df[\"AMT_INCOME_TOTAL\"] + epsilon)\n",
        "test_df[\"DECISION_ACTION_TIME\"] = (- test_df[\"DAYS_DECISION_mean\"]) - (- test_df[\"DAYS_ENTRY_PAYMENT_mean\"])\n",
        "test_df[\"PAYMENT_ANNUITY_RATIO\"] = test_df[\"AMT_PAYMENT_mean\"] / (test_df[\"AMT_ANNUITY_mean\"] + epsilon)\n"
      ],
      "metadata": {
        "id": "w6yhF_0TFtbE"
      },
      "execution_count": null,
      "outputs": []
    },
    {
      "cell_type": "markdown",
      "source": [
        "Add some comments about why I chose such combinations..."
      ],
      "metadata": {
        "id": "9QEXG-KVOmr-"
      }
    },
    {
      "cell_type": "markdown",
      "source": [
        "## Choice of models\n",
        "\n",
        "Overall, our training data has 177 features which tells us that we deal with\n",
        "a high dimensional data. For this problem, **tree-based ensembles** would be a nice choise because of predictive power and efficiencty and computation. Another advantage of such models is ability to interpret results and analyze feature importance.\n",
        "\n",
        "Models to consider:\n",
        "  - RandomForest\n",
        "  - Catboost\n",
        "  - Xgboost\n",
        "  - LightGBM\n",
        "  "
      ],
      "metadata": {
        "id": "-97UUOU2O4Oy"
      }
    },
    {
      "cell_type": "markdown",
      "source": [
        "## Optuna framework for Hyperparameters tuning\n",
        "\n",
        "Optuna is an open-source hyperparameter optimization framework designed for machine learning. It provides an efficient way to search for the best set of parameters for a given model to improve its performance. Optuna uses *Bayesian Optimization* under the hood. Bayesian optimization in Optuna is a sophisticated approach to hyperparameter tuning, using probabilistic models to guide the search for the best hyperparameters. It's particularly effective for optimizing complex functions where evaluations (like training and validating a machine learning model) are expensive in terms of time and computational resources. We need to define an objective function that we want to optimize. In our case, we are interested in maximizing **AUC** on cross-validation."
      ],
      "metadata": {
        "id": "G8R8qJpWYDqU"
      }
    },
    {
      "cell_type": "markdown",
      "source": [
        "## Tunning for RandomForest"
      ],
      "metadata": {
        "id": "JVaQssyWZ6BJ"
      }
    },
    {
      "cell_type": "code",
      "source": [
        "\n",
        "def rf_objective(trial):\n",
        "    # Define the hyperparameter grid\n",
        "    n_estimators = trial.suggest_int(\"n_estimators\", 100, 1000)\n",
        "    max_depth = trial.suggest_int(\"max_depth\", 2, 32, log=True)\n",
        "    min_samples_split = trial.suggest_int(\"min_samples_split\", 2, 14)\n",
        "    min_samples_leaf = trial.suggest_int(\"min_samples_leaf\", 1, 14)\n",
        "\n",
        "    clf = RandomForestClassifier(\n",
        "        n_estimators=n_estimators,\n",
        "        max_depth=max_depth,\n",
        "        min_samples_split=min_samples_split,\n",
        "        min_samples_leaf=min_samples_leaf,\n",
        "        random_state=42\n",
        "    )\n",
        "\n",
        "    scores = cross_val_score(clf, X_train, y_train, cv=3, scoring='roc_auc')\n",
        "    return np.mean(scores)\n",
        "\n",
        "rf_study = optuna.create_study(direction=\"maximize\")\n",
        "rf_study.optimize(rf_objective, n_trials=5, timeout= 2400)\n",
        "\n",
        "\n",
        "rf_trial = rf_study.best_trial\n",
        "print(f'Best trial: {rf_trial.params}')\n",
        "\n",
        "##Saving study\n",
        "rf_study_df = rf_study.trials_dataframe()\n",
        "rf_study_df.to_csv(\"drive/MyDrive/msds_homecredit/rf_study.csv\", index=False)"
      ],
      "metadata": {
        "id": "jpXvjF3QJVai",
        "colab": {
          "base_uri": "https://localhost:8080/"
        },
        "outputId": "7a7a307a-4d50-41ca-9417-49e8ee3415fd"
      },
      "execution_count": null,
      "outputs": [
        {
          "output_type": "stream",
          "name": "stderr",
          "text": [
            "[I 2024-01-13 07:00:15,035] A new study created in memory with name: no-name-1e51066b-19c6-48b0-833c-639f9a13f4e4\n",
            "A new study created in memory with name: no-name-1e51066b-19c6-48b0-833c-639f9a13f4e4\n",
            "A new study created in memory with name: no-name-1e51066b-19c6-48b0-833c-639f9a13f4e4\n",
            "[I 2024-01-13 07:32:12,671] Trial 0 finished with value: 0.7249206881502835 and parameters: {'n_estimators': 472, 'max_depth': 17, 'min_samples_split': 7, 'min_samples_leaf': 2}. Best is trial 0 with value: 0.7249206881502835.\n",
            "Trial 0 finished with value: 0.7249206881502835 and parameters: {'n_estimators': 472, 'max_depth': 17, 'min_samples_split': 7, 'min_samples_leaf': 2}. Best is trial 0 with value: 0.7249206881502835.\n",
            "Trial 0 finished with value: 0.7249206881502835 and parameters: {'n_estimators': 472, 'max_depth': 17, 'min_samples_split': 7, 'min_samples_leaf': 2}. Best is trial 0 with value: 0.7249206881502835.\n",
            "[I 2024-01-13 07:48:11,760] Trial 1 finished with value: 0.730204166165661 and parameters: {'n_estimators': 631, 'max_depth': 6, 'min_samples_split': 6, 'min_samples_leaf': 10}. Best is trial 1 with value: 0.730204166165661.\n",
            "Trial 1 finished with value: 0.730204166165661 and parameters: {'n_estimators': 631, 'max_depth': 6, 'min_samples_split': 6, 'min_samples_leaf': 10}. Best is trial 1 with value: 0.730204166165661.\n",
            "Trial 1 finished with value: 0.730204166165661 and parameters: {'n_estimators': 631, 'max_depth': 6, 'min_samples_split': 6, 'min_samples_leaf': 10}. Best is trial 1 with value: 0.730204166165661.\n"
          ]
        },
        {
          "output_type": "stream",
          "name": "stdout",
          "text": [
            "Best trial: {'n_estimators': 631, 'max_depth': 6, 'min_samples_split': 6, 'min_samples_leaf': 10}\n"
          ]
        }
      ]
    },
    {
      "cell_type": "code",
      "source": [
        "rf_best_params = {'n_estimators': 568,\n",
        "                  'max_depth': 14,\n",
        "                  'min_samples_split': 7,\n",
        "                  'min_samples_leaf': 10}\n",
        "\n"
      ],
      "metadata": {
        "id": "06JJXp3PbD2O"
      },
      "execution_count": null,
      "outputs": []
    },
    {
      "cell_type": "code",
      "source": [
        "optuna.visualization.plot_optimization_history(rf_study, target_name=\"AUC\")\n",
        "\n"
      ],
      "metadata": {
        "colab": {
          "base_uri": "https://localhost:8080/",
          "height": 542
        },
        "id": "S6EvdagWaqyw",
        "outputId": "747b2c49-dd63-43e0-9420-676a64a7cdca"
      },
      "execution_count": null,
      "outputs": [
        {
          "output_type": "display_data",
          "data": {
            "text/html": [
              "<html>\n",
              "<head><meta charset=\"utf-8\" /></head>\n",
              "<body>\n",
              "    <div>            <script src=\"https://cdnjs.cloudflare.com/ajax/libs/mathjax/2.7.5/MathJax.js?config=TeX-AMS-MML_SVG\"></script><script type=\"text/javascript\">if (window.MathJax && window.MathJax.Hub && window.MathJax.Hub.Config) {window.MathJax.Hub.Config({SVG: {font: \"STIX-Web\"}});}</script>                <script type=\"text/javascript\">window.PlotlyConfig = {MathJaxConfig: 'local'};</script>\n",
              "        <script charset=\"utf-8\" src=\"https://cdn.plot.ly/plotly-2.24.1.min.js\"></script>                <div id=\"156d4565-2a21-4184-ae05-0425a8eb9d29\" class=\"plotly-graph-div\" style=\"height:525px; width:100%;\"></div>            <script type=\"text/javascript\">                                    window.PLOTLYENV=window.PLOTLYENV || {};                                    if (document.getElementById(\"156d4565-2a21-4184-ae05-0425a8eb9d29\")) {                    Plotly.newPlot(                        \"156d4565-2a21-4184-ae05-0425a8eb9d29\",                        [{\"mode\":\"markers\",\"name\":\"AUC\",\"x\":[0,1],\"y\":[0.7249206881502835,0.730204166165661],\"type\":\"scatter\"},{\"mode\":\"lines\",\"name\":\"Best Value\",\"x\":[0,1],\"y\":[0.7249206881502835,0.730204166165661],\"type\":\"scatter\"},{\"marker\":{\"color\":\"#cccccc\"},\"mode\":\"markers\",\"name\":\"Infeasible Trial\",\"showlegend\":false,\"x\":[],\"y\":[],\"type\":\"scatter\"}],                        {\"title\":{\"text\":\"Optimization History Plot\"},\"xaxis\":{\"title\":{\"text\":\"Trial\"}},\"yaxis\":{\"title\":{\"text\":\"AUC\"}},\"template\":{\"data\":{\"histogram2dcontour\":[{\"type\":\"histogram2dcontour\",\"colorbar\":{\"outlinewidth\":0,\"ticks\":\"\"},\"colorscale\":[[0.0,\"#0d0887\"],[0.1111111111111111,\"#46039f\"],[0.2222222222222222,\"#7201a8\"],[0.3333333333333333,\"#9c179e\"],[0.4444444444444444,\"#bd3786\"],[0.5555555555555556,\"#d8576b\"],[0.6666666666666666,\"#ed7953\"],[0.7777777777777778,\"#fb9f3a\"],[0.8888888888888888,\"#fdca26\"],[1.0,\"#f0f921\"]]}],\"choropleth\":[{\"type\":\"choropleth\",\"colorbar\":{\"outlinewidth\":0,\"ticks\":\"\"}}],\"histogram2d\":[{\"type\":\"histogram2d\",\"colorbar\":{\"outlinewidth\":0,\"ticks\":\"\"},\"colorscale\":[[0.0,\"#0d0887\"],[0.1111111111111111,\"#46039f\"],[0.2222222222222222,\"#7201a8\"],[0.3333333333333333,\"#9c179e\"],[0.4444444444444444,\"#bd3786\"],[0.5555555555555556,\"#d8576b\"],[0.6666666666666666,\"#ed7953\"],[0.7777777777777778,\"#fb9f3a\"],[0.8888888888888888,\"#fdca26\"],[1.0,\"#f0f921\"]]}],\"heatmap\":[{\"type\":\"heatmap\",\"colorbar\":{\"outlinewidth\":0,\"ticks\":\"\"},\"colorscale\":[[0.0,\"#0d0887\"],[0.1111111111111111,\"#46039f\"],[0.2222222222222222,\"#7201a8\"],[0.3333333333333333,\"#9c179e\"],[0.4444444444444444,\"#bd3786\"],[0.5555555555555556,\"#d8576b\"],[0.6666666666666666,\"#ed7953\"],[0.7777777777777778,\"#fb9f3a\"],[0.8888888888888888,\"#fdca26\"],[1.0,\"#f0f921\"]]}],\"heatmapgl\":[{\"type\":\"heatmapgl\",\"colorbar\":{\"outlinewidth\":0,\"ticks\":\"\"},\"colorscale\":[[0.0,\"#0d0887\"],[0.1111111111111111,\"#46039f\"],[0.2222222222222222,\"#7201a8\"],[0.3333333333333333,\"#9c179e\"],[0.4444444444444444,\"#bd3786\"],[0.5555555555555556,\"#d8576b\"],[0.6666666666666666,\"#ed7953\"],[0.7777777777777778,\"#fb9f3a\"],[0.8888888888888888,\"#fdca26\"],[1.0,\"#f0f921\"]]}],\"contourcarpet\":[{\"type\":\"contourcarpet\",\"colorbar\":{\"outlinewidth\":0,\"ticks\":\"\"}}],\"contour\":[{\"type\":\"contour\",\"colorbar\":{\"outlinewidth\":0,\"ticks\":\"\"},\"colorscale\":[[0.0,\"#0d0887\"],[0.1111111111111111,\"#46039f\"],[0.2222222222222222,\"#7201a8\"],[0.3333333333333333,\"#9c179e\"],[0.4444444444444444,\"#bd3786\"],[0.5555555555555556,\"#d8576b\"],[0.6666666666666666,\"#ed7953\"],[0.7777777777777778,\"#fb9f3a\"],[0.8888888888888888,\"#fdca26\"],[1.0,\"#f0f921\"]]}],\"surface\":[{\"type\":\"surface\",\"colorbar\":{\"outlinewidth\":0,\"ticks\":\"\"},\"colorscale\":[[0.0,\"#0d0887\"],[0.1111111111111111,\"#46039f\"],[0.2222222222222222,\"#7201a8\"],[0.3333333333333333,\"#9c179e\"],[0.4444444444444444,\"#bd3786\"],[0.5555555555555556,\"#d8576b\"],[0.6666666666666666,\"#ed7953\"],[0.7777777777777778,\"#fb9f3a\"],[0.8888888888888888,\"#fdca26\"],[1.0,\"#f0f921\"]]}],\"mesh3d\":[{\"type\":\"mesh3d\",\"colorbar\":{\"outlinewidth\":0,\"ticks\":\"\"}}],\"scatter\":[{\"fillpattern\":{\"fillmode\":\"overlay\",\"size\":10,\"solidity\":0.2},\"type\":\"scatter\"}],\"parcoords\":[{\"type\":\"parcoords\",\"line\":{\"colorbar\":{\"outlinewidth\":0,\"ticks\":\"\"}}}],\"scatterpolargl\":[{\"type\":\"scatterpolargl\",\"marker\":{\"colorbar\":{\"outlinewidth\":0,\"ticks\":\"\"}}}],\"bar\":[{\"error_x\":{\"color\":\"#2a3f5f\"},\"error_y\":{\"color\":\"#2a3f5f\"},\"marker\":{\"line\":{\"color\":\"#E5ECF6\",\"width\":0.5},\"pattern\":{\"fillmode\":\"overlay\",\"size\":10,\"solidity\":0.2}},\"type\":\"bar\"}],\"scattergeo\":[{\"type\":\"scattergeo\",\"marker\":{\"colorbar\":{\"outlinewidth\":0,\"ticks\":\"\"}}}],\"scatterpolar\":[{\"type\":\"scatterpolar\",\"marker\":{\"colorbar\":{\"outlinewidth\":0,\"ticks\":\"\"}}}],\"histogram\":[{\"marker\":{\"pattern\":{\"fillmode\":\"overlay\",\"size\":10,\"solidity\":0.2}},\"type\":\"histogram\"}],\"scattergl\":[{\"type\":\"scattergl\",\"marker\":{\"colorbar\":{\"outlinewidth\":0,\"ticks\":\"\"}}}],\"scatter3d\":[{\"type\":\"scatter3d\",\"line\":{\"colorbar\":{\"outlinewidth\":0,\"ticks\":\"\"}},\"marker\":{\"colorbar\":{\"outlinewidth\":0,\"ticks\":\"\"}}}],\"scattermapbox\":[{\"type\":\"scattermapbox\",\"marker\":{\"colorbar\":{\"outlinewidth\":0,\"ticks\":\"\"}}}],\"scatterternary\":[{\"type\":\"scatterternary\",\"marker\":{\"colorbar\":{\"outlinewidth\":0,\"ticks\":\"\"}}}],\"scattercarpet\":[{\"type\":\"scattercarpet\",\"marker\":{\"colorbar\":{\"outlinewidth\":0,\"ticks\":\"\"}}}],\"carpet\":[{\"aaxis\":{\"endlinecolor\":\"#2a3f5f\",\"gridcolor\":\"white\",\"linecolor\":\"white\",\"minorgridcolor\":\"white\",\"startlinecolor\":\"#2a3f5f\"},\"baxis\":{\"endlinecolor\":\"#2a3f5f\",\"gridcolor\":\"white\",\"linecolor\":\"white\",\"minorgridcolor\":\"white\",\"startlinecolor\":\"#2a3f5f\"},\"type\":\"carpet\"}],\"table\":[{\"cells\":{\"fill\":{\"color\":\"#EBF0F8\"},\"line\":{\"color\":\"white\"}},\"header\":{\"fill\":{\"color\":\"#C8D4E3\"},\"line\":{\"color\":\"white\"}},\"type\":\"table\"}],\"barpolar\":[{\"marker\":{\"line\":{\"color\":\"#E5ECF6\",\"width\":0.5},\"pattern\":{\"fillmode\":\"overlay\",\"size\":10,\"solidity\":0.2}},\"type\":\"barpolar\"}],\"pie\":[{\"automargin\":true,\"type\":\"pie\"}]},\"layout\":{\"autotypenumbers\":\"strict\",\"colorway\":[\"#636efa\",\"#EF553B\",\"#00cc96\",\"#ab63fa\",\"#FFA15A\",\"#19d3f3\",\"#FF6692\",\"#B6E880\",\"#FF97FF\",\"#FECB52\"],\"font\":{\"color\":\"#2a3f5f\"},\"hovermode\":\"closest\",\"hoverlabel\":{\"align\":\"left\"},\"paper_bgcolor\":\"white\",\"plot_bgcolor\":\"#E5ECF6\",\"polar\":{\"bgcolor\":\"#E5ECF6\",\"angularaxis\":{\"gridcolor\":\"white\",\"linecolor\":\"white\",\"ticks\":\"\"},\"radialaxis\":{\"gridcolor\":\"white\",\"linecolor\":\"white\",\"ticks\":\"\"}},\"ternary\":{\"bgcolor\":\"#E5ECF6\",\"aaxis\":{\"gridcolor\":\"white\",\"linecolor\":\"white\",\"ticks\":\"\"},\"baxis\":{\"gridcolor\":\"white\",\"linecolor\":\"white\",\"ticks\":\"\"},\"caxis\":{\"gridcolor\":\"white\",\"linecolor\":\"white\",\"ticks\":\"\"}},\"coloraxis\":{\"colorbar\":{\"outlinewidth\":0,\"ticks\":\"\"}},\"colorscale\":{\"sequential\":[[0.0,\"#0d0887\"],[0.1111111111111111,\"#46039f\"],[0.2222222222222222,\"#7201a8\"],[0.3333333333333333,\"#9c179e\"],[0.4444444444444444,\"#bd3786\"],[0.5555555555555556,\"#d8576b\"],[0.6666666666666666,\"#ed7953\"],[0.7777777777777778,\"#fb9f3a\"],[0.8888888888888888,\"#fdca26\"],[1.0,\"#f0f921\"]],\"sequentialminus\":[[0.0,\"#0d0887\"],[0.1111111111111111,\"#46039f\"],[0.2222222222222222,\"#7201a8\"],[0.3333333333333333,\"#9c179e\"],[0.4444444444444444,\"#bd3786\"],[0.5555555555555556,\"#d8576b\"],[0.6666666666666666,\"#ed7953\"],[0.7777777777777778,\"#fb9f3a\"],[0.8888888888888888,\"#fdca26\"],[1.0,\"#f0f921\"]],\"diverging\":[[0,\"#8e0152\"],[0.1,\"#c51b7d\"],[0.2,\"#de77ae\"],[0.3,\"#f1b6da\"],[0.4,\"#fde0ef\"],[0.5,\"#f7f7f7\"],[0.6,\"#e6f5d0\"],[0.7,\"#b8e186\"],[0.8,\"#7fbc41\"],[0.9,\"#4d9221\"],[1,\"#276419\"]]},\"xaxis\":{\"gridcolor\":\"white\",\"linecolor\":\"white\",\"ticks\":\"\",\"title\":{\"standoff\":15},\"zerolinecolor\":\"white\",\"automargin\":true,\"zerolinewidth\":2},\"yaxis\":{\"gridcolor\":\"white\",\"linecolor\":\"white\",\"ticks\":\"\",\"title\":{\"standoff\":15},\"zerolinecolor\":\"white\",\"automargin\":true,\"zerolinewidth\":2},\"scene\":{\"xaxis\":{\"backgroundcolor\":\"#E5ECF6\",\"gridcolor\":\"white\",\"linecolor\":\"white\",\"showbackground\":true,\"ticks\":\"\",\"zerolinecolor\":\"white\",\"gridwidth\":2},\"yaxis\":{\"backgroundcolor\":\"#E5ECF6\",\"gridcolor\":\"white\",\"linecolor\":\"white\",\"showbackground\":true,\"ticks\":\"\",\"zerolinecolor\":\"white\",\"gridwidth\":2},\"zaxis\":{\"backgroundcolor\":\"#E5ECF6\",\"gridcolor\":\"white\",\"linecolor\":\"white\",\"showbackground\":true,\"ticks\":\"\",\"zerolinecolor\":\"white\",\"gridwidth\":2}},\"shapedefaults\":{\"line\":{\"color\":\"#2a3f5f\"}},\"annotationdefaults\":{\"arrowcolor\":\"#2a3f5f\",\"arrowhead\":0,\"arrowwidth\":1},\"geo\":{\"bgcolor\":\"white\",\"landcolor\":\"#E5ECF6\",\"subunitcolor\":\"white\",\"showland\":true,\"showlakes\":true,\"lakecolor\":\"white\"},\"title\":{\"x\":0.05},\"mapbox\":{\"style\":\"light\"}}}},                        {\"responsive\": true}                    ).then(function(){\n",
              "                            \n",
              "var gd = document.getElementById('156d4565-2a21-4184-ae05-0425a8eb9d29');\n",
              "var x = new MutationObserver(function (mutations, observer) {{\n",
              "        var display = window.getComputedStyle(gd).display;\n",
              "        if (!display || display === 'none') {{\n",
              "            console.log([gd, 'removed!']);\n",
              "            Plotly.purge(gd);\n",
              "            observer.disconnect();\n",
              "        }}\n",
              "}});\n",
              "\n",
              "// Listen for the removal of the full notebook cells\n",
              "var notebookContainer = gd.closest('#notebook-container');\n",
              "if (notebookContainer) {{\n",
              "    x.observe(notebookContainer, {childList: true});\n",
              "}}\n",
              "\n",
              "// Listen for the clearing of the current output cell\n",
              "var outputEl = gd.closest('.output');\n",
              "if (outputEl) {{\n",
              "    x.observe(outputEl, {childList: true});\n",
              "}}\n",
              "\n",
              "                        })                };                            </script>        </div>\n",
              "</body>\n",
              "</html>"
            ]
          },
          "metadata": {}
        }
      ]
    },
    {
      "cell_type": "code",
      "source": [
        "optuna.visualization.plot_param_importances(rf_study)"
      ],
      "metadata": {
        "colab": {
          "base_uri": "https://localhost:8080/",
          "height": 542
        },
        "id": "8iLmU7x4azyW",
        "outputId": "3b26311a-05f4-4729-b369-537f9e18d700"
      },
      "execution_count": null,
      "outputs": [
        {
          "output_type": "display_data",
          "data": {
            "text/html": [
              "<html>\n",
              "<head><meta charset=\"utf-8\" /></head>\n",
              "<body>\n",
              "    <div>            <script src=\"https://cdnjs.cloudflare.com/ajax/libs/mathjax/2.7.5/MathJax.js?config=TeX-AMS-MML_SVG\"></script><script type=\"text/javascript\">if (window.MathJax && window.MathJax.Hub && window.MathJax.Hub.Config) {window.MathJax.Hub.Config({SVG: {font: \"STIX-Web\"}});}</script>                <script type=\"text/javascript\">window.PlotlyConfig = {MathJaxConfig: 'local'};</script>\n",
              "        <script charset=\"utf-8\" src=\"https://cdn.plot.ly/plotly-2.24.1.min.js\"></script>                <div id=\"d8e5c0b0-b1a4-480b-90e4-2fd2c7581ca9\" class=\"plotly-graph-div\" style=\"height:525px; width:100%;\"></div>            <script type=\"text/javascript\">                                    window.PLOTLYENV=window.PLOTLYENV || {};                                    if (document.getElementById(\"d8e5c0b0-b1a4-480b-90e4-2fd2c7581ca9\")) {                    Plotly.newPlot(                        \"d8e5c0b0-b1a4-480b-90e4-2fd2c7581ca9\",                        [{\"cliponaxis\":false,\"hovertemplate\":[\"min_samples_split (IntDistribution): 0.125\\u003cextra\\u003e\\u003c\\u002fextra\\u003e\",\"max_depth (IntDistribution): 0.2916666666666667\\u003cextra\\u003e\\u003c\\u002fextra\\u003e\",\"min_samples_leaf (IntDistribution): 0.2916666666666667\\u003cextra\\u003e\\u003c\\u002fextra\\u003e\",\"n_estimators (IntDistribution): 0.2916666666666667\\u003cextra\\u003e\\u003c\\u002fextra\\u003e\"],\"name\":\"Objective Value\",\"orientation\":\"h\",\"text\":[\"0.12\",\"0.29\",\"0.29\",\"0.29\"],\"textposition\":\"outside\",\"x\":[0.125,0.2916666666666667,0.2916666666666667,0.2916666666666667],\"y\":[\"min_samples_split\",\"max_depth\",\"min_samples_leaf\",\"n_estimators\"],\"type\":\"bar\"}],                        {\"title\":{\"text\":\"Hyperparameter Importances\"},\"xaxis\":{\"title\":{\"text\":\"Hyperparameter Importance\"}},\"yaxis\":{\"title\":{\"text\":\"Hyperparameter\"}},\"template\":{\"data\":{\"histogram2dcontour\":[{\"type\":\"histogram2dcontour\",\"colorbar\":{\"outlinewidth\":0,\"ticks\":\"\"},\"colorscale\":[[0.0,\"#0d0887\"],[0.1111111111111111,\"#46039f\"],[0.2222222222222222,\"#7201a8\"],[0.3333333333333333,\"#9c179e\"],[0.4444444444444444,\"#bd3786\"],[0.5555555555555556,\"#d8576b\"],[0.6666666666666666,\"#ed7953\"],[0.7777777777777778,\"#fb9f3a\"],[0.8888888888888888,\"#fdca26\"],[1.0,\"#f0f921\"]]}],\"choropleth\":[{\"type\":\"choropleth\",\"colorbar\":{\"outlinewidth\":0,\"ticks\":\"\"}}],\"histogram2d\":[{\"type\":\"histogram2d\",\"colorbar\":{\"outlinewidth\":0,\"ticks\":\"\"},\"colorscale\":[[0.0,\"#0d0887\"],[0.1111111111111111,\"#46039f\"],[0.2222222222222222,\"#7201a8\"],[0.3333333333333333,\"#9c179e\"],[0.4444444444444444,\"#bd3786\"],[0.5555555555555556,\"#d8576b\"],[0.6666666666666666,\"#ed7953\"],[0.7777777777777778,\"#fb9f3a\"],[0.8888888888888888,\"#fdca26\"],[1.0,\"#f0f921\"]]}],\"heatmap\":[{\"type\":\"heatmap\",\"colorbar\":{\"outlinewidth\":0,\"ticks\":\"\"},\"colorscale\":[[0.0,\"#0d0887\"],[0.1111111111111111,\"#46039f\"],[0.2222222222222222,\"#7201a8\"],[0.3333333333333333,\"#9c179e\"],[0.4444444444444444,\"#bd3786\"],[0.5555555555555556,\"#d8576b\"],[0.6666666666666666,\"#ed7953\"],[0.7777777777777778,\"#fb9f3a\"],[0.8888888888888888,\"#fdca26\"],[1.0,\"#f0f921\"]]}],\"heatmapgl\":[{\"type\":\"heatmapgl\",\"colorbar\":{\"outlinewidth\":0,\"ticks\":\"\"},\"colorscale\":[[0.0,\"#0d0887\"],[0.1111111111111111,\"#46039f\"],[0.2222222222222222,\"#7201a8\"],[0.3333333333333333,\"#9c179e\"],[0.4444444444444444,\"#bd3786\"],[0.5555555555555556,\"#d8576b\"],[0.6666666666666666,\"#ed7953\"],[0.7777777777777778,\"#fb9f3a\"],[0.8888888888888888,\"#fdca26\"],[1.0,\"#f0f921\"]]}],\"contourcarpet\":[{\"type\":\"contourcarpet\",\"colorbar\":{\"outlinewidth\":0,\"ticks\":\"\"}}],\"contour\":[{\"type\":\"contour\",\"colorbar\":{\"outlinewidth\":0,\"ticks\":\"\"},\"colorscale\":[[0.0,\"#0d0887\"],[0.1111111111111111,\"#46039f\"],[0.2222222222222222,\"#7201a8\"],[0.3333333333333333,\"#9c179e\"],[0.4444444444444444,\"#bd3786\"],[0.5555555555555556,\"#d8576b\"],[0.6666666666666666,\"#ed7953\"],[0.7777777777777778,\"#fb9f3a\"],[0.8888888888888888,\"#fdca26\"],[1.0,\"#f0f921\"]]}],\"surface\":[{\"type\":\"surface\",\"colorbar\":{\"outlinewidth\":0,\"ticks\":\"\"},\"colorscale\":[[0.0,\"#0d0887\"],[0.1111111111111111,\"#46039f\"],[0.2222222222222222,\"#7201a8\"],[0.3333333333333333,\"#9c179e\"],[0.4444444444444444,\"#bd3786\"],[0.5555555555555556,\"#d8576b\"],[0.6666666666666666,\"#ed7953\"],[0.7777777777777778,\"#fb9f3a\"],[0.8888888888888888,\"#fdca26\"],[1.0,\"#f0f921\"]]}],\"mesh3d\":[{\"type\":\"mesh3d\",\"colorbar\":{\"outlinewidth\":0,\"ticks\":\"\"}}],\"scatter\":[{\"fillpattern\":{\"fillmode\":\"overlay\",\"size\":10,\"solidity\":0.2},\"type\":\"scatter\"}],\"parcoords\":[{\"type\":\"parcoords\",\"line\":{\"colorbar\":{\"outlinewidth\":0,\"ticks\":\"\"}}}],\"scatterpolargl\":[{\"type\":\"scatterpolargl\",\"marker\":{\"colorbar\":{\"outlinewidth\":0,\"ticks\":\"\"}}}],\"bar\":[{\"error_x\":{\"color\":\"#2a3f5f\"},\"error_y\":{\"color\":\"#2a3f5f\"},\"marker\":{\"line\":{\"color\":\"#E5ECF6\",\"width\":0.5},\"pattern\":{\"fillmode\":\"overlay\",\"size\":10,\"solidity\":0.2}},\"type\":\"bar\"}],\"scattergeo\":[{\"type\":\"scattergeo\",\"marker\":{\"colorbar\":{\"outlinewidth\":0,\"ticks\":\"\"}}}],\"scatterpolar\":[{\"type\":\"scatterpolar\",\"marker\":{\"colorbar\":{\"outlinewidth\":0,\"ticks\":\"\"}}}],\"histogram\":[{\"marker\":{\"pattern\":{\"fillmode\":\"overlay\",\"size\":10,\"solidity\":0.2}},\"type\":\"histogram\"}],\"scattergl\":[{\"type\":\"scattergl\",\"marker\":{\"colorbar\":{\"outlinewidth\":0,\"ticks\":\"\"}}}],\"scatter3d\":[{\"type\":\"scatter3d\",\"line\":{\"colorbar\":{\"outlinewidth\":0,\"ticks\":\"\"}},\"marker\":{\"colorbar\":{\"outlinewidth\":0,\"ticks\":\"\"}}}],\"scattermapbox\":[{\"type\":\"scattermapbox\",\"marker\":{\"colorbar\":{\"outlinewidth\":0,\"ticks\":\"\"}}}],\"scatterternary\":[{\"type\":\"scatterternary\",\"marker\":{\"colorbar\":{\"outlinewidth\":0,\"ticks\":\"\"}}}],\"scattercarpet\":[{\"type\":\"scattercarpet\",\"marker\":{\"colorbar\":{\"outlinewidth\":0,\"ticks\":\"\"}}}],\"carpet\":[{\"aaxis\":{\"endlinecolor\":\"#2a3f5f\",\"gridcolor\":\"white\",\"linecolor\":\"white\",\"minorgridcolor\":\"white\",\"startlinecolor\":\"#2a3f5f\"},\"baxis\":{\"endlinecolor\":\"#2a3f5f\",\"gridcolor\":\"white\",\"linecolor\":\"white\",\"minorgridcolor\":\"white\",\"startlinecolor\":\"#2a3f5f\"},\"type\":\"carpet\"}],\"table\":[{\"cells\":{\"fill\":{\"color\":\"#EBF0F8\"},\"line\":{\"color\":\"white\"}},\"header\":{\"fill\":{\"color\":\"#C8D4E3\"},\"line\":{\"color\":\"white\"}},\"type\":\"table\"}],\"barpolar\":[{\"marker\":{\"line\":{\"color\":\"#E5ECF6\",\"width\":0.5},\"pattern\":{\"fillmode\":\"overlay\",\"size\":10,\"solidity\":0.2}},\"type\":\"barpolar\"}],\"pie\":[{\"automargin\":true,\"type\":\"pie\"}]},\"layout\":{\"autotypenumbers\":\"strict\",\"colorway\":[\"#636efa\",\"#EF553B\",\"#00cc96\",\"#ab63fa\",\"#FFA15A\",\"#19d3f3\",\"#FF6692\",\"#B6E880\",\"#FF97FF\",\"#FECB52\"],\"font\":{\"color\":\"#2a3f5f\"},\"hovermode\":\"closest\",\"hoverlabel\":{\"align\":\"left\"},\"paper_bgcolor\":\"white\",\"plot_bgcolor\":\"#E5ECF6\",\"polar\":{\"bgcolor\":\"#E5ECF6\",\"angularaxis\":{\"gridcolor\":\"white\",\"linecolor\":\"white\",\"ticks\":\"\"},\"radialaxis\":{\"gridcolor\":\"white\",\"linecolor\":\"white\",\"ticks\":\"\"}},\"ternary\":{\"bgcolor\":\"#E5ECF6\",\"aaxis\":{\"gridcolor\":\"white\",\"linecolor\":\"white\",\"ticks\":\"\"},\"baxis\":{\"gridcolor\":\"white\",\"linecolor\":\"white\",\"ticks\":\"\"},\"caxis\":{\"gridcolor\":\"white\",\"linecolor\":\"white\",\"ticks\":\"\"}},\"coloraxis\":{\"colorbar\":{\"outlinewidth\":0,\"ticks\":\"\"}},\"colorscale\":{\"sequential\":[[0.0,\"#0d0887\"],[0.1111111111111111,\"#46039f\"],[0.2222222222222222,\"#7201a8\"],[0.3333333333333333,\"#9c179e\"],[0.4444444444444444,\"#bd3786\"],[0.5555555555555556,\"#d8576b\"],[0.6666666666666666,\"#ed7953\"],[0.7777777777777778,\"#fb9f3a\"],[0.8888888888888888,\"#fdca26\"],[1.0,\"#f0f921\"]],\"sequentialminus\":[[0.0,\"#0d0887\"],[0.1111111111111111,\"#46039f\"],[0.2222222222222222,\"#7201a8\"],[0.3333333333333333,\"#9c179e\"],[0.4444444444444444,\"#bd3786\"],[0.5555555555555556,\"#d8576b\"],[0.6666666666666666,\"#ed7953\"],[0.7777777777777778,\"#fb9f3a\"],[0.8888888888888888,\"#fdca26\"],[1.0,\"#f0f921\"]],\"diverging\":[[0,\"#8e0152\"],[0.1,\"#c51b7d\"],[0.2,\"#de77ae\"],[0.3,\"#f1b6da\"],[0.4,\"#fde0ef\"],[0.5,\"#f7f7f7\"],[0.6,\"#e6f5d0\"],[0.7,\"#b8e186\"],[0.8,\"#7fbc41\"],[0.9,\"#4d9221\"],[1,\"#276419\"]]},\"xaxis\":{\"gridcolor\":\"white\",\"linecolor\":\"white\",\"ticks\":\"\",\"title\":{\"standoff\":15},\"zerolinecolor\":\"white\",\"automargin\":true,\"zerolinewidth\":2},\"yaxis\":{\"gridcolor\":\"white\",\"linecolor\":\"white\",\"ticks\":\"\",\"title\":{\"standoff\":15},\"zerolinecolor\":\"white\",\"automargin\":true,\"zerolinewidth\":2},\"scene\":{\"xaxis\":{\"backgroundcolor\":\"#E5ECF6\",\"gridcolor\":\"white\",\"linecolor\":\"white\",\"showbackground\":true,\"ticks\":\"\",\"zerolinecolor\":\"white\",\"gridwidth\":2},\"yaxis\":{\"backgroundcolor\":\"#E5ECF6\",\"gridcolor\":\"white\",\"linecolor\":\"white\",\"showbackground\":true,\"ticks\":\"\",\"zerolinecolor\":\"white\",\"gridwidth\":2},\"zaxis\":{\"backgroundcolor\":\"#E5ECF6\",\"gridcolor\":\"white\",\"linecolor\":\"white\",\"showbackground\":true,\"ticks\":\"\",\"zerolinecolor\":\"white\",\"gridwidth\":2}},\"shapedefaults\":{\"line\":{\"color\":\"#2a3f5f\"}},\"annotationdefaults\":{\"arrowcolor\":\"#2a3f5f\",\"arrowhead\":0,\"arrowwidth\":1},\"geo\":{\"bgcolor\":\"white\",\"landcolor\":\"#E5ECF6\",\"subunitcolor\":\"white\",\"showland\":true,\"showlakes\":true,\"lakecolor\":\"white\"},\"title\":{\"x\":0.05},\"mapbox\":{\"style\":\"light\"}}}},                        {\"responsive\": true}                    ).then(function(){\n",
              "                            \n",
              "var gd = document.getElementById('d8e5c0b0-b1a4-480b-90e4-2fd2c7581ca9');\n",
              "var x = new MutationObserver(function (mutations, observer) {{\n",
              "        var display = window.getComputedStyle(gd).display;\n",
              "        if (!display || display === 'none') {{\n",
              "            console.log([gd, 'removed!']);\n",
              "            Plotly.purge(gd);\n",
              "            observer.disconnect();\n",
              "        }}\n",
              "}});\n",
              "\n",
              "// Listen for the removal of the full notebook cells\n",
              "var notebookContainer = gd.closest('#notebook-container');\n",
              "if (notebookContainer) {{\n",
              "    x.observe(notebookContainer, {childList: true});\n",
              "}}\n",
              "\n",
              "// Listen for the clearing of the current output cell\n",
              "var outputEl = gd.closest('.output');\n",
              "if (outputEl) {{\n",
              "    x.observe(outputEl, {childList: true});\n",
              "}}\n",
              "\n",
              "                        })                };                            </script>        </div>\n",
              "</body>\n",
              "</html>"
            ]
          },
          "metadata": {}
        }
      ]
    },
    {
      "cell_type": "markdown",
      "source": [
        "### Reduce the size of model\n",
        "I think, it is a good idea to try to traing  following models on reduced data that contains top *K* most important features according to feature importance. This will allow us to iterate faster over models and set of hyperparameters"
      ],
      "metadata": {
        "id": "S9HAOlEkdmro"
      }
    },
    {
      "cell_type": "code",
      "source": [
        "X_train = train_df.drop(\"TARGET\", axis=1)\n",
        "y_train = train_df[\"TARGET\"]\n",
        "\n",
        "X_test = test_df\n",
        "\n"
      ],
      "metadata": {
        "id": "b17-udTtjRDc"
      },
      "execution_count": null,
      "outputs": []
    },
    {
      "cell_type": "code",
      "source": [
        "rf_best_model = RandomForestClassifier(n_estimators=50,\n",
        "                                      max_depth=14,\n",
        "                                      min_samples_split=7,\n",
        "                                      min_samples_leaf=10,\n",
        "                                      n_jobs=-1)\n",
        "rf_best_model.fit(X_train, y_train)\n"
      ],
      "metadata": {
        "colab": {
          "base_uri": "https://localhost:8080/",
          "height": 92
        },
        "id": "BMWa9tkqdk5N",
        "outputId": "65c98575-d06d-4e01-a001-bca7f3aae325"
      },
      "execution_count": null,
      "outputs": [
        {
          "output_type": "execute_result",
          "data": {
            "text/plain": [
              "RandomForestClassifier(max_depth=14, min_samples_leaf=10, min_samples_split=7,\n",
              "                       n_estimators=50, n_jobs=-1)"
            ],
            "text/html": [
              "<style>#sk-container-id-3 {color: black;background-color: white;}#sk-container-id-3 pre{padding: 0;}#sk-container-id-3 div.sk-toggleable {background-color: white;}#sk-container-id-3 label.sk-toggleable__label {cursor: pointer;display: block;width: 100%;margin-bottom: 0;padding: 0.3em;box-sizing: border-box;text-align: center;}#sk-container-id-3 label.sk-toggleable__label-arrow:before {content: \"▸\";float: left;margin-right: 0.25em;color: #696969;}#sk-container-id-3 label.sk-toggleable__label-arrow:hover:before {color: black;}#sk-container-id-3 div.sk-estimator:hover label.sk-toggleable__label-arrow:before {color: black;}#sk-container-id-3 div.sk-toggleable__content {max-height: 0;max-width: 0;overflow: hidden;text-align: left;background-color: #f0f8ff;}#sk-container-id-3 div.sk-toggleable__content pre {margin: 0.2em;color: black;border-radius: 0.25em;background-color: #f0f8ff;}#sk-container-id-3 input.sk-toggleable__control:checked~div.sk-toggleable__content {max-height: 200px;max-width: 100%;overflow: auto;}#sk-container-id-3 input.sk-toggleable__control:checked~label.sk-toggleable__label-arrow:before {content: \"▾\";}#sk-container-id-3 div.sk-estimator input.sk-toggleable__control:checked~label.sk-toggleable__label {background-color: #d4ebff;}#sk-container-id-3 div.sk-label input.sk-toggleable__control:checked~label.sk-toggleable__label {background-color: #d4ebff;}#sk-container-id-3 input.sk-hidden--visually {border: 0;clip: rect(1px 1px 1px 1px);clip: rect(1px, 1px, 1px, 1px);height: 1px;margin: -1px;overflow: hidden;padding: 0;position: absolute;width: 1px;}#sk-container-id-3 div.sk-estimator {font-family: monospace;background-color: #f0f8ff;border: 1px dotted black;border-radius: 0.25em;box-sizing: border-box;margin-bottom: 0.5em;}#sk-container-id-3 div.sk-estimator:hover {background-color: #d4ebff;}#sk-container-id-3 div.sk-parallel-item::after {content: \"\";width: 100%;border-bottom: 1px solid gray;flex-grow: 1;}#sk-container-id-3 div.sk-label:hover label.sk-toggleable__label {background-color: #d4ebff;}#sk-container-id-3 div.sk-serial::before {content: \"\";position: absolute;border-left: 1px solid gray;box-sizing: border-box;top: 0;bottom: 0;left: 50%;z-index: 0;}#sk-container-id-3 div.sk-serial {display: flex;flex-direction: column;align-items: center;background-color: white;padding-right: 0.2em;padding-left: 0.2em;position: relative;}#sk-container-id-3 div.sk-item {position: relative;z-index: 1;}#sk-container-id-3 div.sk-parallel {display: flex;align-items: stretch;justify-content: center;background-color: white;position: relative;}#sk-container-id-3 div.sk-item::before, #sk-container-id-3 div.sk-parallel-item::before {content: \"\";position: absolute;border-left: 1px solid gray;box-sizing: border-box;top: 0;bottom: 0;left: 50%;z-index: -1;}#sk-container-id-3 div.sk-parallel-item {display: flex;flex-direction: column;z-index: 1;position: relative;background-color: white;}#sk-container-id-3 div.sk-parallel-item:first-child::after {align-self: flex-end;width: 50%;}#sk-container-id-3 div.sk-parallel-item:last-child::after {align-self: flex-start;width: 50%;}#sk-container-id-3 div.sk-parallel-item:only-child::after {width: 0;}#sk-container-id-3 div.sk-dashed-wrapped {border: 1px dashed gray;margin: 0 0.4em 0.5em 0.4em;box-sizing: border-box;padding-bottom: 0.4em;background-color: white;}#sk-container-id-3 div.sk-label label {font-family: monospace;font-weight: bold;display: inline-block;line-height: 1.2em;}#sk-container-id-3 div.sk-label-container {text-align: center;}#sk-container-id-3 div.sk-container {/* jupyter's `normalize.less` sets `[hidden] { display: none; }` but bootstrap.min.css set `[hidden] { display: none !important; }` so we also need the `!important` here to be able to override the default hidden behavior on the sphinx rendered scikit-learn.org. See: https://github.com/scikit-learn/scikit-learn/issues/21755 */display: inline-block !important;position: relative;}#sk-container-id-3 div.sk-text-repr-fallback {display: none;}</style><div id=\"sk-container-id-3\" class=\"sk-top-container\"><div class=\"sk-text-repr-fallback\"><pre>RandomForestClassifier(max_depth=14, min_samples_leaf=10, min_samples_split=7,\n",
              "                       n_estimators=50, n_jobs=-1)</pre><b>In a Jupyter environment, please rerun this cell to show the HTML representation or trust the notebook. <br />On GitHub, the HTML representation is unable to render, please try loading this page with nbviewer.org.</b></div><div class=\"sk-container\" hidden><div class=\"sk-item\"><div class=\"sk-estimator sk-toggleable\"><input class=\"sk-toggleable__control sk-hidden--visually\" id=\"sk-estimator-id-3\" type=\"checkbox\" checked><label for=\"sk-estimator-id-3\" class=\"sk-toggleable__label sk-toggleable__label-arrow\">RandomForestClassifier</label><div class=\"sk-toggleable__content\"><pre>RandomForestClassifier(max_depth=14, min_samples_leaf=10, min_samples_split=7,\n",
              "                       n_estimators=50, n_jobs=-1)</pre></div></div></div></div></div>"
            ]
          },
          "metadata": {},
          "execution_count": 28
        }
      ]
    },
    {
      "cell_type": "code",
      "source": [
        "new_feature_importances = pd.DataFrame({\"feature\" : X_train.columns,\n",
        "                                     \"importance\" : rf_best_model.feature_importances_})\n",
        "new_feature_importances = new_feature_importances.sort_values(by=\"importance\", ascending=False)"
      ],
      "metadata": {
        "id": "qnpD6Gouc7E2"
      },
      "execution_count": null,
      "outputs": []
    },
    {
      "cell_type": "code",
      "source": [
        "fig = px.bar(new_feature_importances[:50], x='feature',\n",
        "             y='importance', title='New TOP 50 Important features')\n",
        "\n",
        "fig.update_traces(marker_color='orange')\n",
        "\n",
        "fig.update_layout(\n",
        "    autosize=False,\n",
        "    width=1100,\n",
        "    height=700,\n",
        "    yaxis=dict(\n",
        "        tickmode='auto',\n",
        "        nticks=20\n",
        "    )\n",
        ")\n",
        "fig.show()"
      ],
      "metadata": {
        "colab": {
          "base_uri": "https://localhost:8080/",
          "height": 717
        },
        "id": "-9EVh_iqh7H4",
        "outputId": "7374cd80-d67e-4d74-9009-cb1b614bbad4"
      },
      "execution_count": null,
      "outputs": [
        {
          "output_type": "display_data",
          "data": {
            "text/html": [
              "<html>\n",
              "<head><meta charset=\"utf-8\" /></head>\n",
              "<body>\n",
              "    <div>            <script src=\"https://cdnjs.cloudflare.com/ajax/libs/mathjax/2.7.5/MathJax.js?config=TeX-AMS-MML_SVG\"></script><script type=\"text/javascript\">if (window.MathJax && window.MathJax.Hub && window.MathJax.Hub.Config) {window.MathJax.Hub.Config({SVG: {font: \"STIX-Web\"}});}</script>                <script type=\"text/javascript\">window.PlotlyConfig = {MathJaxConfig: 'local'};</script>\n",
              "        <script charset=\"utf-8\" src=\"https://cdn.plot.ly/plotly-2.24.1.min.js\"></script>                <div id=\"b367af06-cd5d-4818-9d03-be0a3c287088\" class=\"plotly-graph-div\" style=\"height:700px; width:1100px;\"></div>            <script type=\"text/javascript\">                                    window.PLOTLYENV=window.PLOTLYENV || {};                                    if (document.getElementById(\"b367af06-cd5d-4818-9d03-be0a3c287088\")) {                    Plotly.newPlot(                        \"b367af06-cd5d-4818-9d03-be0a3c287088\",                        [{\"alignmentgroup\":\"True\",\"hovertemplate\":\"feature=%{x}\\u003cbr\\u003eimportance=%{y}\\u003cextra\\u003e\\u003c\\u002fextra\\u003e\",\"legendgroup\":\"\",\"marker\":{\"color\":\"orange\",\"pattern\":{\"shape\":\"\"}},\"name\":\"\",\"offsetgroup\":\"\",\"orientation\":\"v\",\"showlegend\":false,\"textposition\":\"auto\",\"x\":[\"EXT_SOUCE_AVG\",\"EXT_SOURCE_2\",\"EXT_SOURCE_3\",\"EXT_SOURCE_1\",\"DAYS_CREDIT_mean\",\"DAYS_BIRTH\",\"PAYMENT_ANNUITY_RATIO\",\"DAYS_CREDIT_UPDATE_mean\",\"DAYS_CREDIT_ENDDATE_mean\",\"AMT_PAYMENT_mean\",\"DAYS_EMPLOYED\",\"LABOR_PERIOD_RATE\",\"CNT_INSTALMENT_FUTURE_mean\",\"DAYS_DECISION_mean\",\"NUM_INSTALMENT_NUMBER_std\",\"CURR_VS_PREV_ANNUITY\",\"DAYS_ID_PUBLISH\",\"DAYS_INSTALMENT_mean\",\"DAYS_LAST_PHONE_CHANGE\",\"AMT_INSTALMENT_mean\",\"AMT_ANNUITY\",\"DAYS_LAST_DUE_1ST_VERSION_mean\",\"DAYS_ENTRY_PAYMENT_mean\",\"CNT_INSTALMENT_FUTURE_std\",\"DAYS_REGISTRATION\",\"AMT_CREDIT\",\"AMT_CREDIT_SUM_DEBT_mean\",\"CURR_REGISTRATION_PERIOD\",\"SELLERPLACE_AREA_mean\",\"CNT_INSTALMENT_mean\",\"DAYS_ENDDATE_FACT_mean\",\"CNT_PAYMENT_mean\",\"AMT_CREDIT_SUM_mean\",\"AMT_INSTALMENT_std\",\"AMT_GOODS_PRICE_mean\",\"AMT_ANNUITY_mean\",\"CREDIT_LOAD_MEAN\",\"AMT_APPLICATION_mean\",\"CREDIT_LOAD\",\"SK_ID_CURR\",\"AMT_GOODS_PRICE\",\"AMT_CREDIT_mean\",\"DECISION_ACTION_TIME\",\"NAME_CONTRACT_STATUS_mode\",\"CONSUMPTION_RATE\",\"DAYS_LAST_DUE_mean\",\"HOUR_APPR_PROCESS_START_mean\",\"DAYS_ENTRY_PAYMENT_std\",\"DAYS_FIRST_DUE_mean\",\"CURR_VS_PREV_GOODS_PRICE\"],\"xaxis\":\"x\",\"y\":[0.11059412174583683,0.06598916328983002,0.06290205432240299,0.022008909607502406,0.01803239174184312,0.01800114590078887,0.014369455903259326,0.01386378716394589,0.013350631466547547,0.01298946168695795,0.01242901666786665,0.01242275973600982,0.012318137327178076,0.012122374825535423,0.012087801183918924,0.011447800778017814,0.010967348757951897,0.010407659462731391,0.010279334793709828,0.01020573501217203,0.010084697132119283,0.009709121728532666,0.009612138212571807,0.009553911387345593,0.009399920432171182,0.009386144552468632,0.009248088533025077,0.009244765551076985,0.009244419033945529,0.009238011806741754,0.00914226977943106,0.009024133200542942,0.008987373573375123,0.008808033273503152,0.008733490610403339,0.008717237523147944,0.008712634702508095,0.008677786305819099,0.00862890037553019,0.008554631974169958,0.008552925578722392,0.008479841777044356,0.008354201104695622,0.008335604266423314,0.008252721958758067,0.008239544955244052,0.008195831774074163,0.008067908931589837,0.007971870150171567,0.00795939316692892],\"yaxis\":\"y\",\"type\":\"bar\"}],                        {\"template\":{\"data\":{\"histogram2dcontour\":[{\"type\":\"histogram2dcontour\",\"colorbar\":{\"outlinewidth\":0,\"ticks\":\"\"},\"colorscale\":[[0.0,\"#0d0887\"],[0.1111111111111111,\"#46039f\"],[0.2222222222222222,\"#7201a8\"],[0.3333333333333333,\"#9c179e\"],[0.4444444444444444,\"#bd3786\"],[0.5555555555555556,\"#d8576b\"],[0.6666666666666666,\"#ed7953\"],[0.7777777777777778,\"#fb9f3a\"],[0.8888888888888888,\"#fdca26\"],[1.0,\"#f0f921\"]]}],\"choropleth\":[{\"type\":\"choropleth\",\"colorbar\":{\"outlinewidth\":0,\"ticks\":\"\"}}],\"histogram2d\":[{\"type\":\"histogram2d\",\"colorbar\":{\"outlinewidth\":0,\"ticks\":\"\"},\"colorscale\":[[0.0,\"#0d0887\"],[0.1111111111111111,\"#46039f\"],[0.2222222222222222,\"#7201a8\"],[0.3333333333333333,\"#9c179e\"],[0.4444444444444444,\"#bd3786\"],[0.5555555555555556,\"#d8576b\"],[0.6666666666666666,\"#ed7953\"],[0.7777777777777778,\"#fb9f3a\"],[0.8888888888888888,\"#fdca26\"],[1.0,\"#f0f921\"]]}],\"heatmap\":[{\"type\":\"heatmap\",\"colorbar\":{\"outlinewidth\":0,\"ticks\":\"\"},\"colorscale\":[[0.0,\"#0d0887\"],[0.1111111111111111,\"#46039f\"],[0.2222222222222222,\"#7201a8\"],[0.3333333333333333,\"#9c179e\"],[0.4444444444444444,\"#bd3786\"],[0.5555555555555556,\"#d8576b\"],[0.6666666666666666,\"#ed7953\"],[0.7777777777777778,\"#fb9f3a\"],[0.8888888888888888,\"#fdca26\"],[1.0,\"#f0f921\"]]}],\"heatmapgl\":[{\"type\":\"heatmapgl\",\"colorbar\":{\"outlinewidth\":0,\"ticks\":\"\"},\"colorscale\":[[0.0,\"#0d0887\"],[0.1111111111111111,\"#46039f\"],[0.2222222222222222,\"#7201a8\"],[0.3333333333333333,\"#9c179e\"],[0.4444444444444444,\"#bd3786\"],[0.5555555555555556,\"#d8576b\"],[0.6666666666666666,\"#ed7953\"],[0.7777777777777778,\"#fb9f3a\"],[0.8888888888888888,\"#fdca26\"],[1.0,\"#f0f921\"]]}],\"contourcarpet\":[{\"type\":\"contourcarpet\",\"colorbar\":{\"outlinewidth\":0,\"ticks\":\"\"}}],\"contour\":[{\"type\":\"contour\",\"colorbar\":{\"outlinewidth\":0,\"ticks\":\"\"},\"colorscale\":[[0.0,\"#0d0887\"],[0.1111111111111111,\"#46039f\"],[0.2222222222222222,\"#7201a8\"],[0.3333333333333333,\"#9c179e\"],[0.4444444444444444,\"#bd3786\"],[0.5555555555555556,\"#d8576b\"],[0.6666666666666666,\"#ed7953\"],[0.7777777777777778,\"#fb9f3a\"],[0.8888888888888888,\"#fdca26\"],[1.0,\"#f0f921\"]]}],\"surface\":[{\"type\":\"surface\",\"colorbar\":{\"outlinewidth\":0,\"ticks\":\"\"},\"colorscale\":[[0.0,\"#0d0887\"],[0.1111111111111111,\"#46039f\"],[0.2222222222222222,\"#7201a8\"],[0.3333333333333333,\"#9c179e\"],[0.4444444444444444,\"#bd3786\"],[0.5555555555555556,\"#d8576b\"],[0.6666666666666666,\"#ed7953\"],[0.7777777777777778,\"#fb9f3a\"],[0.8888888888888888,\"#fdca26\"],[1.0,\"#f0f921\"]]}],\"mesh3d\":[{\"type\":\"mesh3d\",\"colorbar\":{\"outlinewidth\":0,\"ticks\":\"\"}}],\"scatter\":[{\"fillpattern\":{\"fillmode\":\"overlay\",\"size\":10,\"solidity\":0.2},\"type\":\"scatter\"}],\"parcoords\":[{\"type\":\"parcoords\",\"line\":{\"colorbar\":{\"outlinewidth\":0,\"ticks\":\"\"}}}],\"scatterpolargl\":[{\"type\":\"scatterpolargl\",\"marker\":{\"colorbar\":{\"outlinewidth\":0,\"ticks\":\"\"}}}],\"bar\":[{\"error_x\":{\"color\":\"#2a3f5f\"},\"error_y\":{\"color\":\"#2a3f5f\"},\"marker\":{\"line\":{\"color\":\"#E5ECF6\",\"width\":0.5},\"pattern\":{\"fillmode\":\"overlay\",\"size\":10,\"solidity\":0.2}},\"type\":\"bar\"}],\"scattergeo\":[{\"type\":\"scattergeo\",\"marker\":{\"colorbar\":{\"outlinewidth\":0,\"ticks\":\"\"}}}],\"scatterpolar\":[{\"type\":\"scatterpolar\",\"marker\":{\"colorbar\":{\"outlinewidth\":0,\"ticks\":\"\"}}}],\"histogram\":[{\"marker\":{\"pattern\":{\"fillmode\":\"overlay\",\"size\":10,\"solidity\":0.2}},\"type\":\"histogram\"}],\"scattergl\":[{\"type\":\"scattergl\",\"marker\":{\"colorbar\":{\"outlinewidth\":0,\"ticks\":\"\"}}}],\"scatter3d\":[{\"type\":\"scatter3d\",\"line\":{\"colorbar\":{\"outlinewidth\":0,\"ticks\":\"\"}},\"marker\":{\"colorbar\":{\"outlinewidth\":0,\"ticks\":\"\"}}}],\"scattermapbox\":[{\"type\":\"scattermapbox\",\"marker\":{\"colorbar\":{\"outlinewidth\":0,\"ticks\":\"\"}}}],\"scatterternary\":[{\"type\":\"scatterternary\",\"marker\":{\"colorbar\":{\"outlinewidth\":0,\"ticks\":\"\"}}}],\"scattercarpet\":[{\"type\":\"scattercarpet\",\"marker\":{\"colorbar\":{\"outlinewidth\":0,\"ticks\":\"\"}}}],\"carpet\":[{\"aaxis\":{\"endlinecolor\":\"#2a3f5f\",\"gridcolor\":\"white\",\"linecolor\":\"white\",\"minorgridcolor\":\"white\",\"startlinecolor\":\"#2a3f5f\"},\"baxis\":{\"endlinecolor\":\"#2a3f5f\",\"gridcolor\":\"white\",\"linecolor\":\"white\",\"minorgridcolor\":\"white\",\"startlinecolor\":\"#2a3f5f\"},\"type\":\"carpet\"}],\"table\":[{\"cells\":{\"fill\":{\"color\":\"#EBF0F8\"},\"line\":{\"color\":\"white\"}},\"header\":{\"fill\":{\"color\":\"#C8D4E3\"},\"line\":{\"color\":\"white\"}},\"type\":\"table\"}],\"barpolar\":[{\"marker\":{\"line\":{\"color\":\"#E5ECF6\",\"width\":0.5},\"pattern\":{\"fillmode\":\"overlay\",\"size\":10,\"solidity\":0.2}},\"type\":\"barpolar\"}],\"pie\":[{\"automargin\":true,\"type\":\"pie\"}]},\"layout\":{\"autotypenumbers\":\"strict\",\"colorway\":[\"#636efa\",\"#EF553B\",\"#00cc96\",\"#ab63fa\",\"#FFA15A\",\"#19d3f3\",\"#FF6692\",\"#B6E880\",\"#FF97FF\",\"#FECB52\"],\"font\":{\"color\":\"#2a3f5f\"},\"hovermode\":\"closest\",\"hoverlabel\":{\"align\":\"left\"},\"paper_bgcolor\":\"white\",\"plot_bgcolor\":\"#E5ECF6\",\"polar\":{\"bgcolor\":\"#E5ECF6\",\"angularaxis\":{\"gridcolor\":\"white\",\"linecolor\":\"white\",\"ticks\":\"\"},\"radialaxis\":{\"gridcolor\":\"white\",\"linecolor\":\"white\",\"ticks\":\"\"}},\"ternary\":{\"bgcolor\":\"#E5ECF6\",\"aaxis\":{\"gridcolor\":\"white\",\"linecolor\":\"white\",\"ticks\":\"\"},\"baxis\":{\"gridcolor\":\"white\",\"linecolor\":\"white\",\"ticks\":\"\"},\"caxis\":{\"gridcolor\":\"white\",\"linecolor\":\"white\",\"ticks\":\"\"}},\"coloraxis\":{\"colorbar\":{\"outlinewidth\":0,\"ticks\":\"\"}},\"colorscale\":{\"sequential\":[[0.0,\"#0d0887\"],[0.1111111111111111,\"#46039f\"],[0.2222222222222222,\"#7201a8\"],[0.3333333333333333,\"#9c179e\"],[0.4444444444444444,\"#bd3786\"],[0.5555555555555556,\"#d8576b\"],[0.6666666666666666,\"#ed7953\"],[0.7777777777777778,\"#fb9f3a\"],[0.8888888888888888,\"#fdca26\"],[1.0,\"#f0f921\"]],\"sequentialminus\":[[0.0,\"#0d0887\"],[0.1111111111111111,\"#46039f\"],[0.2222222222222222,\"#7201a8\"],[0.3333333333333333,\"#9c179e\"],[0.4444444444444444,\"#bd3786\"],[0.5555555555555556,\"#d8576b\"],[0.6666666666666666,\"#ed7953\"],[0.7777777777777778,\"#fb9f3a\"],[0.8888888888888888,\"#fdca26\"],[1.0,\"#f0f921\"]],\"diverging\":[[0,\"#8e0152\"],[0.1,\"#c51b7d\"],[0.2,\"#de77ae\"],[0.3,\"#f1b6da\"],[0.4,\"#fde0ef\"],[0.5,\"#f7f7f7\"],[0.6,\"#e6f5d0\"],[0.7,\"#b8e186\"],[0.8,\"#7fbc41\"],[0.9,\"#4d9221\"],[1,\"#276419\"]]},\"xaxis\":{\"gridcolor\":\"white\",\"linecolor\":\"white\",\"ticks\":\"\",\"title\":{\"standoff\":15},\"zerolinecolor\":\"white\",\"automargin\":true,\"zerolinewidth\":2},\"yaxis\":{\"gridcolor\":\"white\",\"linecolor\":\"white\",\"ticks\":\"\",\"title\":{\"standoff\":15},\"zerolinecolor\":\"white\",\"automargin\":true,\"zerolinewidth\":2},\"scene\":{\"xaxis\":{\"backgroundcolor\":\"#E5ECF6\",\"gridcolor\":\"white\",\"linecolor\":\"white\",\"showbackground\":true,\"ticks\":\"\",\"zerolinecolor\":\"white\",\"gridwidth\":2},\"yaxis\":{\"backgroundcolor\":\"#E5ECF6\",\"gridcolor\":\"white\",\"linecolor\":\"white\",\"showbackground\":true,\"ticks\":\"\",\"zerolinecolor\":\"white\",\"gridwidth\":2},\"zaxis\":{\"backgroundcolor\":\"#E5ECF6\",\"gridcolor\":\"white\",\"linecolor\":\"white\",\"showbackground\":true,\"ticks\":\"\",\"zerolinecolor\":\"white\",\"gridwidth\":2}},\"shapedefaults\":{\"line\":{\"color\":\"#2a3f5f\"}},\"annotationdefaults\":{\"arrowcolor\":\"#2a3f5f\",\"arrowhead\":0,\"arrowwidth\":1},\"geo\":{\"bgcolor\":\"white\",\"landcolor\":\"#E5ECF6\",\"subunitcolor\":\"white\",\"showland\":true,\"showlakes\":true,\"lakecolor\":\"white\"},\"title\":{\"x\":0.05},\"mapbox\":{\"style\":\"light\"}}},\"xaxis\":{\"anchor\":\"y\",\"domain\":[0.0,1.0],\"title\":{\"text\":\"feature\"}},\"yaxis\":{\"anchor\":\"x\",\"domain\":[0.0,1.0],\"title\":{\"text\":\"importance\"},\"tickmode\":\"auto\",\"nticks\":20},\"legend\":{\"tracegroupgap\":0},\"title\":{\"text\":\"New TOP 50 Important features\"},\"barmode\":\"relative\",\"autosize\":false,\"width\":1100,\"height\":700},                        {\"responsive\": true}                    ).then(function(){\n",
              "                            \n",
              "var gd = document.getElementById('b367af06-cd5d-4818-9d03-be0a3c287088');\n",
              "var x = new MutationObserver(function (mutations, observer) {{\n",
              "        var display = window.getComputedStyle(gd).display;\n",
              "        if (!display || display === 'none') {{\n",
              "            console.log([gd, 'removed!']);\n",
              "            Plotly.purge(gd);\n",
              "            observer.disconnect();\n",
              "        }}\n",
              "}});\n",
              "\n",
              "// Listen for the removal of the full notebook cells\n",
              "var notebookContainer = gd.closest('#notebook-container');\n",
              "if (notebookContainer) {{\n",
              "    x.observe(notebookContainer, {childList: true});\n",
              "}}\n",
              "\n",
              "// Listen for the clearing of the current output cell\n",
              "var outputEl = gd.closest('.output');\n",
              "if (outputEl) {{\n",
              "    x.observe(outputEl, {childList: true});\n",
              "}}\n",
              "\n",
              "                        })                };                            </script>        </div>\n",
              "</body>\n",
              "</html>"
            ]
          },
          "metadata": {}
        }
      ]
    },
    {
      "cell_type": "markdown",
      "source": [
        "First of all, we can see that some of handcrafted features turned out to be successful combination. The most useful feature turned out to be **EXT_SOURCE_AVG** the average of External scoring sources which is a hand-crafted feature.\n",
        "**PAYMENT_ANNUITY_RATIO** is also among top of features.\n",
        "Overall, *Feature engineering* gave us a bit more useful columns to consider.\n",
        "\n",
        "Now, I suggest to use only first 75 features that are most important in order to make training iterations faster."
      ],
      "metadata": {
        "id": "GzApJgCwlbTm"
      }
    },
    {
      "cell_type": "code",
      "source": [
        "TOP_75_FEATS = new_feature_importances[:75][\"feature\"].values\n",
        "TOP_75_FEATS"
      ],
      "metadata": {
        "colab": {
          "base_uri": "https://localhost:8080/"
        },
        "id": "XlWC_kbwi7m0",
        "outputId": "d5607c59-05b8-47bd-b770-0d0e7b342ad3"
      },
      "execution_count": null,
      "outputs": [
        {
          "output_type": "execute_result",
          "data": {
            "text/plain": [
              "array(['EXT_SOUCE_AVG', 'EXT_SOURCE_2', 'EXT_SOURCE_3', 'EXT_SOURCE_1',\n",
              "       'DAYS_CREDIT_mean', 'DAYS_BIRTH', 'PAYMENT_ANNUITY_RATIO',\n",
              "       'DAYS_CREDIT_UPDATE_mean', 'DAYS_CREDIT_ENDDATE_mean',\n",
              "       'AMT_PAYMENT_mean', 'DAYS_EMPLOYED', 'LABOR_PERIOD_RATE',\n",
              "       'CNT_INSTALMENT_FUTURE_mean', 'DAYS_DECISION_mean',\n",
              "       'NUM_INSTALMENT_NUMBER_std', 'CURR_VS_PREV_ANNUITY',\n",
              "       'DAYS_ID_PUBLISH', 'DAYS_INSTALMENT_mean',\n",
              "       'DAYS_LAST_PHONE_CHANGE', 'AMT_INSTALMENT_mean', 'AMT_ANNUITY',\n",
              "       'DAYS_LAST_DUE_1ST_VERSION_mean', 'DAYS_ENTRY_PAYMENT_mean',\n",
              "       'CNT_INSTALMENT_FUTURE_std', 'DAYS_REGISTRATION', 'AMT_CREDIT',\n",
              "       'AMT_CREDIT_SUM_DEBT_mean', 'CURR_REGISTRATION_PERIOD',\n",
              "       'SELLERPLACE_AREA_mean', 'CNT_INSTALMENT_mean',\n",
              "       'DAYS_ENDDATE_FACT_mean', 'CNT_PAYMENT_mean',\n",
              "       'AMT_CREDIT_SUM_mean', 'AMT_INSTALMENT_std',\n",
              "       'AMT_GOODS_PRICE_mean', 'AMT_ANNUITY_mean', 'CREDIT_LOAD_MEAN',\n",
              "       'AMT_APPLICATION_mean', 'CREDIT_LOAD', 'SK_ID_CURR',\n",
              "       'AMT_GOODS_PRICE', 'AMT_CREDIT_mean', 'DECISION_ACTION_TIME',\n",
              "       'NAME_CONTRACT_STATUS_mode', 'CONSUMPTION_RATE',\n",
              "       'DAYS_LAST_DUE_mean', 'HOUR_APPR_PROCESS_START_mean',\n",
              "       'DAYS_ENTRY_PAYMENT_std', 'DAYS_FIRST_DUE_mean',\n",
              "       'CURR_VS_PREV_GOODS_PRICE', 'DAYS_TERMINATION_mean',\n",
              "       'NUM_INSTALMENT_NUMBER_mean', 'REGION_POPULATION_RELATIVE',\n",
              "       'DAYS_FIRST_DRAWING_mean', 'NAME_EDUCATION_TYPE',\n",
              "       'AMT_DOWN_PAYMENT_mean', 'CNT_INSTALMENT_std',\n",
              "       'DAYS_INSTALMENT_std', 'AMT_CREDIT_MAX_OVERDUE_mean',\n",
              "       'AMT_CREDIT_SUM_std', 'POS_MONTHS_BALANCE_std',\n",
              "       'RATE_DOWN_PAYMENT_mean', 'ORGANIZATION_TYPE', 'AMT_INCOME_TOTAL',\n",
              "       'PRODUCT_COMBINATION_mode', 'HOUR_APPR_PROCESS_START',\n",
              "       'CODE_GENDER', 'NAME_INCOME_TYPE', 'OCCUPATION_TYPE',\n",
              "       'TOTALAREA_MODE', 'REGION_RATING_CLIENT_W_CITY', 'LIVINGAREA_AVG',\n",
              "       'YEARS_BEGINEXPLUATATION_MEDI', 'LIVINGAREA_MODE',\n",
              "       'WEEKDAY_APPR_PROCESS_START_mode'], dtype=object)"
            ]
          },
          "metadata": {},
          "execution_count": 31
        }
      ]
    },
    {
      "cell_type": "code",
      "source": [
        "##Leave only important features\n",
        "\n",
        "X_reduced_train = X_train[TOP_75_FEATS]\n",
        "X_reduced_test = X_test[TOP_75_FEATS]"
      ],
      "metadata": {
        "id": "dEECdXsfmeiO"
      },
      "execution_count": null,
      "outputs": []
    },
    {
      "cell_type": "markdown",
      "source": [
        "## Tunning for LightGBM\n",
        "\n",
        " *Using reduced data*"
      ],
      "metadata": {
        "id": "KmUiqfs6nsNT"
      }
    },
    {
      "cell_type": "code",
      "source": [
        "import lightgbm as lgb\n",
        "\n",
        "\n",
        "def lgbm_objective(trial):\n",
        "    param = {\n",
        "        'objective': 'binary',\n",
        "        'metric': 'auc',\n",
        "        'verbosity': -1,\n",
        "        'n_jobs' : -1,\n",
        "        'boosting_type': 'gbdt',\n",
        "        'n_estimators': trial.suggest_int('n_estimators', 100, 900),\n",
        "        'learning_rate': trial.suggest_float('learning_rate', 0.01, 0.2),\n",
        "        'max_depth': trial.suggest_int('max_depth', 3, 8),\n",
        "        'num_leaves': trial.suggest_int('num_leaves', 20, 300),\n",
        "        'min_child_samples': trial.suggest_int('min_child_samples', 5, 100),\n",
        "        'subsample': trial.suggest_float('subsample', 0.5, 1.0),\n",
        "        'colsample_bytree': trial.suggest_float('colsample_bytree', 0.5, 1.0),\n",
        "        'reg_alpha': trial.suggest_float('reg_alpha', 0.0, 1.0),\n",
        "        'reg_lambda': trial.suggest_float('reg_lambda', 0.0, 1.0)\n",
        "    }\n",
        "\n",
        "    clf = lgb.LGBMClassifier(**param)\n",
        "    scores = cross_val_score(clf, X_reduced_train, y_train, cv=3, scoring='roc_auc')\n",
        "    return np.mean(scores)\n",
        "\n",
        "lgbm_study = optuna.create_study(direction=\"maximize\")\n",
        "lgbm_study.optimize(lgbm_objective, n_trials=20, timeout=2400)\n",
        "\n",
        "# Best trial\n",
        "lgbm_trial = lgbm_study.best_trial\n",
        "print(f'Best trial for Gradient Boosting: {lgbm_trial.params}')\n",
        "\n",
        "##Saving study\n",
        "lgbm_study_df = lgbm_study.trials_dataframe()\n",
        "lgbm_study_df.to_csv(\"drive/MyDrive/msds_homecredit/lgbm_study.csv\", index=False)"
      ],
      "metadata": {
        "colab": {
          "base_uri": "https://localhost:8080/"
        },
        "id": "zsubWipaoVf8",
        "outputId": "eb3e412c-058d-48c0-9cff-e23a034fd6e4"
      },
      "execution_count": null,
      "outputs": [
        {
          "output_type": "stream",
          "name": "stderr",
          "text": [
            "[I 2024-01-13 07:49:37,393] A new study created in memory with name: no-name-f9ba2fad-2f1e-431c-bd9e-0df99f1ce2f5\n",
            "A new study created in memory with name: no-name-f9ba2fad-2f1e-431c-bd9e-0df99f1ce2f5\n",
            "A new study created in memory with name: no-name-f9ba2fad-2f1e-431c-bd9e-0df99f1ce2f5\n",
            "[I 2024-01-13 07:50:07,965] Trial 0 finished with value: 0.7648578302655195 and parameters: {'n_estimators': 115, 'learning_rate': 0.16355054833961238, 'max_depth': 4, 'num_leaves': 115, 'min_child_samples': 80, 'subsample': 0.8336654115917892, 'colsample_bytree': 0.5657631877734255, 'reg_alpha': 0.11399181101533484, 'reg_lambda': 0.0418844737267855}. Best is trial 0 with value: 0.7648578302655195.\n",
            "Trial 0 finished with value: 0.7648578302655195 and parameters: {'n_estimators': 115, 'learning_rate': 0.16355054833961238, 'max_depth': 4, 'num_leaves': 115, 'min_child_samples': 80, 'subsample': 0.8336654115917892, 'colsample_bytree': 0.5657631877734255, 'reg_alpha': 0.11399181101533484, 'reg_lambda': 0.0418844737267855}. Best is trial 0 with value: 0.7648578302655195.\n",
            "Trial 0 finished with value: 0.7648578302655195 and parameters: {'n_estimators': 115, 'learning_rate': 0.16355054833961238, 'max_depth': 4, 'num_leaves': 115, 'min_child_samples': 80, 'subsample': 0.8336654115917892, 'colsample_bytree': 0.5657631877734255, 'reg_alpha': 0.11399181101533484, 'reg_lambda': 0.0418844737267855}. Best is trial 0 with value: 0.7648578302655195.\n",
            "[I 2024-01-13 07:51:27,877] Trial 1 finished with value: 0.7651073767819908 and parameters: {'n_estimators': 568, 'learning_rate': 0.18021076079554518, 'max_depth': 3, 'num_leaves': 30, 'min_child_samples': 77, 'subsample': 0.999232780903681, 'colsample_bytree': 0.5974170650076045, 'reg_alpha': 0.09326353168728485, 'reg_lambda': 0.14476724249251527}. Best is trial 1 with value: 0.7651073767819908.\n",
            "Trial 1 finished with value: 0.7651073767819908 and parameters: {'n_estimators': 568, 'learning_rate': 0.18021076079554518, 'max_depth': 3, 'num_leaves': 30, 'min_child_samples': 77, 'subsample': 0.999232780903681, 'colsample_bytree': 0.5974170650076045, 'reg_alpha': 0.09326353168728485, 'reg_lambda': 0.14476724249251527}. Best is trial 1 with value: 0.7651073767819908.\n",
            "Trial 1 finished with value: 0.7651073767819908 and parameters: {'n_estimators': 568, 'learning_rate': 0.18021076079554518, 'max_depth': 3, 'num_leaves': 30, 'min_child_samples': 77, 'subsample': 0.999232780903681, 'colsample_bytree': 0.5974170650076045, 'reg_alpha': 0.09326353168728485, 'reg_lambda': 0.14476724249251527}. Best is trial 1 with value: 0.7651073767819908.\n",
            "[I 2024-01-13 07:52:24,634] Trial 2 finished with value: 0.7685991049077022 and parameters: {'n_estimators': 266, 'learning_rate': 0.062399441596408645, 'max_depth': 5, 'num_leaves': 164, 'min_child_samples': 60, 'subsample': 0.6008381691091832, 'colsample_bytree': 0.5976836785370621, 'reg_alpha': 0.8475146711554606, 'reg_lambda': 0.28749339127442397}. Best is trial 2 with value: 0.7685991049077022.\n",
            "Trial 2 finished with value: 0.7685991049077022 and parameters: {'n_estimators': 266, 'learning_rate': 0.062399441596408645, 'max_depth': 5, 'num_leaves': 164, 'min_child_samples': 60, 'subsample': 0.6008381691091832, 'colsample_bytree': 0.5976836785370621, 'reg_alpha': 0.8475146711554606, 'reg_lambda': 0.28749339127442397}. Best is trial 2 with value: 0.7685991049077022.\n",
            "Trial 2 finished with value: 0.7685991049077022 and parameters: {'n_estimators': 266, 'learning_rate': 0.062399441596408645, 'max_depth': 5, 'num_leaves': 164, 'min_child_samples': 60, 'subsample': 0.6008381691091832, 'colsample_bytree': 0.5976836785370621, 'reg_alpha': 0.8475146711554606, 'reg_lambda': 0.28749339127442397}. Best is trial 2 with value: 0.7685991049077022.\n",
            "[I 2024-01-13 07:53:09,252] Trial 3 finished with value: 0.7541023684172662 and parameters: {'n_estimators': 149, 'learning_rate': 0.17411029934315936, 'max_depth': 6, 'num_leaves': 232, 'min_child_samples': 69, 'subsample': 0.8837716110377165, 'colsample_bytree': 0.620236195631619, 'reg_alpha': 0.29290870021995463, 'reg_lambda': 0.20008369565822715}. Best is trial 2 with value: 0.7685991049077022.\n",
            "Trial 3 finished with value: 0.7541023684172662 and parameters: {'n_estimators': 149, 'learning_rate': 0.17411029934315936, 'max_depth': 6, 'num_leaves': 232, 'min_child_samples': 69, 'subsample': 0.8837716110377165, 'colsample_bytree': 0.620236195631619, 'reg_alpha': 0.29290870021995463, 'reg_lambda': 0.20008369565822715}. Best is trial 2 with value: 0.7685991049077022.\n",
            "Trial 3 finished with value: 0.7541023684172662 and parameters: {'n_estimators': 149, 'learning_rate': 0.17411029934315936, 'max_depth': 6, 'num_leaves': 232, 'min_child_samples': 69, 'subsample': 0.8837716110377165, 'colsample_bytree': 0.620236195631619, 'reg_alpha': 0.29290870021995463, 'reg_lambda': 0.20008369565822715}. Best is trial 2 with value: 0.7685991049077022.\n",
            "[I 2024-01-13 07:54:11,360] Trial 4 finished with value: 0.768956272016772 and parameters: {'n_estimators': 412, 'learning_rate': 0.11080114534033376, 'max_depth': 3, 'num_leaves': 298, 'min_child_samples': 69, 'subsample': 0.5597634064952277, 'colsample_bytree': 0.7490936804755766, 'reg_alpha': 0.3162036506551452, 'reg_lambda': 0.5181986701886921}. Best is trial 4 with value: 0.768956272016772.\n",
            "Trial 4 finished with value: 0.768956272016772 and parameters: {'n_estimators': 412, 'learning_rate': 0.11080114534033376, 'max_depth': 3, 'num_leaves': 298, 'min_child_samples': 69, 'subsample': 0.5597634064952277, 'colsample_bytree': 0.7490936804755766, 'reg_alpha': 0.3162036506551452, 'reg_lambda': 0.5181986701886921}. Best is trial 4 with value: 0.768956272016772.\n",
            "Trial 4 finished with value: 0.768956272016772 and parameters: {'n_estimators': 412, 'learning_rate': 0.11080114534033376, 'max_depth': 3, 'num_leaves': 298, 'min_child_samples': 69, 'subsample': 0.5597634064952277, 'colsample_bytree': 0.7490936804755766, 'reg_alpha': 0.3162036506551452, 'reg_lambda': 0.5181986701886921}. Best is trial 4 with value: 0.768956272016772.\n",
            "[I 2024-01-13 07:54:49,946] Trial 5 finished with value: 0.7646415716258191 and parameters: {'n_estimators': 135, 'learning_rate': 0.1343009250063754, 'max_depth': 6, 'num_leaves': 34, 'min_child_samples': 96, 'subsample': 0.7338455950672065, 'colsample_bytree': 0.808671781875594, 'reg_alpha': 0.6005585108346306, 'reg_lambda': 0.454771349283719}. Best is trial 4 with value: 0.768956272016772.\n",
            "Trial 5 finished with value: 0.7646415716258191 and parameters: {'n_estimators': 135, 'learning_rate': 0.1343009250063754, 'max_depth': 6, 'num_leaves': 34, 'min_child_samples': 96, 'subsample': 0.7338455950672065, 'colsample_bytree': 0.808671781875594, 'reg_alpha': 0.6005585108346306, 'reg_lambda': 0.454771349283719}. Best is trial 4 with value: 0.768956272016772.\n",
            "Trial 5 finished with value: 0.7646415716258191 and parameters: {'n_estimators': 135, 'learning_rate': 0.1343009250063754, 'max_depth': 6, 'num_leaves': 34, 'min_child_samples': 96, 'subsample': 0.7338455950672065, 'colsample_bytree': 0.808671781875594, 'reg_alpha': 0.6005585108346306, 'reg_lambda': 0.454771349283719}. Best is trial 4 with value: 0.768956272016772.\n",
            "[I 2024-01-13 07:56:59,903] Trial 6 finished with value: 0.7692886201685069 and parameters: {'n_estimators': 784, 'learning_rate': 0.043194100846439036, 'max_depth': 4, 'num_leaves': 283, 'min_child_samples': 73, 'subsample': 0.8915513036386504, 'colsample_bytree': 0.7178643284444095, 'reg_alpha': 0.17462572733884008, 'reg_lambda': 0.3881432205746176}. Best is trial 6 with value: 0.7692886201685069.\n",
            "Trial 6 finished with value: 0.7692886201685069 and parameters: {'n_estimators': 784, 'learning_rate': 0.043194100846439036, 'max_depth': 4, 'num_leaves': 283, 'min_child_samples': 73, 'subsample': 0.8915513036386504, 'colsample_bytree': 0.7178643284444095, 'reg_alpha': 0.17462572733884008, 'reg_lambda': 0.3881432205746176}. Best is trial 6 with value: 0.7692886201685069.\n",
            "Trial 6 finished with value: 0.7692886201685069 and parameters: {'n_estimators': 784, 'learning_rate': 0.043194100846439036, 'max_depth': 4, 'num_leaves': 283, 'min_child_samples': 73, 'subsample': 0.8915513036386504, 'colsample_bytree': 0.7178643284444095, 'reg_alpha': 0.17462572733884008, 'reg_lambda': 0.3881432205746176}. Best is trial 6 with value: 0.7692886201685069.\n",
            "[I 2024-01-13 08:00:44,293] Trial 7 finished with value: 0.7342429240410002 and parameters: {'n_estimators': 877, 'learning_rate': 0.16466786965624128, 'max_depth': 7, 'num_leaves': 183, 'min_child_samples': 97, 'subsample': 0.5082740276313991, 'colsample_bytree': 0.5496348138804905, 'reg_alpha': 0.8269437588023953, 'reg_lambda': 0.9630338965420523}. Best is trial 6 with value: 0.7692886201685069.\n",
            "Trial 7 finished with value: 0.7342429240410002 and parameters: {'n_estimators': 877, 'learning_rate': 0.16466786965624128, 'max_depth': 7, 'num_leaves': 183, 'min_child_samples': 97, 'subsample': 0.5082740276313991, 'colsample_bytree': 0.5496348138804905, 'reg_alpha': 0.8269437588023953, 'reg_lambda': 0.9630338965420523}. Best is trial 6 with value: 0.7692886201685069.\n",
            "Trial 7 finished with value: 0.7342429240410002 and parameters: {'n_estimators': 877, 'learning_rate': 0.16466786965624128, 'max_depth': 7, 'num_leaves': 183, 'min_child_samples': 97, 'subsample': 0.5082740276313991, 'colsample_bytree': 0.5496348138804905, 'reg_alpha': 0.8269437588023953, 'reg_lambda': 0.9630338965420523}. Best is trial 6 with value: 0.7692886201685069.\n",
            "[I 2024-01-13 08:01:47,319] Trial 8 finished with value: 0.7611832191343807 and parameters: {'n_estimators': 169, 'learning_rate': 0.14574132026140751, 'max_depth': 7, 'num_leaves': 31, 'min_child_samples': 48, 'subsample': 0.821611899836237, 'colsample_bytree': 0.9099608278762026, 'reg_alpha': 0.5457110597254649, 'reg_lambda': 0.3529064318178693}. Best is trial 6 with value: 0.7692886201685069.\n",
            "Trial 8 finished with value: 0.7611832191343807 and parameters: {'n_estimators': 169, 'learning_rate': 0.14574132026140751, 'max_depth': 7, 'num_leaves': 31, 'min_child_samples': 48, 'subsample': 0.821611899836237, 'colsample_bytree': 0.9099608278762026, 'reg_alpha': 0.5457110597254649, 'reg_lambda': 0.3529064318178693}. Best is trial 6 with value: 0.7692886201685069.\n",
            "Trial 8 finished with value: 0.7611832191343807 and parameters: {'n_estimators': 169, 'learning_rate': 0.14574132026140751, 'max_depth': 7, 'num_leaves': 31, 'min_child_samples': 48, 'subsample': 0.821611899836237, 'colsample_bytree': 0.9099608278762026, 'reg_alpha': 0.5457110597254649, 'reg_lambda': 0.3529064318178693}. Best is trial 6 with value: 0.7692886201685069.\n",
            "[I 2024-01-13 08:03:05,957] Trial 9 finished with value: 0.7687943075587297 and parameters: {'n_estimators': 562, 'learning_rate': 0.0914585875830215, 'max_depth': 3, 'num_leaves': 217, 'min_child_samples': 72, 'subsample': 0.862511948873398, 'colsample_bytree': 0.7457877496855636, 'reg_alpha': 0.5080344954969068, 'reg_lambda': 0.34627274428615307}. Best is trial 6 with value: 0.7692886201685069.\n",
            "Trial 9 finished with value: 0.7687943075587297 and parameters: {'n_estimators': 562, 'learning_rate': 0.0914585875830215, 'max_depth': 3, 'num_leaves': 217, 'min_child_samples': 72, 'subsample': 0.862511948873398, 'colsample_bytree': 0.7457877496855636, 'reg_alpha': 0.5080344954969068, 'reg_lambda': 0.34627274428615307}. Best is trial 6 with value: 0.7692886201685069.\n",
            "Trial 9 finished with value: 0.7687943075587297 and parameters: {'n_estimators': 562, 'learning_rate': 0.0914585875830215, 'max_depth': 3, 'num_leaves': 217, 'min_child_samples': 72, 'subsample': 0.862511948873398, 'colsample_bytree': 0.7457877496855636, 'reg_alpha': 0.5080344954969068, 'reg_lambda': 0.34627274428615307}. Best is trial 6 with value: 0.7692886201685069.\n",
            "[I 2024-01-13 08:09:46,276] Trial 10 finished with value: 0.7642187731560027 and parameters: {'n_estimators': 872, 'learning_rate': 0.011685493156200884, 'max_depth': 8, 'num_leaves': 278, 'min_child_samples': 19, 'subsample': 0.7020083918677474, 'colsample_bytree': 0.9707948657316068, 'reg_alpha': 0.01650687102748405, 'reg_lambda': 0.6995950096438825}. Best is trial 6 with value: 0.7692886201685069.\n",
            "Trial 10 finished with value: 0.7642187731560027 and parameters: {'n_estimators': 872, 'learning_rate': 0.011685493156200884, 'max_depth': 8, 'num_leaves': 278, 'min_child_samples': 19, 'subsample': 0.7020083918677474, 'colsample_bytree': 0.9707948657316068, 'reg_alpha': 0.01650687102748405, 'reg_lambda': 0.6995950096438825}. Best is trial 6 with value: 0.7692886201685069.\n",
            "Trial 10 finished with value: 0.7642187731560027 and parameters: {'n_estimators': 872, 'learning_rate': 0.011685493156200884, 'max_depth': 8, 'num_leaves': 278, 'min_child_samples': 19, 'subsample': 0.7020083918677474, 'colsample_bytree': 0.9707948657316068, 'reg_alpha': 0.01650687102748405, 'reg_lambda': 0.6995950096438825}. Best is trial 6 with value: 0.7692886201685069.\n",
            "[I 2024-01-13 08:11:18,996] Trial 11 finished with value: 0.7692283369000302 and parameters: {'n_estimators': 383, 'learning_rate': 0.05139445824022959, 'max_depth': 4, 'num_leaves': 300, 'min_child_samples': 38, 'subsample': 0.634367312238216, 'colsample_bytree': 0.7284050141210147, 'reg_alpha': 0.3099230199125246, 'reg_lambda': 0.6406666489514294}. Best is trial 6 with value: 0.7692886201685069.\n",
            "Trial 11 finished with value: 0.7692283369000302 and parameters: {'n_estimators': 383, 'learning_rate': 0.05139445824022959, 'max_depth': 4, 'num_leaves': 300, 'min_child_samples': 38, 'subsample': 0.634367312238216, 'colsample_bytree': 0.7284050141210147, 'reg_alpha': 0.3099230199125246, 'reg_lambda': 0.6406666489514294}. Best is trial 6 with value: 0.7692886201685069.\n",
            "Trial 11 finished with value: 0.7692283369000302 and parameters: {'n_estimators': 383, 'learning_rate': 0.05139445824022959, 'max_depth': 4, 'num_leaves': 300, 'min_child_samples': 38, 'subsample': 0.634367312238216, 'colsample_bytree': 0.7284050141210147, 'reg_alpha': 0.3099230199125246, 'reg_lambda': 0.6406666489514294}. Best is trial 6 with value: 0.7692886201685069.\n",
            "[I 2024-01-13 08:13:36,091] Trial 12 finished with value: 0.7694352583834982 and parameters: {'n_estimators': 736, 'learning_rate': 0.033025741087033045, 'max_depth': 4, 'num_leaves': 255, 'min_child_samples': 44, 'subsample': 0.6445350217093543, 'colsample_bytree': 0.6755595391350864, 'reg_alpha': 0.2994334216976069, 'reg_lambda': 0.6895041694431878}. Best is trial 12 with value: 0.7694352583834982.\n",
            "Trial 12 finished with value: 0.7694352583834982 and parameters: {'n_estimators': 736, 'learning_rate': 0.033025741087033045, 'max_depth': 4, 'num_leaves': 255, 'min_child_samples': 44, 'subsample': 0.6445350217093543, 'colsample_bytree': 0.6755595391350864, 'reg_alpha': 0.2994334216976069, 'reg_lambda': 0.6895041694431878}. Best is trial 12 with value: 0.7694352583834982.\n",
            "Trial 12 finished with value: 0.7694352583834982 and parameters: {'n_estimators': 736, 'learning_rate': 0.033025741087033045, 'max_depth': 4, 'num_leaves': 255, 'min_child_samples': 44, 'subsample': 0.6445350217093543, 'colsample_bytree': 0.6755595391350864, 'reg_alpha': 0.2994334216976069, 'reg_lambda': 0.6895041694431878}. Best is trial 12 with value: 0.7694352583834982.\n",
            "[I 2024-01-13 08:15:50,403] Trial 13 finished with value: 0.765975157044901 and parameters: {'n_estimators': 710, 'learning_rate': 0.01452942952217489, 'max_depth': 4, 'num_leaves': 243, 'min_child_samples': 33, 'subsample': 0.9656233934889143, 'colsample_bytree': 0.676083209519803, 'reg_alpha': 0.22252555058850576, 'reg_lambda': 0.8588495380144536}. Best is trial 12 with value: 0.7694352583834982.\n",
            "Trial 13 finished with value: 0.765975157044901 and parameters: {'n_estimators': 710, 'learning_rate': 0.01452942952217489, 'max_depth': 4, 'num_leaves': 243, 'min_child_samples': 33, 'subsample': 0.9656233934889143, 'colsample_bytree': 0.676083209519803, 'reg_alpha': 0.22252555058850576, 'reg_lambda': 0.8588495380144536}. Best is trial 12 with value: 0.7694352583834982.\n",
            "Trial 13 finished with value: 0.765975157044901 and parameters: {'n_estimators': 710, 'learning_rate': 0.01452942952217489, 'max_depth': 4, 'num_leaves': 243, 'min_child_samples': 33, 'subsample': 0.9656233934889143, 'colsample_bytree': 0.676083209519803, 'reg_alpha': 0.22252555058850576, 'reg_lambda': 0.8588495380144536}. Best is trial 12 with value: 0.7694352583834982.\n",
            "[I 2024-01-13 08:18:06,605] Trial 14 finished with value: 0.7684524276729247 and parameters: {'n_estimators': 708, 'learning_rate': 0.04751261426453149, 'max_depth': 5, 'num_leaves': 110, 'min_child_samples': 10, 'subsample': 0.6654523927896606, 'colsample_bytree': 0.6854151831689177, 'reg_alpha': 0.41235661549835645, 'reg_lambda': 0.7046344808556437}. Best is trial 12 with value: 0.7694352583834982.\n",
            "Trial 14 finished with value: 0.7684524276729247 and parameters: {'n_estimators': 708, 'learning_rate': 0.04751261426453149, 'max_depth': 5, 'num_leaves': 110, 'min_child_samples': 10, 'subsample': 0.6654523927896606, 'colsample_bytree': 0.6854151831689177, 'reg_alpha': 0.41235661549835645, 'reg_lambda': 0.7046344808556437}. Best is trial 12 with value: 0.7694352583834982.\n",
            "Trial 14 finished with value: 0.7684524276729247 and parameters: {'n_estimators': 708, 'learning_rate': 0.04751261426453149, 'max_depth': 5, 'num_leaves': 110, 'min_child_samples': 10, 'subsample': 0.6654523927896606, 'colsample_bytree': 0.6854151831689177, 'reg_alpha': 0.41235661549835645, 'reg_lambda': 0.7046344808556437}. Best is trial 12 with value: 0.7694352583834982.\n",
            "[I 2024-01-13 08:20:18,925] Trial 15 finished with value: 0.770104776145481 and parameters: {'n_estimators': 732, 'learning_rate': 0.031316147584151494, 'max_depth': 4, 'num_leaves': 254, 'min_child_samples': 53, 'subsample': 0.7984504967334111, 'colsample_bytree': 0.8251989329299895, 'reg_alpha': 0.6757873677566055, 'reg_lambda': 0.5459196324312461}. Best is trial 15 with value: 0.770104776145481.\n",
            "Trial 15 finished with value: 0.770104776145481 and parameters: {'n_estimators': 732, 'learning_rate': 0.031316147584151494, 'max_depth': 4, 'num_leaves': 254, 'min_child_samples': 53, 'subsample': 0.7984504967334111, 'colsample_bytree': 0.8251989329299895, 'reg_alpha': 0.6757873677566055, 'reg_lambda': 0.5459196324312461}. Best is trial 15 with value: 0.770104776145481.\n",
            "Trial 15 finished with value: 0.770104776145481 and parameters: {'n_estimators': 732, 'learning_rate': 0.031316147584151494, 'max_depth': 4, 'num_leaves': 254, 'min_child_samples': 53, 'subsample': 0.7984504967334111, 'colsample_bytree': 0.8251989329299895, 'reg_alpha': 0.6757873677566055, 'reg_lambda': 0.5459196324312461}. Best is trial 15 with value: 0.770104776145481.\n",
            "[I 2024-01-13 08:22:31,508] Trial 16 finished with value: 0.7651165509806684 and parameters: {'n_estimators': 645, 'learning_rate': 0.07738230676481969, 'max_depth': 5, 'num_leaves': 201, 'min_child_samples': 48, 'subsample': 0.7701127812055378, 'colsample_bytree': 0.8216753337060615, 'reg_alpha': 0.7066579398458367, 'reg_lambda': 0.5541924898964297}. Best is trial 15 with value: 0.770104776145481.\n",
            "Trial 16 finished with value: 0.7651165509806684 and parameters: {'n_estimators': 645, 'learning_rate': 0.07738230676481969, 'max_depth': 5, 'num_leaves': 201, 'min_child_samples': 48, 'subsample': 0.7701127812055378, 'colsample_bytree': 0.8216753337060615, 'reg_alpha': 0.7066579398458367, 'reg_lambda': 0.5541924898964297}. Best is trial 15 with value: 0.770104776145481.\n",
            "Trial 16 finished with value: 0.7651165509806684 and parameters: {'n_estimators': 645, 'learning_rate': 0.07738230676481969, 'max_depth': 5, 'num_leaves': 201, 'min_child_samples': 48, 'subsample': 0.7701127812055378, 'colsample_bytree': 0.8216753337060615, 'reg_alpha': 0.7066579398458367, 'reg_lambda': 0.5541924898964297}. Best is trial 15 with value: 0.770104776145481.\n",
            "[I 2024-01-13 08:25:12,391] Trial 17 finished with value: 0.7694779522633696 and parameters: {'n_estimators': 804, 'learning_rate': 0.031454639560594765, 'max_depth': 4, 'num_leaves': 249, 'min_child_samples': 31, 'subsample': 0.7699101501417451, 'colsample_bytree': 0.8409182937017337, 'reg_alpha': 0.7101698686884657, 'reg_lambda': 0.8143434961094306}. Best is trial 15 with value: 0.770104776145481.\n",
            "Trial 17 finished with value: 0.7694779522633696 and parameters: {'n_estimators': 804, 'learning_rate': 0.031454639560594765, 'max_depth': 4, 'num_leaves': 249, 'min_child_samples': 31, 'subsample': 0.7699101501417451, 'colsample_bytree': 0.8409182937017337, 'reg_alpha': 0.7101698686884657, 'reg_lambda': 0.8143434961094306}. Best is trial 15 with value: 0.770104776145481.\n",
            "Trial 17 finished with value: 0.7694779522633696 and parameters: {'n_estimators': 804, 'learning_rate': 0.031454639560594765, 'max_depth': 4, 'num_leaves': 249, 'min_child_samples': 31, 'subsample': 0.7699101501417451, 'colsample_bytree': 0.8409182937017337, 'reg_alpha': 0.7101698686884657, 'reg_lambda': 0.8143434961094306}. Best is trial 15 with value: 0.770104776145481.\n",
            "[I 2024-01-13 08:27:12,577] Trial 18 finished with value: 0.7693563788807282 and parameters: {'n_estimators': 802, 'learning_rate': 0.11145054857250328, 'max_depth': 3, 'num_leaves': 256, 'min_child_samples': 27, 'subsample': 0.786403593574663, 'colsample_bytree': 0.8452037159417304, 'reg_alpha': 0.9658956090453409, 'reg_lambda': 0.8784809893511254}. Best is trial 15 with value: 0.770104776145481.\n",
            "Trial 18 finished with value: 0.7693563788807282 and parameters: {'n_estimators': 802, 'learning_rate': 0.11145054857250328, 'max_depth': 3, 'num_leaves': 256, 'min_child_samples': 27, 'subsample': 0.786403593574663, 'colsample_bytree': 0.8452037159417304, 'reg_alpha': 0.9658956090453409, 'reg_lambda': 0.8784809893511254}. Best is trial 15 with value: 0.770104776145481.\n",
            "Trial 18 finished with value: 0.7693563788807282 and parameters: {'n_estimators': 802, 'learning_rate': 0.11145054857250328, 'max_depth': 3, 'num_leaves': 256, 'min_child_samples': 27, 'subsample': 0.786403593574663, 'colsample_bytree': 0.8452037159417304, 'reg_alpha': 0.9658956090453409, 'reg_lambda': 0.8784809893511254}. Best is trial 15 with value: 0.770104776145481.\n",
            "[I 2024-01-13 08:29:30,097] Trial 19 finished with value: 0.7668580043049559 and parameters: {'n_estimators': 613, 'learning_rate': 0.07278825247606441, 'max_depth': 5, 'num_leaves': 127, 'min_child_samples': 8, 'subsample': 0.9273609576514614, 'colsample_bytree': 0.892417395291731, 'reg_alpha': 0.6480821035889909, 'reg_lambda': 0.8236473195481512}. Best is trial 15 with value: 0.770104776145481.\n",
            "Trial 19 finished with value: 0.7668580043049559 and parameters: {'n_estimators': 613, 'learning_rate': 0.07278825247606441, 'max_depth': 5, 'num_leaves': 127, 'min_child_samples': 8, 'subsample': 0.9273609576514614, 'colsample_bytree': 0.892417395291731, 'reg_alpha': 0.6480821035889909, 'reg_lambda': 0.8236473195481512}. Best is trial 15 with value: 0.770104776145481.\n",
            "Trial 19 finished with value: 0.7668580043049559 and parameters: {'n_estimators': 613, 'learning_rate': 0.07278825247606441, 'max_depth': 5, 'num_leaves': 127, 'min_child_samples': 8, 'subsample': 0.9273609576514614, 'colsample_bytree': 0.892417395291731, 'reg_alpha': 0.6480821035889909, 'reg_lambda': 0.8236473195481512}. Best is trial 15 with value: 0.770104776145481.\n"
          ]
        },
        {
          "output_type": "stream",
          "name": "stdout",
          "text": [
            "Best trial for Gradient Boosting: {'n_estimators': 732, 'learning_rate': 0.031316147584151494, 'max_depth': 4, 'num_leaves': 254, 'min_child_samples': 53, 'subsample': 0.7984504967334111, 'colsample_bytree': 0.8251989329299895, 'reg_alpha': 0.6757873677566055, 'reg_lambda': 0.5459196324312461}\n"
          ]
        }
      ]
    },
    {
      "cell_type": "code",
      "source": [
        "optuna.visualization.plot_optimization_history(lgbm_study, target_name=\"AUC\")"
      ],
      "metadata": {
        "id": "61221109sVOq",
        "colab": {
          "base_uri": "https://localhost:8080/",
          "height": 542
        },
        "outputId": "0145e584-3020-442b-efa1-66501ed4d19b"
      },
      "execution_count": null,
      "outputs": [
        {
          "output_type": "display_data",
          "data": {
            "text/html": [
              "<html>\n",
              "<head><meta charset=\"utf-8\" /></head>\n",
              "<body>\n",
              "    <div>            <script src=\"https://cdnjs.cloudflare.com/ajax/libs/mathjax/2.7.5/MathJax.js?config=TeX-AMS-MML_SVG\"></script><script type=\"text/javascript\">if (window.MathJax && window.MathJax.Hub && window.MathJax.Hub.Config) {window.MathJax.Hub.Config({SVG: {font: \"STIX-Web\"}});}</script>                <script type=\"text/javascript\">window.PlotlyConfig = {MathJaxConfig: 'local'};</script>\n",
              "        <script charset=\"utf-8\" src=\"https://cdn.plot.ly/plotly-2.24.1.min.js\"></script>                <div id=\"066bdf27-f423-4176-a1f0-32bb12bd6cf4\" class=\"plotly-graph-div\" style=\"height:525px; width:100%;\"></div>            <script type=\"text/javascript\">                                    window.PLOTLYENV=window.PLOTLYENV || {};                                    if (document.getElementById(\"066bdf27-f423-4176-a1f0-32bb12bd6cf4\")) {                    Plotly.newPlot(                        \"066bdf27-f423-4176-a1f0-32bb12bd6cf4\",                        [{\"mode\":\"markers\",\"name\":\"AUC\",\"x\":[0,1,2,3,4,5,6,7,8,9,10,11,12,13,14,15,16,17,18,19],\"y\":[0.7648578302655195,0.7651073767819908,0.7685991049077022,0.7541023684172662,0.768956272016772,0.7646415716258191,0.7692886201685069,0.7342429240410002,0.7611832191343807,0.7687943075587297,0.7642187731560027,0.7692283369000302,0.7694352583834982,0.765975157044901,0.7684524276729247,0.770104776145481,0.7651165509806684,0.7694779522633696,0.7693563788807282,0.7668580043049559],\"type\":\"scatter\"},{\"mode\":\"lines\",\"name\":\"Best Value\",\"x\":[0,1,2,3,4,5,6,7,8,9,10,11,12,13,14,15,16,17,18,19],\"y\":[0.7648578302655195,0.7651073767819908,0.7685991049077022,0.7685991049077022,0.768956272016772,0.768956272016772,0.7692886201685069,0.7692886201685069,0.7692886201685069,0.7692886201685069,0.7692886201685069,0.7692886201685069,0.7694352583834982,0.7694352583834982,0.7694352583834982,0.770104776145481,0.770104776145481,0.770104776145481,0.770104776145481,0.770104776145481],\"type\":\"scatter\"},{\"marker\":{\"color\":\"#cccccc\"},\"mode\":\"markers\",\"name\":\"Infeasible Trial\",\"showlegend\":false,\"x\":[],\"y\":[],\"type\":\"scatter\"}],                        {\"title\":{\"text\":\"Optimization History Plot\"},\"xaxis\":{\"title\":{\"text\":\"Trial\"}},\"yaxis\":{\"title\":{\"text\":\"AUC\"}},\"template\":{\"data\":{\"histogram2dcontour\":[{\"type\":\"histogram2dcontour\",\"colorbar\":{\"outlinewidth\":0,\"ticks\":\"\"},\"colorscale\":[[0.0,\"#0d0887\"],[0.1111111111111111,\"#46039f\"],[0.2222222222222222,\"#7201a8\"],[0.3333333333333333,\"#9c179e\"],[0.4444444444444444,\"#bd3786\"],[0.5555555555555556,\"#d8576b\"],[0.6666666666666666,\"#ed7953\"],[0.7777777777777778,\"#fb9f3a\"],[0.8888888888888888,\"#fdca26\"],[1.0,\"#f0f921\"]]}],\"choropleth\":[{\"type\":\"choropleth\",\"colorbar\":{\"outlinewidth\":0,\"ticks\":\"\"}}],\"histogram2d\":[{\"type\":\"histogram2d\",\"colorbar\":{\"outlinewidth\":0,\"ticks\":\"\"},\"colorscale\":[[0.0,\"#0d0887\"],[0.1111111111111111,\"#46039f\"],[0.2222222222222222,\"#7201a8\"],[0.3333333333333333,\"#9c179e\"],[0.4444444444444444,\"#bd3786\"],[0.5555555555555556,\"#d8576b\"],[0.6666666666666666,\"#ed7953\"],[0.7777777777777778,\"#fb9f3a\"],[0.8888888888888888,\"#fdca26\"],[1.0,\"#f0f921\"]]}],\"heatmap\":[{\"type\":\"heatmap\",\"colorbar\":{\"outlinewidth\":0,\"ticks\":\"\"},\"colorscale\":[[0.0,\"#0d0887\"],[0.1111111111111111,\"#46039f\"],[0.2222222222222222,\"#7201a8\"],[0.3333333333333333,\"#9c179e\"],[0.4444444444444444,\"#bd3786\"],[0.5555555555555556,\"#d8576b\"],[0.6666666666666666,\"#ed7953\"],[0.7777777777777778,\"#fb9f3a\"],[0.8888888888888888,\"#fdca26\"],[1.0,\"#f0f921\"]]}],\"heatmapgl\":[{\"type\":\"heatmapgl\",\"colorbar\":{\"outlinewidth\":0,\"ticks\":\"\"},\"colorscale\":[[0.0,\"#0d0887\"],[0.1111111111111111,\"#46039f\"],[0.2222222222222222,\"#7201a8\"],[0.3333333333333333,\"#9c179e\"],[0.4444444444444444,\"#bd3786\"],[0.5555555555555556,\"#d8576b\"],[0.6666666666666666,\"#ed7953\"],[0.7777777777777778,\"#fb9f3a\"],[0.8888888888888888,\"#fdca26\"],[1.0,\"#f0f921\"]]}],\"contourcarpet\":[{\"type\":\"contourcarpet\",\"colorbar\":{\"outlinewidth\":0,\"ticks\":\"\"}}],\"contour\":[{\"type\":\"contour\",\"colorbar\":{\"outlinewidth\":0,\"ticks\":\"\"},\"colorscale\":[[0.0,\"#0d0887\"],[0.1111111111111111,\"#46039f\"],[0.2222222222222222,\"#7201a8\"],[0.3333333333333333,\"#9c179e\"],[0.4444444444444444,\"#bd3786\"],[0.5555555555555556,\"#d8576b\"],[0.6666666666666666,\"#ed7953\"],[0.7777777777777778,\"#fb9f3a\"],[0.8888888888888888,\"#fdca26\"],[1.0,\"#f0f921\"]]}],\"surface\":[{\"type\":\"surface\",\"colorbar\":{\"outlinewidth\":0,\"ticks\":\"\"},\"colorscale\":[[0.0,\"#0d0887\"],[0.1111111111111111,\"#46039f\"],[0.2222222222222222,\"#7201a8\"],[0.3333333333333333,\"#9c179e\"],[0.4444444444444444,\"#bd3786\"],[0.5555555555555556,\"#d8576b\"],[0.6666666666666666,\"#ed7953\"],[0.7777777777777778,\"#fb9f3a\"],[0.8888888888888888,\"#fdca26\"],[1.0,\"#f0f921\"]]}],\"mesh3d\":[{\"type\":\"mesh3d\",\"colorbar\":{\"outlinewidth\":0,\"ticks\":\"\"}}],\"scatter\":[{\"fillpattern\":{\"fillmode\":\"overlay\",\"size\":10,\"solidity\":0.2},\"type\":\"scatter\"}],\"parcoords\":[{\"type\":\"parcoords\",\"line\":{\"colorbar\":{\"outlinewidth\":0,\"ticks\":\"\"}}}],\"scatterpolargl\":[{\"type\":\"scatterpolargl\",\"marker\":{\"colorbar\":{\"outlinewidth\":0,\"ticks\":\"\"}}}],\"bar\":[{\"error_x\":{\"color\":\"#2a3f5f\"},\"error_y\":{\"color\":\"#2a3f5f\"},\"marker\":{\"line\":{\"color\":\"#E5ECF6\",\"width\":0.5},\"pattern\":{\"fillmode\":\"overlay\",\"size\":10,\"solidity\":0.2}},\"type\":\"bar\"}],\"scattergeo\":[{\"type\":\"scattergeo\",\"marker\":{\"colorbar\":{\"outlinewidth\":0,\"ticks\":\"\"}}}],\"scatterpolar\":[{\"type\":\"scatterpolar\",\"marker\":{\"colorbar\":{\"outlinewidth\":0,\"ticks\":\"\"}}}],\"histogram\":[{\"marker\":{\"pattern\":{\"fillmode\":\"overlay\",\"size\":10,\"solidity\":0.2}},\"type\":\"histogram\"}],\"scattergl\":[{\"type\":\"scattergl\",\"marker\":{\"colorbar\":{\"outlinewidth\":0,\"ticks\":\"\"}}}],\"scatter3d\":[{\"type\":\"scatter3d\",\"line\":{\"colorbar\":{\"outlinewidth\":0,\"ticks\":\"\"}},\"marker\":{\"colorbar\":{\"outlinewidth\":0,\"ticks\":\"\"}}}],\"scattermapbox\":[{\"type\":\"scattermapbox\",\"marker\":{\"colorbar\":{\"outlinewidth\":0,\"ticks\":\"\"}}}],\"scatterternary\":[{\"type\":\"scatterternary\",\"marker\":{\"colorbar\":{\"outlinewidth\":0,\"ticks\":\"\"}}}],\"scattercarpet\":[{\"type\":\"scattercarpet\",\"marker\":{\"colorbar\":{\"outlinewidth\":0,\"ticks\":\"\"}}}],\"carpet\":[{\"aaxis\":{\"endlinecolor\":\"#2a3f5f\",\"gridcolor\":\"white\",\"linecolor\":\"white\",\"minorgridcolor\":\"white\",\"startlinecolor\":\"#2a3f5f\"},\"baxis\":{\"endlinecolor\":\"#2a3f5f\",\"gridcolor\":\"white\",\"linecolor\":\"white\",\"minorgridcolor\":\"white\",\"startlinecolor\":\"#2a3f5f\"},\"type\":\"carpet\"}],\"table\":[{\"cells\":{\"fill\":{\"color\":\"#EBF0F8\"},\"line\":{\"color\":\"white\"}},\"header\":{\"fill\":{\"color\":\"#C8D4E3\"},\"line\":{\"color\":\"white\"}},\"type\":\"table\"}],\"barpolar\":[{\"marker\":{\"line\":{\"color\":\"#E5ECF6\",\"width\":0.5},\"pattern\":{\"fillmode\":\"overlay\",\"size\":10,\"solidity\":0.2}},\"type\":\"barpolar\"}],\"pie\":[{\"automargin\":true,\"type\":\"pie\"}]},\"layout\":{\"autotypenumbers\":\"strict\",\"colorway\":[\"#636efa\",\"#EF553B\",\"#00cc96\",\"#ab63fa\",\"#FFA15A\",\"#19d3f3\",\"#FF6692\",\"#B6E880\",\"#FF97FF\",\"#FECB52\"],\"font\":{\"color\":\"#2a3f5f\"},\"hovermode\":\"closest\",\"hoverlabel\":{\"align\":\"left\"},\"paper_bgcolor\":\"white\",\"plot_bgcolor\":\"#E5ECF6\",\"polar\":{\"bgcolor\":\"#E5ECF6\",\"angularaxis\":{\"gridcolor\":\"white\",\"linecolor\":\"white\",\"ticks\":\"\"},\"radialaxis\":{\"gridcolor\":\"white\",\"linecolor\":\"white\",\"ticks\":\"\"}},\"ternary\":{\"bgcolor\":\"#E5ECF6\",\"aaxis\":{\"gridcolor\":\"white\",\"linecolor\":\"white\",\"ticks\":\"\"},\"baxis\":{\"gridcolor\":\"white\",\"linecolor\":\"white\",\"ticks\":\"\"},\"caxis\":{\"gridcolor\":\"white\",\"linecolor\":\"white\",\"ticks\":\"\"}},\"coloraxis\":{\"colorbar\":{\"outlinewidth\":0,\"ticks\":\"\"}},\"colorscale\":{\"sequential\":[[0.0,\"#0d0887\"],[0.1111111111111111,\"#46039f\"],[0.2222222222222222,\"#7201a8\"],[0.3333333333333333,\"#9c179e\"],[0.4444444444444444,\"#bd3786\"],[0.5555555555555556,\"#d8576b\"],[0.6666666666666666,\"#ed7953\"],[0.7777777777777778,\"#fb9f3a\"],[0.8888888888888888,\"#fdca26\"],[1.0,\"#f0f921\"]],\"sequentialminus\":[[0.0,\"#0d0887\"],[0.1111111111111111,\"#46039f\"],[0.2222222222222222,\"#7201a8\"],[0.3333333333333333,\"#9c179e\"],[0.4444444444444444,\"#bd3786\"],[0.5555555555555556,\"#d8576b\"],[0.6666666666666666,\"#ed7953\"],[0.7777777777777778,\"#fb9f3a\"],[0.8888888888888888,\"#fdca26\"],[1.0,\"#f0f921\"]],\"diverging\":[[0,\"#8e0152\"],[0.1,\"#c51b7d\"],[0.2,\"#de77ae\"],[0.3,\"#f1b6da\"],[0.4,\"#fde0ef\"],[0.5,\"#f7f7f7\"],[0.6,\"#e6f5d0\"],[0.7,\"#b8e186\"],[0.8,\"#7fbc41\"],[0.9,\"#4d9221\"],[1,\"#276419\"]]},\"xaxis\":{\"gridcolor\":\"white\",\"linecolor\":\"white\",\"ticks\":\"\",\"title\":{\"standoff\":15},\"zerolinecolor\":\"white\",\"automargin\":true,\"zerolinewidth\":2},\"yaxis\":{\"gridcolor\":\"white\",\"linecolor\":\"white\",\"ticks\":\"\",\"title\":{\"standoff\":15},\"zerolinecolor\":\"white\",\"automargin\":true,\"zerolinewidth\":2},\"scene\":{\"xaxis\":{\"backgroundcolor\":\"#E5ECF6\",\"gridcolor\":\"white\",\"linecolor\":\"white\",\"showbackground\":true,\"ticks\":\"\",\"zerolinecolor\":\"white\",\"gridwidth\":2},\"yaxis\":{\"backgroundcolor\":\"#E5ECF6\",\"gridcolor\":\"white\",\"linecolor\":\"white\",\"showbackground\":true,\"ticks\":\"\",\"zerolinecolor\":\"white\",\"gridwidth\":2},\"zaxis\":{\"backgroundcolor\":\"#E5ECF6\",\"gridcolor\":\"white\",\"linecolor\":\"white\",\"showbackground\":true,\"ticks\":\"\",\"zerolinecolor\":\"white\",\"gridwidth\":2}},\"shapedefaults\":{\"line\":{\"color\":\"#2a3f5f\"}},\"annotationdefaults\":{\"arrowcolor\":\"#2a3f5f\",\"arrowhead\":0,\"arrowwidth\":1},\"geo\":{\"bgcolor\":\"white\",\"landcolor\":\"#E5ECF6\",\"subunitcolor\":\"white\",\"showland\":true,\"showlakes\":true,\"lakecolor\":\"white\"},\"title\":{\"x\":0.05},\"mapbox\":{\"style\":\"light\"}}}},                        {\"responsive\": true}                    ).then(function(){\n",
              "                            \n",
              "var gd = document.getElementById('066bdf27-f423-4176-a1f0-32bb12bd6cf4');\n",
              "var x = new MutationObserver(function (mutations, observer) {{\n",
              "        var display = window.getComputedStyle(gd).display;\n",
              "        if (!display || display === 'none') {{\n",
              "            console.log([gd, 'removed!']);\n",
              "            Plotly.purge(gd);\n",
              "            observer.disconnect();\n",
              "        }}\n",
              "}});\n",
              "\n",
              "// Listen for the removal of the full notebook cells\n",
              "var notebookContainer = gd.closest('#notebook-container');\n",
              "if (notebookContainer) {{\n",
              "    x.observe(notebookContainer, {childList: true});\n",
              "}}\n",
              "\n",
              "// Listen for the clearing of the current output cell\n",
              "var outputEl = gd.closest('.output');\n",
              "if (outputEl) {{\n",
              "    x.observe(outputEl, {childList: true});\n",
              "}}\n",
              "\n",
              "                        })                };                            </script>        </div>\n",
              "</body>\n",
              "</html>"
            ]
          },
          "metadata": {}
        }
      ]
    },
    {
      "cell_type": "code",
      "source": [
        "optuna.visualization.plot_param_importances(lgbm_study)"
      ],
      "metadata": {
        "colab": {
          "base_uri": "https://localhost:8080/",
          "height": 542
        },
        "id": "rFNZZI-lQtq_",
        "outputId": "cc1daab8-3ba5-466e-8d48-53c0d9eb4009"
      },
      "execution_count": null,
      "outputs": [
        {
          "output_type": "display_data",
          "data": {
            "text/html": [
              "<html>\n",
              "<head><meta charset=\"utf-8\" /></head>\n",
              "<body>\n",
              "    <div>            <script src=\"https://cdnjs.cloudflare.com/ajax/libs/mathjax/2.7.5/MathJax.js?config=TeX-AMS-MML_SVG\"></script><script type=\"text/javascript\">if (window.MathJax && window.MathJax.Hub && window.MathJax.Hub.Config) {window.MathJax.Hub.Config({SVG: {font: \"STIX-Web\"}});}</script>                <script type=\"text/javascript\">window.PlotlyConfig = {MathJaxConfig: 'local'};</script>\n",
              "        <script charset=\"utf-8\" src=\"https://cdn.plot.ly/plotly-2.24.1.min.js\"></script>                <div id=\"1bfda42a-294f-4f14-bc95-195f3dfbc44b\" class=\"plotly-graph-div\" style=\"height:525px; width:100%;\"></div>            <script type=\"text/javascript\">                                    window.PLOTLYENV=window.PLOTLYENV || {};                                    if (document.getElementById(\"1bfda42a-294f-4f14-bc95-195f3dfbc44b\")) {                    Plotly.newPlot(                        \"1bfda42a-294f-4f14-bc95-195f3dfbc44b\",                        [{\"cliponaxis\":false,\"hovertemplate\":[\"num_leaves (IntDistribution): 0.026166793985989045\\u003cextra\\u003e\\u003c\\u002fextra\\u003e\",\"reg_alpha (FloatDistribution): 0.04562922240679962\\u003cextra\\u003e\\u003c\\u002fextra\\u003e\",\"subsample (FloatDistribution): 0.05554227113316553\\u003cextra\\u003e\\u003c\\u002fextra\\u003e\",\"colsample_bytree (FloatDistribution): 0.07300286205018028\\u003cextra\\u003e\\u003c\\u002fextra\\u003e\",\"n_estimators (IntDistribution): 0.09934845971063148\\u003cextra\\u003e\\u003c\\u002fextra\\u003e\",\"reg_lambda (FloatDistribution): 0.11837754102482262\\u003cextra\\u003e\\u003c\\u002fextra\\u003e\",\"min_child_samples (IntDistribution): 0.14735656515456563\\u003cextra\\u003e\\u003c\\u002fextra\\u003e\",\"max_depth (IntDistribution): 0.21055306016158915\\u003cextra\\u003e\\u003c\\u002fextra\\u003e\",\"learning_rate (FloatDistribution): 0.22402322437225675\\u003cextra\\u003e\\u003c\\u002fextra\\u003e\"],\"name\":\"Objective Value\",\"orientation\":\"h\",\"text\":[\"0.03\",\"0.05\",\"0.06\",\"0.07\",\"0.10\",\"0.12\",\"0.15\",\"0.21\",\"0.22\"],\"textposition\":\"outside\",\"x\":[0.026166793985989045,0.04562922240679962,0.05554227113316553,0.07300286205018028,0.09934845971063148,0.11837754102482262,0.14735656515456563,0.21055306016158915,0.22402322437225675],\"y\":[\"num_leaves\",\"reg_alpha\",\"subsample\",\"colsample_bytree\",\"n_estimators\",\"reg_lambda\",\"min_child_samples\",\"max_depth\",\"learning_rate\"],\"type\":\"bar\"}],                        {\"title\":{\"text\":\"Hyperparameter Importances\"},\"xaxis\":{\"title\":{\"text\":\"Hyperparameter Importance\"}},\"yaxis\":{\"title\":{\"text\":\"Hyperparameter\"}},\"template\":{\"data\":{\"histogram2dcontour\":[{\"type\":\"histogram2dcontour\",\"colorbar\":{\"outlinewidth\":0,\"ticks\":\"\"},\"colorscale\":[[0.0,\"#0d0887\"],[0.1111111111111111,\"#46039f\"],[0.2222222222222222,\"#7201a8\"],[0.3333333333333333,\"#9c179e\"],[0.4444444444444444,\"#bd3786\"],[0.5555555555555556,\"#d8576b\"],[0.6666666666666666,\"#ed7953\"],[0.7777777777777778,\"#fb9f3a\"],[0.8888888888888888,\"#fdca26\"],[1.0,\"#f0f921\"]]}],\"choropleth\":[{\"type\":\"choropleth\",\"colorbar\":{\"outlinewidth\":0,\"ticks\":\"\"}}],\"histogram2d\":[{\"type\":\"histogram2d\",\"colorbar\":{\"outlinewidth\":0,\"ticks\":\"\"},\"colorscale\":[[0.0,\"#0d0887\"],[0.1111111111111111,\"#46039f\"],[0.2222222222222222,\"#7201a8\"],[0.3333333333333333,\"#9c179e\"],[0.4444444444444444,\"#bd3786\"],[0.5555555555555556,\"#d8576b\"],[0.6666666666666666,\"#ed7953\"],[0.7777777777777778,\"#fb9f3a\"],[0.8888888888888888,\"#fdca26\"],[1.0,\"#f0f921\"]]}],\"heatmap\":[{\"type\":\"heatmap\",\"colorbar\":{\"outlinewidth\":0,\"ticks\":\"\"},\"colorscale\":[[0.0,\"#0d0887\"],[0.1111111111111111,\"#46039f\"],[0.2222222222222222,\"#7201a8\"],[0.3333333333333333,\"#9c179e\"],[0.4444444444444444,\"#bd3786\"],[0.5555555555555556,\"#d8576b\"],[0.6666666666666666,\"#ed7953\"],[0.7777777777777778,\"#fb9f3a\"],[0.8888888888888888,\"#fdca26\"],[1.0,\"#f0f921\"]]}],\"heatmapgl\":[{\"type\":\"heatmapgl\",\"colorbar\":{\"outlinewidth\":0,\"ticks\":\"\"},\"colorscale\":[[0.0,\"#0d0887\"],[0.1111111111111111,\"#46039f\"],[0.2222222222222222,\"#7201a8\"],[0.3333333333333333,\"#9c179e\"],[0.4444444444444444,\"#bd3786\"],[0.5555555555555556,\"#d8576b\"],[0.6666666666666666,\"#ed7953\"],[0.7777777777777778,\"#fb9f3a\"],[0.8888888888888888,\"#fdca26\"],[1.0,\"#f0f921\"]]}],\"contourcarpet\":[{\"type\":\"contourcarpet\",\"colorbar\":{\"outlinewidth\":0,\"ticks\":\"\"}}],\"contour\":[{\"type\":\"contour\",\"colorbar\":{\"outlinewidth\":0,\"ticks\":\"\"},\"colorscale\":[[0.0,\"#0d0887\"],[0.1111111111111111,\"#46039f\"],[0.2222222222222222,\"#7201a8\"],[0.3333333333333333,\"#9c179e\"],[0.4444444444444444,\"#bd3786\"],[0.5555555555555556,\"#d8576b\"],[0.6666666666666666,\"#ed7953\"],[0.7777777777777778,\"#fb9f3a\"],[0.8888888888888888,\"#fdca26\"],[1.0,\"#f0f921\"]]}],\"surface\":[{\"type\":\"surface\",\"colorbar\":{\"outlinewidth\":0,\"ticks\":\"\"},\"colorscale\":[[0.0,\"#0d0887\"],[0.1111111111111111,\"#46039f\"],[0.2222222222222222,\"#7201a8\"],[0.3333333333333333,\"#9c179e\"],[0.4444444444444444,\"#bd3786\"],[0.5555555555555556,\"#d8576b\"],[0.6666666666666666,\"#ed7953\"],[0.7777777777777778,\"#fb9f3a\"],[0.8888888888888888,\"#fdca26\"],[1.0,\"#f0f921\"]]}],\"mesh3d\":[{\"type\":\"mesh3d\",\"colorbar\":{\"outlinewidth\":0,\"ticks\":\"\"}}],\"scatter\":[{\"fillpattern\":{\"fillmode\":\"overlay\",\"size\":10,\"solidity\":0.2},\"type\":\"scatter\"}],\"parcoords\":[{\"type\":\"parcoords\",\"line\":{\"colorbar\":{\"outlinewidth\":0,\"ticks\":\"\"}}}],\"scatterpolargl\":[{\"type\":\"scatterpolargl\",\"marker\":{\"colorbar\":{\"outlinewidth\":0,\"ticks\":\"\"}}}],\"bar\":[{\"error_x\":{\"color\":\"#2a3f5f\"},\"error_y\":{\"color\":\"#2a3f5f\"},\"marker\":{\"line\":{\"color\":\"#E5ECF6\",\"width\":0.5},\"pattern\":{\"fillmode\":\"overlay\",\"size\":10,\"solidity\":0.2}},\"type\":\"bar\"}],\"scattergeo\":[{\"type\":\"scattergeo\",\"marker\":{\"colorbar\":{\"outlinewidth\":0,\"ticks\":\"\"}}}],\"scatterpolar\":[{\"type\":\"scatterpolar\",\"marker\":{\"colorbar\":{\"outlinewidth\":0,\"ticks\":\"\"}}}],\"histogram\":[{\"marker\":{\"pattern\":{\"fillmode\":\"overlay\",\"size\":10,\"solidity\":0.2}},\"type\":\"histogram\"}],\"scattergl\":[{\"type\":\"scattergl\",\"marker\":{\"colorbar\":{\"outlinewidth\":0,\"ticks\":\"\"}}}],\"scatter3d\":[{\"type\":\"scatter3d\",\"line\":{\"colorbar\":{\"outlinewidth\":0,\"ticks\":\"\"}},\"marker\":{\"colorbar\":{\"outlinewidth\":0,\"ticks\":\"\"}}}],\"scattermapbox\":[{\"type\":\"scattermapbox\",\"marker\":{\"colorbar\":{\"outlinewidth\":0,\"ticks\":\"\"}}}],\"scatterternary\":[{\"type\":\"scatterternary\",\"marker\":{\"colorbar\":{\"outlinewidth\":0,\"ticks\":\"\"}}}],\"scattercarpet\":[{\"type\":\"scattercarpet\",\"marker\":{\"colorbar\":{\"outlinewidth\":0,\"ticks\":\"\"}}}],\"carpet\":[{\"aaxis\":{\"endlinecolor\":\"#2a3f5f\",\"gridcolor\":\"white\",\"linecolor\":\"white\",\"minorgridcolor\":\"white\",\"startlinecolor\":\"#2a3f5f\"},\"baxis\":{\"endlinecolor\":\"#2a3f5f\",\"gridcolor\":\"white\",\"linecolor\":\"white\",\"minorgridcolor\":\"white\",\"startlinecolor\":\"#2a3f5f\"},\"type\":\"carpet\"}],\"table\":[{\"cells\":{\"fill\":{\"color\":\"#EBF0F8\"},\"line\":{\"color\":\"white\"}},\"header\":{\"fill\":{\"color\":\"#C8D4E3\"},\"line\":{\"color\":\"white\"}},\"type\":\"table\"}],\"barpolar\":[{\"marker\":{\"line\":{\"color\":\"#E5ECF6\",\"width\":0.5},\"pattern\":{\"fillmode\":\"overlay\",\"size\":10,\"solidity\":0.2}},\"type\":\"barpolar\"}],\"pie\":[{\"automargin\":true,\"type\":\"pie\"}]},\"layout\":{\"autotypenumbers\":\"strict\",\"colorway\":[\"#636efa\",\"#EF553B\",\"#00cc96\",\"#ab63fa\",\"#FFA15A\",\"#19d3f3\",\"#FF6692\",\"#B6E880\",\"#FF97FF\",\"#FECB52\"],\"font\":{\"color\":\"#2a3f5f\"},\"hovermode\":\"closest\",\"hoverlabel\":{\"align\":\"left\"},\"paper_bgcolor\":\"white\",\"plot_bgcolor\":\"#E5ECF6\",\"polar\":{\"bgcolor\":\"#E5ECF6\",\"angularaxis\":{\"gridcolor\":\"white\",\"linecolor\":\"white\",\"ticks\":\"\"},\"radialaxis\":{\"gridcolor\":\"white\",\"linecolor\":\"white\",\"ticks\":\"\"}},\"ternary\":{\"bgcolor\":\"#E5ECF6\",\"aaxis\":{\"gridcolor\":\"white\",\"linecolor\":\"white\",\"ticks\":\"\"},\"baxis\":{\"gridcolor\":\"white\",\"linecolor\":\"white\",\"ticks\":\"\"},\"caxis\":{\"gridcolor\":\"white\",\"linecolor\":\"white\",\"ticks\":\"\"}},\"coloraxis\":{\"colorbar\":{\"outlinewidth\":0,\"ticks\":\"\"}},\"colorscale\":{\"sequential\":[[0.0,\"#0d0887\"],[0.1111111111111111,\"#46039f\"],[0.2222222222222222,\"#7201a8\"],[0.3333333333333333,\"#9c179e\"],[0.4444444444444444,\"#bd3786\"],[0.5555555555555556,\"#d8576b\"],[0.6666666666666666,\"#ed7953\"],[0.7777777777777778,\"#fb9f3a\"],[0.8888888888888888,\"#fdca26\"],[1.0,\"#f0f921\"]],\"sequentialminus\":[[0.0,\"#0d0887\"],[0.1111111111111111,\"#46039f\"],[0.2222222222222222,\"#7201a8\"],[0.3333333333333333,\"#9c179e\"],[0.4444444444444444,\"#bd3786\"],[0.5555555555555556,\"#d8576b\"],[0.6666666666666666,\"#ed7953\"],[0.7777777777777778,\"#fb9f3a\"],[0.8888888888888888,\"#fdca26\"],[1.0,\"#f0f921\"]],\"diverging\":[[0,\"#8e0152\"],[0.1,\"#c51b7d\"],[0.2,\"#de77ae\"],[0.3,\"#f1b6da\"],[0.4,\"#fde0ef\"],[0.5,\"#f7f7f7\"],[0.6,\"#e6f5d0\"],[0.7,\"#b8e186\"],[0.8,\"#7fbc41\"],[0.9,\"#4d9221\"],[1,\"#276419\"]]},\"xaxis\":{\"gridcolor\":\"white\",\"linecolor\":\"white\",\"ticks\":\"\",\"title\":{\"standoff\":15},\"zerolinecolor\":\"white\",\"automargin\":true,\"zerolinewidth\":2},\"yaxis\":{\"gridcolor\":\"white\",\"linecolor\":\"white\",\"ticks\":\"\",\"title\":{\"standoff\":15},\"zerolinecolor\":\"white\",\"automargin\":true,\"zerolinewidth\":2},\"scene\":{\"xaxis\":{\"backgroundcolor\":\"#E5ECF6\",\"gridcolor\":\"white\",\"linecolor\":\"white\",\"showbackground\":true,\"ticks\":\"\",\"zerolinecolor\":\"white\",\"gridwidth\":2},\"yaxis\":{\"backgroundcolor\":\"#E5ECF6\",\"gridcolor\":\"white\",\"linecolor\":\"white\",\"showbackground\":true,\"ticks\":\"\",\"zerolinecolor\":\"white\",\"gridwidth\":2},\"zaxis\":{\"backgroundcolor\":\"#E5ECF6\",\"gridcolor\":\"white\",\"linecolor\":\"white\",\"showbackground\":true,\"ticks\":\"\",\"zerolinecolor\":\"white\",\"gridwidth\":2}},\"shapedefaults\":{\"line\":{\"color\":\"#2a3f5f\"}},\"annotationdefaults\":{\"arrowcolor\":\"#2a3f5f\",\"arrowhead\":0,\"arrowwidth\":1},\"geo\":{\"bgcolor\":\"white\",\"landcolor\":\"#E5ECF6\",\"subunitcolor\":\"white\",\"showland\":true,\"showlakes\":true,\"lakecolor\":\"white\"},\"title\":{\"x\":0.05},\"mapbox\":{\"style\":\"light\"}}}},                        {\"responsive\": true}                    ).then(function(){\n",
              "                            \n",
              "var gd = document.getElementById('1bfda42a-294f-4f14-bc95-195f3dfbc44b');\n",
              "var x = new MutationObserver(function (mutations, observer) {{\n",
              "        var display = window.getComputedStyle(gd).display;\n",
              "        if (!display || display === 'none') {{\n",
              "            console.log([gd, 'removed!']);\n",
              "            Plotly.purge(gd);\n",
              "            observer.disconnect();\n",
              "        }}\n",
              "}});\n",
              "\n",
              "// Listen for the removal of the full notebook cells\n",
              "var notebookContainer = gd.closest('#notebook-container');\n",
              "if (notebookContainer) {{\n",
              "    x.observe(notebookContainer, {childList: true});\n",
              "}}\n",
              "\n",
              "// Listen for the clearing of the current output cell\n",
              "var outputEl = gd.closest('.output');\n",
              "if (outputEl) {{\n",
              "    x.observe(outputEl, {childList: true});\n",
              "}}\n",
              "\n",
              "                        })                };                            </script>        </div>\n",
              "</body>\n",
              "</html>"
            ]
          },
          "metadata": {}
        }
      ]
    },
    {
      "cell_type": "code",
      "source": [
        "lgbm_best_params = {'n_estimators': 732, 'learning_rate': 0.031316147584151494, 'max_depth': 4,\n",
        "                    'num_leaves': 254, 'min_child_samples': 53, 'subsample': 0.7984504967334111,\n",
        "                    'colsample_bytree': 0.8251989329299895,\n",
        "                    'reg_alpha': 0.6757873677566055, 'reg_lambda': 0.5459196324312461}"
      ],
      "metadata": {
        "id": "_DW_RRiQbyoP"
      },
      "execution_count": null,
      "outputs": []
    },
    {
      "cell_type": "markdown",
      "source": [
        "## Tunning for XGBoost\n",
        "---\n",
        "\n"
      ],
      "metadata": {
        "id": "mNIMusdEeKNH"
      }
    },
    {
      "cell_type": "code",
      "source": [
        "from xgboost import XGBClassifier\n",
        "\n",
        "def xgb_objective(trial):\n",
        "\n",
        "    param = {\n",
        "        'max_depth': trial.suggest_int('max_depth', 1, 10),\n",
        "        'learning_rate': trial.suggest_float('learning_rate', 0.01, 1.0),\n",
        "        'n_estimators': trial.suggest_int('n_estimators', 50, 500),\n",
        "        'min_child_weight': trial.suggest_int('min_child_weight', 1, 10),\n",
        "        'gamma': trial.suggest_float('gamma', 1e-8, 1.0, log=True),\n",
        "        'subsample': trial.suggest_float('subsample', 0.01, 1.0),\n",
        "        'colsample_bytree': trial.suggest_float('colsample_bytree', 0.01, 1.0, log=True),\n",
        "        'reg_alpha': trial.suggest_float('reg_alpha', 1e-8, 1.0, log=True),\n",
        "        'reg_lambda': trial.suggest_float('reg_lambda', 1e-8, 1.0, log=True),\n",
        "        'eval_metric': 'mlogloss',\n",
        "        'use_label_encoder': False,\n",
        "        'device' : 'cuda'\n",
        "    }\n",
        "\n",
        "\n",
        "    clf = XGBClassifier(**param)\n",
        "    scores = cross_val_score(clf, X_reduced_train, y_train, cv=3, scoring='roc_auc')\n",
        "    return np.mean(scores)"
      ],
      "metadata": {
        "id": "DDITWtYHjWVa"
      },
      "execution_count": null,
      "outputs": []
    },
    {
      "cell_type": "code",
      "source": [
        "xgb_study = optuna.create_study(direction=\"maximize\")\n",
        "xgb_study.optimize(xgb_objective, n_trials=20, timeout=2400)\n",
        "\n",
        "# Best trial\n",
        "xgb_trial = xgb_study.best_trial\n",
        "print(f'Best trial for Gradient Boosting: {xgb_trial.params}')\n",
        "\n",
        "##Saving study\n",
        "xgb_study_df = xgb_study.trials_dataframe()\n",
        "xgb_study_df.to_csv(\"drive/MyDrive/msds_homecredit/xgb_study.csv\", index=False)"
      ],
      "metadata": {
        "colab": {
          "base_uri": "https://localhost:8080/"
        },
        "id": "TzpMnQSq8X15",
        "outputId": "48f3a60b-fa9a-464c-ed5d-cc92a53c143e"
      },
      "execution_count": null,
      "outputs": [
        {
          "output_type": "stream",
          "name": "stderr",
          "text": [
            "[I 2024-01-13 08:34:56,975] A new study created in memory with name: no-name-30cd1719-c560-446e-934c-b5fa44ea5628\n",
            "A new study created in memory with name: no-name-30cd1719-c560-446e-934c-b5fa44ea5628\n",
            "A new study created in memory with name: no-name-30cd1719-c560-446e-934c-b5fa44ea5628\n",
            "[I 2024-01-13 08:35:07,890] Trial 0 finished with value: 0.754263443183404 and parameters: {'max_depth': 1, 'learning_rate': 0.927200974282978, 'n_estimators': 70, 'min_child_weight': 2, 'gamma': 0.007460526328726022, 'subsample': 0.6988110327627195, 'colsample_bytree': 0.13103387474723274, 'reg_alpha': 0.00011259149658238417, 'reg_lambda': 8.65148311804781e-08}. Best is trial 0 with value: 0.754263443183404.\n",
            "Trial 0 finished with value: 0.754263443183404 and parameters: {'max_depth': 1, 'learning_rate': 0.927200974282978, 'n_estimators': 70, 'min_child_weight': 2, 'gamma': 0.007460526328726022, 'subsample': 0.6988110327627195, 'colsample_bytree': 0.13103387474723274, 'reg_alpha': 0.00011259149658238417, 'reg_lambda': 8.65148311804781e-08}. Best is trial 0 with value: 0.754263443183404.\n",
            "Trial 0 finished with value: 0.754263443183404 and parameters: {'max_depth': 1, 'learning_rate': 0.927200974282978, 'n_estimators': 70, 'min_child_weight': 2, 'gamma': 0.007460526328726022, 'subsample': 0.6988110327627195, 'colsample_bytree': 0.13103387474723274, 'reg_alpha': 0.00011259149658238417, 'reg_lambda': 8.65148311804781e-08}. Best is trial 0 with value: 0.754263443183404.\n",
            "[I 2024-01-13 08:35:20,903] Trial 1 finished with value: 0.7428836548776238 and parameters: {'max_depth': 2, 'learning_rate': 0.9509094614037317, 'n_estimators': 335, 'min_child_weight': 10, 'gamma': 6.979368818399697e-05, 'subsample': 0.7702990188397902, 'colsample_bytree': 0.43099131780916594, 'reg_alpha': 8.547424519935826e-05, 'reg_lambda': 0.07135767646302048}. Best is trial 0 with value: 0.754263443183404.\n",
            "Trial 1 finished with value: 0.7428836548776238 and parameters: {'max_depth': 2, 'learning_rate': 0.9509094614037317, 'n_estimators': 335, 'min_child_weight': 10, 'gamma': 6.979368818399697e-05, 'subsample': 0.7702990188397902, 'colsample_bytree': 0.43099131780916594, 'reg_alpha': 8.547424519935826e-05, 'reg_lambda': 0.07135767646302048}. Best is trial 0 with value: 0.754263443183404.\n",
            "Trial 1 finished with value: 0.7428836548776238 and parameters: {'max_depth': 2, 'learning_rate': 0.9509094614037317, 'n_estimators': 335, 'min_child_weight': 10, 'gamma': 6.979368818399697e-05, 'subsample': 0.7702990188397902, 'colsample_bytree': 0.43099131780916594, 'reg_alpha': 8.547424519935826e-05, 'reg_lambda': 0.07135767646302048}. Best is trial 0 with value: 0.754263443183404.\n",
            "[I 2024-01-13 08:35:31,654] Trial 2 finished with value: 0.7582597253486516 and parameters: {'max_depth': 2, 'learning_rate': 0.13257165300263524, 'n_estimators': 120, 'min_child_weight': 4, 'gamma': 1.803727572416682e-05, 'subsample': 0.8545599185730691, 'colsample_bytree': 0.08011272934697958, 'reg_alpha': 2.5614356012950347e-05, 'reg_lambda': 0.47203961146418477}. Best is trial 2 with value: 0.7582597253486516.\n",
            "Trial 2 finished with value: 0.7582597253486516 and parameters: {'max_depth': 2, 'learning_rate': 0.13257165300263524, 'n_estimators': 120, 'min_child_weight': 4, 'gamma': 1.803727572416682e-05, 'subsample': 0.8545599185730691, 'colsample_bytree': 0.08011272934697958, 'reg_alpha': 2.5614356012950347e-05, 'reg_lambda': 0.47203961146418477}. Best is trial 2 with value: 0.7582597253486516.\n",
            "Trial 2 finished with value: 0.7582597253486516 and parameters: {'max_depth': 2, 'learning_rate': 0.13257165300263524, 'n_estimators': 120, 'min_child_weight': 4, 'gamma': 1.803727572416682e-05, 'subsample': 0.8545599185730691, 'colsample_bytree': 0.08011272934697958, 'reg_alpha': 2.5614356012950347e-05, 'reg_lambda': 0.47203961146418477}. Best is trial 2 with value: 0.7582597253486516.\n",
            "[I 2024-01-13 08:35:42,724] Trial 3 finished with value: 0.6917334409161091 and parameters: {'max_depth': 5, 'learning_rate': 0.6444869522129916, 'n_estimators': 150, 'min_child_weight': 3, 'gamma': 1.4297296567333757e-08, 'subsample': 0.5306347905052139, 'colsample_bytree': 0.12984219066320246, 'reg_alpha': 0.040204153253679716, 'reg_lambda': 0.0008747305876124126}. Best is trial 2 with value: 0.7582597253486516.\n",
            "Trial 3 finished with value: 0.6917334409161091 and parameters: {'max_depth': 5, 'learning_rate': 0.6444869522129916, 'n_estimators': 150, 'min_child_weight': 3, 'gamma': 1.4297296567333757e-08, 'subsample': 0.5306347905052139, 'colsample_bytree': 0.12984219066320246, 'reg_alpha': 0.040204153253679716, 'reg_lambda': 0.0008747305876124126}. Best is trial 2 with value: 0.7582597253486516.\n",
            "Trial 3 finished with value: 0.6917334409161091 and parameters: {'max_depth': 5, 'learning_rate': 0.6444869522129916, 'n_estimators': 150, 'min_child_weight': 3, 'gamma': 1.4297296567333757e-08, 'subsample': 0.5306347905052139, 'colsample_bytree': 0.12984219066320246, 'reg_alpha': 0.040204153253679716, 'reg_lambda': 0.0008747305876124126}. Best is trial 2 with value: 0.7582597253486516.\n",
            "[I 2024-01-13 08:35:54,980] Trial 4 finished with value: 0.7231756337905165 and parameters: {'max_depth': 4, 'learning_rate': 0.6208766498526596, 'n_estimators': 182, 'min_child_weight': 7, 'gamma': 4.540930138621536e-05, 'subsample': 0.7408199133451266, 'colsample_bytree': 0.0815256058867124, 'reg_alpha': 2.983509595297701e-08, 'reg_lambda': 3.984176995597476e-05}. Best is trial 2 with value: 0.7582597253486516.\n",
            "Trial 4 finished with value: 0.7231756337905165 and parameters: {'max_depth': 4, 'learning_rate': 0.6208766498526596, 'n_estimators': 182, 'min_child_weight': 7, 'gamma': 4.540930138621536e-05, 'subsample': 0.7408199133451266, 'colsample_bytree': 0.0815256058867124, 'reg_alpha': 2.983509595297701e-08, 'reg_lambda': 3.984176995597476e-05}. Best is trial 2 with value: 0.7582597253486516.\n",
            "Trial 4 finished with value: 0.7231756337905165 and parameters: {'max_depth': 4, 'learning_rate': 0.6208766498526596, 'n_estimators': 182, 'min_child_weight': 7, 'gamma': 4.540930138621536e-05, 'subsample': 0.7408199133451266, 'colsample_bytree': 0.0815256058867124, 'reg_alpha': 2.983509595297701e-08, 'reg_lambda': 3.984176995597476e-05}. Best is trial 2 with value: 0.7582597253486516.\n",
            "[I 2024-01-13 08:36:11,482] Trial 5 finished with value: 0.6558526270593991 and parameters: {'max_depth': 6, 'learning_rate': 0.8459415404523498, 'n_estimators': 360, 'min_child_weight': 10, 'gamma': 0.06674023370224594, 'subsample': 0.44311993543748035, 'colsample_bytree': 0.22887571309408744, 'reg_alpha': 0.4828610250219717, 'reg_lambda': 0.0004062053615456506}. Best is trial 2 with value: 0.7582597253486516.\n",
            "Trial 5 finished with value: 0.6558526270593991 and parameters: {'max_depth': 6, 'learning_rate': 0.8459415404523498, 'n_estimators': 360, 'min_child_weight': 10, 'gamma': 0.06674023370224594, 'subsample': 0.44311993543748035, 'colsample_bytree': 0.22887571309408744, 'reg_alpha': 0.4828610250219717, 'reg_lambda': 0.0004062053615456506}. Best is trial 2 with value: 0.7582597253486516.\n",
            "Trial 5 finished with value: 0.6558526270593991 and parameters: {'max_depth': 6, 'learning_rate': 0.8459415404523498, 'n_estimators': 360, 'min_child_weight': 10, 'gamma': 0.06674023370224594, 'subsample': 0.44311993543748035, 'colsample_bytree': 0.22887571309408744, 'reg_alpha': 0.4828610250219717, 'reg_lambda': 0.0004062053615456506}. Best is trial 2 with value: 0.7582597253486516.\n",
            "[I 2024-01-13 08:36:24,322] Trial 6 finished with value: 0.751045392047457 and parameters: {'max_depth': 2, 'learning_rate': 0.6011804218031469, 'n_estimators': 271, 'min_child_weight': 5, 'gamma': 0.09386183283951036, 'subsample': 0.36721199408699406, 'colsample_bytree': 0.01214711205344268, 'reg_alpha': 0.0005847816717239928, 'reg_lambda': 2.0044791160081457e-07}. Best is trial 2 with value: 0.7582597253486516.\n",
            "Trial 6 finished with value: 0.751045392047457 and parameters: {'max_depth': 2, 'learning_rate': 0.6011804218031469, 'n_estimators': 271, 'min_child_weight': 5, 'gamma': 0.09386183283951036, 'subsample': 0.36721199408699406, 'colsample_bytree': 0.01214711205344268, 'reg_alpha': 0.0005847816717239928, 'reg_lambda': 2.0044791160081457e-07}. Best is trial 2 with value: 0.7582597253486516.\n",
            "Trial 6 finished with value: 0.751045392047457 and parameters: {'max_depth': 2, 'learning_rate': 0.6011804218031469, 'n_estimators': 271, 'min_child_weight': 5, 'gamma': 0.09386183283951036, 'subsample': 0.36721199408699406, 'colsample_bytree': 0.01214711205344268, 'reg_alpha': 0.0005847816717239928, 'reg_lambda': 2.0044791160081457e-07}. Best is trial 2 with value: 0.7582597253486516.\n",
            "[I 2024-01-13 08:36:37,024] Trial 7 finished with value: 0.7329059022658204 and parameters: {'max_depth': 5, 'learning_rate': 0.025290918212661995, 'n_estimators': 177, 'min_child_weight': 1, 'gamma': 2.6106782543378968e-08, 'subsample': 0.3186045862182442, 'colsample_bytree': 0.017834538762392695, 'reg_alpha': 8.632792630920378e-05, 'reg_lambda': 0.02410908353363352}. Best is trial 2 with value: 0.7582597253486516.\n",
            "Trial 7 finished with value: 0.7329059022658204 and parameters: {'max_depth': 5, 'learning_rate': 0.025290918212661995, 'n_estimators': 177, 'min_child_weight': 1, 'gamma': 2.6106782543378968e-08, 'subsample': 0.3186045862182442, 'colsample_bytree': 0.017834538762392695, 'reg_alpha': 8.632792630920378e-05, 'reg_lambda': 0.02410908353363352}. Best is trial 2 with value: 0.7582597253486516.\n",
            "Trial 7 finished with value: 0.7329059022658204 and parameters: {'max_depth': 5, 'learning_rate': 0.025290918212661995, 'n_estimators': 177, 'min_child_weight': 1, 'gamma': 2.6106782543378968e-08, 'subsample': 0.3186045862182442, 'colsample_bytree': 0.017834538762392695, 'reg_alpha': 8.632792630920378e-05, 'reg_lambda': 0.02410908353363352}. Best is trial 2 with value: 0.7582597253486516.\n",
            "[I 2024-01-13 08:36:49,450] Trial 8 finished with value: 0.7147685710835051 and parameters: {'max_depth': 5, 'learning_rate': 0.7068965341561051, 'n_estimators': 143, 'min_child_weight': 8, 'gamma': 1.0220378319319472e-06, 'subsample': 0.7927600684670475, 'colsample_bytree': 0.06046113826871135, 'reg_alpha': 0.0035834182265991415, 'reg_lambda': 1.1782129621915887e-06}. Best is trial 2 with value: 0.7582597253486516.\n",
            "Trial 8 finished with value: 0.7147685710835051 and parameters: {'max_depth': 5, 'learning_rate': 0.7068965341561051, 'n_estimators': 143, 'min_child_weight': 8, 'gamma': 1.0220378319319472e-06, 'subsample': 0.7927600684670475, 'colsample_bytree': 0.06046113826871135, 'reg_alpha': 0.0035834182265991415, 'reg_lambda': 1.1782129621915887e-06}. Best is trial 2 with value: 0.7582597253486516.\n",
            "Trial 8 finished with value: 0.7147685710835051 and parameters: {'max_depth': 5, 'learning_rate': 0.7068965341561051, 'n_estimators': 143, 'min_child_weight': 8, 'gamma': 1.0220378319319472e-06, 'subsample': 0.7927600684670475, 'colsample_bytree': 0.06046113826871135, 'reg_alpha': 0.0035834182265991415, 'reg_lambda': 1.1782129621915887e-06}. Best is trial 2 with value: 0.7582597253486516.\n",
            "[I 2024-01-13 08:36:58,763] Trial 9 finished with value: 0.6914488812786246 and parameters: {'max_depth': 7, 'learning_rate': 0.6527429268042728, 'n_estimators': 50, 'min_child_weight': 3, 'gamma': 0.005076320716979114, 'subsample': 0.7972498239123871, 'colsample_bytree': 0.27435532514657274, 'reg_alpha': 3.228108247500264e-07, 'reg_lambda': 4.628770565249059e-05}. Best is trial 2 with value: 0.7582597253486516.\n",
            "Trial 9 finished with value: 0.6914488812786246 and parameters: {'max_depth': 7, 'learning_rate': 0.6527429268042728, 'n_estimators': 50, 'min_child_weight': 3, 'gamma': 0.005076320716979114, 'subsample': 0.7972498239123871, 'colsample_bytree': 0.27435532514657274, 'reg_alpha': 3.228108247500264e-07, 'reg_lambda': 4.628770565249059e-05}. Best is trial 2 with value: 0.7582597253486516.\n",
            "Trial 9 finished with value: 0.6914488812786246 and parameters: {'max_depth': 7, 'learning_rate': 0.6527429268042728, 'n_estimators': 50, 'min_child_weight': 3, 'gamma': 0.005076320716979114, 'subsample': 0.7972498239123871, 'colsample_bytree': 0.27435532514657274, 'reg_alpha': 3.228108247500264e-07, 'reg_lambda': 4.628770565249059e-05}. Best is trial 2 with value: 0.7582597253486516.\n",
            "[I 2024-01-13 08:37:16,785] Trial 10 finished with value: 0.6656203086164396 and parameters: {'max_depth': 9, 'learning_rate': 0.21771317469010237, 'n_estimators': 281, 'min_child_weight': 5, 'gamma': 1.6331117917234695e-06, 'subsample': 0.025429269233314122, 'colsample_bytree': 0.03278240168176512, 'reg_alpha': 8.995732592934369e-07, 'reg_lambda': 0.5101911825049333}. Best is trial 2 with value: 0.7582597253486516.\n",
            "Trial 10 finished with value: 0.6656203086164396 and parameters: {'max_depth': 9, 'learning_rate': 0.21771317469010237, 'n_estimators': 281, 'min_child_weight': 5, 'gamma': 1.6331117917234695e-06, 'subsample': 0.025429269233314122, 'colsample_bytree': 0.03278240168176512, 'reg_alpha': 8.995732592934369e-07, 'reg_lambda': 0.5101911825049333}. Best is trial 2 with value: 0.7582597253486516.\n",
            "Trial 10 finished with value: 0.6656203086164396 and parameters: {'max_depth': 9, 'learning_rate': 0.21771317469010237, 'n_estimators': 281, 'min_child_weight': 5, 'gamma': 1.6331117917234695e-06, 'subsample': 0.025429269233314122, 'colsample_bytree': 0.03278240168176512, 'reg_alpha': 8.995732592934369e-07, 'reg_lambda': 0.5101911825049333}. Best is trial 2 with value: 0.7582597253486516.\n",
            "[I 2024-01-13 08:37:26,660] Trial 11 finished with value: 0.7508057027228804 and parameters: {'max_depth': 1, 'learning_rate': 0.3037340945692274, 'n_estimators': 70, 'min_child_weight': 1, 'gamma': 0.0020150848182111368, 'subsample': 0.9628255668543367, 'colsample_bytree': 0.9893237487580866, 'reg_alpha': 2.5280533792490234e-06, 'reg_lambda': 1.9561729392940453e-08}. Best is trial 2 with value: 0.7582597253486516.\n",
            "Trial 11 finished with value: 0.7508057027228804 and parameters: {'max_depth': 1, 'learning_rate': 0.3037340945692274, 'n_estimators': 70, 'min_child_weight': 1, 'gamma': 0.0020150848182111368, 'subsample': 0.9628255668543367, 'colsample_bytree': 0.9893237487580866, 'reg_alpha': 2.5280533792490234e-06, 'reg_lambda': 1.9561729392940453e-08}. Best is trial 2 with value: 0.7582597253486516.\n",
            "Trial 11 finished with value: 0.7508057027228804 and parameters: {'max_depth': 1, 'learning_rate': 0.3037340945692274, 'n_estimators': 70, 'min_child_weight': 1, 'gamma': 0.0020150848182111368, 'subsample': 0.9628255668543367, 'colsample_bytree': 0.9893237487580866, 'reg_alpha': 2.5280533792490234e-06, 'reg_lambda': 1.9561729392940453e-08}. Best is trial 2 with value: 0.7582597253486516.\n",
            "[I 2024-01-13 08:37:41,914] Trial 12 finished with value: 0.7554966782336642 and parameters: {'max_depth': 3, 'learning_rate': 0.4029588135184633, 'n_estimators': 481, 'min_child_weight': 3, 'gamma': 0.0008475939833266784, 'subsample': 0.9730086418313635, 'colsample_bytree': 0.04153019990277072, 'reg_alpha': 1.0358355256923459e-05, 'reg_lambda': 2.468733064999663e-06}. Best is trial 2 with value: 0.7582597253486516.\n",
            "Trial 12 finished with value: 0.7554966782336642 and parameters: {'max_depth': 3, 'learning_rate': 0.4029588135184633, 'n_estimators': 481, 'min_child_weight': 3, 'gamma': 0.0008475939833266784, 'subsample': 0.9730086418313635, 'colsample_bytree': 0.04153019990277072, 'reg_alpha': 1.0358355256923459e-05, 'reg_lambda': 2.468733064999663e-06}. Best is trial 2 with value: 0.7582597253486516.\n",
            "Trial 12 finished with value: 0.7554966782336642 and parameters: {'max_depth': 3, 'learning_rate': 0.4029588135184633, 'n_estimators': 481, 'min_child_weight': 3, 'gamma': 0.0008475939833266784, 'subsample': 0.9730086418313635, 'colsample_bytree': 0.04153019990277072, 'reg_alpha': 1.0358355256923459e-05, 'reg_lambda': 2.468733064999663e-06}. Best is trial 2 with value: 0.7582597253486516.\n",
            "[I 2024-01-13 08:37:57,210] Trial 13 finished with value: 0.7579762844423591 and parameters: {'max_depth': 3, 'learning_rate': 0.37627961546545974, 'n_estimators': 480, 'min_child_weight': 4, 'gamma': 4.958921012347094e-06, 'subsample': 0.9751627185117748, 'colsample_bytree': 0.03622663532047786, 'reg_alpha': 9.023763210470247e-06, 'reg_lambda': 1.9069042491998377e-06}. Best is trial 2 with value: 0.7582597253486516.\n",
            "Trial 13 finished with value: 0.7579762844423591 and parameters: {'max_depth': 3, 'learning_rate': 0.37627961546545974, 'n_estimators': 480, 'min_child_weight': 4, 'gamma': 4.958921012347094e-06, 'subsample': 0.9751627185117748, 'colsample_bytree': 0.03622663532047786, 'reg_alpha': 9.023763210470247e-06, 'reg_lambda': 1.9069042491998377e-06}. Best is trial 2 with value: 0.7582597253486516.\n",
            "Trial 13 finished with value: 0.7579762844423591 and parameters: {'max_depth': 3, 'learning_rate': 0.37627961546545974, 'n_estimators': 480, 'min_child_weight': 4, 'gamma': 4.958921012347094e-06, 'subsample': 0.9751627185117748, 'colsample_bytree': 0.03622663532047786, 'reg_alpha': 9.023763210470247e-06, 'reg_lambda': 1.9069042491998377e-06}. Best is trial 2 with value: 0.7582597253486516.\n",
            "[I 2024-01-13 08:38:12,916] Trial 14 finished with value: 0.7584952046939116 and parameters: {'max_depth': 3, 'learning_rate': 0.0889345389366874, 'n_estimators': 500, 'min_child_weight': 6, 'gamma': 3.6571632356679258e-06, 'subsample': 0.9816231166249141, 'colsample_bytree': 0.026460790643131886, 'reg_alpha': 1.4554002863907342e-08, 'reg_lambda': 0.004150540331067691}. Best is trial 14 with value: 0.7584952046939116.\n",
            "Trial 14 finished with value: 0.7584952046939116 and parameters: {'max_depth': 3, 'learning_rate': 0.0889345389366874, 'n_estimators': 500, 'min_child_weight': 6, 'gamma': 3.6571632356679258e-06, 'subsample': 0.9816231166249141, 'colsample_bytree': 0.026460790643131886, 'reg_alpha': 1.4554002863907342e-08, 'reg_lambda': 0.004150540331067691}. Best is trial 14 with value: 0.7584952046939116.\n",
            "Trial 14 finished with value: 0.7584952046939116 and parameters: {'max_depth': 3, 'learning_rate': 0.0889345389366874, 'n_estimators': 500, 'min_child_weight': 6, 'gamma': 3.6571632356679258e-06, 'subsample': 0.9816231166249141, 'colsample_bytree': 0.026460790643131886, 'reg_alpha': 1.4554002863907342e-08, 'reg_lambda': 0.004150540331067691}. Best is trial 14 with value: 0.7584952046939116.\n",
            "[I 2024-01-13 08:38:27,498] Trial 15 finished with value: 0.7510713227428552 and parameters: {'max_depth': 3, 'learning_rate': 0.051364642119680184, 'n_estimators': 412, 'min_child_weight': 7, 'gamma': 1.0667301505523987e-07, 'subsample': 0.5969346106451738, 'colsample_bytree': 0.02067379939360858, 'reg_alpha': 1.693970861779438e-08, 'reg_lambda': 0.005335401060476077}. Best is trial 14 with value: 0.7584952046939116.\n",
            "Trial 15 finished with value: 0.7510713227428552 and parameters: {'max_depth': 3, 'learning_rate': 0.051364642119680184, 'n_estimators': 412, 'min_child_weight': 7, 'gamma': 1.0667301505523987e-07, 'subsample': 0.5969346106451738, 'colsample_bytree': 0.02067379939360858, 'reg_alpha': 1.693970861779438e-08, 'reg_lambda': 0.005335401060476077}. Best is trial 14 with value: 0.7584952046939116.\n",
            "Trial 15 finished with value: 0.7510713227428552 and parameters: {'max_depth': 3, 'learning_rate': 0.051364642119680184, 'n_estimators': 412, 'min_child_weight': 7, 'gamma': 1.0667301505523987e-07, 'subsample': 0.5969346106451738, 'colsample_bytree': 0.02067379939360858, 'reg_alpha': 1.693970861779438e-08, 'reg_lambda': 0.005335401060476077}. Best is trial 14 with value: 0.7584952046939116.\n",
            "[I 2024-01-13 08:38:43,998] Trial 16 finished with value: 0.7484494533249476 and parameters: {'max_depth': 7, 'learning_rate': 0.16772265063917935, 'n_estimators': 223, 'min_child_weight': 6, 'gamma': 8.516740488416077e-06, 'subsample': 0.8788035098047332, 'colsample_bytree': 0.010046955999036388, 'reg_alpha': 1.9854550112450048e-07, 'reg_lambda': 0.7074009648921425}. Best is trial 14 with value: 0.7584952046939116.\n",
            "Trial 16 finished with value: 0.7484494533249476 and parameters: {'max_depth': 7, 'learning_rate': 0.16772265063917935, 'n_estimators': 223, 'min_child_weight': 6, 'gamma': 8.516740488416077e-06, 'subsample': 0.8788035098047332, 'colsample_bytree': 0.010046955999036388, 'reg_alpha': 1.9854550112450048e-07, 'reg_lambda': 0.7074009648921425}. Best is trial 14 with value: 0.7584952046939116.\n",
            "Trial 16 finished with value: 0.7484494533249476 and parameters: {'max_depth': 7, 'learning_rate': 0.16772265063917935, 'n_estimators': 223, 'min_child_weight': 6, 'gamma': 8.516740488416077e-06, 'subsample': 0.8788035098047332, 'colsample_bytree': 0.010046955999036388, 'reg_alpha': 1.9854550112450048e-07, 'reg_lambda': 0.7074009648921425}. Best is trial 14 with value: 0.7584952046939116.\n",
            "[I 2024-01-13 08:39:01,289] Trial 17 finished with value: 0.7660842802752456 and parameters: {'max_depth': 2, 'learning_rate': 0.15885761012327237, 'n_estimators': 415, 'min_child_weight': 6, 'gamma': 3.9356793970459116e-07, 'subsample': 0.6311152293659329, 'colsample_bytree': 0.05892904769636796, 'reg_alpha': 5.406899871601363e-08, 'reg_lambda': 0.020467130907403503}. Best is trial 17 with value: 0.7660842802752456.\n",
            "Trial 17 finished with value: 0.7660842802752456 and parameters: {'max_depth': 2, 'learning_rate': 0.15885761012327237, 'n_estimators': 415, 'min_child_weight': 6, 'gamma': 3.9356793970459116e-07, 'subsample': 0.6311152293659329, 'colsample_bytree': 0.05892904769636796, 'reg_alpha': 5.406899871601363e-08, 'reg_lambda': 0.020467130907403503}. Best is trial 17 with value: 0.7660842802752456.\n",
            "Trial 17 finished with value: 0.7660842802752456 and parameters: {'max_depth': 2, 'learning_rate': 0.15885761012327237, 'n_estimators': 415, 'min_child_weight': 6, 'gamma': 3.9356793970459116e-07, 'subsample': 0.6311152293659329, 'colsample_bytree': 0.05892904769636796, 'reg_alpha': 5.406899871601363e-08, 'reg_lambda': 0.020467130907403503}. Best is trial 17 with value: 0.7660842802752456.\n",
            "[I 2024-01-13 08:39:21,074] Trial 18 finished with value: 0.7110830618362566 and parameters: {'max_depth': 10, 'learning_rate': 0.2761477030437228, 'n_estimators': 420, 'min_child_weight': 8, 'gamma': 2.812107218863068e-07, 'subsample': 0.13178019037007638, 'colsample_bytree': 0.022209464764459133, 'reg_alpha': 9.84235069312812e-08, 'reg_lambda': 0.005370219162773566}. Best is trial 17 with value: 0.7660842802752456.\n",
            "Trial 18 finished with value: 0.7110830618362566 and parameters: {'max_depth': 10, 'learning_rate': 0.2761477030437228, 'n_estimators': 420, 'min_child_weight': 8, 'gamma': 2.812107218863068e-07, 'subsample': 0.13178019037007638, 'colsample_bytree': 0.022209464764459133, 'reg_alpha': 9.84235069312812e-08, 'reg_lambda': 0.005370219162773566}. Best is trial 17 with value: 0.7660842802752456.\n",
            "Trial 18 finished with value: 0.7110830618362566 and parameters: {'max_depth': 10, 'learning_rate': 0.2761477030437228, 'n_estimators': 420, 'min_child_weight': 8, 'gamma': 2.812107218863068e-07, 'subsample': 0.13178019037007638, 'colsample_bytree': 0.022209464764459133, 'reg_alpha': 9.84235069312812e-08, 'reg_lambda': 0.005370219162773566}. Best is trial 17 with value: 0.7660842802752456.\n",
            "[I 2024-01-13 08:39:36,518] Trial 19 finished with value: 0.7647406265891808 and parameters: {'max_depth': 4, 'learning_rate': 0.11030151928396305, 'n_estimators': 434, 'min_child_weight': 6, 'gamma': 0.0003144820386382774, 'subsample': 0.6301206261059066, 'colsample_bytree': 0.05253182473821917, 'reg_alpha': 1.3850241915870427e-08, 'reg_lambda': 0.028264942350489982}. Best is trial 17 with value: 0.7660842802752456.\n",
            "Trial 19 finished with value: 0.7647406265891808 and parameters: {'max_depth': 4, 'learning_rate': 0.11030151928396305, 'n_estimators': 434, 'min_child_weight': 6, 'gamma': 0.0003144820386382774, 'subsample': 0.6301206261059066, 'colsample_bytree': 0.05253182473821917, 'reg_alpha': 1.3850241915870427e-08, 'reg_lambda': 0.028264942350489982}. Best is trial 17 with value: 0.7660842802752456.\n",
            "Trial 19 finished with value: 0.7647406265891808 and parameters: {'max_depth': 4, 'learning_rate': 0.11030151928396305, 'n_estimators': 434, 'min_child_weight': 6, 'gamma': 0.0003144820386382774, 'subsample': 0.6301206261059066, 'colsample_bytree': 0.05253182473821917, 'reg_alpha': 1.3850241915870427e-08, 'reg_lambda': 0.028264942350489982}. Best is trial 17 with value: 0.7660842802752456.\n"
          ]
        },
        {
          "output_type": "stream",
          "name": "stdout",
          "text": [
            "Best trial for Gradient Boosting: {'max_depth': 2, 'learning_rate': 0.15885761012327237, 'n_estimators': 415, 'min_child_weight': 6, 'gamma': 3.9356793970459116e-07, 'subsample': 0.6311152293659329, 'colsample_bytree': 0.05892904769636796, 'reg_alpha': 5.406899871601363e-08, 'reg_lambda': 0.020467130907403503}\n"
          ]
        }
      ]
    },
    {
      "cell_type": "code",
      "source": [
        "xgb_best_params = {'max_depth': 2, 'learning_rate': 0.15885761012327237,\n",
        "                   'n_estimators': 415, 'min_child_weight': 6,\n",
        "                   'gamma': 3.9356793970459116e-07, 'subsample': 0.6311152293659329,\n",
        "                   'colsample_bytree': 0.05892904769636796,\n",
        "                   'reg_alpha': 5.406899871601363e-08, 'reg_lambda': 0.020467130907403503}"
      ],
      "metadata": {
        "id": "VsrbtrY8-h3a"
      },
      "execution_count": null,
      "outputs": []
    },
    {
      "cell_type": "code",
      "source": [
        "optuna.visualization.plot_optimization_history(xgb_study, target_name=\"AUC\")"
      ],
      "metadata": {
        "colab": {
          "base_uri": "https://localhost:8080/",
          "height": 542
        },
        "id": "oVPjQjGQ8se_",
        "outputId": "496a5716-f1ab-4946-9e5c-671771665482"
      },
      "execution_count": null,
      "outputs": [
        {
          "output_type": "display_data",
          "data": {
            "text/html": [
              "<html>\n",
              "<head><meta charset=\"utf-8\" /></head>\n",
              "<body>\n",
              "    <div>            <script src=\"https://cdnjs.cloudflare.com/ajax/libs/mathjax/2.7.5/MathJax.js?config=TeX-AMS-MML_SVG\"></script><script type=\"text/javascript\">if (window.MathJax && window.MathJax.Hub && window.MathJax.Hub.Config) {window.MathJax.Hub.Config({SVG: {font: \"STIX-Web\"}});}</script>                <script type=\"text/javascript\">window.PlotlyConfig = {MathJaxConfig: 'local'};</script>\n",
              "        <script charset=\"utf-8\" src=\"https://cdn.plot.ly/plotly-2.24.1.min.js\"></script>                <div id=\"95206b42-6bd8-47c3-8c0e-c1955bfe6f02\" class=\"plotly-graph-div\" style=\"height:525px; width:100%;\"></div>            <script type=\"text/javascript\">                                    window.PLOTLYENV=window.PLOTLYENV || {};                                    if (document.getElementById(\"95206b42-6bd8-47c3-8c0e-c1955bfe6f02\")) {                    Plotly.newPlot(                        \"95206b42-6bd8-47c3-8c0e-c1955bfe6f02\",                        [{\"mode\":\"markers\",\"name\":\"AUC\",\"x\":[0,1,2,3,4,5,6,7,8,9,10,11,12,13,14,15,16,17,18,19],\"y\":[0.754263443183404,0.7428836548776238,0.7582597253486516,0.6917334409161091,0.7231756337905165,0.6558526270593991,0.751045392047457,0.7329059022658204,0.7147685710835051,0.6914488812786246,0.6656203086164396,0.7508057027228804,0.7554966782336642,0.7579762844423591,0.7584952046939116,0.7510713227428552,0.7484494533249476,0.7660842802752456,0.7110830618362566,0.7647406265891808],\"type\":\"scatter\"},{\"mode\":\"lines\",\"name\":\"Best Value\",\"x\":[0,1,2,3,4,5,6,7,8,9,10,11,12,13,14,15,16,17,18,19],\"y\":[0.754263443183404,0.754263443183404,0.7582597253486516,0.7582597253486516,0.7582597253486516,0.7582597253486516,0.7582597253486516,0.7582597253486516,0.7582597253486516,0.7582597253486516,0.7582597253486516,0.7582597253486516,0.7582597253486516,0.7582597253486516,0.7584952046939116,0.7584952046939116,0.7584952046939116,0.7660842802752456,0.7660842802752456,0.7660842802752456],\"type\":\"scatter\"},{\"marker\":{\"color\":\"#cccccc\"},\"mode\":\"markers\",\"name\":\"Infeasible Trial\",\"showlegend\":false,\"x\":[],\"y\":[],\"type\":\"scatter\"}],                        {\"title\":{\"text\":\"Optimization History Plot\"},\"xaxis\":{\"title\":{\"text\":\"Trial\"}},\"yaxis\":{\"title\":{\"text\":\"AUC\"}},\"template\":{\"data\":{\"histogram2dcontour\":[{\"type\":\"histogram2dcontour\",\"colorbar\":{\"outlinewidth\":0,\"ticks\":\"\"},\"colorscale\":[[0.0,\"#0d0887\"],[0.1111111111111111,\"#46039f\"],[0.2222222222222222,\"#7201a8\"],[0.3333333333333333,\"#9c179e\"],[0.4444444444444444,\"#bd3786\"],[0.5555555555555556,\"#d8576b\"],[0.6666666666666666,\"#ed7953\"],[0.7777777777777778,\"#fb9f3a\"],[0.8888888888888888,\"#fdca26\"],[1.0,\"#f0f921\"]]}],\"choropleth\":[{\"type\":\"choropleth\",\"colorbar\":{\"outlinewidth\":0,\"ticks\":\"\"}}],\"histogram2d\":[{\"type\":\"histogram2d\",\"colorbar\":{\"outlinewidth\":0,\"ticks\":\"\"},\"colorscale\":[[0.0,\"#0d0887\"],[0.1111111111111111,\"#46039f\"],[0.2222222222222222,\"#7201a8\"],[0.3333333333333333,\"#9c179e\"],[0.4444444444444444,\"#bd3786\"],[0.5555555555555556,\"#d8576b\"],[0.6666666666666666,\"#ed7953\"],[0.7777777777777778,\"#fb9f3a\"],[0.8888888888888888,\"#fdca26\"],[1.0,\"#f0f921\"]]}],\"heatmap\":[{\"type\":\"heatmap\",\"colorbar\":{\"outlinewidth\":0,\"ticks\":\"\"},\"colorscale\":[[0.0,\"#0d0887\"],[0.1111111111111111,\"#46039f\"],[0.2222222222222222,\"#7201a8\"],[0.3333333333333333,\"#9c179e\"],[0.4444444444444444,\"#bd3786\"],[0.5555555555555556,\"#d8576b\"],[0.6666666666666666,\"#ed7953\"],[0.7777777777777778,\"#fb9f3a\"],[0.8888888888888888,\"#fdca26\"],[1.0,\"#f0f921\"]]}],\"heatmapgl\":[{\"type\":\"heatmapgl\",\"colorbar\":{\"outlinewidth\":0,\"ticks\":\"\"},\"colorscale\":[[0.0,\"#0d0887\"],[0.1111111111111111,\"#46039f\"],[0.2222222222222222,\"#7201a8\"],[0.3333333333333333,\"#9c179e\"],[0.4444444444444444,\"#bd3786\"],[0.5555555555555556,\"#d8576b\"],[0.6666666666666666,\"#ed7953\"],[0.7777777777777778,\"#fb9f3a\"],[0.8888888888888888,\"#fdca26\"],[1.0,\"#f0f921\"]]}],\"contourcarpet\":[{\"type\":\"contourcarpet\",\"colorbar\":{\"outlinewidth\":0,\"ticks\":\"\"}}],\"contour\":[{\"type\":\"contour\",\"colorbar\":{\"outlinewidth\":0,\"ticks\":\"\"},\"colorscale\":[[0.0,\"#0d0887\"],[0.1111111111111111,\"#46039f\"],[0.2222222222222222,\"#7201a8\"],[0.3333333333333333,\"#9c179e\"],[0.4444444444444444,\"#bd3786\"],[0.5555555555555556,\"#d8576b\"],[0.6666666666666666,\"#ed7953\"],[0.7777777777777778,\"#fb9f3a\"],[0.8888888888888888,\"#fdca26\"],[1.0,\"#f0f921\"]]}],\"surface\":[{\"type\":\"surface\",\"colorbar\":{\"outlinewidth\":0,\"ticks\":\"\"},\"colorscale\":[[0.0,\"#0d0887\"],[0.1111111111111111,\"#46039f\"],[0.2222222222222222,\"#7201a8\"],[0.3333333333333333,\"#9c179e\"],[0.4444444444444444,\"#bd3786\"],[0.5555555555555556,\"#d8576b\"],[0.6666666666666666,\"#ed7953\"],[0.7777777777777778,\"#fb9f3a\"],[0.8888888888888888,\"#fdca26\"],[1.0,\"#f0f921\"]]}],\"mesh3d\":[{\"type\":\"mesh3d\",\"colorbar\":{\"outlinewidth\":0,\"ticks\":\"\"}}],\"scatter\":[{\"fillpattern\":{\"fillmode\":\"overlay\",\"size\":10,\"solidity\":0.2},\"type\":\"scatter\"}],\"parcoords\":[{\"type\":\"parcoords\",\"line\":{\"colorbar\":{\"outlinewidth\":0,\"ticks\":\"\"}}}],\"scatterpolargl\":[{\"type\":\"scatterpolargl\",\"marker\":{\"colorbar\":{\"outlinewidth\":0,\"ticks\":\"\"}}}],\"bar\":[{\"error_x\":{\"color\":\"#2a3f5f\"},\"error_y\":{\"color\":\"#2a3f5f\"},\"marker\":{\"line\":{\"color\":\"#E5ECF6\",\"width\":0.5},\"pattern\":{\"fillmode\":\"overlay\",\"size\":10,\"solidity\":0.2}},\"type\":\"bar\"}],\"scattergeo\":[{\"type\":\"scattergeo\",\"marker\":{\"colorbar\":{\"outlinewidth\":0,\"ticks\":\"\"}}}],\"scatterpolar\":[{\"type\":\"scatterpolar\",\"marker\":{\"colorbar\":{\"outlinewidth\":0,\"ticks\":\"\"}}}],\"histogram\":[{\"marker\":{\"pattern\":{\"fillmode\":\"overlay\",\"size\":10,\"solidity\":0.2}},\"type\":\"histogram\"}],\"scattergl\":[{\"type\":\"scattergl\",\"marker\":{\"colorbar\":{\"outlinewidth\":0,\"ticks\":\"\"}}}],\"scatter3d\":[{\"type\":\"scatter3d\",\"line\":{\"colorbar\":{\"outlinewidth\":0,\"ticks\":\"\"}},\"marker\":{\"colorbar\":{\"outlinewidth\":0,\"ticks\":\"\"}}}],\"scattermapbox\":[{\"type\":\"scattermapbox\",\"marker\":{\"colorbar\":{\"outlinewidth\":0,\"ticks\":\"\"}}}],\"scatterternary\":[{\"type\":\"scatterternary\",\"marker\":{\"colorbar\":{\"outlinewidth\":0,\"ticks\":\"\"}}}],\"scattercarpet\":[{\"type\":\"scattercarpet\",\"marker\":{\"colorbar\":{\"outlinewidth\":0,\"ticks\":\"\"}}}],\"carpet\":[{\"aaxis\":{\"endlinecolor\":\"#2a3f5f\",\"gridcolor\":\"white\",\"linecolor\":\"white\",\"minorgridcolor\":\"white\",\"startlinecolor\":\"#2a3f5f\"},\"baxis\":{\"endlinecolor\":\"#2a3f5f\",\"gridcolor\":\"white\",\"linecolor\":\"white\",\"minorgridcolor\":\"white\",\"startlinecolor\":\"#2a3f5f\"},\"type\":\"carpet\"}],\"table\":[{\"cells\":{\"fill\":{\"color\":\"#EBF0F8\"},\"line\":{\"color\":\"white\"}},\"header\":{\"fill\":{\"color\":\"#C8D4E3\"},\"line\":{\"color\":\"white\"}},\"type\":\"table\"}],\"barpolar\":[{\"marker\":{\"line\":{\"color\":\"#E5ECF6\",\"width\":0.5},\"pattern\":{\"fillmode\":\"overlay\",\"size\":10,\"solidity\":0.2}},\"type\":\"barpolar\"}],\"pie\":[{\"automargin\":true,\"type\":\"pie\"}]},\"layout\":{\"autotypenumbers\":\"strict\",\"colorway\":[\"#636efa\",\"#EF553B\",\"#00cc96\",\"#ab63fa\",\"#FFA15A\",\"#19d3f3\",\"#FF6692\",\"#B6E880\",\"#FF97FF\",\"#FECB52\"],\"font\":{\"color\":\"#2a3f5f\"},\"hovermode\":\"closest\",\"hoverlabel\":{\"align\":\"left\"},\"paper_bgcolor\":\"white\",\"plot_bgcolor\":\"#E5ECF6\",\"polar\":{\"bgcolor\":\"#E5ECF6\",\"angularaxis\":{\"gridcolor\":\"white\",\"linecolor\":\"white\",\"ticks\":\"\"},\"radialaxis\":{\"gridcolor\":\"white\",\"linecolor\":\"white\",\"ticks\":\"\"}},\"ternary\":{\"bgcolor\":\"#E5ECF6\",\"aaxis\":{\"gridcolor\":\"white\",\"linecolor\":\"white\",\"ticks\":\"\"},\"baxis\":{\"gridcolor\":\"white\",\"linecolor\":\"white\",\"ticks\":\"\"},\"caxis\":{\"gridcolor\":\"white\",\"linecolor\":\"white\",\"ticks\":\"\"}},\"coloraxis\":{\"colorbar\":{\"outlinewidth\":0,\"ticks\":\"\"}},\"colorscale\":{\"sequential\":[[0.0,\"#0d0887\"],[0.1111111111111111,\"#46039f\"],[0.2222222222222222,\"#7201a8\"],[0.3333333333333333,\"#9c179e\"],[0.4444444444444444,\"#bd3786\"],[0.5555555555555556,\"#d8576b\"],[0.6666666666666666,\"#ed7953\"],[0.7777777777777778,\"#fb9f3a\"],[0.8888888888888888,\"#fdca26\"],[1.0,\"#f0f921\"]],\"sequentialminus\":[[0.0,\"#0d0887\"],[0.1111111111111111,\"#46039f\"],[0.2222222222222222,\"#7201a8\"],[0.3333333333333333,\"#9c179e\"],[0.4444444444444444,\"#bd3786\"],[0.5555555555555556,\"#d8576b\"],[0.6666666666666666,\"#ed7953\"],[0.7777777777777778,\"#fb9f3a\"],[0.8888888888888888,\"#fdca26\"],[1.0,\"#f0f921\"]],\"diverging\":[[0,\"#8e0152\"],[0.1,\"#c51b7d\"],[0.2,\"#de77ae\"],[0.3,\"#f1b6da\"],[0.4,\"#fde0ef\"],[0.5,\"#f7f7f7\"],[0.6,\"#e6f5d0\"],[0.7,\"#b8e186\"],[0.8,\"#7fbc41\"],[0.9,\"#4d9221\"],[1,\"#276419\"]]},\"xaxis\":{\"gridcolor\":\"white\",\"linecolor\":\"white\",\"ticks\":\"\",\"title\":{\"standoff\":15},\"zerolinecolor\":\"white\",\"automargin\":true,\"zerolinewidth\":2},\"yaxis\":{\"gridcolor\":\"white\",\"linecolor\":\"white\",\"ticks\":\"\",\"title\":{\"standoff\":15},\"zerolinecolor\":\"white\",\"automargin\":true,\"zerolinewidth\":2},\"scene\":{\"xaxis\":{\"backgroundcolor\":\"#E5ECF6\",\"gridcolor\":\"white\",\"linecolor\":\"white\",\"showbackground\":true,\"ticks\":\"\",\"zerolinecolor\":\"white\",\"gridwidth\":2},\"yaxis\":{\"backgroundcolor\":\"#E5ECF6\",\"gridcolor\":\"white\",\"linecolor\":\"white\",\"showbackground\":true,\"ticks\":\"\",\"zerolinecolor\":\"white\",\"gridwidth\":2},\"zaxis\":{\"backgroundcolor\":\"#E5ECF6\",\"gridcolor\":\"white\",\"linecolor\":\"white\",\"showbackground\":true,\"ticks\":\"\",\"zerolinecolor\":\"white\",\"gridwidth\":2}},\"shapedefaults\":{\"line\":{\"color\":\"#2a3f5f\"}},\"annotationdefaults\":{\"arrowcolor\":\"#2a3f5f\",\"arrowhead\":0,\"arrowwidth\":1},\"geo\":{\"bgcolor\":\"white\",\"landcolor\":\"#E5ECF6\",\"subunitcolor\":\"white\",\"showland\":true,\"showlakes\":true,\"lakecolor\":\"white\"},\"title\":{\"x\":0.05},\"mapbox\":{\"style\":\"light\"}}}},                        {\"responsive\": true}                    ).then(function(){\n",
              "                            \n",
              "var gd = document.getElementById('95206b42-6bd8-47c3-8c0e-c1955bfe6f02');\n",
              "var x = new MutationObserver(function (mutations, observer) {{\n",
              "        var display = window.getComputedStyle(gd).display;\n",
              "        if (!display || display === 'none') {{\n",
              "            console.log([gd, 'removed!']);\n",
              "            Plotly.purge(gd);\n",
              "            observer.disconnect();\n",
              "        }}\n",
              "}});\n",
              "\n",
              "// Listen for the removal of the full notebook cells\n",
              "var notebookContainer = gd.closest('#notebook-container');\n",
              "if (notebookContainer) {{\n",
              "    x.observe(notebookContainer, {childList: true});\n",
              "}}\n",
              "\n",
              "// Listen for the clearing of the current output cell\n",
              "var outputEl = gd.closest('.output');\n",
              "if (outputEl) {{\n",
              "    x.observe(outputEl, {childList: true});\n",
              "}}\n",
              "\n",
              "                        })                };                            </script>        </div>\n",
              "</body>\n",
              "</html>"
            ]
          },
          "metadata": {}
        }
      ]
    },
    {
      "cell_type": "code",
      "source": [
        "optuna.visualization.plot_param_importances(xgb_study)"
      ],
      "metadata": {
        "colab": {
          "base_uri": "https://localhost:8080/",
          "height": 542
        },
        "id": "Apb21MTc-rHX",
        "outputId": "a7d286ed-9e06-4a93-a7e8-c645dff716a8"
      },
      "execution_count": null,
      "outputs": [
        {
          "output_type": "display_data",
          "data": {
            "text/html": [
              "<html>\n",
              "<head><meta charset=\"utf-8\" /></head>\n",
              "<body>\n",
              "    <div>            <script src=\"https://cdnjs.cloudflare.com/ajax/libs/mathjax/2.7.5/MathJax.js?config=TeX-AMS-MML_SVG\"></script><script type=\"text/javascript\">if (window.MathJax && window.MathJax.Hub && window.MathJax.Hub.Config) {window.MathJax.Hub.Config({SVG: {font: \"STIX-Web\"}});}</script>                <script type=\"text/javascript\">window.PlotlyConfig = {MathJaxConfig: 'local'};</script>\n",
              "        <script charset=\"utf-8\" src=\"https://cdn.plot.ly/plotly-2.24.1.min.js\"></script>                <div id=\"d868041a-becf-4b91-8596-7028d0ffc377\" class=\"plotly-graph-div\" style=\"height:525px; width:100%;\"></div>            <script type=\"text/javascript\">                                    window.PLOTLYENV=window.PLOTLYENV || {};                                    if (document.getElementById(\"d868041a-becf-4b91-8596-7028d0ffc377\")) {                    Plotly.newPlot(                        \"d868041a-becf-4b91-8596-7028d0ffc377\",                        [{\"cliponaxis\":false,\"hovertemplate\":[\"gamma (FloatDistribution): 0.00011753272202897393\\u003cextra\\u003e\\u003c\\u002fextra\\u003e\",\"n_estimators (IntDistribution): 0.01106858647769024\\u003cextra\\u003e\\u003c\\u002fextra\\u003e\",\"colsample_bytree (FloatDistribution): 0.015312749960151504\\u003cextra\\u003e\\u003c\\u002fextra\\u003e\",\"reg_lambda (FloatDistribution): 0.02033178240792302\\u003cextra\\u003e\\u003c\\u002fextra\\u003e\",\"min_child_weight (IntDistribution): 0.0620277566477003\\u003cextra\\u003e\\u003c\\u002fextra\\u003e\",\"learning_rate (FloatDistribution): 0.0710410191667807\\u003cextra\\u003e\\u003c\\u002fextra\\u003e\",\"subsample (FloatDistribution): 0.1143983480563086\\u003cextra\\u003e\\u003c\\u002fextra\\u003e\",\"reg_alpha (FloatDistribution): 0.12046629527680419\\u003cextra\\u003e\\u003c\\u002fextra\\u003e\",\"max_depth (IntDistribution): 0.5852359292846125\\u003cextra\\u003e\\u003c\\u002fextra\\u003e\"],\"name\":\"Objective Value\",\"orientation\":\"h\",\"text\":[\"\\u003c0.01\",\"0.01\",\"0.02\",\"0.02\",\"0.06\",\"0.07\",\"0.11\",\"0.12\",\"0.59\"],\"textposition\":\"outside\",\"x\":[0.00011753272202897393,0.01106858647769024,0.015312749960151504,0.02033178240792302,0.0620277566477003,0.0710410191667807,0.1143983480563086,0.12046629527680419,0.5852359292846125],\"y\":[\"gamma\",\"n_estimators\",\"colsample_bytree\",\"reg_lambda\",\"min_child_weight\",\"learning_rate\",\"subsample\",\"reg_alpha\",\"max_depth\"],\"type\":\"bar\"}],                        {\"title\":{\"text\":\"Hyperparameter Importances\"},\"xaxis\":{\"title\":{\"text\":\"Hyperparameter Importance\"}},\"yaxis\":{\"title\":{\"text\":\"Hyperparameter\"}},\"template\":{\"data\":{\"histogram2dcontour\":[{\"type\":\"histogram2dcontour\",\"colorbar\":{\"outlinewidth\":0,\"ticks\":\"\"},\"colorscale\":[[0.0,\"#0d0887\"],[0.1111111111111111,\"#46039f\"],[0.2222222222222222,\"#7201a8\"],[0.3333333333333333,\"#9c179e\"],[0.4444444444444444,\"#bd3786\"],[0.5555555555555556,\"#d8576b\"],[0.6666666666666666,\"#ed7953\"],[0.7777777777777778,\"#fb9f3a\"],[0.8888888888888888,\"#fdca26\"],[1.0,\"#f0f921\"]]}],\"choropleth\":[{\"type\":\"choropleth\",\"colorbar\":{\"outlinewidth\":0,\"ticks\":\"\"}}],\"histogram2d\":[{\"type\":\"histogram2d\",\"colorbar\":{\"outlinewidth\":0,\"ticks\":\"\"},\"colorscale\":[[0.0,\"#0d0887\"],[0.1111111111111111,\"#46039f\"],[0.2222222222222222,\"#7201a8\"],[0.3333333333333333,\"#9c179e\"],[0.4444444444444444,\"#bd3786\"],[0.5555555555555556,\"#d8576b\"],[0.6666666666666666,\"#ed7953\"],[0.7777777777777778,\"#fb9f3a\"],[0.8888888888888888,\"#fdca26\"],[1.0,\"#f0f921\"]]}],\"heatmap\":[{\"type\":\"heatmap\",\"colorbar\":{\"outlinewidth\":0,\"ticks\":\"\"},\"colorscale\":[[0.0,\"#0d0887\"],[0.1111111111111111,\"#46039f\"],[0.2222222222222222,\"#7201a8\"],[0.3333333333333333,\"#9c179e\"],[0.4444444444444444,\"#bd3786\"],[0.5555555555555556,\"#d8576b\"],[0.6666666666666666,\"#ed7953\"],[0.7777777777777778,\"#fb9f3a\"],[0.8888888888888888,\"#fdca26\"],[1.0,\"#f0f921\"]]}],\"heatmapgl\":[{\"type\":\"heatmapgl\",\"colorbar\":{\"outlinewidth\":0,\"ticks\":\"\"},\"colorscale\":[[0.0,\"#0d0887\"],[0.1111111111111111,\"#46039f\"],[0.2222222222222222,\"#7201a8\"],[0.3333333333333333,\"#9c179e\"],[0.4444444444444444,\"#bd3786\"],[0.5555555555555556,\"#d8576b\"],[0.6666666666666666,\"#ed7953\"],[0.7777777777777778,\"#fb9f3a\"],[0.8888888888888888,\"#fdca26\"],[1.0,\"#f0f921\"]]}],\"contourcarpet\":[{\"type\":\"contourcarpet\",\"colorbar\":{\"outlinewidth\":0,\"ticks\":\"\"}}],\"contour\":[{\"type\":\"contour\",\"colorbar\":{\"outlinewidth\":0,\"ticks\":\"\"},\"colorscale\":[[0.0,\"#0d0887\"],[0.1111111111111111,\"#46039f\"],[0.2222222222222222,\"#7201a8\"],[0.3333333333333333,\"#9c179e\"],[0.4444444444444444,\"#bd3786\"],[0.5555555555555556,\"#d8576b\"],[0.6666666666666666,\"#ed7953\"],[0.7777777777777778,\"#fb9f3a\"],[0.8888888888888888,\"#fdca26\"],[1.0,\"#f0f921\"]]}],\"surface\":[{\"type\":\"surface\",\"colorbar\":{\"outlinewidth\":0,\"ticks\":\"\"},\"colorscale\":[[0.0,\"#0d0887\"],[0.1111111111111111,\"#46039f\"],[0.2222222222222222,\"#7201a8\"],[0.3333333333333333,\"#9c179e\"],[0.4444444444444444,\"#bd3786\"],[0.5555555555555556,\"#d8576b\"],[0.6666666666666666,\"#ed7953\"],[0.7777777777777778,\"#fb9f3a\"],[0.8888888888888888,\"#fdca26\"],[1.0,\"#f0f921\"]]}],\"mesh3d\":[{\"type\":\"mesh3d\",\"colorbar\":{\"outlinewidth\":0,\"ticks\":\"\"}}],\"scatter\":[{\"fillpattern\":{\"fillmode\":\"overlay\",\"size\":10,\"solidity\":0.2},\"type\":\"scatter\"}],\"parcoords\":[{\"type\":\"parcoords\",\"line\":{\"colorbar\":{\"outlinewidth\":0,\"ticks\":\"\"}}}],\"scatterpolargl\":[{\"type\":\"scatterpolargl\",\"marker\":{\"colorbar\":{\"outlinewidth\":0,\"ticks\":\"\"}}}],\"bar\":[{\"error_x\":{\"color\":\"#2a3f5f\"},\"error_y\":{\"color\":\"#2a3f5f\"},\"marker\":{\"line\":{\"color\":\"#E5ECF6\",\"width\":0.5},\"pattern\":{\"fillmode\":\"overlay\",\"size\":10,\"solidity\":0.2}},\"type\":\"bar\"}],\"scattergeo\":[{\"type\":\"scattergeo\",\"marker\":{\"colorbar\":{\"outlinewidth\":0,\"ticks\":\"\"}}}],\"scatterpolar\":[{\"type\":\"scatterpolar\",\"marker\":{\"colorbar\":{\"outlinewidth\":0,\"ticks\":\"\"}}}],\"histogram\":[{\"marker\":{\"pattern\":{\"fillmode\":\"overlay\",\"size\":10,\"solidity\":0.2}},\"type\":\"histogram\"}],\"scattergl\":[{\"type\":\"scattergl\",\"marker\":{\"colorbar\":{\"outlinewidth\":0,\"ticks\":\"\"}}}],\"scatter3d\":[{\"type\":\"scatter3d\",\"line\":{\"colorbar\":{\"outlinewidth\":0,\"ticks\":\"\"}},\"marker\":{\"colorbar\":{\"outlinewidth\":0,\"ticks\":\"\"}}}],\"scattermapbox\":[{\"type\":\"scattermapbox\",\"marker\":{\"colorbar\":{\"outlinewidth\":0,\"ticks\":\"\"}}}],\"scatterternary\":[{\"type\":\"scatterternary\",\"marker\":{\"colorbar\":{\"outlinewidth\":0,\"ticks\":\"\"}}}],\"scattercarpet\":[{\"type\":\"scattercarpet\",\"marker\":{\"colorbar\":{\"outlinewidth\":0,\"ticks\":\"\"}}}],\"carpet\":[{\"aaxis\":{\"endlinecolor\":\"#2a3f5f\",\"gridcolor\":\"white\",\"linecolor\":\"white\",\"minorgridcolor\":\"white\",\"startlinecolor\":\"#2a3f5f\"},\"baxis\":{\"endlinecolor\":\"#2a3f5f\",\"gridcolor\":\"white\",\"linecolor\":\"white\",\"minorgridcolor\":\"white\",\"startlinecolor\":\"#2a3f5f\"},\"type\":\"carpet\"}],\"table\":[{\"cells\":{\"fill\":{\"color\":\"#EBF0F8\"},\"line\":{\"color\":\"white\"}},\"header\":{\"fill\":{\"color\":\"#C8D4E3\"},\"line\":{\"color\":\"white\"}},\"type\":\"table\"}],\"barpolar\":[{\"marker\":{\"line\":{\"color\":\"#E5ECF6\",\"width\":0.5},\"pattern\":{\"fillmode\":\"overlay\",\"size\":10,\"solidity\":0.2}},\"type\":\"barpolar\"}],\"pie\":[{\"automargin\":true,\"type\":\"pie\"}]},\"layout\":{\"autotypenumbers\":\"strict\",\"colorway\":[\"#636efa\",\"#EF553B\",\"#00cc96\",\"#ab63fa\",\"#FFA15A\",\"#19d3f3\",\"#FF6692\",\"#B6E880\",\"#FF97FF\",\"#FECB52\"],\"font\":{\"color\":\"#2a3f5f\"},\"hovermode\":\"closest\",\"hoverlabel\":{\"align\":\"left\"},\"paper_bgcolor\":\"white\",\"plot_bgcolor\":\"#E5ECF6\",\"polar\":{\"bgcolor\":\"#E5ECF6\",\"angularaxis\":{\"gridcolor\":\"white\",\"linecolor\":\"white\",\"ticks\":\"\"},\"radialaxis\":{\"gridcolor\":\"white\",\"linecolor\":\"white\",\"ticks\":\"\"}},\"ternary\":{\"bgcolor\":\"#E5ECF6\",\"aaxis\":{\"gridcolor\":\"white\",\"linecolor\":\"white\",\"ticks\":\"\"},\"baxis\":{\"gridcolor\":\"white\",\"linecolor\":\"white\",\"ticks\":\"\"},\"caxis\":{\"gridcolor\":\"white\",\"linecolor\":\"white\",\"ticks\":\"\"}},\"coloraxis\":{\"colorbar\":{\"outlinewidth\":0,\"ticks\":\"\"}},\"colorscale\":{\"sequential\":[[0.0,\"#0d0887\"],[0.1111111111111111,\"#46039f\"],[0.2222222222222222,\"#7201a8\"],[0.3333333333333333,\"#9c179e\"],[0.4444444444444444,\"#bd3786\"],[0.5555555555555556,\"#d8576b\"],[0.6666666666666666,\"#ed7953\"],[0.7777777777777778,\"#fb9f3a\"],[0.8888888888888888,\"#fdca26\"],[1.0,\"#f0f921\"]],\"sequentialminus\":[[0.0,\"#0d0887\"],[0.1111111111111111,\"#46039f\"],[0.2222222222222222,\"#7201a8\"],[0.3333333333333333,\"#9c179e\"],[0.4444444444444444,\"#bd3786\"],[0.5555555555555556,\"#d8576b\"],[0.6666666666666666,\"#ed7953\"],[0.7777777777777778,\"#fb9f3a\"],[0.8888888888888888,\"#fdca26\"],[1.0,\"#f0f921\"]],\"diverging\":[[0,\"#8e0152\"],[0.1,\"#c51b7d\"],[0.2,\"#de77ae\"],[0.3,\"#f1b6da\"],[0.4,\"#fde0ef\"],[0.5,\"#f7f7f7\"],[0.6,\"#e6f5d0\"],[0.7,\"#b8e186\"],[0.8,\"#7fbc41\"],[0.9,\"#4d9221\"],[1,\"#276419\"]]},\"xaxis\":{\"gridcolor\":\"white\",\"linecolor\":\"white\",\"ticks\":\"\",\"title\":{\"standoff\":15},\"zerolinecolor\":\"white\",\"automargin\":true,\"zerolinewidth\":2},\"yaxis\":{\"gridcolor\":\"white\",\"linecolor\":\"white\",\"ticks\":\"\",\"title\":{\"standoff\":15},\"zerolinecolor\":\"white\",\"automargin\":true,\"zerolinewidth\":2},\"scene\":{\"xaxis\":{\"backgroundcolor\":\"#E5ECF6\",\"gridcolor\":\"white\",\"linecolor\":\"white\",\"showbackground\":true,\"ticks\":\"\",\"zerolinecolor\":\"white\",\"gridwidth\":2},\"yaxis\":{\"backgroundcolor\":\"#E5ECF6\",\"gridcolor\":\"white\",\"linecolor\":\"white\",\"showbackground\":true,\"ticks\":\"\",\"zerolinecolor\":\"white\",\"gridwidth\":2},\"zaxis\":{\"backgroundcolor\":\"#E5ECF6\",\"gridcolor\":\"white\",\"linecolor\":\"white\",\"showbackground\":true,\"ticks\":\"\",\"zerolinecolor\":\"white\",\"gridwidth\":2}},\"shapedefaults\":{\"line\":{\"color\":\"#2a3f5f\"}},\"annotationdefaults\":{\"arrowcolor\":\"#2a3f5f\",\"arrowhead\":0,\"arrowwidth\":1},\"geo\":{\"bgcolor\":\"white\",\"landcolor\":\"#E5ECF6\",\"subunitcolor\":\"white\",\"showland\":true,\"showlakes\":true,\"lakecolor\":\"white\"},\"title\":{\"x\":0.05},\"mapbox\":{\"style\":\"light\"}}}},                        {\"responsive\": true}                    ).then(function(){\n",
              "                            \n",
              "var gd = document.getElementById('d868041a-becf-4b91-8596-7028d0ffc377');\n",
              "var x = new MutationObserver(function (mutations, observer) {{\n",
              "        var display = window.getComputedStyle(gd).display;\n",
              "        if (!display || display === 'none') {{\n",
              "            console.log([gd, 'removed!']);\n",
              "            Plotly.purge(gd);\n",
              "            observer.disconnect();\n",
              "        }}\n",
              "}});\n",
              "\n",
              "// Listen for the removal of the full notebook cells\n",
              "var notebookContainer = gd.closest('#notebook-container');\n",
              "if (notebookContainer) {{\n",
              "    x.observe(notebookContainer, {childList: true});\n",
              "}}\n",
              "\n",
              "// Listen for the clearing of the current output cell\n",
              "var outputEl = gd.closest('.output');\n",
              "if (outputEl) {{\n",
              "    x.observe(outputEl, {childList: true});\n",
              "}}\n",
              "\n",
              "                        })                };                            </script>        </div>\n",
              "</body>\n",
              "</html>"
            ]
          },
          "metadata": {}
        }
      ]
    },
    {
      "cell_type": "markdown",
      "source": [
        "## Tunning for Catboost"
      ],
      "metadata": {
        "id": "ugz3C7V6_ISe"
      }
    },
    {
      "cell_type": "code",
      "source": [
        "import catboost as cb\n",
        "\n",
        "def cat_objective(trial):\n",
        "  param = {\n",
        "        \"objective\": trial.suggest_categorical(\"objective\", [\"Logloss\", \"CrossEntropy\"]),\n",
        "        \"colsample_bylevel\": trial.suggest_float(\"colsample_bylevel\", 0.01, 0.1),\n",
        "        \"depth\": trial.suggest_int(\"depth\", 1, 12),\n",
        "        \"boosting_type\": trial.suggest_categorical(\"boosting_type\", [\"Ordered\", \"Plain\"]),\n",
        "        \"bootstrap_type\": trial.suggest_categorical(\n",
        "            \"bootstrap_type\", [\"Bayesian\", \"Bernoulli\", \"MVS\"]\n",
        "        ),\n",
        "        'l2_leaf_reg': trial.suggest_float('l2_leaf_reg', 1, 10),\n",
        "        'learning_rate': trial.suggest_float('learning_rate', 0.01, 0.1),\n",
        "        'silent' : True\n",
        "\n",
        "    }\n",
        "  clf = cb.CatBoostClassifier(**param)\n",
        "  scores = cross_val_score(clf, X_reduced_train, y_train, cv=3, scoring='roc_auc')\n",
        "  return np.mean(scores)\n",
        "\n",
        "cat_study = optuna.create_study(direction=\"maximize\")\n",
        "cat_study.optimize(cat_objective, n_trials=20, timeout=2400)\n",
        "\n",
        "# Best trial\n",
        "cat_trial = cat_study.best_trial\n",
        "print(f'Best trial for Gradient Boosting: {cat_trial.params}')\n",
        "\n",
        "##Saving study\n",
        "cat_study_df = cat_study.trials_dataframe()\n",
        "cat_study_df.to_csv(\"drive/MyDrive/msds_homecredit/cat_study.csv\", index=False)"
      ],
      "metadata": {
        "colab": {
          "base_uri": "https://localhost:8080/"
        },
        "id": "BEfzcQhf-yGt",
        "outputId": "2da90a9c-3c39-4535-b77f-ec44a8a30edc"
      },
      "execution_count": null,
      "outputs": [
        {
          "output_type": "stream",
          "name": "stderr",
          "text": [
            "[I 2024-01-13 08:51:45,916] A new study created in memory with name: no-name-8f0fb612-97f1-47b1-811b-117010c04f54\n",
            "A new study created in memory with name: no-name-8f0fb612-97f1-47b1-811b-117010c04f54\n",
            "A new study created in memory with name: no-name-8f0fb612-97f1-47b1-811b-117010c04f54\n",
            "[I 2024-01-13 08:54:27,357] Trial 0 finished with value: 0.7652014996781626 and parameters: {'objective': 'Logloss', 'colsample_bylevel': 0.039055149801086805, 'depth': 9, 'boosting_type': 'Plain', 'bootstrap_type': 'Bernoulli', 'l2_leaf_reg': 9.692986359915572, 'learning_rate': 0.07629718148933579}. Best is trial 0 with value: 0.7652014996781626.\n",
            "Trial 0 finished with value: 0.7652014996781626 and parameters: {'objective': 'Logloss', 'colsample_bylevel': 0.039055149801086805, 'depth': 9, 'boosting_type': 'Plain', 'bootstrap_type': 'Bernoulli', 'l2_leaf_reg': 9.692986359915572, 'learning_rate': 0.07629718148933579}. Best is trial 0 with value: 0.7652014996781626.\n",
            "Trial 0 finished with value: 0.7652014996781626 and parameters: {'objective': 'Logloss', 'colsample_bylevel': 0.039055149801086805, 'depth': 9, 'boosting_type': 'Plain', 'bootstrap_type': 'Bernoulli', 'l2_leaf_reg': 9.692986359915572, 'learning_rate': 0.07629718148933579}. Best is trial 0 with value: 0.7652014996781626.\n",
            "[I 2024-01-13 09:03:18,829] Trial 1 finished with value: 0.7631659646093626 and parameters: {'objective': 'Logloss', 'colsample_bylevel': 0.02005470541586743, 'depth': 7, 'boosting_type': 'Ordered', 'bootstrap_type': 'MVS', 'l2_leaf_reg': 1.3302728439302696, 'learning_rate': 0.06863911014282174}. Best is trial 0 with value: 0.7652014996781626.\n",
            "Trial 1 finished with value: 0.7631659646093626 and parameters: {'objective': 'Logloss', 'colsample_bylevel': 0.02005470541586743, 'depth': 7, 'boosting_type': 'Ordered', 'bootstrap_type': 'MVS', 'l2_leaf_reg': 1.3302728439302696, 'learning_rate': 0.06863911014282174}. Best is trial 0 with value: 0.7652014996781626.\n",
            "Trial 1 finished with value: 0.7631659646093626 and parameters: {'objective': 'Logloss', 'colsample_bylevel': 0.02005470541586743, 'depth': 7, 'boosting_type': 'Ordered', 'bootstrap_type': 'MVS', 'l2_leaf_reg': 1.3302728439302696, 'learning_rate': 0.06863911014282174}. Best is trial 0 with value: 0.7652014996781626.\n",
            "[I 2024-01-13 09:11:55,515] Trial 2 finished with value: 0.751143930078106 and parameters: {'objective': 'Logloss', 'colsample_bylevel': 0.015681587423631058, 'depth': 7, 'boosting_type': 'Ordered', 'bootstrap_type': 'MVS', 'l2_leaf_reg': 9.314777251097283, 'learning_rate': 0.013593529070944813}. Best is trial 0 with value: 0.7652014996781626.\n",
            "Trial 2 finished with value: 0.751143930078106 and parameters: {'objective': 'Logloss', 'colsample_bylevel': 0.015681587423631058, 'depth': 7, 'boosting_type': 'Ordered', 'bootstrap_type': 'MVS', 'l2_leaf_reg': 9.314777251097283, 'learning_rate': 0.013593529070944813}. Best is trial 0 with value: 0.7652014996781626.\n",
            "Trial 2 finished with value: 0.751143930078106 and parameters: {'objective': 'Logloss', 'colsample_bylevel': 0.015681587423631058, 'depth': 7, 'boosting_type': 'Ordered', 'bootstrap_type': 'MVS', 'l2_leaf_reg': 9.314777251097283, 'learning_rate': 0.013593529070944813}. Best is trial 0 with value: 0.7652014996781626.\n",
            "[I 2024-01-13 09:19:34,779] Trial 3 finished with value: 0.7608471866918559 and parameters: {'objective': 'CrossEntropy', 'colsample_bylevel': 0.06812044970505153, 'depth': 1, 'boosting_type': 'Ordered', 'bootstrap_type': 'Bernoulli', 'l2_leaf_reg': 4.460829020959217, 'learning_rate': 0.07086456856461576}. Best is trial 0 with value: 0.7652014996781626.\n",
            "Trial 3 finished with value: 0.7608471866918559 and parameters: {'objective': 'CrossEntropy', 'colsample_bylevel': 0.06812044970505153, 'depth': 1, 'boosting_type': 'Ordered', 'bootstrap_type': 'Bernoulli', 'l2_leaf_reg': 4.460829020959217, 'learning_rate': 0.07086456856461576}. Best is trial 0 with value: 0.7652014996781626.\n",
            "Trial 3 finished with value: 0.7608471866918559 and parameters: {'objective': 'CrossEntropy', 'colsample_bylevel': 0.06812044970505153, 'depth': 1, 'boosting_type': 'Ordered', 'bootstrap_type': 'Bernoulli', 'l2_leaf_reg': 4.460829020959217, 'learning_rate': 0.07086456856461576}. Best is trial 0 with value: 0.7652014996781626.\n",
            "[I 2024-01-13 09:23:01,016] Trial 4 finished with value: 0.7657814724848198 and parameters: {'objective': 'Logloss', 'colsample_bylevel': 0.05280499488636512, 'depth': 8, 'boosting_type': 'Plain', 'bootstrap_type': 'Bayesian', 'l2_leaf_reg': 4.401996001745513, 'learning_rate': 0.061871791340297806}. Best is trial 4 with value: 0.7657814724848198.\n",
            "Trial 4 finished with value: 0.7657814724848198 and parameters: {'objective': 'Logloss', 'colsample_bylevel': 0.05280499488636512, 'depth': 8, 'boosting_type': 'Plain', 'bootstrap_type': 'Bayesian', 'l2_leaf_reg': 4.401996001745513, 'learning_rate': 0.061871791340297806}. Best is trial 4 with value: 0.7657814724848198.\n",
            "Trial 4 finished with value: 0.7657814724848198 and parameters: {'objective': 'Logloss', 'colsample_bylevel': 0.05280499488636512, 'depth': 8, 'boosting_type': 'Plain', 'bootstrap_type': 'Bayesian', 'l2_leaf_reg': 4.401996001745513, 'learning_rate': 0.061871791340297806}. Best is trial 4 with value: 0.7657814724848198.\n",
            "[I 2024-01-13 09:33:34,710] Trial 5 finished with value: 0.7619058056965837 and parameters: {'objective': 'Logloss', 'colsample_bylevel': 0.028176180219537543, 'depth': 8, 'boosting_type': 'Ordered', 'bootstrap_type': 'Bernoulli', 'l2_leaf_reg': 5.989321434385632, 'learning_rate': 0.0175380879335568}. Best is trial 4 with value: 0.7657814724848198.\n",
            "Trial 5 finished with value: 0.7619058056965837 and parameters: {'objective': 'Logloss', 'colsample_bylevel': 0.028176180219537543, 'depth': 8, 'boosting_type': 'Ordered', 'bootstrap_type': 'Bernoulli', 'l2_leaf_reg': 5.989321434385632, 'learning_rate': 0.0175380879335568}. Best is trial 4 with value: 0.7657814724848198.\n",
            "Trial 5 finished with value: 0.7619058056965837 and parameters: {'objective': 'Logloss', 'colsample_bylevel': 0.028176180219537543, 'depth': 8, 'boosting_type': 'Ordered', 'bootstrap_type': 'Bernoulli', 'l2_leaf_reg': 5.989321434385632, 'learning_rate': 0.0175380879335568}. Best is trial 4 with value: 0.7657814724848198.\n"
          ]
        },
        {
          "output_type": "stream",
          "name": "stdout",
          "text": [
            "Best trial for Gradient Boosting: {'objective': 'Logloss', 'colsample_bylevel': 0.05280499488636512, 'depth': 8, 'boosting_type': 'Plain', 'bootstrap_type': 'Bayesian', 'l2_leaf_reg': 4.401996001745513, 'learning_rate': 0.061871791340297806}\n"
          ]
        }
      ]
    },
    {
      "cell_type": "code",
      "source": [
        "catb_best_params = {'objective': 'Logloss', 'colsample_bylevel': 0.05280499488636512, 'depth': 8,\n",
        "                    'boosting_type': 'Plain', 'bootstrap_type': 'Bayesian',\n",
        "                    'l2_leaf_reg': 4.401996001745513, 'learning_rate': 0.061871791340297806}"
      ],
      "metadata": {
        "id": "CeGON9KuMKI-"
      },
      "execution_count": null,
      "outputs": []
    },
    {
      "cell_type": "code",
      "source": [
        "optuna.visualization.plot_optimization_history(cat_study, target_name=\"AUC\")"
      ],
      "metadata": {
        "colab": {
          "base_uri": "https://localhost:8080/",
          "height": 542
        },
        "id": "6LQpwHMgAyfl",
        "outputId": "0fccc4a5-4b46-4bfb-c943-63afd8e8eb86"
      },
      "execution_count": null,
      "outputs": [
        {
          "output_type": "display_data",
          "data": {
            "text/html": [
              "<html>\n",
              "<head><meta charset=\"utf-8\" /></head>\n",
              "<body>\n",
              "    <div>            <script src=\"https://cdnjs.cloudflare.com/ajax/libs/mathjax/2.7.5/MathJax.js?config=TeX-AMS-MML_SVG\"></script><script type=\"text/javascript\">if (window.MathJax && window.MathJax.Hub && window.MathJax.Hub.Config) {window.MathJax.Hub.Config({SVG: {font: \"STIX-Web\"}});}</script>                <script type=\"text/javascript\">window.PlotlyConfig = {MathJaxConfig: 'local'};</script>\n",
              "        <script charset=\"utf-8\" src=\"https://cdn.plot.ly/plotly-2.24.1.min.js\"></script>                <div id=\"513a79c9-29e0-42f1-a84c-bc014e751bef\" class=\"plotly-graph-div\" style=\"height:525px; width:100%;\"></div>            <script type=\"text/javascript\">                                    window.PLOTLYENV=window.PLOTLYENV || {};                                    if (document.getElementById(\"513a79c9-29e0-42f1-a84c-bc014e751bef\")) {                    Plotly.newPlot(                        \"513a79c9-29e0-42f1-a84c-bc014e751bef\",                        [{\"mode\":\"markers\",\"name\":\"AUC\",\"x\":[0,1,2,3,4,5],\"y\":[0.7652014996781626,0.7631659646093626,0.751143930078106,0.7608471866918559,0.7657814724848198,0.7619058056965837],\"type\":\"scatter\"},{\"mode\":\"lines\",\"name\":\"Best Value\",\"x\":[0,1,2,3,4,5],\"y\":[0.7652014996781626,0.7652014996781626,0.7652014996781626,0.7652014996781626,0.7657814724848198,0.7657814724848198],\"type\":\"scatter\"},{\"marker\":{\"color\":\"#cccccc\"},\"mode\":\"markers\",\"name\":\"Infeasible Trial\",\"showlegend\":false,\"x\":[],\"y\":[],\"type\":\"scatter\"}],                        {\"title\":{\"text\":\"Optimization History Plot\"},\"xaxis\":{\"title\":{\"text\":\"Trial\"}},\"yaxis\":{\"title\":{\"text\":\"AUC\"}},\"template\":{\"data\":{\"histogram2dcontour\":[{\"type\":\"histogram2dcontour\",\"colorbar\":{\"outlinewidth\":0,\"ticks\":\"\"},\"colorscale\":[[0.0,\"#0d0887\"],[0.1111111111111111,\"#46039f\"],[0.2222222222222222,\"#7201a8\"],[0.3333333333333333,\"#9c179e\"],[0.4444444444444444,\"#bd3786\"],[0.5555555555555556,\"#d8576b\"],[0.6666666666666666,\"#ed7953\"],[0.7777777777777778,\"#fb9f3a\"],[0.8888888888888888,\"#fdca26\"],[1.0,\"#f0f921\"]]}],\"choropleth\":[{\"type\":\"choropleth\",\"colorbar\":{\"outlinewidth\":0,\"ticks\":\"\"}}],\"histogram2d\":[{\"type\":\"histogram2d\",\"colorbar\":{\"outlinewidth\":0,\"ticks\":\"\"},\"colorscale\":[[0.0,\"#0d0887\"],[0.1111111111111111,\"#46039f\"],[0.2222222222222222,\"#7201a8\"],[0.3333333333333333,\"#9c179e\"],[0.4444444444444444,\"#bd3786\"],[0.5555555555555556,\"#d8576b\"],[0.6666666666666666,\"#ed7953\"],[0.7777777777777778,\"#fb9f3a\"],[0.8888888888888888,\"#fdca26\"],[1.0,\"#f0f921\"]]}],\"heatmap\":[{\"type\":\"heatmap\",\"colorbar\":{\"outlinewidth\":0,\"ticks\":\"\"},\"colorscale\":[[0.0,\"#0d0887\"],[0.1111111111111111,\"#46039f\"],[0.2222222222222222,\"#7201a8\"],[0.3333333333333333,\"#9c179e\"],[0.4444444444444444,\"#bd3786\"],[0.5555555555555556,\"#d8576b\"],[0.6666666666666666,\"#ed7953\"],[0.7777777777777778,\"#fb9f3a\"],[0.8888888888888888,\"#fdca26\"],[1.0,\"#f0f921\"]]}],\"heatmapgl\":[{\"type\":\"heatmapgl\",\"colorbar\":{\"outlinewidth\":0,\"ticks\":\"\"},\"colorscale\":[[0.0,\"#0d0887\"],[0.1111111111111111,\"#46039f\"],[0.2222222222222222,\"#7201a8\"],[0.3333333333333333,\"#9c179e\"],[0.4444444444444444,\"#bd3786\"],[0.5555555555555556,\"#d8576b\"],[0.6666666666666666,\"#ed7953\"],[0.7777777777777778,\"#fb9f3a\"],[0.8888888888888888,\"#fdca26\"],[1.0,\"#f0f921\"]]}],\"contourcarpet\":[{\"type\":\"contourcarpet\",\"colorbar\":{\"outlinewidth\":0,\"ticks\":\"\"}}],\"contour\":[{\"type\":\"contour\",\"colorbar\":{\"outlinewidth\":0,\"ticks\":\"\"},\"colorscale\":[[0.0,\"#0d0887\"],[0.1111111111111111,\"#46039f\"],[0.2222222222222222,\"#7201a8\"],[0.3333333333333333,\"#9c179e\"],[0.4444444444444444,\"#bd3786\"],[0.5555555555555556,\"#d8576b\"],[0.6666666666666666,\"#ed7953\"],[0.7777777777777778,\"#fb9f3a\"],[0.8888888888888888,\"#fdca26\"],[1.0,\"#f0f921\"]]}],\"surface\":[{\"type\":\"surface\",\"colorbar\":{\"outlinewidth\":0,\"ticks\":\"\"},\"colorscale\":[[0.0,\"#0d0887\"],[0.1111111111111111,\"#46039f\"],[0.2222222222222222,\"#7201a8\"],[0.3333333333333333,\"#9c179e\"],[0.4444444444444444,\"#bd3786\"],[0.5555555555555556,\"#d8576b\"],[0.6666666666666666,\"#ed7953\"],[0.7777777777777778,\"#fb9f3a\"],[0.8888888888888888,\"#fdca26\"],[1.0,\"#f0f921\"]]}],\"mesh3d\":[{\"type\":\"mesh3d\",\"colorbar\":{\"outlinewidth\":0,\"ticks\":\"\"}}],\"scatter\":[{\"fillpattern\":{\"fillmode\":\"overlay\",\"size\":10,\"solidity\":0.2},\"type\":\"scatter\"}],\"parcoords\":[{\"type\":\"parcoords\",\"line\":{\"colorbar\":{\"outlinewidth\":0,\"ticks\":\"\"}}}],\"scatterpolargl\":[{\"type\":\"scatterpolargl\",\"marker\":{\"colorbar\":{\"outlinewidth\":0,\"ticks\":\"\"}}}],\"bar\":[{\"error_x\":{\"color\":\"#2a3f5f\"},\"error_y\":{\"color\":\"#2a3f5f\"},\"marker\":{\"line\":{\"color\":\"#E5ECF6\",\"width\":0.5},\"pattern\":{\"fillmode\":\"overlay\",\"size\":10,\"solidity\":0.2}},\"type\":\"bar\"}],\"scattergeo\":[{\"type\":\"scattergeo\",\"marker\":{\"colorbar\":{\"outlinewidth\":0,\"ticks\":\"\"}}}],\"scatterpolar\":[{\"type\":\"scatterpolar\",\"marker\":{\"colorbar\":{\"outlinewidth\":0,\"ticks\":\"\"}}}],\"histogram\":[{\"marker\":{\"pattern\":{\"fillmode\":\"overlay\",\"size\":10,\"solidity\":0.2}},\"type\":\"histogram\"}],\"scattergl\":[{\"type\":\"scattergl\",\"marker\":{\"colorbar\":{\"outlinewidth\":0,\"ticks\":\"\"}}}],\"scatter3d\":[{\"type\":\"scatter3d\",\"line\":{\"colorbar\":{\"outlinewidth\":0,\"ticks\":\"\"}},\"marker\":{\"colorbar\":{\"outlinewidth\":0,\"ticks\":\"\"}}}],\"scattermapbox\":[{\"type\":\"scattermapbox\",\"marker\":{\"colorbar\":{\"outlinewidth\":0,\"ticks\":\"\"}}}],\"scatterternary\":[{\"type\":\"scatterternary\",\"marker\":{\"colorbar\":{\"outlinewidth\":0,\"ticks\":\"\"}}}],\"scattercarpet\":[{\"type\":\"scattercarpet\",\"marker\":{\"colorbar\":{\"outlinewidth\":0,\"ticks\":\"\"}}}],\"carpet\":[{\"aaxis\":{\"endlinecolor\":\"#2a3f5f\",\"gridcolor\":\"white\",\"linecolor\":\"white\",\"minorgridcolor\":\"white\",\"startlinecolor\":\"#2a3f5f\"},\"baxis\":{\"endlinecolor\":\"#2a3f5f\",\"gridcolor\":\"white\",\"linecolor\":\"white\",\"minorgridcolor\":\"white\",\"startlinecolor\":\"#2a3f5f\"},\"type\":\"carpet\"}],\"table\":[{\"cells\":{\"fill\":{\"color\":\"#EBF0F8\"},\"line\":{\"color\":\"white\"}},\"header\":{\"fill\":{\"color\":\"#C8D4E3\"},\"line\":{\"color\":\"white\"}},\"type\":\"table\"}],\"barpolar\":[{\"marker\":{\"line\":{\"color\":\"#E5ECF6\",\"width\":0.5},\"pattern\":{\"fillmode\":\"overlay\",\"size\":10,\"solidity\":0.2}},\"type\":\"barpolar\"}],\"pie\":[{\"automargin\":true,\"type\":\"pie\"}]},\"layout\":{\"autotypenumbers\":\"strict\",\"colorway\":[\"#636efa\",\"#EF553B\",\"#00cc96\",\"#ab63fa\",\"#FFA15A\",\"#19d3f3\",\"#FF6692\",\"#B6E880\",\"#FF97FF\",\"#FECB52\"],\"font\":{\"color\":\"#2a3f5f\"},\"hovermode\":\"closest\",\"hoverlabel\":{\"align\":\"left\"},\"paper_bgcolor\":\"white\",\"plot_bgcolor\":\"#E5ECF6\",\"polar\":{\"bgcolor\":\"#E5ECF6\",\"angularaxis\":{\"gridcolor\":\"white\",\"linecolor\":\"white\",\"ticks\":\"\"},\"radialaxis\":{\"gridcolor\":\"white\",\"linecolor\":\"white\",\"ticks\":\"\"}},\"ternary\":{\"bgcolor\":\"#E5ECF6\",\"aaxis\":{\"gridcolor\":\"white\",\"linecolor\":\"white\",\"ticks\":\"\"},\"baxis\":{\"gridcolor\":\"white\",\"linecolor\":\"white\",\"ticks\":\"\"},\"caxis\":{\"gridcolor\":\"white\",\"linecolor\":\"white\",\"ticks\":\"\"}},\"coloraxis\":{\"colorbar\":{\"outlinewidth\":0,\"ticks\":\"\"}},\"colorscale\":{\"sequential\":[[0.0,\"#0d0887\"],[0.1111111111111111,\"#46039f\"],[0.2222222222222222,\"#7201a8\"],[0.3333333333333333,\"#9c179e\"],[0.4444444444444444,\"#bd3786\"],[0.5555555555555556,\"#d8576b\"],[0.6666666666666666,\"#ed7953\"],[0.7777777777777778,\"#fb9f3a\"],[0.8888888888888888,\"#fdca26\"],[1.0,\"#f0f921\"]],\"sequentialminus\":[[0.0,\"#0d0887\"],[0.1111111111111111,\"#46039f\"],[0.2222222222222222,\"#7201a8\"],[0.3333333333333333,\"#9c179e\"],[0.4444444444444444,\"#bd3786\"],[0.5555555555555556,\"#d8576b\"],[0.6666666666666666,\"#ed7953\"],[0.7777777777777778,\"#fb9f3a\"],[0.8888888888888888,\"#fdca26\"],[1.0,\"#f0f921\"]],\"diverging\":[[0,\"#8e0152\"],[0.1,\"#c51b7d\"],[0.2,\"#de77ae\"],[0.3,\"#f1b6da\"],[0.4,\"#fde0ef\"],[0.5,\"#f7f7f7\"],[0.6,\"#e6f5d0\"],[0.7,\"#b8e186\"],[0.8,\"#7fbc41\"],[0.9,\"#4d9221\"],[1,\"#276419\"]]},\"xaxis\":{\"gridcolor\":\"white\",\"linecolor\":\"white\",\"ticks\":\"\",\"title\":{\"standoff\":15},\"zerolinecolor\":\"white\",\"automargin\":true,\"zerolinewidth\":2},\"yaxis\":{\"gridcolor\":\"white\",\"linecolor\":\"white\",\"ticks\":\"\",\"title\":{\"standoff\":15},\"zerolinecolor\":\"white\",\"automargin\":true,\"zerolinewidth\":2},\"scene\":{\"xaxis\":{\"backgroundcolor\":\"#E5ECF6\",\"gridcolor\":\"white\",\"linecolor\":\"white\",\"showbackground\":true,\"ticks\":\"\",\"zerolinecolor\":\"white\",\"gridwidth\":2},\"yaxis\":{\"backgroundcolor\":\"#E5ECF6\",\"gridcolor\":\"white\",\"linecolor\":\"white\",\"showbackground\":true,\"ticks\":\"\",\"zerolinecolor\":\"white\",\"gridwidth\":2},\"zaxis\":{\"backgroundcolor\":\"#E5ECF6\",\"gridcolor\":\"white\",\"linecolor\":\"white\",\"showbackground\":true,\"ticks\":\"\",\"zerolinecolor\":\"white\",\"gridwidth\":2}},\"shapedefaults\":{\"line\":{\"color\":\"#2a3f5f\"}},\"annotationdefaults\":{\"arrowcolor\":\"#2a3f5f\",\"arrowhead\":0,\"arrowwidth\":1},\"geo\":{\"bgcolor\":\"white\",\"landcolor\":\"#E5ECF6\",\"subunitcolor\":\"white\",\"showland\":true,\"showlakes\":true,\"lakecolor\":\"white\"},\"title\":{\"x\":0.05},\"mapbox\":{\"style\":\"light\"}}}},                        {\"responsive\": true}                    ).then(function(){\n",
              "                            \n",
              "var gd = document.getElementById('513a79c9-29e0-42f1-a84c-bc014e751bef');\n",
              "var x = new MutationObserver(function (mutations, observer) {{\n",
              "        var display = window.getComputedStyle(gd).display;\n",
              "        if (!display || display === 'none') {{\n",
              "            console.log([gd, 'removed!']);\n",
              "            Plotly.purge(gd);\n",
              "            observer.disconnect();\n",
              "        }}\n",
              "}});\n",
              "\n",
              "// Listen for the removal of the full notebook cells\n",
              "var notebookContainer = gd.closest('#notebook-container');\n",
              "if (notebookContainer) {{\n",
              "    x.observe(notebookContainer, {childList: true});\n",
              "}}\n",
              "\n",
              "// Listen for the clearing of the current output cell\n",
              "var outputEl = gd.closest('.output');\n",
              "if (outputEl) {{\n",
              "    x.observe(outputEl, {childList: true});\n",
              "}}\n",
              "\n",
              "                        })                };                            </script>        </div>\n",
              "</body>\n",
              "</html>"
            ]
          },
          "metadata": {}
        }
      ]
    },
    {
      "cell_type": "code",
      "source": [
        "optuna.visualization.plot_param_importances(cat_study)\n"
      ],
      "metadata": {
        "colab": {
          "base_uri": "https://localhost:8080/",
          "height": 542
        },
        "id": "KB-qiJYTMGKR",
        "outputId": "51665ea5-49f7-4308-9c6a-2cb87158613e"
      },
      "execution_count": null,
      "outputs": [
        {
          "output_type": "display_data",
          "data": {
            "text/html": [
              "<html>\n",
              "<head><meta charset=\"utf-8\" /></head>\n",
              "<body>\n",
              "    <div>            <script src=\"https://cdnjs.cloudflare.com/ajax/libs/mathjax/2.7.5/MathJax.js?config=TeX-AMS-MML_SVG\"></script><script type=\"text/javascript\">if (window.MathJax && window.MathJax.Hub && window.MathJax.Hub.Config) {window.MathJax.Hub.Config({SVG: {font: \"STIX-Web\"}});}</script>                <script type=\"text/javascript\">window.PlotlyConfig = {MathJaxConfig: 'local'};</script>\n",
              "        <script charset=\"utf-8\" src=\"https://cdn.plot.ly/plotly-2.24.1.min.js\"></script>                <div id=\"bcf4a1f7-f65f-4cea-81b9-c593c0cd173d\" class=\"plotly-graph-div\" style=\"height:525px; width:100%;\"></div>            <script type=\"text/javascript\">                                    window.PLOTLYENV=window.PLOTLYENV || {};                                    if (document.getElementById(\"bcf4a1f7-f65f-4cea-81b9-c593c0cd173d\")) {                    Plotly.newPlot(                        \"bcf4a1f7-f65f-4cea-81b9-c593c0cd173d\",                        [{\"cliponaxis\":false,\"hovertemplate\":[\"objective (CategoricalDistribution): 0.009033549003380738\\u003cextra\\u003e\\u003c\\u002fextra\\u003e\",\"bootstrap_type (CategoricalDistribution): 0.02637807330207835\\u003cextra\\u003e\\u003c\\u002fextra\\u003e\",\"l2_leaf_reg (FloatDistribution): 0.0499324073522735\\u003cextra\\u003e\\u003c\\u002fextra\\u003e\",\"depth (IntDistribution): 0.08272697407752468\\u003cextra\\u003e\\u003c\\u002fextra\\u003e\",\"colsample_bylevel (FloatDistribution): 0.13564003862777985\\u003cextra\\u003e\\u003c\\u002fextra\\u003e\",\"learning_rate (FloatDistribution): 0.28943993373788734\\u003cextra\\u003e\\u003c\\u002fextra\\u003e\",\"boosting_type (CategoricalDistribution): 0.4068490238990755\\u003cextra\\u003e\\u003c\\u002fextra\\u003e\"],\"name\":\"Objective Value\",\"orientation\":\"h\",\"text\":[\"\\u003c0.01\",\"0.03\",\"0.05\",\"0.08\",\"0.14\",\"0.29\",\"0.41\"],\"textposition\":\"outside\",\"x\":[0.009033549003380738,0.02637807330207835,0.0499324073522735,0.08272697407752468,0.13564003862777985,0.28943993373788734,0.4068490238990755],\"y\":[\"objective\",\"bootstrap_type\",\"l2_leaf_reg\",\"depth\",\"colsample_bylevel\",\"learning_rate\",\"boosting_type\"],\"type\":\"bar\"}],                        {\"title\":{\"text\":\"Hyperparameter Importances\"},\"xaxis\":{\"title\":{\"text\":\"Hyperparameter Importance\"}},\"yaxis\":{\"title\":{\"text\":\"Hyperparameter\"}},\"template\":{\"data\":{\"histogram2dcontour\":[{\"type\":\"histogram2dcontour\",\"colorbar\":{\"outlinewidth\":0,\"ticks\":\"\"},\"colorscale\":[[0.0,\"#0d0887\"],[0.1111111111111111,\"#46039f\"],[0.2222222222222222,\"#7201a8\"],[0.3333333333333333,\"#9c179e\"],[0.4444444444444444,\"#bd3786\"],[0.5555555555555556,\"#d8576b\"],[0.6666666666666666,\"#ed7953\"],[0.7777777777777778,\"#fb9f3a\"],[0.8888888888888888,\"#fdca26\"],[1.0,\"#f0f921\"]]}],\"choropleth\":[{\"type\":\"choropleth\",\"colorbar\":{\"outlinewidth\":0,\"ticks\":\"\"}}],\"histogram2d\":[{\"type\":\"histogram2d\",\"colorbar\":{\"outlinewidth\":0,\"ticks\":\"\"},\"colorscale\":[[0.0,\"#0d0887\"],[0.1111111111111111,\"#46039f\"],[0.2222222222222222,\"#7201a8\"],[0.3333333333333333,\"#9c179e\"],[0.4444444444444444,\"#bd3786\"],[0.5555555555555556,\"#d8576b\"],[0.6666666666666666,\"#ed7953\"],[0.7777777777777778,\"#fb9f3a\"],[0.8888888888888888,\"#fdca26\"],[1.0,\"#f0f921\"]]}],\"heatmap\":[{\"type\":\"heatmap\",\"colorbar\":{\"outlinewidth\":0,\"ticks\":\"\"},\"colorscale\":[[0.0,\"#0d0887\"],[0.1111111111111111,\"#46039f\"],[0.2222222222222222,\"#7201a8\"],[0.3333333333333333,\"#9c179e\"],[0.4444444444444444,\"#bd3786\"],[0.5555555555555556,\"#d8576b\"],[0.6666666666666666,\"#ed7953\"],[0.7777777777777778,\"#fb9f3a\"],[0.8888888888888888,\"#fdca26\"],[1.0,\"#f0f921\"]]}],\"heatmapgl\":[{\"type\":\"heatmapgl\",\"colorbar\":{\"outlinewidth\":0,\"ticks\":\"\"},\"colorscale\":[[0.0,\"#0d0887\"],[0.1111111111111111,\"#46039f\"],[0.2222222222222222,\"#7201a8\"],[0.3333333333333333,\"#9c179e\"],[0.4444444444444444,\"#bd3786\"],[0.5555555555555556,\"#d8576b\"],[0.6666666666666666,\"#ed7953\"],[0.7777777777777778,\"#fb9f3a\"],[0.8888888888888888,\"#fdca26\"],[1.0,\"#f0f921\"]]}],\"contourcarpet\":[{\"type\":\"contourcarpet\",\"colorbar\":{\"outlinewidth\":0,\"ticks\":\"\"}}],\"contour\":[{\"type\":\"contour\",\"colorbar\":{\"outlinewidth\":0,\"ticks\":\"\"},\"colorscale\":[[0.0,\"#0d0887\"],[0.1111111111111111,\"#46039f\"],[0.2222222222222222,\"#7201a8\"],[0.3333333333333333,\"#9c179e\"],[0.4444444444444444,\"#bd3786\"],[0.5555555555555556,\"#d8576b\"],[0.6666666666666666,\"#ed7953\"],[0.7777777777777778,\"#fb9f3a\"],[0.8888888888888888,\"#fdca26\"],[1.0,\"#f0f921\"]]}],\"surface\":[{\"type\":\"surface\",\"colorbar\":{\"outlinewidth\":0,\"ticks\":\"\"},\"colorscale\":[[0.0,\"#0d0887\"],[0.1111111111111111,\"#46039f\"],[0.2222222222222222,\"#7201a8\"],[0.3333333333333333,\"#9c179e\"],[0.4444444444444444,\"#bd3786\"],[0.5555555555555556,\"#d8576b\"],[0.6666666666666666,\"#ed7953\"],[0.7777777777777778,\"#fb9f3a\"],[0.8888888888888888,\"#fdca26\"],[1.0,\"#f0f921\"]]}],\"mesh3d\":[{\"type\":\"mesh3d\",\"colorbar\":{\"outlinewidth\":0,\"ticks\":\"\"}}],\"scatter\":[{\"fillpattern\":{\"fillmode\":\"overlay\",\"size\":10,\"solidity\":0.2},\"type\":\"scatter\"}],\"parcoords\":[{\"type\":\"parcoords\",\"line\":{\"colorbar\":{\"outlinewidth\":0,\"ticks\":\"\"}}}],\"scatterpolargl\":[{\"type\":\"scatterpolargl\",\"marker\":{\"colorbar\":{\"outlinewidth\":0,\"ticks\":\"\"}}}],\"bar\":[{\"error_x\":{\"color\":\"#2a3f5f\"},\"error_y\":{\"color\":\"#2a3f5f\"},\"marker\":{\"line\":{\"color\":\"#E5ECF6\",\"width\":0.5},\"pattern\":{\"fillmode\":\"overlay\",\"size\":10,\"solidity\":0.2}},\"type\":\"bar\"}],\"scattergeo\":[{\"type\":\"scattergeo\",\"marker\":{\"colorbar\":{\"outlinewidth\":0,\"ticks\":\"\"}}}],\"scatterpolar\":[{\"type\":\"scatterpolar\",\"marker\":{\"colorbar\":{\"outlinewidth\":0,\"ticks\":\"\"}}}],\"histogram\":[{\"marker\":{\"pattern\":{\"fillmode\":\"overlay\",\"size\":10,\"solidity\":0.2}},\"type\":\"histogram\"}],\"scattergl\":[{\"type\":\"scattergl\",\"marker\":{\"colorbar\":{\"outlinewidth\":0,\"ticks\":\"\"}}}],\"scatter3d\":[{\"type\":\"scatter3d\",\"line\":{\"colorbar\":{\"outlinewidth\":0,\"ticks\":\"\"}},\"marker\":{\"colorbar\":{\"outlinewidth\":0,\"ticks\":\"\"}}}],\"scattermapbox\":[{\"type\":\"scattermapbox\",\"marker\":{\"colorbar\":{\"outlinewidth\":0,\"ticks\":\"\"}}}],\"scatterternary\":[{\"type\":\"scatterternary\",\"marker\":{\"colorbar\":{\"outlinewidth\":0,\"ticks\":\"\"}}}],\"scattercarpet\":[{\"type\":\"scattercarpet\",\"marker\":{\"colorbar\":{\"outlinewidth\":0,\"ticks\":\"\"}}}],\"carpet\":[{\"aaxis\":{\"endlinecolor\":\"#2a3f5f\",\"gridcolor\":\"white\",\"linecolor\":\"white\",\"minorgridcolor\":\"white\",\"startlinecolor\":\"#2a3f5f\"},\"baxis\":{\"endlinecolor\":\"#2a3f5f\",\"gridcolor\":\"white\",\"linecolor\":\"white\",\"minorgridcolor\":\"white\",\"startlinecolor\":\"#2a3f5f\"},\"type\":\"carpet\"}],\"table\":[{\"cells\":{\"fill\":{\"color\":\"#EBF0F8\"},\"line\":{\"color\":\"white\"}},\"header\":{\"fill\":{\"color\":\"#C8D4E3\"},\"line\":{\"color\":\"white\"}},\"type\":\"table\"}],\"barpolar\":[{\"marker\":{\"line\":{\"color\":\"#E5ECF6\",\"width\":0.5},\"pattern\":{\"fillmode\":\"overlay\",\"size\":10,\"solidity\":0.2}},\"type\":\"barpolar\"}],\"pie\":[{\"automargin\":true,\"type\":\"pie\"}]},\"layout\":{\"autotypenumbers\":\"strict\",\"colorway\":[\"#636efa\",\"#EF553B\",\"#00cc96\",\"#ab63fa\",\"#FFA15A\",\"#19d3f3\",\"#FF6692\",\"#B6E880\",\"#FF97FF\",\"#FECB52\"],\"font\":{\"color\":\"#2a3f5f\"},\"hovermode\":\"closest\",\"hoverlabel\":{\"align\":\"left\"},\"paper_bgcolor\":\"white\",\"plot_bgcolor\":\"#E5ECF6\",\"polar\":{\"bgcolor\":\"#E5ECF6\",\"angularaxis\":{\"gridcolor\":\"white\",\"linecolor\":\"white\",\"ticks\":\"\"},\"radialaxis\":{\"gridcolor\":\"white\",\"linecolor\":\"white\",\"ticks\":\"\"}},\"ternary\":{\"bgcolor\":\"#E5ECF6\",\"aaxis\":{\"gridcolor\":\"white\",\"linecolor\":\"white\",\"ticks\":\"\"},\"baxis\":{\"gridcolor\":\"white\",\"linecolor\":\"white\",\"ticks\":\"\"},\"caxis\":{\"gridcolor\":\"white\",\"linecolor\":\"white\",\"ticks\":\"\"}},\"coloraxis\":{\"colorbar\":{\"outlinewidth\":0,\"ticks\":\"\"}},\"colorscale\":{\"sequential\":[[0.0,\"#0d0887\"],[0.1111111111111111,\"#46039f\"],[0.2222222222222222,\"#7201a8\"],[0.3333333333333333,\"#9c179e\"],[0.4444444444444444,\"#bd3786\"],[0.5555555555555556,\"#d8576b\"],[0.6666666666666666,\"#ed7953\"],[0.7777777777777778,\"#fb9f3a\"],[0.8888888888888888,\"#fdca26\"],[1.0,\"#f0f921\"]],\"sequentialminus\":[[0.0,\"#0d0887\"],[0.1111111111111111,\"#46039f\"],[0.2222222222222222,\"#7201a8\"],[0.3333333333333333,\"#9c179e\"],[0.4444444444444444,\"#bd3786\"],[0.5555555555555556,\"#d8576b\"],[0.6666666666666666,\"#ed7953\"],[0.7777777777777778,\"#fb9f3a\"],[0.8888888888888888,\"#fdca26\"],[1.0,\"#f0f921\"]],\"diverging\":[[0,\"#8e0152\"],[0.1,\"#c51b7d\"],[0.2,\"#de77ae\"],[0.3,\"#f1b6da\"],[0.4,\"#fde0ef\"],[0.5,\"#f7f7f7\"],[0.6,\"#e6f5d0\"],[0.7,\"#b8e186\"],[0.8,\"#7fbc41\"],[0.9,\"#4d9221\"],[1,\"#276419\"]]},\"xaxis\":{\"gridcolor\":\"white\",\"linecolor\":\"white\",\"ticks\":\"\",\"title\":{\"standoff\":15},\"zerolinecolor\":\"white\",\"automargin\":true,\"zerolinewidth\":2},\"yaxis\":{\"gridcolor\":\"white\",\"linecolor\":\"white\",\"ticks\":\"\",\"title\":{\"standoff\":15},\"zerolinecolor\":\"white\",\"automargin\":true,\"zerolinewidth\":2},\"scene\":{\"xaxis\":{\"backgroundcolor\":\"#E5ECF6\",\"gridcolor\":\"white\",\"linecolor\":\"white\",\"showbackground\":true,\"ticks\":\"\",\"zerolinecolor\":\"white\",\"gridwidth\":2},\"yaxis\":{\"backgroundcolor\":\"#E5ECF6\",\"gridcolor\":\"white\",\"linecolor\":\"white\",\"showbackground\":true,\"ticks\":\"\",\"zerolinecolor\":\"white\",\"gridwidth\":2},\"zaxis\":{\"backgroundcolor\":\"#E5ECF6\",\"gridcolor\":\"white\",\"linecolor\":\"white\",\"showbackground\":true,\"ticks\":\"\",\"zerolinecolor\":\"white\",\"gridwidth\":2}},\"shapedefaults\":{\"line\":{\"color\":\"#2a3f5f\"}},\"annotationdefaults\":{\"arrowcolor\":\"#2a3f5f\",\"arrowhead\":0,\"arrowwidth\":1},\"geo\":{\"bgcolor\":\"white\",\"landcolor\":\"#E5ECF6\",\"subunitcolor\":\"white\",\"showland\":true,\"showlakes\":true,\"lakecolor\":\"white\"},\"title\":{\"x\":0.05},\"mapbox\":{\"style\":\"light\"}}}},                        {\"responsive\": true}                    ).then(function(){\n",
              "                            \n",
              "var gd = document.getElementById('bcf4a1f7-f65f-4cea-81b9-c593c0cd173d');\n",
              "var x = new MutationObserver(function (mutations, observer) {{\n",
              "        var display = window.getComputedStyle(gd).display;\n",
              "        if (!display || display === 'none') {{\n",
              "            console.log([gd, 'removed!']);\n",
              "            Plotly.purge(gd);\n",
              "            observer.disconnect();\n",
              "        }}\n",
              "}});\n",
              "\n",
              "// Listen for the removal of the full notebook cells\n",
              "var notebookContainer = gd.closest('#notebook-container');\n",
              "if (notebookContainer) {{\n",
              "    x.observe(notebookContainer, {childList: true});\n",
              "}}\n",
              "\n",
              "// Listen for the clearing of the current output cell\n",
              "var outputEl = gd.closest('.output');\n",
              "if (outputEl) {{\n",
              "    x.observe(outputEl, {childList: true});\n",
              "}}\n",
              "\n",
              "                        })                };                            </script>        </div>\n",
              "</body>\n",
              "</html>"
            ]
          },
          "metadata": {}
        }
      ]
    },
    {
      "cell_type": "markdown",
      "source": [
        "## Summary\n",
        "\n",
        "###  Best model\n",
        "The best model turned out to be **LightGBM** that achieved $AUC = 0.77$ on *Cross Validation* with 3 folds. I suggest to go with that model and set of parameters and refit it on the whole training dataset."
      ],
      "metadata": {
        "id": "AOffeqDCMhei"
      }
    },
    {
      "cell_type": "code",
      "source": [
        "lgbm_best_params"
      ],
      "metadata": {
        "colab": {
          "base_uri": "https://localhost:8080/"
        },
        "id": "XNjNvjpiMU5o",
        "outputId": "7c54d69f-7072-4882-ed10-c46797daded5"
      },
      "execution_count": null,
      "outputs": [
        {
          "output_type": "execute_result",
          "data": {
            "text/plain": [
              "{'n_estimators': 732,\n",
              " 'learning_rate': 0.031316147584151494,\n",
              " 'max_depth': 4,\n",
              " 'num_leaves': 254,\n",
              " 'min_child_samples': 53,\n",
              " 'subsample': 0.7984504967334111,\n",
              " 'colsample_bytree': 0.8251989329299895,\n",
              " 'reg_alpha': 0.6757873677566055,\n",
              " 'reg_lambda': 0.5459196324312461}"
            ]
          },
          "metadata": {},
          "execution_count": 59
        }
      ]
    },
    {
      "cell_type": "code",
      "source": [
        "lgbm_study_df.sort_values(by=\"value\", ascending=False).head(1)"
      ],
      "metadata": {
        "colab": {
          "base_uri": "https://localhost:8080/",
          "height": 118
        },
        "id": "NU1SlWabM1lV",
        "outputId": "940b6d91-4351-40cb-88dc-ddd5ce8d09c8"
      },
      "execution_count": null,
      "outputs": [
        {
          "output_type": "execute_result",
          "data": {
            "text/plain": [
              "    number     value             datetime_start          datetime_complete  \\\n",
              "15      15  0.770105 2024-01-13 08:18:06.613229 2024-01-13 08:20:18.924746   \n",
              "\n",
              "                 duration  params_colsample_bytree  params_learning_rate  \\\n",
              "15 0 days 00:02:12.311517                 0.825199              0.031316   \n",
              "\n",
              "    params_max_depth  params_min_child_samples  params_n_estimators  \\\n",
              "15                 4                        53                  732   \n",
              "\n",
              "    params_num_leaves  params_reg_alpha  params_reg_lambda  params_subsample  \\\n",
              "15                254          0.675787            0.54592           0.79845   \n",
              "\n",
              "       state  \n",
              "15  COMPLETE  "
            ],
            "text/html": [
              "\n",
              "  <div id=\"df-4eea7402-c2ae-42e1-85c3-1310fb973a7b\" class=\"colab-df-container\">\n",
              "    <div>\n",
              "<style scoped>\n",
              "    .dataframe tbody tr th:only-of-type {\n",
              "        vertical-align: middle;\n",
              "    }\n",
              "\n",
              "    .dataframe tbody tr th {\n",
              "        vertical-align: top;\n",
              "    }\n",
              "\n",
              "    .dataframe thead th {\n",
              "        text-align: right;\n",
              "    }\n",
              "</style>\n",
              "<table border=\"1\" class=\"dataframe\">\n",
              "  <thead>\n",
              "    <tr style=\"text-align: right;\">\n",
              "      <th></th>\n",
              "      <th>number</th>\n",
              "      <th>value</th>\n",
              "      <th>datetime_start</th>\n",
              "      <th>datetime_complete</th>\n",
              "      <th>duration</th>\n",
              "      <th>params_colsample_bytree</th>\n",
              "      <th>params_learning_rate</th>\n",
              "      <th>params_max_depth</th>\n",
              "      <th>params_min_child_samples</th>\n",
              "      <th>params_n_estimators</th>\n",
              "      <th>params_num_leaves</th>\n",
              "      <th>params_reg_alpha</th>\n",
              "      <th>params_reg_lambda</th>\n",
              "      <th>params_subsample</th>\n",
              "      <th>state</th>\n",
              "    </tr>\n",
              "  </thead>\n",
              "  <tbody>\n",
              "    <tr>\n",
              "      <th>15</th>\n",
              "      <td>15</td>\n",
              "      <td>0.770105</td>\n",
              "      <td>2024-01-13 08:18:06.613229</td>\n",
              "      <td>2024-01-13 08:20:18.924746</td>\n",
              "      <td>0 days 00:02:12.311517</td>\n",
              "      <td>0.825199</td>\n",
              "      <td>0.031316</td>\n",
              "      <td>4</td>\n",
              "      <td>53</td>\n",
              "      <td>732</td>\n",
              "      <td>254</td>\n",
              "      <td>0.675787</td>\n",
              "      <td>0.54592</td>\n",
              "      <td>0.79845</td>\n",
              "      <td>COMPLETE</td>\n",
              "    </tr>\n",
              "  </tbody>\n",
              "</table>\n",
              "</div>\n",
              "    <div class=\"colab-df-buttons\">\n",
              "\n",
              "  <div class=\"colab-df-container\">\n",
              "    <button class=\"colab-df-convert\" onclick=\"convertToInteractive('df-4eea7402-c2ae-42e1-85c3-1310fb973a7b')\"\n",
              "            title=\"Convert this dataframe to an interactive table.\"\n",
              "            style=\"display:none;\">\n",
              "\n",
              "  <svg xmlns=\"http://www.w3.org/2000/svg\" height=\"24px\" viewBox=\"0 -960 960 960\">\n",
              "    <path d=\"M120-120v-720h720v720H120Zm60-500h600v-160H180v160Zm220 220h160v-160H400v160Zm0 220h160v-160H400v160ZM180-400h160v-160H180v160Zm440 0h160v-160H620v160ZM180-180h160v-160H180v160Zm440 0h160v-160H620v160Z\"/>\n",
              "  </svg>\n",
              "    </button>\n",
              "\n",
              "  <style>\n",
              "    .colab-df-container {\n",
              "      display:flex;\n",
              "      gap: 12px;\n",
              "    }\n",
              "\n",
              "    .colab-df-convert {\n",
              "      background-color: #E8F0FE;\n",
              "      border: none;\n",
              "      border-radius: 50%;\n",
              "      cursor: pointer;\n",
              "      display: none;\n",
              "      fill: #1967D2;\n",
              "      height: 32px;\n",
              "      padding: 0 0 0 0;\n",
              "      width: 32px;\n",
              "    }\n",
              "\n",
              "    .colab-df-convert:hover {\n",
              "      background-color: #E2EBFA;\n",
              "      box-shadow: 0px 1px 2px rgba(60, 64, 67, 0.3), 0px 1px 3px 1px rgba(60, 64, 67, 0.15);\n",
              "      fill: #174EA6;\n",
              "    }\n",
              "\n",
              "    .colab-df-buttons div {\n",
              "      margin-bottom: 4px;\n",
              "    }\n",
              "\n",
              "    [theme=dark] .colab-df-convert {\n",
              "      background-color: #3B4455;\n",
              "      fill: #D2E3FC;\n",
              "    }\n",
              "\n",
              "    [theme=dark] .colab-df-convert:hover {\n",
              "      background-color: #434B5C;\n",
              "      box-shadow: 0px 1px 3px 1px rgba(0, 0, 0, 0.15);\n",
              "      filter: drop-shadow(0px 1px 2px rgba(0, 0, 0, 0.3));\n",
              "      fill: #FFFFFF;\n",
              "    }\n",
              "  </style>\n",
              "\n",
              "    <script>\n",
              "      const buttonEl =\n",
              "        document.querySelector('#df-4eea7402-c2ae-42e1-85c3-1310fb973a7b button.colab-df-convert');\n",
              "      buttonEl.style.display =\n",
              "        google.colab.kernel.accessAllowed ? 'block' : 'none';\n",
              "\n",
              "      async function convertToInteractive(key) {\n",
              "        const element = document.querySelector('#df-4eea7402-c2ae-42e1-85c3-1310fb973a7b');\n",
              "        const dataTable =\n",
              "          await google.colab.kernel.invokeFunction('convertToInteractive',\n",
              "                                                    [key], {});\n",
              "        if (!dataTable) return;\n",
              "\n",
              "        const docLinkHtml = 'Like what you see? Visit the ' +\n",
              "          '<a target=\"_blank\" href=https://colab.research.google.com/notebooks/data_table.ipynb>data table notebook</a>'\n",
              "          + ' to learn more about interactive tables.';\n",
              "        element.innerHTML = '';\n",
              "        dataTable['output_type'] = 'display_data';\n",
              "        await google.colab.output.renderOutput(dataTable, element);\n",
              "        const docLink = document.createElement('div');\n",
              "        docLink.innerHTML = docLinkHtml;\n",
              "        element.appendChild(docLink);\n",
              "      }\n",
              "    </script>\n",
              "  </div>\n",
              "\n",
              "    </div>\n",
              "  </div>\n"
            ]
          },
          "metadata": {},
          "execution_count": 63
        }
      ]
    },
    {
      "cell_type": "markdown",
      "source": [
        "### Comparison\n",
        "\n"
      ],
      "metadata": {
        "id": "AD0gpBtSN7al"
      }
    },
    {
      "cell_type": "code",
      "source": [
        "studies = [rf_study_df, lgbm_study_df, xgb_study_df, cat_study_df]\n",
        "\n",
        "AUCS_achieved  = []\n",
        "model_names = [\"RandomForest\", \"LightGBM\", \"XGboost\", \"Catboost\"]\n",
        "\n",
        "for study in studies:\n",
        "  auc = float(study.sort_values(by=\"value\", ascending=False).head(1)[\"value\"].values)\n",
        "  AUCS_achieved.append(auc)\n",
        "\n",
        "comparison_table = pd.DataFrame({\"model\" : model_names, \"best AUC\" : AUCS_achieved})"
      ],
      "metadata": {
        "id": "UP4GDnxgNkqw"
      },
      "execution_count": null,
      "outputs": []
    },
    {
      "cell_type": "code",
      "source": [
        "comparison_table.sort_values(by=\"best AUC\", ascending=False).head()"
      ],
      "metadata": {
        "colab": {
          "base_uri": "https://localhost:8080/",
          "height": 175
        },
        "id": "OzZhzBOcOm2M",
        "outputId": "46c2d7b4-735f-4b5a-d31f-0a3121aaa5e1"
      },
      "execution_count": null,
      "outputs": [
        {
          "output_type": "execute_result",
          "data": {
            "text/plain": [
              "          model  best AUC\n",
              "1      LightGBM  0.770105\n",
              "2       XGboost  0.766084\n",
              "3      Catboost  0.765781\n",
              "0  RandomForest  0.730204"
            ],
            "text/html": [
              "\n",
              "  <div id=\"df-e908b819-2af3-4207-b17c-853a6a2ab5c1\" class=\"colab-df-container\">\n",
              "    <div>\n",
              "<style scoped>\n",
              "    .dataframe tbody tr th:only-of-type {\n",
              "        vertical-align: middle;\n",
              "    }\n",
              "\n",
              "    .dataframe tbody tr th {\n",
              "        vertical-align: top;\n",
              "    }\n",
              "\n",
              "    .dataframe thead th {\n",
              "        text-align: right;\n",
              "    }\n",
              "</style>\n",
              "<table border=\"1\" class=\"dataframe\">\n",
              "  <thead>\n",
              "    <tr style=\"text-align: right;\">\n",
              "      <th></th>\n",
              "      <th>model</th>\n",
              "      <th>best AUC</th>\n",
              "    </tr>\n",
              "  </thead>\n",
              "  <tbody>\n",
              "    <tr>\n",
              "      <th>1</th>\n",
              "      <td>LightGBM</td>\n",
              "      <td>0.770105</td>\n",
              "    </tr>\n",
              "    <tr>\n",
              "      <th>2</th>\n",
              "      <td>XGboost</td>\n",
              "      <td>0.766084</td>\n",
              "    </tr>\n",
              "    <tr>\n",
              "      <th>3</th>\n",
              "      <td>Catboost</td>\n",
              "      <td>0.765781</td>\n",
              "    </tr>\n",
              "    <tr>\n",
              "      <th>0</th>\n",
              "      <td>RandomForest</td>\n",
              "      <td>0.730204</td>\n",
              "    </tr>\n",
              "  </tbody>\n",
              "</table>\n",
              "</div>\n",
              "    <div class=\"colab-df-buttons\">\n",
              "\n",
              "  <div class=\"colab-df-container\">\n",
              "    <button class=\"colab-df-convert\" onclick=\"convertToInteractive('df-e908b819-2af3-4207-b17c-853a6a2ab5c1')\"\n",
              "            title=\"Convert this dataframe to an interactive table.\"\n",
              "            style=\"display:none;\">\n",
              "\n",
              "  <svg xmlns=\"http://www.w3.org/2000/svg\" height=\"24px\" viewBox=\"0 -960 960 960\">\n",
              "    <path d=\"M120-120v-720h720v720H120Zm60-500h600v-160H180v160Zm220 220h160v-160H400v160Zm0 220h160v-160H400v160ZM180-400h160v-160H180v160Zm440 0h160v-160H620v160ZM180-180h160v-160H180v160Zm440 0h160v-160H620v160Z\"/>\n",
              "  </svg>\n",
              "    </button>\n",
              "\n",
              "  <style>\n",
              "    .colab-df-container {\n",
              "      display:flex;\n",
              "      gap: 12px;\n",
              "    }\n",
              "\n",
              "    .colab-df-convert {\n",
              "      background-color: #E8F0FE;\n",
              "      border: none;\n",
              "      border-radius: 50%;\n",
              "      cursor: pointer;\n",
              "      display: none;\n",
              "      fill: #1967D2;\n",
              "      height: 32px;\n",
              "      padding: 0 0 0 0;\n",
              "      width: 32px;\n",
              "    }\n",
              "\n",
              "    .colab-df-convert:hover {\n",
              "      background-color: #E2EBFA;\n",
              "      box-shadow: 0px 1px 2px rgba(60, 64, 67, 0.3), 0px 1px 3px 1px rgba(60, 64, 67, 0.15);\n",
              "      fill: #174EA6;\n",
              "    }\n",
              "\n",
              "    .colab-df-buttons div {\n",
              "      margin-bottom: 4px;\n",
              "    }\n",
              "\n",
              "    [theme=dark] .colab-df-convert {\n",
              "      background-color: #3B4455;\n",
              "      fill: #D2E3FC;\n",
              "    }\n",
              "\n",
              "    [theme=dark] .colab-df-convert:hover {\n",
              "      background-color: #434B5C;\n",
              "      box-shadow: 0px 1px 3px 1px rgba(0, 0, 0, 0.15);\n",
              "      filter: drop-shadow(0px 1px 2px rgba(0, 0, 0, 0.3));\n",
              "      fill: #FFFFFF;\n",
              "    }\n",
              "  </style>\n",
              "\n",
              "    <script>\n",
              "      const buttonEl =\n",
              "        document.querySelector('#df-e908b819-2af3-4207-b17c-853a6a2ab5c1 button.colab-df-convert');\n",
              "      buttonEl.style.display =\n",
              "        google.colab.kernel.accessAllowed ? 'block' : 'none';\n",
              "\n",
              "      async function convertToInteractive(key) {\n",
              "        const element = document.querySelector('#df-e908b819-2af3-4207-b17c-853a6a2ab5c1');\n",
              "        const dataTable =\n",
              "          await google.colab.kernel.invokeFunction('convertToInteractive',\n",
              "                                                    [key], {});\n",
              "        if (!dataTable) return;\n",
              "\n",
              "        const docLinkHtml = 'Like what you see? Visit the ' +\n",
              "          '<a target=\"_blank\" href=https://colab.research.google.com/notebooks/data_table.ipynb>data table notebook</a>'\n",
              "          + ' to learn more about interactive tables.';\n",
              "        element.innerHTML = '';\n",
              "        dataTable['output_type'] = 'display_data';\n",
              "        await google.colab.output.renderOutput(dataTable, element);\n",
              "        const docLink = document.createElement('div');\n",
              "        docLink.innerHTML = docLinkHtml;\n",
              "        element.appendChild(docLink);\n",
              "      }\n",
              "    </script>\n",
              "  </div>\n",
              "\n",
              "\n",
              "<div id=\"df-1a53826d-4d42-4abe-9136-183bfe20efd0\">\n",
              "  <button class=\"colab-df-quickchart\" onclick=\"quickchart('df-1a53826d-4d42-4abe-9136-183bfe20efd0')\"\n",
              "            title=\"Suggest charts\"\n",
              "            style=\"display:none;\">\n",
              "\n",
              "<svg xmlns=\"http://www.w3.org/2000/svg\" height=\"24px\"viewBox=\"0 0 24 24\"\n",
              "     width=\"24px\">\n",
              "    <g>\n",
              "        <path d=\"M19 3H5c-1.1 0-2 .9-2 2v14c0 1.1.9 2 2 2h14c1.1 0 2-.9 2-2V5c0-1.1-.9-2-2-2zM9 17H7v-7h2v7zm4 0h-2V7h2v10zm4 0h-2v-4h2v4z\"/>\n",
              "    </g>\n",
              "</svg>\n",
              "  </button>\n",
              "\n",
              "<style>\n",
              "  .colab-df-quickchart {\n",
              "      --bg-color: #E8F0FE;\n",
              "      --fill-color: #1967D2;\n",
              "      --hover-bg-color: #E2EBFA;\n",
              "      --hover-fill-color: #174EA6;\n",
              "      --disabled-fill-color: #AAA;\n",
              "      --disabled-bg-color: #DDD;\n",
              "  }\n",
              "\n",
              "  [theme=dark] .colab-df-quickchart {\n",
              "      --bg-color: #3B4455;\n",
              "      --fill-color: #D2E3FC;\n",
              "      --hover-bg-color: #434B5C;\n",
              "      --hover-fill-color: #FFFFFF;\n",
              "      --disabled-bg-color: #3B4455;\n",
              "      --disabled-fill-color: #666;\n",
              "  }\n",
              "\n",
              "  .colab-df-quickchart {\n",
              "    background-color: var(--bg-color);\n",
              "    border: none;\n",
              "    border-radius: 50%;\n",
              "    cursor: pointer;\n",
              "    display: none;\n",
              "    fill: var(--fill-color);\n",
              "    height: 32px;\n",
              "    padding: 0;\n",
              "    width: 32px;\n",
              "  }\n",
              "\n",
              "  .colab-df-quickchart:hover {\n",
              "    background-color: var(--hover-bg-color);\n",
              "    box-shadow: 0 1px 2px rgba(60, 64, 67, 0.3), 0 1px 3px 1px rgba(60, 64, 67, 0.15);\n",
              "    fill: var(--button-hover-fill-color);\n",
              "  }\n",
              "\n",
              "  .colab-df-quickchart-complete:disabled,\n",
              "  .colab-df-quickchart-complete:disabled:hover {\n",
              "    background-color: var(--disabled-bg-color);\n",
              "    fill: var(--disabled-fill-color);\n",
              "    box-shadow: none;\n",
              "  }\n",
              "\n",
              "  .colab-df-spinner {\n",
              "    border: 2px solid var(--fill-color);\n",
              "    border-color: transparent;\n",
              "    border-bottom-color: var(--fill-color);\n",
              "    animation:\n",
              "      spin 1s steps(1) infinite;\n",
              "  }\n",
              "\n",
              "  @keyframes spin {\n",
              "    0% {\n",
              "      border-color: transparent;\n",
              "      border-bottom-color: var(--fill-color);\n",
              "      border-left-color: var(--fill-color);\n",
              "    }\n",
              "    20% {\n",
              "      border-color: transparent;\n",
              "      border-left-color: var(--fill-color);\n",
              "      border-top-color: var(--fill-color);\n",
              "    }\n",
              "    30% {\n",
              "      border-color: transparent;\n",
              "      border-left-color: var(--fill-color);\n",
              "      border-top-color: var(--fill-color);\n",
              "      border-right-color: var(--fill-color);\n",
              "    }\n",
              "    40% {\n",
              "      border-color: transparent;\n",
              "      border-right-color: var(--fill-color);\n",
              "      border-top-color: var(--fill-color);\n",
              "    }\n",
              "    60% {\n",
              "      border-color: transparent;\n",
              "      border-right-color: var(--fill-color);\n",
              "    }\n",
              "    80% {\n",
              "      border-color: transparent;\n",
              "      border-right-color: var(--fill-color);\n",
              "      border-bottom-color: var(--fill-color);\n",
              "    }\n",
              "    90% {\n",
              "      border-color: transparent;\n",
              "      border-bottom-color: var(--fill-color);\n",
              "    }\n",
              "  }\n",
              "</style>\n",
              "\n",
              "  <script>\n",
              "    async function quickchart(key) {\n",
              "      const quickchartButtonEl =\n",
              "        document.querySelector('#' + key + ' button');\n",
              "      quickchartButtonEl.disabled = true;  // To prevent multiple clicks.\n",
              "      quickchartButtonEl.classList.add('colab-df-spinner');\n",
              "      try {\n",
              "        const charts = await google.colab.kernel.invokeFunction(\n",
              "            'suggestCharts', [key], {});\n",
              "      } catch (error) {\n",
              "        console.error('Error during call to suggestCharts:', error);\n",
              "      }\n",
              "      quickchartButtonEl.classList.remove('colab-df-spinner');\n",
              "      quickchartButtonEl.classList.add('colab-df-quickchart-complete');\n",
              "    }\n",
              "    (() => {\n",
              "      let quickchartButtonEl =\n",
              "        document.querySelector('#df-1a53826d-4d42-4abe-9136-183bfe20efd0 button');\n",
              "      quickchartButtonEl.style.display =\n",
              "        google.colab.kernel.accessAllowed ? 'block' : 'none';\n",
              "    })();\n",
              "  </script>\n",
              "</div>\n",
              "    </div>\n",
              "  </div>\n"
            ]
          },
          "metadata": {},
          "execution_count": 75
        }
      ]
    },
    {
      "cell_type": "markdown",
      "source": [
        "### Retraing best model"
      ],
      "metadata": {
        "id": "FKnZtXJrPrqQ"
      }
    },
    {
      "cell_type": "code",
      "source": [
        "lightgbm_model = lgb.LGBMClassifier(**lgbm_best_params, verbose=-1)\n",
        "lightgbm_model.fit(X_reduced_train, y_train)\n"
      ],
      "metadata": {
        "colab": {
          "base_uri": "https://localhost:8080/",
          "height": 1000
        },
        "id": "LatWscvrO9NU",
        "outputId": "cf391a80-dba9-40d7-8d09-94d5bd2d56f9"
      },
      "execution_count": null,
      "outputs": [
        {
          "output_type": "stream",
          "name": "stdout",
          "text": [
            "[LightGBM] [Warning] No further splits with positive gain, best gain: -inf\n",
            "[LightGBM] [Warning] No further splits with positive gain, best gain: -inf\n",
            "[LightGBM] [Warning] No further splits with positive gain, best gain: -inf\n",
            "[LightGBM] [Warning] No further splits with positive gain, best gain: -inf\n",
            "[LightGBM] [Warning] No further splits with positive gain, best gain: -inf\n",
            "[LightGBM] [Warning] No further splits with positive gain, best gain: -inf\n",
            "[LightGBM] [Warning] No further splits with positive gain, best gain: -inf\n",
            "[LightGBM] [Warning] No further splits with positive gain, best gain: -inf\n",
            "[LightGBM] [Warning] No further splits with positive gain, best gain: -inf\n",
            "[LightGBM] [Warning] No further splits with positive gain, best gain: -inf\n",
            "[LightGBM] [Warning] No further splits with positive gain, best gain: -inf\n",
            "[LightGBM] [Warning] No further splits with positive gain, best gain: -inf\n",
            "[LightGBM] [Warning] No further splits with positive gain, best gain: -inf\n",
            "[LightGBM] [Warning] No further splits with positive gain, best gain: -inf\n",
            "[LightGBM] [Warning] No further splits with positive gain, best gain: -inf\n",
            "[LightGBM] [Warning] No further splits with positive gain, best gain: -inf\n",
            "[LightGBM] [Warning] No further splits with positive gain, best gain: -inf\n",
            "[LightGBM] [Warning] No further splits with positive gain, best gain: -inf\n",
            "[LightGBM] [Warning] No further splits with positive gain, best gain: -inf\n",
            "[LightGBM] [Warning] No further splits with positive gain, best gain: -inf\n",
            "[LightGBM] [Warning] No further splits with positive gain, best gain: -inf\n",
            "[LightGBM] [Warning] No further splits with positive gain, best gain: -inf\n",
            "[LightGBM] [Warning] No further splits with positive gain, best gain: -inf\n",
            "[LightGBM] [Warning] No further splits with positive gain, best gain: -inf\n",
            "[LightGBM] [Warning] No further splits with positive gain, best gain: -inf\n",
            "[LightGBM] [Warning] No further splits with positive gain, best gain: -inf\n",
            "[LightGBM] [Warning] No further splits with positive gain, best gain: -inf\n",
            "[LightGBM] [Warning] No further splits with positive gain, best gain: -inf\n",
            "[LightGBM] [Warning] No further splits with positive gain, best gain: -inf\n",
            "[LightGBM] [Warning] No further splits with positive gain, best gain: -inf\n",
            "[LightGBM] [Warning] No further splits with positive gain, best gain: -inf\n",
            "[LightGBM] [Warning] No further splits with positive gain, best gain: -inf\n",
            "[LightGBM] [Warning] No further splits with positive gain, best gain: -inf\n",
            "[LightGBM] [Warning] No further splits with positive gain, best gain: -inf\n",
            "[LightGBM] [Warning] No further splits with positive gain, best gain: -inf\n",
            "[LightGBM] [Warning] No further splits with positive gain, best gain: -inf\n",
            "[LightGBM] [Warning] No further splits with positive gain, best gain: -inf\n",
            "[LightGBM] [Warning] No further splits with positive gain, best gain: -inf\n",
            "[LightGBM] [Warning] No further splits with positive gain, best gain: -inf\n",
            "[LightGBM] [Warning] No further splits with positive gain, best gain: -inf\n",
            "[LightGBM] [Warning] No further splits with positive gain, best gain: -inf\n",
            "[LightGBM] [Warning] No further splits with positive gain, best gain: -inf\n",
            "[LightGBM] [Warning] No further splits with positive gain, best gain: -inf\n",
            "[LightGBM] [Warning] No further splits with positive gain, best gain: -inf\n",
            "[LightGBM] [Warning] No further splits with positive gain, best gain: -inf\n",
            "[LightGBM] [Warning] No further splits with positive gain, best gain: -inf\n",
            "[LightGBM] [Warning] No further splits with positive gain, best gain: -inf\n",
            "[LightGBM] [Warning] No further splits with positive gain, best gain: -inf\n",
            "[LightGBM] [Warning] No further splits with positive gain, best gain: -inf\n",
            "[LightGBM] [Warning] No further splits with positive gain, best gain: -inf\n",
            "[LightGBM] [Warning] No further splits with positive gain, best gain: -inf\n",
            "[LightGBM] [Warning] No further splits with positive gain, best gain: -inf\n",
            "[LightGBM] [Warning] No further splits with positive gain, best gain: -inf\n",
            "[LightGBM] [Warning] No further splits with positive gain, best gain: -inf\n",
            "[LightGBM] [Warning] No further splits with positive gain, best gain: -inf\n",
            "[LightGBM] [Warning] No further splits with positive gain, best gain: -inf\n",
            "[LightGBM] [Warning] No further splits with positive gain, best gain: -inf\n",
            "[LightGBM] [Warning] No further splits with positive gain, best gain: -inf\n",
            "[LightGBM] [Warning] No further splits with positive gain, best gain: -inf\n",
            "[LightGBM] [Warning] No further splits with positive gain, best gain: -inf\n",
            "[LightGBM] [Warning] No further splits with positive gain, best gain: -inf\n",
            "[LightGBM] [Warning] No further splits with positive gain, best gain: -inf\n",
            "[LightGBM] [Warning] No further splits with positive gain, best gain: -inf\n",
            "[LightGBM] [Warning] No further splits with positive gain, best gain: -inf\n"
          ]
        },
        {
          "output_type": "stream",
          "name": "stderr",
          "text": [
            "Exception ignored on calling ctypes callback function: <function _log_callback at 0x79dc0c3e4430>\n",
            "Traceback (most recent call last):\n",
            "  File \"/usr/local/lib/python3.10/dist-packages/lightgbm/basic.py\", line 203, in _log_callback\n",
            "    def _log_callback(msg: bytes) -> None:\n",
            "KeyboardInterrupt: \n"
          ]
        },
        {
          "output_type": "stream",
          "name": "stdout",
          "text": [
            "[LightGBM] [Warning] No further splits with positive gain, best gain: -inf\n",
            "No further splits with positive gain, best gain: -inf\n",
            "[LightGBM] [Warning] No further splits with positive gain, best gain: -inf\n",
            "[LightGBM] [Warning] No further splits with positive gain, best gain: -inf\n",
            "[LightGBM] [Warning] No further splits with positive gain, best gain: -inf\n",
            "[LightGBM] [Warning] No further splits with positive gain, best gain: -inf\n",
            "[LightGBM] [Warning] No further splits with positive gain, best gain: -inf\n",
            "[LightGBM] [Warning] No further splits with positive gain, best gain: -inf\n",
            "[LightGBM] [Warning] No further splits with positive gain, best gain: -inf\n",
            "[LightGBM] [Warning] No further splits with positive gain, best gain: -inf\n",
            "[LightGBM] [Warning] No further splits with positive gain, best gain: -inf\n",
            "[LightGBM] [Warning] No further splits with positive gain, best gain: -inf\n",
            "[LightGBM] [Warning] No further splits with positive gain, best gain: -inf\n",
            "[LightGBM] [Warning] No further splits with positive gain, best gain: -inf\n",
            "[LightGBM] [Warning] No further splits with positive gain, best gain: -inf\n",
            "[LightGBM] [Warning] No further splits with positive gain, best gain: -inf\n",
            "[LightGBM] [Warning] No further splits with positive gain, best gain: -inf\n",
            "[LightGBM] [Warning] No further splits with positive gain, best gain: -inf\n",
            "[LightGBM] [Warning] No further splits with positive gain, best gain: -inf\n",
            "[LightGBM] [Warning] No further splits with positive gain, best gain: -inf\n",
            "[LightGBM] [Warning] No further splits with positive gain, best gain: -inf\n",
            "[LightGBM] [Warning] No further splits with positive gain, best gain: -inf\n",
            "[LightGBM] [Warning] No further splits with positive gain, best gain: -inf\n",
            "[LightGBM] [Warning] No further splits with positive gain, best gain: -inf\n",
            "[LightGBM] [Warning] No further splits with positive gain, best gain: -inf\n",
            "[LightGBM] [Warning] No further splits with positive gain, best gain: -inf\n",
            "[LightGBM] [Warning] No further splits with positive gain, best gain: -inf\n",
            "[LightGBM] [Warning] No further splits with positive gain, best gain: -inf\n",
            "[LightGBM] [Warning] No further splits with positive gain, best gain: -inf\n",
            "[LightGBM] [Warning] No further splits with positive gain, best gain: -inf\n",
            "[LightGBM] [Warning] No further splits with positive gain, best gain: -inf\n",
            "[LightGBM] [Warning] No further splits with positive gain, best gain: -inf\n",
            "[LightGBM] [Warning] No further splits with positive gain, best gain: -inf\n",
            "[LightGBM] [Warning] No further splits with positive gain, best gain: -inf\n",
            "[LightGBM] [Warning] No further splits with positive gain, best gain: -inf\n",
            "[LightGBM] [Warning] No further splits with positive gain, best gain: -inf\n",
            "[LightGBM] [Warning] No further splits with positive gain, best gain: -inf\n",
            "[LightGBM] [Warning] No further splits with positive gain, best gain: -inf\n",
            "[LightGBM] [Warning] No further splits with positive gain, best gain: -inf\n",
            "[LightGBM] [Warning] No further splits with positive gain, best gain: -inf\n",
            "[LightGBM] [Warning] No further splits with positive gain, best gain: -inf\n",
            "[LightGBM] [Warning] No further splits with positive gain, best gain: -inf\n",
            "[LightGBM] [Warning] No further splits with positive gain, best gain: -inf\n",
            "[LightGBM] [Warning] No further splits with positive gain, best gain: -inf\n",
            "[LightGBM] [Warning] No further splits with positive gain, best gain: -inf\n",
            "[LightGBM] [Warning] No further splits with positive gain, best gain: -inf\n",
            "[LightGBM] [Warning] No further splits with positive gain, best gain: -inf\n",
            "[LightGBM] [Warning] No further splits with positive gain, best gain: -inf\n",
            "[LightGBM] [Warning] No further splits with positive gain, best gain: -inf\n",
            "[LightGBM] [Warning] No further splits with positive gain, best gain: -inf\n",
            "[LightGBM] [Warning] No further splits with positive gain, best gain: -inf\n",
            "[LightGBM] [Warning] No further splits with positive gain, best gain: -inf\n",
            "[LightGBM] [Warning] No further splits with positive gain, best gain: -inf\n",
            "[LightGBM] [Warning] No further splits with positive gain, best gain: -inf\n",
            "[LightGBM] [Warning] No further splits with positive gain, best gain: -inf\n",
            "[LightGBM] [Warning] No further splits with positive gain, best gain: -inf\n",
            "[LightGBM] [Warning] No further splits with positive gain, best gain: -inf\n",
            "[LightGBM] [Warning] No further splits with positive gain, best gain: -inf\n",
            "[LightGBM] [Warning] No further splits with positive gain, best gain: -inf\n",
            "[LightGBM] [Warning] No further splits with positive gain, best gain: -inf\n",
            "[LightGBM] [Warning] No further splits with positive gain, best gain: -inf\n",
            "[LightGBM] [Warning] No further splits with positive gain, best gain: -inf\n",
            "[LightGBM] [Warning] No further splits with positive gain, best gain: -inf\n",
            "[LightGBM] [Warning] No further splits with positive gain, best gain: -inf\n",
            "[LightGBM] [Warning] No further splits with positive gain, best gain: -inf\n",
            "[LightGBM] [Warning] No further splits with positive gain, best gain: -inf\n",
            "[LightGBM] [Warning] No further splits with positive gain, best gain: -inf\n",
            "[LightGBM] [Warning] No further splits with positive gain, best gain: -inf\n",
            "[LightGBM] [Warning] No further splits with positive gain, best gain: -inf\n",
            "[LightGBM] [Warning] No further splits with positive gain, best gain: -inf\n",
            "[LightGBM] [Warning] No further splits with positive gain, best gain: -inf\n",
            "[LightGBM] [Warning] No further splits with positive gain, best gain: -inf\n",
            "[LightGBM] [Warning] No further splits with positive gain, best gain: -inf\n",
            "[LightGBM] [Warning] No further splits with positive gain, best gain: -inf\n",
            "[LightGBM] [Warning] No further splits with positive gain, best gain: -inf\n",
            "[LightGBM] [Warning] No further splits with positive gain, best gain: -inf\n",
            "[LightGBM] [Warning] No further splits with positive gain, best gain: -inf\n",
            "[LightGBM] [Warning] No further splits with positive gain, best gain: -inf\n",
            "[LightGBM] [Warning] No further splits with positive gain, best gain: -inf\n",
            "[LightGBM] [Warning] No further splits with positive gain, best gain: -inf\n",
            "[LightGBM] [Warning] No further splits with positive gain, best gain: -inf\n",
            "[LightGBM] [Warning] No further splits with positive gain, best gain: -inf\n",
            "[LightGBM] [Warning] No further splits with positive gain, best gain: -inf\n",
            "[LightGBM] [Warning] No further splits with positive gain, best gain: -inf\n",
            "[LightGBM] [Warning] No further splits with positive gain, best gain: -inf\n",
            "[LightGBM] [Warning] No further splits with positive gain, best gain: -inf\n",
            "[LightGBM] [Warning] No further splits with positive gain, best gain: -inf\n",
            "[LightGBM] [Warning] No further splits with positive gain, best gain: -inf\n",
            "[LightGBM] [Warning] No further splits with positive gain, best gain: -inf\n",
            "[LightGBM] [Warning] No further splits with positive gain, best gain: -inf\n",
            "[LightGBM] [Warning] No further splits with positive gain, best gain: -inf\n",
            "[LightGBM] [Warning] No further splits with positive gain, best gain: -inf\n",
            "[LightGBM] [Warning] No further splits with positive gain, best gain: -inf\n",
            "[LightGBM] [Warning] No further splits with positive gain, best gain: -inf\n",
            "[LightGBM] [Warning] No further splits with positive gain, best gain: -inf\n",
            "[LightGBM] [Warning] No further splits with positive gain, best gain: -inf\n",
            "[LightGBM] [Warning] No further splits with positive gain, best gain: -inf\n",
            "[LightGBM] [Warning] No further splits with positive gain, best gain: -inf\n",
            "[LightGBM] [Warning] No further splits with positive gain, best gain: -inf\n",
            "[LightGBM] [Warning] No further splits with positive gain, best gain: -inf\n",
            "[LightGBM] [Warning] No further splits with positive gain, best gain: -inf\n",
            "[LightGBM] [Warning] No further splits with positive gain, best gain: -inf\n",
            "[LightGBM] [Warning] No further splits with positive gain, best gain: -inf\n",
            "[LightGBM] [Warning] No further splits with positive gain, best gain: -inf\n",
            "[LightGBM] [Warning] No further splits with positive gain, best gain: -inf\n",
            "[LightGBM] [Warning] No further splits with positive gain, best gain: -inf\n",
            "[LightGBM] [Warning] No further splits with positive gain, best gain: -inf\n",
            "[LightGBM] [Warning] No further splits with positive gain, best gain: -inf\n",
            "[LightGBM] [Warning] No further splits with positive gain, best gain: -inf\n",
            "[LightGBM] [Warning] No further splits with positive gain, best gain: -inf\n",
            "[LightGBM] [Warning] No further splits with positive gain, best gain: -inf\n",
            "[LightGBM] [Warning] No further splits with positive gain, best gain: -inf\n",
            "[LightGBM] [Warning] No further splits with positive gain, best gain: -inf\n",
            "[LightGBM] [Warning] No further splits with positive gain, best gain: -inf\n",
            "[LightGBM] [Warning] No further splits with positive gain, best gain: -inf\n",
            "[LightGBM] [Warning] No further splits with positive gain, best gain: -inf\n",
            "[LightGBM] [Warning] No further splits with positive gain, best gain: -inf\n",
            "[LightGBM] [Warning] No further splits with positive gain, best gain: -inf\n",
            "[LightGBM] [Warning] No further splits with positive gain, best gain: -inf\n",
            "[LightGBM] [Warning] No further splits with positive gain, best gain: -inf\n",
            "[LightGBM] [Warning] No further splits with positive gain, best gain: -inf\n",
            "[LightGBM] [Warning] No further splits with positive gain, best gain: -inf\n",
            "[LightGBM] [Warning] No further splits with positive gain, best gain: -inf\n",
            "[LightGBM] [Warning] No further splits with positive gain, best gain: -inf\n",
            "[LightGBM] [Warning] No further splits with positive gain, best gain: -inf\n",
            "[LightGBM] [Warning] No further splits with positive gain, best gain: -inf\n",
            "[LightGBM] [Warning] No further splits with positive gain, best gain: -inf\n",
            "[LightGBM] [Warning] No further splits with positive gain, best gain: -inf\n",
            "[LightGBM] [Warning] No further splits with positive gain, best gain: -inf\n",
            "[LightGBM] [Warning] No further splits with positive gain, best gain: -inf\n",
            "[LightGBM] [Warning] No further splits with positive gain, best gain: -inf\n",
            "[LightGBM] [Warning] No further splits with positive gain, best gain: -inf\n",
            "[LightGBM] [Warning] No further splits with positive gain, best gain: -inf\n",
            "[LightGBM] [Warning] No further splits with positive gain, best gain: -inf\n",
            "[LightGBM] [Warning] No further splits with positive gain, best gain: -inf\n",
            "[LightGBM] [Warning] No further splits with positive gain, best gain: -inf\n",
            "[LightGBM] [Warning] No further splits with positive gain, best gain: -inf\n",
            "[LightGBM] [Warning] No further splits with positive gain, best gain: -inf\n",
            "[LightGBM] [Warning] No further splits with positive gain, best gain: -inf\n",
            "[LightGBM] [Warning] No further splits with positive gain, best gain: -inf\n",
            "[LightGBM] [Warning] No further splits with positive gain, best gain: -inf\n",
            "[LightGBM] [Warning] No further splits with positive gain, best gain: -inf\n",
            "[LightGBM] [Warning] No further splits with positive gain, best gain: -inf\n",
            "[LightGBM] [Warning] No further splits with positive gain, best gain: -inf\n",
            "[LightGBM] [Warning] No further splits with positive gain, best gain: -inf\n",
            "[LightGBM] [Warning] No further splits with positive gain, best gain: -inf\n",
            "[LightGBM] [Warning] No further splits with positive gain, best gain: -inf\n",
            "[LightGBM] [Warning] No further splits with positive gain, best gain: -inf\n"
          ]
        },
        {
          "output_type": "execute_result",
          "data": {
            "text/plain": [
              "LGBMClassifier(colsample_bytree=0.8251989329299895,\n",
              "               learning_rate=0.031316147584151494, max_depth=4,\n",
              "               min_child_samples=53, n_estimators=732, num_leaves=254,\n",
              "               reg_alpha=0.6757873677566055, reg_lambda=0.5459196324312461,\n",
              "               subsample=0.7984504967334111, verbose=0)"
            ],
            "text/html": [
              "<style>#sk-container-id-4 {color: black;background-color: white;}#sk-container-id-4 pre{padding: 0;}#sk-container-id-4 div.sk-toggleable {background-color: white;}#sk-container-id-4 label.sk-toggleable__label {cursor: pointer;display: block;width: 100%;margin-bottom: 0;padding: 0.3em;box-sizing: border-box;text-align: center;}#sk-container-id-4 label.sk-toggleable__label-arrow:before {content: \"▸\";float: left;margin-right: 0.25em;color: #696969;}#sk-container-id-4 label.sk-toggleable__label-arrow:hover:before {color: black;}#sk-container-id-4 div.sk-estimator:hover label.sk-toggleable__label-arrow:before {color: black;}#sk-container-id-4 div.sk-toggleable__content {max-height: 0;max-width: 0;overflow: hidden;text-align: left;background-color: #f0f8ff;}#sk-container-id-4 div.sk-toggleable__content pre {margin: 0.2em;color: black;border-radius: 0.25em;background-color: #f0f8ff;}#sk-container-id-4 input.sk-toggleable__control:checked~div.sk-toggleable__content {max-height: 200px;max-width: 100%;overflow: auto;}#sk-container-id-4 input.sk-toggleable__control:checked~label.sk-toggleable__label-arrow:before {content: \"▾\";}#sk-container-id-4 div.sk-estimator input.sk-toggleable__control:checked~label.sk-toggleable__label {background-color: #d4ebff;}#sk-container-id-4 div.sk-label input.sk-toggleable__control:checked~label.sk-toggleable__label {background-color: #d4ebff;}#sk-container-id-4 input.sk-hidden--visually {border: 0;clip: rect(1px 1px 1px 1px);clip: rect(1px, 1px, 1px, 1px);height: 1px;margin: -1px;overflow: hidden;padding: 0;position: absolute;width: 1px;}#sk-container-id-4 div.sk-estimator {font-family: monospace;background-color: #f0f8ff;border: 1px dotted black;border-radius: 0.25em;box-sizing: border-box;margin-bottom: 0.5em;}#sk-container-id-4 div.sk-estimator:hover {background-color: #d4ebff;}#sk-container-id-4 div.sk-parallel-item::after {content: \"\";width: 100%;border-bottom: 1px solid gray;flex-grow: 1;}#sk-container-id-4 div.sk-label:hover label.sk-toggleable__label {background-color: #d4ebff;}#sk-container-id-4 div.sk-serial::before {content: \"\";position: absolute;border-left: 1px solid gray;box-sizing: border-box;top: 0;bottom: 0;left: 50%;z-index: 0;}#sk-container-id-4 div.sk-serial {display: flex;flex-direction: column;align-items: center;background-color: white;padding-right: 0.2em;padding-left: 0.2em;position: relative;}#sk-container-id-4 div.sk-item {position: relative;z-index: 1;}#sk-container-id-4 div.sk-parallel {display: flex;align-items: stretch;justify-content: center;background-color: white;position: relative;}#sk-container-id-4 div.sk-item::before, #sk-container-id-4 div.sk-parallel-item::before {content: \"\";position: absolute;border-left: 1px solid gray;box-sizing: border-box;top: 0;bottom: 0;left: 50%;z-index: -1;}#sk-container-id-4 div.sk-parallel-item {display: flex;flex-direction: column;z-index: 1;position: relative;background-color: white;}#sk-container-id-4 div.sk-parallel-item:first-child::after {align-self: flex-end;width: 50%;}#sk-container-id-4 div.sk-parallel-item:last-child::after {align-self: flex-start;width: 50%;}#sk-container-id-4 div.sk-parallel-item:only-child::after {width: 0;}#sk-container-id-4 div.sk-dashed-wrapped {border: 1px dashed gray;margin: 0 0.4em 0.5em 0.4em;box-sizing: border-box;padding-bottom: 0.4em;background-color: white;}#sk-container-id-4 div.sk-label label {font-family: monospace;font-weight: bold;display: inline-block;line-height: 1.2em;}#sk-container-id-4 div.sk-label-container {text-align: center;}#sk-container-id-4 div.sk-container {/* jupyter's `normalize.less` sets `[hidden] { display: none; }` but bootstrap.min.css set `[hidden] { display: none !important; }` so we also need the `!important` here to be able to override the default hidden behavior on the sphinx rendered scikit-learn.org. See: https://github.com/scikit-learn/scikit-learn/issues/21755 */display: inline-block !important;position: relative;}#sk-container-id-4 div.sk-text-repr-fallback {display: none;}</style><div id=\"sk-container-id-4\" class=\"sk-top-container\"><div class=\"sk-text-repr-fallback\"><pre>LGBMClassifier(colsample_bytree=0.8251989329299895,\n",
              "               learning_rate=0.031316147584151494, max_depth=4,\n",
              "               min_child_samples=53, n_estimators=732, num_leaves=254,\n",
              "               reg_alpha=0.6757873677566055, reg_lambda=0.5459196324312461,\n",
              "               subsample=0.7984504967334111, verbose=0)</pre><b>In a Jupyter environment, please rerun this cell to show the HTML representation or trust the notebook. <br />On GitHub, the HTML representation is unable to render, please try loading this page with nbviewer.org.</b></div><div class=\"sk-container\" hidden><div class=\"sk-item\"><div class=\"sk-estimator sk-toggleable\"><input class=\"sk-toggleable__control sk-hidden--visually\" id=\"sk-estimator-id-4\" type=\"checkbox\" checked><label for=\"sk-estimator-id-4\" class=\"sk-toggleable__label sk-toggleable__label-arrow\">LGBMClassifier</label><div class=\"sk-toggleable__content\"><pre>LGBMClassifier(colsample_bytree=0.8251989329299895,\n",
              "               learning_rate=0.031316147584151494, max_depth=4,\n",
              "               min_child_samples=53, n_estimators=732, num_leaves=254,\n",
              "               reg_alpha=0.6757873677566055, reg_lambda=0.5459196324312461,\n",
              "               subsample=0.7984504967334111, verbose=0)</pre></div></div></div></div></div>"
            ]
          },
          "metadata": {},
          "execution_count": 79
        }
      ]
    },
    {
      "cell_type": "code",
      "source": [
        "lightgbm_model.booster_.save_model(\"drive/MyDrive/msds_homecredit/lgbm_mode.txt\")"
      ],
      "metadata": {
        "colab": {
          "base_uri": "https://localhost:8080/"
        },
        "id": "PySlWfumPqdi",
        "outputId": "c8ee7517-a0a9-4ca7-ef9c-66b49b628cba"
      },
      "execution_count": null,
      "outputs": [
        {
          "output_type": "execute_result",
          "data": {
            "text/plain": [
              "<lightgbm.basic.Booster at 0x79dc1e6c8b80>"
            ]
          },
          "metadata": {},
          "execution_count": 80
        }
      ]
    },
    {
      "cell_type": "markdown",
      "source": [
        "### Computing predictions for test"
      ],
      "metadata": {
        "id": "MXgcO-DyXaKy"
      }
    },
    {
      "cell_type": "code",
      "source": [
        "predicted_probs = lightgbm_model.predict_proba(X_reduced_test)[:, 1]\n",
        "submission = pd.DataFrame({\"SK_ID_CURR\" : X_reduced_test[\"SK_ID_CURR\"],\n",
        "                           \"TARGET\" : predicted_probs})\n"
      ],
      "metadata": {
        "id": "MgSdS91UXYgn"
      },
      "execution_count": null,
      "outputs": []
    },
    {
      "cell_type": "code",
      "source": [
        "submission.head(6)"
      ],
      "metadata": {
        "colab": {
          "base_uri": "https://localhost:8080/",
          "height": 238
        },
        "id": "g414N8AhXk4w",
        "outputId": "840c3eb4-3f6d-4230-ecd8-ee9e113fdf9e"
      },
      "execution_count": null,
      "outputs": [
        {
          "output_type": "execute_result",
          "data": {
            "text/plain": [
              "   SK_ID_CURR    TARGET\n",
              "0      100001  0.034590\n",
              "1      100005  0.140334\n",
              "2      100013  0.027351\n",
              "3      100028  0.036764\n",
              "4      100038  0.169699\n",
              "5      100042  0.056141"
            ],
            "text/html": [
              "\n",
              "  <div id=\"df-0ffe5c5c-09f7-41f2-83ca-70b42d30c64e\" class=\"colab-df-container\">\n",
              "    <div>\n",
              "<style scoped>\n",
              "    .dataframe tbody tr th:only-of-type {\n",
              "        vertical-align: middle;\n",
              "    }\n",
              "\n",
              "    .dataframe tbody tr th {\n",
              "        vertical-align: top;\n",
              "    }\n",
              "\n",
              "    .dataframe thead th {\n",
              "        text-align: right;\n",
              "    }\n",
              "</style>\n",
              "<table border=\"1\" class=\"dataframe\">\n",
              "  <thead>\n",
              "    <tr style=\"text-align: right;\">\n",
              "      <th></th>\n",
              "      <th>SK_ID_CURR</th>\n",
              "      <th>TARGET</th>\n",
              "    </tr>\n",
              "  </thead>\n",
              "  <tbody>\n",
              "    <tr>\n",
              "      <th>0</th>\n",
              "      <td>100001</td>\n",
              "      <td>0.034590</td>\n",
              "    </tr>\n",
              "    <tr>\n",
              "      <th>1</th>\n",
              "      <td>100005</td>\n",
              "      <td>0.140334</td>\n",
              "    </tr>\n",
              "    <tr>\n",
              "      <th>2</th>\n",
              "      <td>100013</td>\n",
              "      <td>0.027351</td>\n",
              "    </tr>\n",
              "    <tr>\n",
              "      <th>3</th>\n",
              "      <td>100028</td>\n",
              "      <td>0.036764</td>\n",
              "    </tr>\n",
              "    <tr>\n",
              "      <th>4</th>\n",
              "      <td>100038</td>\n",
              "      <td>0.169699</td>\n",
              "    </tr>\n",
              "    <tr>\n",
              "      <th>5</th>\n",
              "      <td>100042</td>\n",
              "      <td>0.056141</td>\n",
              "    </tr>\n",
              "  </tbody>\n",
              "</table>\n",
              "</div>\n",
              "    <div class=\"colab-df-buttons\">\n",
              "\n",
              "  <div class=\"colab-df-container\">\n",
              "    <button class=\"colab-df-convert\" onclick=\"convertToInteractive('df-0ffe5c5c-09f7-41f2-83ca-70b42d30c64e')\"\n",
              "            title=\"Convert this dataframe to an interactive table.\"\n",
              "            style=\"display:none;\">\n",
              "\n",
              "  <svg xmlns=\"http://www.w3.org/2000/svg\" height=\"24px\" viewBox=\"0 -960 960 960\">\n",
              "    <path d=\"M120-120v-720h720v720H120Zm60-500h600v-160H180v160Zm220 220h160v-160H400v160Zm0 220h160v-160H400v160ZM180-400h160v-160H180v160Zm440 0h160v-160H620v160ZM180-180h160v-160H180v160Zm440 0h160v-160H620v160Z\"/>\n",
              "  </svg>\n",
              "    </button>\n",
              "\n",
              "  <style>\n",
              "    .colab-df-container {\n",
              "      display:flex;\n",
              "      gap: 12px;\n",
              "    }\n",
              "\n",
              "    .colab-df-convert {\n",
              "      background-color: #E8F0FE;\n",
              "      border: none;\n",
              "      border-radius: 50%;\n",
              "      cursor: pointer;\n",
              "      display: none;\n",
              "      fill: #1967D2;\n",
              "      height: 32px;\n",
              "      padding: 0 0 0 0;\n",
              "      width: 32px;\n",
              "    }\n",
              "\n",
              "    .colab-df-convert:hover {\n",
              "      background-color: #E2EBFA;\n",
              "      box-shadow: 0px 1px 2px rgba(60, 64, 67, 0.3), 0px 1px 3px 1px rgba(60, 64, 67, 0.15);\n",
              "      fill: #174EA6;\n",
              "    }\n",
              "\n",
              "    .colab-df-buttons div {\n",
              "      margin-bottom: 4px;\n",
              "    }\n",
              "\n",
              "    [theme=dark] .colab-df-convert {\n",
              "      background-color: #3B4455;\n",
              "      fill: #D2E3FC;\n",
              "    }\n",
              "\n",
              "    [theme=dark] .colab-df-convert:hover {\n",
              "      background-color: #434B5C;\n",
              "      box-shadow: 0px 1px 3px 1px rgba(0, 0, 0, 0.15);\n",
              "      filter: drop-shadow(0px 1px 2px rgba(0, 0, 0, 0.3));\n",
              "      fill: #FFFFFF;\n",
              "    }\n",
              "  </style>\n",
              "\n",
              "    <script>\n",
              "      const buttonEl =\n",
              "        document.querySelector('#df-0ffe5c5c-09f7-41f2-83ca-70b42d30c64e button.colab-df-convert');\n",
              "      buttonEl.style.display =\n",
              "        google.colab.kernel.accessAllowed ? 'block' : 'none';\n",
              "\n",
              "      async function convertToInteractive(key) {\n",
              "        const element = document.querySelector('#df-0ffe5c5c-09f7-41f2-83ca-70b42d30c64e');\n",
              "        const dataTable =\n",
              "          await google.colab.kernel.invokeFunction('convertToInteractive',\n",
              "                                                    [key], {});\n",
              "        if (!dataTable) return;\n",
              "\n",
              "        const docLinkHtml = 'Like what you see? Visit the ' +\n",
              "          '<a target=\"_blank\" href=https://colab.research.google.com/notebooks/data_table.ipynb>data table notebook</a>'\n",
              "          + ' to learn more about interactive tables.';\n",
              "        element.innerHTML = '';\n",
              "        dataTable['output_type'] = 'display_data';\n",
              "        await google.colab.output.renderOutput(dataTable, element);\n",
              "        const docLink = document.createElement('div');\n",
              "        docLink.innerHTML = docLinkHtml;\n",
              "        element.appendChild(docLink);\n",
              "      }\n",
              "    </script>\n",
              "  </div>\n",
              "\n",
              "\n",
              "<div id=\"df-7eea9bc9-9e6e-499c-bb2f-6e29291d70ef\">\n",
              "  <button class=\"colab-df-quickchart\" onclick=\"quickchart('df-7eea9bc9-9e6e-499c-bb2f-6e29291d70ef')\"\n",
              "            title=\"Suggest charts\"\n",
              "            style=\"display:none;\">\n",
              "\n",
              "<svg xmlns=\"http://www.w3.org/2000/svg\" height=\"24px\"viewBox=\"0 0 24 24\"\n",
              "     width=\"24px\">\n",
              "    <g>\n",
              "        <path d=\"M19 3H5c-1.1 0-2 .9-2 2v14c0 1.1.9 2 2 2h14c1.1 0 2-.9 2-2V5c0-1.1-.9-2-2-2zM9 17H7v-7h2v7zm4 0h-2V7h2v10zm4 0h-2v-4h2v4z\"/>\n",
              "    </g>\n",
              "</svg>\n",
              "  </button>\n",
              "\n",
              "<style>\n",
              "  .colab-df-quickchart {\n",
              "      --bg-color: #E8F0FE;\n",
              "      --fill-color: #1967D2;\n",
              "      --hover-bg-color: #E2EBFA;\n",
              "      --hover-fill-color: #174EA6;\n",
              "      --disabled-fill-color: #AAA;\n",
              "      --disabled-bg-color: #DDD;\n",
              "  }\n",
              "\n",
              "  [theme=dark] .colab-df-quickchart {\n",
              "      --bg-color: #3B4455;\n",
              "      --fill-color: #D2E3FC;\n",
              "      --hover-bg-color: #434B5C;\n",
              "      --hover-fill-color: #FFFFFF;\n",
              "      --disabled-bg-color: #3B4455;\n",
              "      --disabled-fill-color: #666;\n",
              "  }\n",
              "\n",
              "  .colab-df-quickchart {\n",
              "    background-color: var(--bg-color);\n",
              "    border: none;\n",
              "    border-radius: 50%;\n",
              "    cursor: pointer;\n",
              "    display: none;\n",
              "    fill: var(--fill-color);\n",
              "    height: 32px;\n",
              "    padding: 0;\n",
              "    width: 32px;\n",
              "  }\n",
              "\n",
              "  .colab-df-quickchart:hover {\n",
              "    background-color: var(--hover-bg-color);\n",
              "    box-shadow: 0 1px 2px rgba(60, 64, 67, 0.3), 0 1px 3px 1px rgba(60, 64, 67, 0.15);\n",
              "    fill: var(--button-hover-fill-color);\n",
              "  }\n",
              "\n",
              "  .colab-df-quickchart-complete:disabled,\n",
              "  .colab-df-quickchart-complete:disabled:hover {\n",
              "    background-color: var(--disabled-bg-color);\n",
              "    fill: var(--disabled-fill-color);\n",
              "    box-shadow: none;\n",
              "  }\n",
              "\n",
              "  .colab-df-spinner {\n",
              "    border: 2px solid var(--fill-color);\n",
              "    border-color: transparent;\n",
              "    border-bottom-color: var(--fill-color);\n",
              "    animation:\n",
              "      spin 1s steps(1) infinite;\n",
              "  }\n",
              "\n",
              "  @keyframes spin {\n",
              "    0% {\n",
              "      border-color: transparent;\n",
              "      border-bottom-color: var(--fill-color);\n",
              "      border-left-color: var(--fill-color);\n",
              "    }\n",
              "    20% {\n",
              "      border-color: transparent;\n",
              "      border-left-color: var(--fill-color);\n",
              "      border-top-color: var(--fill-color);\n",
              "    }\n",
              "    30% {\n",
              "      border-color: transparent;\n",
              "      border-left-color: var(--fill-color);\n",
              "      border-top-color: var(--fill-color);\n",
              "      border-right-color: var(--fill-color);\n",
              "    }\n",
              "    40% {\n",
              "      border-color: transparent;\n",
              "      border-right-color: var(--fill-color);\n",
              "      border-top-color: var(--fill-color);\n",
              "    }\n",
              "    60% {\n",
              "      border-color: transparent;\n",
              "      border-right-color: var(--fill-color);\n",
              "    }\n",
              "    80% {\n",
              "      border-color: transparent;\n",
              "      border-right-color: var(--fill-color);\n",
              "      border-bottom-color: var(--fill-color);\n",
              "    }\n",
              "    90% {\n",
              "      border-color: transparent;\n",
              "      border-bottom-color: var(--fill-color);\n",
              "    }\n",
              "  }\n",
              "</style>\n",
              "\n",
              "  <script>\n",
              "    async function quickchart(key) {\n",
              "      const quickchartButtonEl =\n",
              "        document.querySelector('#' + key + ' button');\n",
              "      quickchartButtonEl.disabled = true;  // To prevent multiple clicks.\n",
              "      quickchartButtonEl.classList.add('colab-df-spinner');\n",
              "      try {\n",
              "        const charts = await google.colab.kernel.invokeFunction(\n",
              "            'suggestCharts', [key], {});\n",
              "      } catch (error) {\n",
              "        console.error('Error during call to suggestCharts:', error);\n",
              "      }\n",
              "      quickchartButtonEl.classList.remove('colab-df-spinner');\n",
              "      quickchartButtonEl.classList.add('colab-df-quickchart-complete');\n",
              "    }\n",
              "    (() => {\n",
              "      let quickchartButtonEl =\n",
              "        document.querySelector('#df-7eea9bc9-9e6e-499c-bb2f-6e29291d70ef button');\n",
              "      quickchartButtonEl.style.display =\n",
              "        google.colab.kernel.accessAllowed ? 'block' : 'none';\n",
              "    })();\n",
              "  </script>\n",
              "</div>\n",
              "    </div>\n",
              "  </div>\n"
            ]
          },
          "metadata": {},
          "execution_count": 88
        }
      ]
    },
    {
      "cell_type": "code",
      "source": [
        "submission.to_csv(\"drive/MyDrive/msds_homecredit/submission.csv\", index=False)"
      ],
      "metadata": {
        "id": "NGgevkUgXycM"
      },
      "execution_count": null,
      "outputs": []
    }
  ]
}